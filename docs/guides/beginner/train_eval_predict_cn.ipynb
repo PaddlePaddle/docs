{
 "cells": [
  {
   "cell_type": "markdown",
   "source": [
    "# 模型训练、评估与推理\n",
    "\n",
    "在准备好数据集和模型后，就可以将数据送入模型中启动训练评估了，概括地讲包括如下几步：\n",
    "1. **模型训练**：训练包括多轮迭代（epoch），每轮迭代遍历一次训练数据集，并且每次从中获取一小批（mini-batch）样本，送入模型执行前向计算得到预测值，并计算预测值（predict_label）与真实值（true_label）之间的损失函数值（loss）。执行梯度反向传播，并根据设置的优化算法（optimizer）更新模型的参数。观察每轮迭代的 loss 值减小趋势，可判断模型训练效果。\n",
    "2. **模型评估**：将测试数据集送入训练好的模型进行评估，得到预测值，计算预测值与真实值之间的损失函数值（loss），并计算评价指标值（metric），便于评估模型效果。\n",
    "3. **模型推理**：将待验证的数据（样本）送入训练好的模型执行推理，观察并验证推理结果（标签）是否符合预期。\n",
    "\n",
    "\n",
    "飞桨框架提供了两种训练、评估与推理的方法：\n",
    "\n",
    "- **使用飞桨高层 API**：先用 [paddle.Model](../../api/paddle/Model_cn.html) 对模型进行封装，然后通过 [Model.fit](../../api/paddle/Model_cn.html#fit-train-data-none-eval-data-none-batch-size-1-epochs-1-eval-freq-1-log-freq-10-save-dir-none-save-freq-1-verbose-2-drop-last-false-shuffle-true-num-workers-0-callbacks-none-accumulate-grad-batches-1-num-iters-none) 、 [Model.evaluate](../../api/paddle/Model_cn.html#evaluate-eval-data-batch-size-1-log-freq-10-verbose-2-num-workers-0-callbacks-none-num-iters-none) 、 [Model.predict](../../api/paddle/Model_cn.html#predict-test-data-batch-size-1-num-workers-0-stack-outputs-false-verbose-1-callbacks-none) 等完成模型的训练、评估与推理。该方式代码量少，适合快速上手。\n",
    "\n",
    "- **使用飞桨基础 API**：提供了损失函数、优化器、评价指标、更新参数、反向传播等基础组件的实现，可以更灵活地应用到模型训练、评估与推理任务中，当然也可以很方便地自定义一些组件用于相关任务中。\n",
    "\n",
    "\n",
    "高层 API 如 `Model.fit` 、 `Model.evaluate` 、 `Model.predict` 等都可以通过基础 API 实现，本文先介绍高层 API 的使用方式，然后将高层 API 拆解为基础 API 介绍，方便对比学习。\n"
   ],
   "metadata": {}
  },
  {
   "cell_type": "markdown",
   "source": [
    "## 一、训练前准备\n",
    "\n",
    "开始之前，需要使用下面的命令安装 Python 的 matplotlib 库，用于可视化图片。"
   ],
   "metadata": {}
  },
  {
   "cell_type": "code",
   "execution_count": null,
   "source": [
    "# 使用 pip 工具安装 matplotlib\n",
    "! python3 -m pip install matplotlib -i https://mirror.baidu.com/pypi/simple"
   ],
   "outputs": [],
   "metadata": {
    "execution": {
     "iopub.execute_input": "2022-02-15T05:48:34.721177Z",
     "iopub.status.busy": "2022-02-15T05:48:34.720958Z",
     "iopub.status.idle": "2022-02-15T05:48:36.730839Z",
     "shell.execute_reply": "2022-02-15T05:48:36.730090Z",
     "shell.execute_reply.started": "2022-02-15T05:48:34.721148Z"
    },
    "scrolled": true
   }
  },
  {
   "cell_type": "markdown",
   "source": [
    "### 1.1 （可选）指定训练的硬件\n",
    "\n",
    "模型训练时，需要用到 CPU、 GPU 等计算处理器资源，由于飞桨框架的安装包是区分处理器类型的，默认情况下飞桨框架会根据所安装的版本自动选择对应硬件，比如安装的 GPU 版本的飞桨，则自动使用 GPU 训练模型，无需手动指定。因此一般情况下，无需执行此步骤。\n",
    "\n",
    "但是如果安装的 GPU 版本的飞桨框架，想切换到 CPU 上训练，则可通过 [paddle.device.set_device](../../api/paddle/device/set_device_cn.html#set-device) 修改。如果本机有多个 GPU 卡，也可以通过该 API 选择指定的卡进行训练，不指定的情况下则默认使用 'gpu:0'。"
   ],
   "metadata": {}
  },
  {
   "cell_type": "code",
   "execution_count": 1,
   "source": [
    "import paddle\n",
    "\n",
    "# 指定在 CPU 上训练\n",
    "paddle.device.set_device('cpu')\n",
    "\n",
    "# 指定在 GPU 第 0 号卡上训练\n",
    "# paddle.device.set_device('gpu:0')"
   ],
   "outputs": [
    {
     "output_type": "execute_result",
     "data": {
      "text/plain": [
       "Place(cpu)"
      ]
     },
     "metadata": {},
     "execution_count": 1
    }
   ],
   "metadata": {
    "execution": {
     "iopub.execute_input": "2022-02-23T03:53:25.061855Z",
     "iopub.status.busy": "2022-02-23T03:53:25.061069Z",
     "iopub.status.idle": "2022-02-23T03:53:26.486095Z",
     "shell.execute_reply": "2022-02-23T03:53:26.485309Z",
     "shell.execute_reply.started": "2022-02-23T03:53:25.061819Z"
    },
    "scrolled": true
   }
  },
  {
   "cell_type": "markdown",
   "source": [
    "需要注意的是，使用 `paddle.device.set_device` 时，只能使用 `CUDA_VISIBLE_DEVICES` 设置范围内的显卡，例如可以设置`export CUDA_VISIBLE_DEVICES=0,1,2` 和 `paddle.device.set_device('gpu:0')`，但是设置 `export CUDA_VISIBLE_DEVICES=1` 和 `paddle.device.set_device('gpu:0')` 时会冲突报错。\n",
    "\n",
    "\n",
    "> 注：\n",
    "> * 本文仅以单机单卡场景为例，介绍模型训练的方法，如果需要使用单机多卡、多机多卡训练，请参考如下章节：[分布式训练](../06_distributed_training/index_cn.html)。\n",
    "> * 飞桨框架除了支持在 CPU、GPU 上训练，还支持在百度昆仑 XPU、华为昇腾 NPU 等 AI 计算处理器上训练，对应的训练指导请参考 [硬件支持](../hardware_support/index_cn.html) 章节。\n"
   ],
   "metadata": {}
  },
  {
   "cell_type": "markdown",
   "source": [
    "### 1.2 准备训练用的数据集和模型\n",
    "\n",
    "模型训练前，需要先完成数据集的加载和模型组网，以 MNIST 手写数字识别任务为例，代码示例如下：\n"
   ],
   "metadata": {}
  },
  {
   "cell_type": "code",
   "execution_count": 6,
   "source": [
    "from paddle.vision.transforms import Normalize\n",
    "\n",
    "transform = Normalize(mean=[127.5], std=[127.5], data_format='CHW')\n",
    "# 加载 MNIST 训练集和测试集\n",
    "train_dataset = paddle.vision.datasets.MNIST(mode='train', transform=transform)\n",
    "test_dataset = paddle.vision.datasets.MNIST(mode='test', transform=transform)\n",
    "\n",
    "# 模型组网，构建并初始化一个模型 mnist\n",
    "mnist = paddle.nn.Sequential(\n",
    "    paddle.nn.Flatten(1, -1), \n",
    "    paddle.nn.Linear(784, 512), \n",
    "    paddle.nn.ReLU(), \n",
    "    paddle.nn.Dropout(0.2), \n",
    "    paddle.nn.Linear(512, 10)\n",
    ")"
   ],
   "outputs": [],
   "metadata": {
    "execution": {
     "iopub.execute_input": "2022-02-23T04:04:26.920997Z",
     "iopub.status.busy": "2022-02-23T04:04:26.920406Z",
     "iopub.status.idle": "2022-02-23T04:04:30.892862Z",
     "shell.execute_reply": "2022-02-23T04:04:30.892026Z",
     "shell.execute_reply.started": "2022-02-23T04:04:26.920963Z"
    },
    "scrolled": true
   }
  },
  {
   "cell_type": "markdown",
   "source": [
    "\n",
    "\n",
    "## 二、使用 paddle.Model 高层 API 训练、评估与推理\n",
    "\n",
    "\n",
    "以手写数字识别任务为例，使用高层 API 进行模型训练、评估与推理的步骤如下：\n"
   ],
   "metadata": {}
  },
  {
   "cell_type": "markdown",
   "source": [
    "### 2.1 使用 paddle.Model 封装模型\n",
    "\n",
    "使用高层 API 训练模型前，可使用 [paddle.Model](../../api/paddle/Model_cn.html) 将模型封装为一个实例，方便后续进行训练、评估与推理。代码如下："
   ],
   "metadata": {}
  },
  {
   "cell_type": "code",
   "execution_count": 4,
   "source": [
    "# 封装模型为一个 model 实例，便于进行后续的训练、评估和推理\n",
    "model = paddle.Model(mnist)"
   ],
   "outputs": [],
   "metadata": {
    "execution": {
     "iopub.execute_input": "2022-02-15T05:48:42.417342Z",
     "iopub.status.busy": "2022-02-15T05:48:42.417126Z",
     "iopub.status.idle": "2022-02-15T05:48:42.421002Z",
     "shell.execute_reply": "2022-02-15T05:48:42.420385Z",
     "shell.execute_reply.started": "2022-02-15T05:48:42.417318Z"
    },
    "scrolled": true
   }
  },
  {
   "cell_type": "markdown",
   "source": [
    "### 2.2 使用 Model.prepare 配置训练准备参数\n",
    "\n",
    "用 `paddle.Model` 完成模型的封装后，需通过 [Model.prepare](../../api/paddle/Model_cn.html#prepare-optimizer-none-loss-none-metrics-none-amp-configs-none) 进行训练前的配置准备工作，包括设置优化算法、Loss 计算方法、评价指标计算方法：\n",
    "\n",
    "- **优化器（optimizer）**：即寻找最优解的方法，可计算和更新梯度，并根据梯度更新模型参数。飞桨框架在 [paddle.optimizer](../../api/paddle/optimizer/Overview_cn.html#paddle-optimizer) 下提供了优化器相关 API。并且需要为优化器设置合适的学习率，或者指定合适的学习率策略，飞桨框架在 [paddle.optimizer.lr](../../api/paddle/optimizer/Overview_cn.html#about-lr) 下提供了学习率策略相关的 API。\n",
    "- **损失函数（loss）**：用于评估模型的预测值和真实值的差距，模型训练过程即取得尽可能小的 loss 的过程。飞桨框架在 [paddle.nn Loss层](../../api/paddle/nn/Overview_cn.html#loss) 提供了适用不同深度学习任务的损失函数相关 API。\n",
    "- **评价指标（metrics）**：用于评估模型的好坏，不同的任务通常有不同的评价指标。飞桨框架在 [paddle.metric](../../api/paddle/metric/Overview_cn.html) 下提供了评价指标相关 API。\n"
   ],
   "metadata": {}
  },
  {
   "cell_type": "code",
   "execution_count": 5,
   "source": [
    "# 为模型训练做准备，设置优化器及其学习率，并将网络的参数传入优化器，设置损失函数和精度计算方式\n",
    "model.prepare(optimizer=paddle.optimizer.Adam(learning_rate=0.001, parameters=model.parameters()), \n",
    "              loss=paddle.nn.CrossEntropyLoss(), \n",
    "              metrics=paddle.metric.Accuracy())"
   ],
   "outputs": [],
   "metadata": {
    "execution": {
     "iopub.execute_input": "2022-02-15T05:48:42.421929Z",
     "iopub.status.busy": "2022-02-15T05:48:42.421750Z",
     "iopub.status.idle": "2022-02-15T05:48:42.433745Z",
     "shell.execute_reply": "2022-02-15T05:48:42.433112Z",
     "shell.execute_reply.started": "2022-02-15T05:48:42.421908Z"
    },
    "scrolled": true
   }
  },
  {
   "cell_type": "markdown",
   "source": [
    "示例中使用 [Adam](../../api/paddle/optimizer/Adam_cn.html#adam) 优化器，设置优化器的学习率 `learning_rate=0.001`，并传入封装好的全部模型参数 `model.parameters` 用于后续更新；使用交叉熵损失函数 [CrossEntropyLoss](../../api/paddle/nn/CrossEntropyLoss_cn.html#crossentropyloss) 用于分类任务评估；使用分类任务常用的准确率指标 [Accuracy](../../api/paddle/metric/accuracy_cn.html#accuracy) 计算模型在训练集上的精度。"
   ],
   "metadata": {}
  },
  {
   "cell_type": "markdown",
   "source": [
    "### 2.3 使用 Model.fit 训练模型\n",
    "\n",
    "做好模型训练的前期准备工作后，调用 [Model.fit](../../api/paddle/Model_cn.html#fit-train-data-none-eval-data-none-batch-size-1-epochs-1-eval-freq-1-log-freq-10-save-dir-none-save-freq-1-verbose-2-drop-last-false-shuffle-true-num-workers-0-callbacks-none-accumulate-grad-batches-1-num-iters-none) 接口来启动训练。\n",
    "训练过程采用二层循环嵌套方式：内层循环完成整个数据集的一次遍历，采用分批次方式；外层循环根据设置的训练轮次完成数据集的多次遍历。因此需要指定至少三个关键参数：训练数据集，训练轮次和每批次大小:\n",
    "\n",
    "- **训练数据集**：传入之前定义好的训练数据集。\n",
    "- **训练轮次（epoch）**：训练时遍历数据集的次数，即外循环轮次。\n",
    "- **批次大小（batch_size）**：内循环中每个批次的训练样本数。\n",
    "\n",
    "除此之外，还可以设置样本乱序（`shuffle`）、丢弃不完整的批次样本（`drop_last`）、同步/异步读取数据（`num_workers`） 等参数，另外可通过 `Callback` 参数传入回调函数，在模型训练的各个阶段进行一些自定义操作，比如收集训练过程中的一些数据和参数，详细介绍可参见 [自定义 Callback](../advanced/customize_cn.html) 章节。"
   ],
   "metadata": {}
  },
  {
   "cell_type": "code",
   "execution_count": 6,
   "source": [
    "# 启动模型训练，指定训练数据集，设置训练轮次，设置每次数据集计算的批次大小，设置日志格式\n",
    "model.fit(train_dataset, \n",
    "          epochs=5, \n",
    "          batch_size=64,\n",
    "          verbose=1)"
   ],
   "outputs": [
    {
     "output_type": "stream",
     "name": "stdout",
     "text": [
      "The loss value printed in the log is the current step, and the metric is the average value of previous steps.\n",
      "Epoch 1/5\n",
      "step  10/938 [..............................] - loss: 0.9679 - acc: 0.4109 - ETA: 13s - 14ms/stepstep 938/938 [==============================] - loss: 0.1158 - acc: 0.9020 - 10ms/step          \n",
      "Epoch 2/5\n",
      "step 938/938 [==============================] - loss: 0.0981 - acc: 0.9504 - 10ms/step          \n",
      "Epoch 3/5\n",
      "step 938/938 [==============================] - loss: 0.0215 - acc: 0.9588 - 10ms/step          \n",
      "Epoch 4/5\n",
      "step 938/938 [==============================] - loss: 0.0134 - acc: 0.9643 - 10ms/step          \n",
      "Epoch 5/5\n",
      "step 938/938 [==============================] - loss: 0.3371 - acc: 0.9681 - 11ms/step          \n"
     ]
    }
   ],
   "metadata": {
    "execution": {
     "iopub.execute_input": "2022-02-15T05:48:42.434747Z",
     "iopub.status.busy": "2022-02-15T05:48:42.434575Z",
     "iopub.status.idle": "2022-02-15T05:49:30.599976Z",
     "shell.execute_reply": "2022-02-15T05:49:30.599106Z",
     "shell.execute_reply.started": "2022-02-15T05:48:42.434726Z"
    },
    "scrolled": true
   }
  },
  {
   "cell_type": "markdown",
   "source": [
    "示例中传入数据集 `train_dataset` 进行迭代训练，共遍历 5 轮（`epochs=5`），每轮迭代中分批次取数据训练，每批次 64 个样本（`batch_size=64`），并打印训练过程中的日志（`verbose=1`）。\n",
    "从打印日志中可观察到损失函数 loss 值减小，精度指标 acc 值提高的趋势，说明模型训练取得了成效。"
   ],
   "metadata": {}
  },
  {
   "cell_type": "markdown",
   "source": [
    "### 2.4 使用 Model.evaluate 评估模型\n",
    "\n",
    "训练好模型后，可在事先定义好的测试数据集上，使用 [Model.evaluate](../../api/paddle/Model_cn.html#evaluate-eval-data-batch-size-1-log-freq-10-verbose-2-num-workers-0-callbacks-none-num-iters-none) 接口完成模型评估操作，结束后根据在 [Model.prepare](../../api/paddle/Model_cn.html#prepare-optimizer-none-loss-none-metrics-none-amp-configs-none) 中定义的 `loss` 和 `metric` 计算并返回相关评估结果。\n",
    "\n",
    "返回格式是一个字典:\n",
    "* 只包含loss， `{'loss': xxx}` \n",
    "* 包含loss和一个评估指标， `{'loss': xxx, 'metric name': xxx}` \n",
    "* 包含loss和多个评估指标， `{'loss': xxx, 'metric name1': xxx, 'metric name2': xxx}`\n"
   ],
   "metadata": {}
  },
  {
   "cell_type": "code",
   "execution_count": 7,
   "source": [
    "# 用 evaluate 在测试集上对模型进行验证\n",
    "eval_result = model.evaluate(test_dataset, verbose=1)\n",
    "print(eval_result)"
   ],
   "outputs": [
    {
     "output_type": "stream",
     "name": "stdout",
     "text": [
      "Eval begin...\n",
      "step 10000/10000 [==============================] - loss: 2.3842e-07 - acc: 0.9714 - 2ms/step          \n",
      "Eval samples: 10000\n",
      "{'loss': [2.384186e-07], 'acc': 0.9714}\n"
     ]
    }
   ],
   "metadata": {
    "execution": {
     "iopub.execute_input": "2022-02-15T05:49:30.601360Z",
     "iopub.status.busy": "2022-02-15T05:49:30.600927Z",
     "iopub.status.idle": "2022-02-15T05:49:51.509694Z",
     "shell.execute_reply": "2022-02-15T05:49:51.509091Z",
     "shell.execute_reply.started": "2022-02-15T05:49:30.601333Z"
    },
    "scrolled": true
   }
  },
  {
   "cell_type": "markdown",
   "source": [
    "示例中返回一个 loss 和 一个 acc 准确率指标的结果。在模型之前未\"见过\"的测试集上，评估出仍然有  98.1% 的准确率，验证了模型在该任务上取得不错的效果。"
   ],
   "metadata": {}
  },
  {
   "cell_type": "markdown",
   "source": [
    "### 2.5 使用 Model.predict 执行推理\n",
    "\n",
    "高层 API 中提供了 [Model.predict](../../api/paddle/Model_cn.html#predict-test-data-batch-size-1-num-workers-0-stack-outputs-false-verbose-1-callbacks-none) 接口，可对训练好的模型进行推理验证。只需传入待执行推理验证的样本数据，即可计算并返回推理结果。\n",
    "\n",
    "返回格式是一个列表：\n",
    "* 模型是单一输出：`[(numpy_ndarray_1, numpy_ndarray_2, …, numpy_ndarray_n)]`\n",
    "* 模型是多输出：`[(numpy_ndarray_1, numpy_ndarray_2, …, numpy_ndarray_n), (numpy_ndarray_1, numpy_ndarray_2, …, numpy_ndarray_n), …]`\n",
    "\n",
    "如果模型是单一输出，则输出的形状为 [1, n]，n 表示数据集的样本数。其中每个 numpy_ndarray_n 是对应原始数据经过模型计算后得到的预测结果，类型为 numpy 数组，例如 mnist 分类任务中，每个 numpy_ndarray_n 是长度为 10 的 numpy 数组。\n",
    "\n",
    "如果模型是多输出，则输出的形状为[m, n]，m 表示标签的种类数，在多标签分类任务中，m 会根据标签的数目而定。\n",
    "\n",
    "\n",
    "\n",
    "\n",
    "\n",
    "\n"
   ],
   "metadata": {}
  },
  {
   "cell_type": "code",
   "execution_count": 8,
   "source": [
    "\n",
    "# 用 predict 在测试集上对模型进行推理\n",
    "test_result = model.predict(test_dataset)\n",
    "# 由于模型是单一输出，test_result的形状为[1, 10000]，10000是测试数据集的数据量。这里打印第一个数据的结果，这个数组表示每个数字的预测概率\n",
    "print(len(test_result))\n",
    "print(test_result[0][0])\n",
    "\n",
    "# 从测试集中取出一张图片\n",
    "img, label = test_dataset[0]\n",
    "\n",
    "# 打印推理结果，这里的argmax函数用于取出预测值中概率最高的一个的下标，作为预测标签\n",
    "pred_label = test_result[0][0].argmax()\n",
    "print('true label: {}, pred label: {}'.format(label[0], pred_label))\n",
    "# 使用matplotlib库，可视化图片\n",
    "from matplotlib import pyplot as plt\n",
    "plt.imshow(img[0])"
   ],
   "outputs": [
    {
     "output_type": "stream",
     "name": "stdout",
     "text": [
      "Predict begin...\n",
      "step 10000/10000 [==============================] - 2ms/step          \n",
      "Predict samples: 10000\n",
      "1\n",
      "[[ -6.512169   -6.7076845   0.5048795   1.6733919  -9.670526   -1.6352568\n",
      "  -15.833721   13.87411    -8.215239    1.5966017]]\n",
      "true label: 7, pred label: 7\n"
     ]
    },
    {
     "output_type": "execute_result",
     "data": {
      "text/plain": [
       "<matplotlib.image.AxesImage at 0x7f95f014f4d0>"
      ]
     },
     "metadata": {},
     "execution_count": 12
    },
    {
     "output_type": "display_data",
     "data": {
      "text/plain": [
       "<Figure size 432x288 with 1 Axes>"
      ],
      "image/png": "[encoded data removed]"
     },
     "metadata": {
      "needs_background": "light"
     }
    }
   ],
   "metadata": {
    "execution": {
     "iopub.execute_input": "2022-02-15T05:49:51.511077Z",
     "iopub.status.busy": "2022-02-15T05:49:51.510653Z",
     "iopub.status.idle": "2022-02-15T05:50:07.724522Z",
     "shell.execute_reply": "2022-02-15T05:50:07.723742Z",
     "shell.execute_reply.started": "2022-02-15T05:49:51.511050Z"
    },
    "scrolled": true
   }
  },
  {
   "cell_type": "markdown",
   "source": [
    "\n",
    "示例中对测试集 `test_dataset` 中每一个样本执行预测，测试数据集中包含 10000 个数据，因此将取得 10000 个预测输出。\n",
    "\n",
    "打印第一个样本数据的预测输出，可以看到，在手写数字识别任务中，经过模型的计算得到一个数组 [[ -6.5593615  -6.4680595  -1.4708003   2.1043894 -11.743436   -4.4516582\n",
    "  -14.733968   12.036645   -6.582403   -1.8672216]]，取其中最大的值（12.036645）的下标（对应 label 7），即得到该样本数据的预测结果（pred label: 7），可视化该样本图像（true label: 7），与预测结果一致，说明模型准确预测了样本图像上的数字。\n",
    "\n",
    "\n",
    "\n",
    "除了上面介绍的三个 API 之外， `paddle.Model` 类也提供了其他与训练、评估与推理相关的 API：\n",
    "\n",
    "* [Model.train_batch](../../api/paddle/Model_cn.html#train-batch-inputs-labels-none-update-true)：在一个批次的数据集上进行训练；\n",
    "* [Model.eval_batch](../../api/paddle/Model_cn.html#eval-batch-inputs-labels-none)：在一个批次的数据集上进行评估；\n",
    "* [Model.predict_batch](../../api/paddle/Model_cn.html#predict-batch-inputs)：在一个批次的数据集上进行推理。\n",
    "\n",
    "这三个 API 与上面介绍的三个 API 的输入数据的维度有所不同，详细介绍可参考对应 API 文档。\n"
   ],
   "metadata": {}
  },
  {
   "cell_type": "markdown",
   "source": [
    "## 三、使用基础 API 训练、评估与推理\n",
    "\n",
    "除了通过高层 API 实现模型的训练、评估与推理，飞桨框架也同样支持通过基础 API。简单来说， `Model.prepare` 、 `Model.fit` 、 `Model.evaluate` 、 `Model.predict` 都是由基础 API 封装而来。下面通过拆解高层 API 到基础 API 的方式，来了解如何用基础 API 完成模型训练、评估与推理。\n"
   ],
   "metadata": {}
  },
  {
   "cell_type": "markdown",
   "source": [
    "### 3.1 模型训练（拆解 Model.prepare、Model.fit）\n",
    "\n",
    "飞桨框架通过基础 API 对模型进行训练，对应高层 API 的 `Model.prepare` 与 `Model.fit` ，一般包括如下几个步骤：\n",
    "\n",
    "1. 加载训练数据集、声明模型、设置模型实例为 `train` 模式\n",
    "1. 设置优化器、损失函数与各个超参数\n",
    "1. 设置模型训练的二层循环嵌套，并在内层循环嵌套中设置如下内容\n",
    "    - 3.1 从数据读取器 DataLoader 获取一批次训练数据\n",
    "    - 3.2 执行一次预测，即经过模型计算获得输入数据的预测值\n",
    "    - 3.3 计算预测值与数据集标签的损失\n",
    "    - 3.4 计算预测值与数据集标签的准确率\n",
    "    - 3.5 将损失进行反向传播\n",
    "    - 3.6 打印模型的轮数、批次、损失值、准确率等信息\n",
    "    - 3.7 执行一次优化器步骤，即按照选择的优化算法，根据当前批次数据的梯度更新传入优化器的参数\n",
    "    - 3.8 将优化器的梯度进行清零\n",
    "    \n"
   ],
   "metadata": {}
  },
  {
   "cell_type": "code",
   "execution_count": 9,
   "source": [
    "# dataset与mnist的定义与使用高层API的内容一致\n",
    "# 用 DataLoader 实现数据加载\n",
    "train_loader = paddle.io.DataLoader(train_dataset, batch_size=64, shuffle=True)\n",
    "\n",
    "# 将mnist模型及其所有子层设置为训练模式。这只会影响某些模块，如Dropout和BatchNorm。\n",
    "mnist.train()\n",
    "\n",
    "# 设置迭代次数\n",
    "epochs = 5\n",
    "\n",
    "# 设置优化器\n",
    "optim = paddle.optimizer.Adam(parameters=mnist.parameters())\n",
    "# 设置损失函数\n",
    "loss_fn = paddle.nn.CrossEntropyLoss()\n",
    "for epoch in range(epochs):\n",
    "    for batch_id, data in enumerate(train_loader()):\n",
    "        \n",
    "        x_data = data[0]            # 训练数据\n",
    "        y_data = data[1]            # 训练数据标签\n",
    "        predicts = mnist(x_data)    # 预测结果  \n",
    "        \n",
    "        # 计算损失 等价于 prepare 中loss的设置\n",
    "        loss = loss_fn(predicts, y_data)\n",
    "        \n",
    "        # 计算准确率 等价于 prepare 中metrics的设置\n",
    "        acc = paddle.metric.accuracy(predicts, y_data)\n",
    "        \n",
    "        # 下面的反向传播、打印训练信息、更新参数、梯度清零都被封装到 Model.fit() 中\n",
    "        # 反向传播 \n",
    "        loss.backward()\n",
    "        \n",
    "        if (batch_id+1) % 900 == 0:\n",
    "            print(\"epoch: {}, batch_id: {}, loss is: {}, acc is: {}\".format(epoch, batch_id+1, loss.numpy(), acc.numpy()))\n",
    "        # 更新参数 \n",
    "        optim.step()\n",
    "        # 梯度清零\n",
    "        optim.clear_grad()"
   ],
   "outputs": [
    {
     "output_type": "stream",
     "name": "stdout",
     "text": [
      "epoch: 0, batch_id: 900, loss is: [0.06991791], acc is: [0.96875]\n",
      "epoch: 1, batch_id: 900, loss is: [0.02878829], acc is: [1.]\n",
      "epoch: 2, batch_id: 900, loss is: [0.07192856], acc is: [0.96875]\n",
      "epoch: 3, batch_id: 900, loss is: [0.20411499], acc is: [0.96875]\n",
      "epoch: 4, batch_id: 900, loss is: [0.13589518], acc is: [0.96875]\n"
     ]
    }
   ],
   "metadata": {
    "execution": {
     "iopub.execute_input": "2022-02-15T05:50:07.726048Z",
     "iopub.status.busy": "2022-02-15T05:50:07.725599Z",
     "iopub.status.idle": "2022-02-15T05:50:52.862759Z",
     "shell.execute_reply": "2022-02-15T05:50:52.861931Z",
     "shell.execute_reply.started": "2022-02-15T05:50:07.726018Z"
    },
    "scrolled": true
   }
  },
  {
   "cell_type": "markdown",
   "source": [
    "### 3.2 模型评估（拆解 Model.evaluate）\n",
    "\n",
    "飞桨框架通过基础 API 对训练好的模型进行评估，对应高层 API 的 `Model.evaluate` 。与模型训练相比，模型评估的流程有如下几点不同之处：\n",
    "\n",
    "1. 加载的数据从训练数据集改为测试数据集\n",
    "1. 模型实例从 `train` 模式改为 `eval` 模式\n",
    "1. 不需要反向传播、优化器参数更新和优化器梯度清零\n",
    "\n"
   ],
   "metadata": {}
  },
  {
   "cell_type": "code",
   "execution_count": 10,
   "source": [
    "# 加载测试数据集\n",
    "test_loader = paddle.io.DataLoader(test_dataset, batch_size=64, drop_last=True)\n",
    "# 设置损失函数\n",
    "loss_fn = paddle.nn.CrossEntropyLoss()\n",
    "# 将该模型及其所有子层设置为预测模式。这只会影响某些模块，如Dropout和BatchNorm\n",
    "mnist.eval()\n",
    "# 禁用动态图梯度计算\n",
    "for batch_id, data in enumerate(test_loader()):\n",
    "    \n",
    "    x_data = data[0]            # 测试数据\n",
    "    y_data = data[1]            # 测试数据标签\n",
    "    predicts = mnist(x_data)    # 预测结果\n",
    "    \n",
    "    # 计算损失与精度\n",
    "    loss = loss_fn(predicts, y_data)\n",
    "    acc = paddle.metric.accuracy(predicts, y_data)\n",
    "    \n",
    "    # 打印信息\n",
    "    if (batch_id+1) % 30 == 0:\n",
    "        print(\"batch_id: {}, loss is: {}, acc is: {}\".format(batch_id+1, loss.numpy(), acc.numpy()))"
   ],
   "outputs": [
    {
     "output_type": "stream",
     "name": "stdout",
     "text": [
      "batch_id: 30, loss is: [0.23106411], acc is: [0.953125]\n",
      "batch_id: 60, loss is: [0.4329119], acc is: [0.90625]\n",
      "batch_id: 90, loss is: [0.07333981], acc is: [0.96875]\n",
      "batch_id: 120, loss is: [0.00324837], acc is: [1.]\n",
      "batch_id: 150, loss is: [0.0857158], acc is: [0.96875]\n"
     ]
    }
   ],
   "metadata": {
    "execution": {
     "iopub.execute_input": "2022-02-15T05:50:52.864342Z",
     "iopub.status.busy": "2022-02-15T05:50:52.863912Z",
     "iopub.status.idle": "2022-02-15T05:50:54.048046Z",
     "shell.execute_reply": "2022-02-15T05:50:54.047104Z",
     "shell.execute_reply.started": "2022-02-15T05:50:52.864305Z"
    },
    "scrolled": true
   }
  },
  {
   "cell_type": "markdown",
   "source": [
    "### 3.3 模型推理（拆解 Model.predict）\n",
    "\n",
    "飞桨框架通过基础 API 对训练好的模型执行推理，对应高层 API 的 `Model.predict` 。模型的推理过程相对独立，是在模型训练与评估之后单独进行的步骤。只需要执行如下步骤：\n",
    "\n",
    "1. 加载待执行推理的测试数据，并将模型设置为 `eval` 模式\n",
    "1. 读取测试数据并获得预测结果\n",
    "1. 对预测结果进行后处理"
   ],
   "metadata": {}
  },
  {
   "cell_type": "code",
   "execution_count": 11,
   "source": [
    "# 加载测试数据集\n",
    "test_loader = paddle.io.DataLoader(test_dataset, batch_size=64, drop_last=True)\n",
    "# 将该模型及其所有子层设置为预测模式\n",
    "mnist.eval()\n",
    "for batch_id, data in enumerate(test_loader()):\n",
    "    # 取出测试数据\n",
    "    x_data = data[0] \n",
    "    # 获取预测结果\n",
    "    predicts = mnist(x_data)\n",
    "print(\"predict finished\")\n",
    "\n",
    "# 从测试集中取出一组数据\n",
    "img, label = test_loader().next()\n",
    "\n",
    "# 执行推理并打印结果\n",
    "pred_label = mnist(img)[0].argmax()\n",
    "print('true label: {}, pred label: {}'.format(label[0].item(), pred_label[0].item()))\n",
    "# 可视化图片\n",
    "from matplotlib import pyplot as plt\n",
    "plt.imshow(img[0][0])"
   ],
   "outputs": [
    {
     "output_type": "stream",
     "name": "stdout",
     "text": [
      "predict finished\n",
      "true label: 7, pred label: 7\n"
     ]
    },
    {
     "output_type": "execute_result",
     "data": {
      "text/plain": [
       "<matplotlib.image.AxesImage at 0x7f95f009be50>"
      ]
     },
     "metadata": {},
     "execution_count": 12
    },
    {
     "output_type": "display_data",
     "data": {
      "text/plain": [
       "<Figure size 432x288 with 1 Axes>"
      ],
      "image/png": "[encoded data removed]"
     },
     "metadata": {
      "needs_background": "light"
     }
    }
   ],
   "metadata": {
    "execution": {
     "iopub.execute_input": "2022-02-15T05:50:54.051031Z",
     "iopub.status.busy": "2022-02-15T05:50:54.050435Z",
     "iopub.status.idle": "2022-02-15T05:50:55.278437Z",
     "shell.execute_reply": "2022-02-15T05:50:55.277810Z",
     "shell.execute_reply.started": "2022-02-15T05:50:54.050992Z"
    },
    "scrolled": true
   }
  },
  {
   "cell_type": "markdown",
   "source": [
    "## 四、总结\n",
    "\n",
    "本节中介绍了在飞桨框架中使用高层 API 进行模型训练、评估和推理的方法，并拆解出对应的基础 API 实现方法。需要注意的是，这里的推理仅用于模型效果验证，实际生产应用中，则可使用飞桨提供的一系列推理部署工具，满足服务器端、移动端、网页/小程序等多种环境的模型部署上线需求，具体可参见 [推理部署](../infer/index_cn.html) 章节。\n",
    "\n",
    "同时，飞桨的高层 API 和基础 API 可以组合使用，并不是完全割裂开的，这样有助于开发者更便捷地完成算法迭代。示例代码如下：\n",
    "\n"
   ],
   "metadata": {}
  },
  {
   "cell_type": "code",
   "execution_count": 10,
   "source": [
    "from  paddle.vision.models import LeNet\n",
    "\n",
    "class FaceNet(paddle.nn.Layer):\n",
    "    def __init__(self):\n",
    "        super().__init__()\n",
    "        # 使用高层API组网\n",
    "        self.backbone = LeNet()\n",
    "        # 使用基础API组网\n",
    "        self.outLayer1 = paddle.nn.Sequential(\n",
    "            paddle.nn.Linear(10, 512),\n",
    "            paddle.nn.ReLU(),\n",
    "            paddle.nn.Dropout(0.2)\n",
    "        )\n",
    "        self.outLayer2 = paddle.nn.Linear(512, 10)\n",
    "    \n",
    "    def forward(self, inputs):\n",
    "        out = self.backbone(inputs)\n",
    "        out = self.outLayer1(out)\n",
    "        out = self.outLayer2(out)\n",
    "        return out\n",
    "# 使用高层API封装网络\n",
    "model = paddle.Model(FaceNet())\n",
    "# 使用基础API定义优化器\n",
    "optim = paddle.optimizer.Adam(learning_rate=1e-3, parameters=model.parameters())\n",
    "# 使用高层API封装优化器和损失函数\n",
    "model.prepare(optim, paddle.nn.CrossEntropyLoss(), metrics=paddle.metric.Accuracy())\n",
    "# 使用高层API训练网络\n",
    "model.fit(train_dataset, test_dataset, epochs=5, batch_size=64, verbose=1)"
   ],
   "outputs": [
    {
     "output_type": "stream",
     "name": "stdout",
     "text": [
      "The loss value printed in the log is the current step, and the metric is the average value of previous steps.\n",
      "Epoch 1/5\n",
      "step 938/938 [==============================] - loss: 0.0863 - acc: 0.9369 - 22ms/step          \n",
      "Eval begin...\n",
      "step 157/157 [==============================] - loss: 0.1034 - acc: 0.9741 - 8ms/step          \n",
      "Eval samples: 10000\n",
      "Epoch 2/5\n",
      "step 938/938 [==============================] - loss: 0.0366 - acc: 0.9769 - 21ms/step          \n",
      "Eval begin...\n",
      "step 157/157 [==============================] - loss: 0.0047 - acc: 0.9835 - 8ms/step          \n",
      "Eval samples: 10000\n",
      "Epoch 3/5\n",
      "step 938/938 [==============================] - loss: 0.0073 - acc: 0.9813 - 21ms/step          \n",
      "Eval begin...\n",
      "step 157/157 [==============================] - loss: 0.0345 - acc: 0.9818 - 9ms/step          \n",
      "Eval samples: 10000\n",
      "Epoch 4/5\n",
      "step 938/938 [==============================] - loss: 0.0025 - acc: 0.9842 - 21ms/step          \n",
      "Eval begin...\n",
      "step 157/157 [==============================] - loss: 0.0033 - acc: 0.9834 - 8ms/step          \n",
      "Eval samples: 10000\n",
      "Epoch 5/5\n",
      "step 938/938 [==============================] - loss: 0.0294 - acc: 0.9859 - 20ms/step          \n",
      "Eval begin...\n",
      "step 157/157 [==============================] - loss: 0.0039 - acc: 0.9834 - 7ms/step          \n",
      "Eval samples: 10000\n"
     ]
    }
   ],
   "metadata": {
    "execution": {
     "iopub.execute_input": "2022-02-23T04:10:14.866170Z",
     "iopub.status.busy": "2022-02-23T04:10:14.865665Z",
     "iopub.status.idle": "2022-02-23T04:11:59.489596Z",
     "shell.execute_reply": "2022-02-23T04:11:59.488958Z",
     "shell.execute_reply.started": "2022-02-23T04:10:14.866136Z"
    },
    "scrolled": true
   }
  }
 ],
 "metadata": {
  "kernelspec": {
   "display_name": "Python 3",
   "language": "python",
   "name": "py35-paddle1.2.0"
  },
  "language_info": {
   "codemirror_mode": {
    "name": "ipython",
    "version": 3
   },
   "file_extension": ".py",
   "mimetype": "text/x-python",
   "name": "python",
   "nbconvert_exporter": "python",
   "pygments_lexer": "ipython3",
   "version": "3.7.4"
  }
 },
 "nbformat": 4,
 "nbformat_minor": 5
}
