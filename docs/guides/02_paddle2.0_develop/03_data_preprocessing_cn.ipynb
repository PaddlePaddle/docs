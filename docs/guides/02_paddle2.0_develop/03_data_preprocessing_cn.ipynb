{
 "cells": [
  {
   "cell_type": "markdown",
   "id": "159b5b2a",
   "metadata": {},
   "source": [
    "# 数据预处理\n",
    "\n",
    "数据预处理包含对图像进行数据增强和对标签进行处理等操作，这里主要介绍图像处理部分。\n",
    "\n",
    "在模型训练过程中有时会遇到过拟合的问题，其中一个解决方法就是对训练数据做数据处理或增强。数据处理通过对数据进行处理得到不同的图像，从而增强模型的泛化性。\n",
    "\n",
    "## 飞桨框架内置数据处理API\n",
    "\n",
    "飞桨框架在 [paddle.vision.transforms](https://www.paddlepaddle.org.cn/documentation/docs/zh/api/paddle/vision/Overview_cn.html#about-transforms) 下内置了数十种数据处理操作，可以通过以下方式查看"
   ]
  },
  {
   "cell_type": "code",
   "execution_count": 5,
   "id": "93904999",
   "metadata": {},
   "outputs": [
    {
     "name": "stdout",
     "output_type": "stream",
     "text": [
      "数据处理方法： ['BaseTransform', 'Compose', 'Resize', 'RandomResizedCrop', 'CenterCrop', 'RandomHorizontalFlip', 'RandomVerticalFlip', 'Transpose', 'Normalize', 'BrightnessTransform', 'SaturationTransform', 'ContrastTransform', 'HueTransform', 'ColorJitter', 'RandomCrop', 'Pad', 'RandomRotation', 'Grayscale', 'ToTensor', 'to_tensor', 'hflip', 'vflip', 'resize', 'pad', 'rotate', 'to_grayscale', 'crop', 'center_crop', 'adjust_brightness', 'adjust_contrast', 'adjust_hue', 'normalize']\n"
     ]
    }
   ],
   "source": [
    "import paddle\n",
    "print('数据处理方法：', paddle.vision.transforms.__all__)"
   ]
  },
  {
   "cell_type": "markdown",
   "id": "a4b999ee",
   "metadata": {},
   "source": [
    "对于飞桨框架内置的数据处理，可以单个初始化调用，也可以将多个数据处理进行组合使用，具体使用方式如下\n",
    "\n",
    "* 单个使用"
   ]
  },
  {
   "cell_type": "code",
   "execution_count": 14,
   "id": "69b80bc1",
   "metadata": {},
   "outputs": [],
   "source": [
    "from paddle.vision.transforms import Resize\n",
    "\n",
    "# 定义想要使用的数据处理方式，这里初始化一个改变图片大小的变换\n",
    "transform = Resize(size=28)"
   ]
  },
  {
   "cell_type": "markdown",
   "id": "533d6372",
   "metadata": {},
   "source": [
    "* 多个组合使用\n",
    "\n",
    "这种使用模式下，需要先定义好每个数据处理操作，然后用`Compose`进行组合"
   ]
  },
  {
   "cell_type": "code",
   "execution_count": 35,
   "id": "4a1a5cb3",
   "metadata": {},
   "outputs": [],
   "source": [
    "from paddle.vision.transforms import Compose, RandomRotation\n",
    "\n",
    "# 定义想要使用的数据处理方式，这里包括随机旋转，改变图片大小\n",
    "transform = Compose([RandomRotation(10), Resize(size=32)])"
   ]
  },
  {
   "cell_type": "markdown",
   "id": "0a76dd29",
   "metadata": {},
   "source": [
    "定义好数据预处理操作后，可以直接在DataSet中进行使用，下面介绍介绍两种数据增强使用方式，一种是基于框架内置数据集，一种是基于自定义的数据集\n",
    "\n",
    "## 基于框架内置数据集\n",
    "\n",
    "在框架内置数据集中使用内置的数据处理操作时，只需要将数据处理操作传递给`transform`字段即可"
   ]
  },
  {
   "cell_type": "code",
   "execution_count": 12,
   "id": "a7970f84",
   "metadata": {},
   "outputs": [],
   "source": [
    "# 通过transform参数传递定义好的数据增强方法即可完成对自带数据集的增强\n",
    "train_dataset = paddle.vision.datasets.MNIST(mode='train', transform=transform)"
   ]
  },
  {
   "cell_type": "markdown",
   "id": "74013246",
   "metadata": {},
   "source": [
    "## 基于自定义的数据集\n",
    "\n",
    "对于自定义的数据集，可以在数据集的构造函数中进行数据处理方法的定义，之后在 `__getitem__` 方法中对返回的数据进行应用, 如下述代码所示"
   ]
  },
  {
   "cell_type": "code",
   "execution_count": 16,
   "id": "45ea330a",
   "metadata": {},
   "outputs": [],
   "source": [
    "import numpy as np\n",
    "from paddle.io import Dataset\n",
    "\n",
    "class MyDataset(Dataset):\n",
    "    def __init__(self, num_samples, image_size=(28,28), class_num=10):\n",
    "        super(MyDataset, self).__init__()\n",
    "        self.num_samples = num_samples\n",
    "        self.image_size = image_size\n",
    "        self.class_num = class_num\n",
    "        \n",
    "        # 在 `__init__` 中定义数据处理方法，此处为随机旋转\n",
    "        self.transform = RandomRotation(10)\n",
    "\n",
    "    def __getitem__(self, index):\n",
    "        \"\"\"\n",
    "        步骤三：实现__getitem__方法，定义指定index时如何获取数据，并返回单条数据（训练数据，对应的标签）\n",
    "        \"\"\"\n",
    "        image = np.random.rand(*self.image_size)\n",
    "        \n",
    "        # 在 `__getitem__` 中对数据集使用数据处理方法\n",
    "        data = self.transform(data)\n",
    "        \n",
    "        \n",
    "        image = np.expand_dims(image, axis=0)\n",
    "        label = np.random.randint(0, self.class_num - 1)\n",
    "\n",
    "        return image, label\n",
    "\n",
    "    def __len__(self):\n",
    "        \"\"\"\n",
    "        步骤四：实现__len__方法，返回数据集总数目\n",
    "        \"\"\"\n",
    "        return self.num_samples"
   ]
  },
  {
   "cell_type": "markdown",
   "id": "3278dbe9",
   "metadata": {},
   "source": [
    "下面通过框架内置数据集对比处理前后的图像"
   ]
  },
  {
   "cell_type": "code",
   "execution_count": 33,
   "id": "b4f7532b",
   "metadata": {},
   "outputs": [
    {
     "name": "stdout",
     "output_type": "stream",
     "text": [
      "(28, 28)\n",
      "(32, 32)\n"
     ]
    }
   ],
   "source": [
    "train_dataset = paddle.vision.datasets.MNIST(mode='train', transform=None)\n",
    "train_dataset_with_Resize = paddle.vision.datasets.MNIST(mode='train', transform=Resize(32))\n",
    "\n",
    "image, label = train_dataset[0]\n",
    "image_with_Resize, label_with_Resize = train_dataset_with_Resize[0]\n",
    "\n",
    "print(image.size)\n",
    "print(image_with_Resize.size)"
   ]
  },
  {
   "cell_type": "code",
   "execution_count": null,
   "id": "87428d26",
   "metadata": {},
   "outputs": [],
   "source": []
  }
 ],
 "metadata": {
  "kernelspec": {
   "display_name": "Python 3",
   "language": "python",
   "name": "python3"
  },
  "language_info": {
   "codemirror_mode": {
    "name": "ipython",
    "version": 3
   },
   "file_extension": ".py",
   "mimetype": "text/x-python",
   "name": "python",
   "nbconvert_exporter": "python",
   "pygments_lexer": "ipython3",
   "version": "3.8.8"
  }
 },
 "nbformat": 4,
 "nbformat_minor": 5
}
