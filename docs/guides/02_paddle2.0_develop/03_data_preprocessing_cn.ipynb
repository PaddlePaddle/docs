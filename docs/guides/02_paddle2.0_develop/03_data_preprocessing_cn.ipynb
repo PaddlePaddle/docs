{
 "cells": [
  {
   "cell_type": "markdown",
   "id": "159b5b2a",
   "metadata": {},
   "source": [
    "# 数据预处理\n",
    "\n",
    "\n",
    "在模型训练过程中有时会遇到过拟合的问题，其中一个解决方法就是对训练数据做数据增强处理。通过对数据进行特定的处理，如图像的裁剪、翻转、调整亮度等处理，以增加样本的多样性，从而增强模型的泛化能力。\n",
    "\n",
    "本节以图像数据为例，介绍数据预处理的方法。\n"
   ]
  },
  {
   "cell_type": "markdown",
   "id": "b1d901d6-ceac-4c05-acdd-191e34317c62",
   "metadata": {},
   "source": [
    "## 一、paddle.vision.transforms 介绍\n",
    "\n",
    "飞桨框架在 [paddle.vision.transforms](../../api/paddle/vision/Overview_cn.html#about-transforms) 下内置了数十种图像数据处理方法，可以通过以下代码查看："
   ]
  },
  {
   "cell_type": "code",
   "execution_count": 1,
   "id": "93904999",
   "metadata": {
    "execution": {
     "iopub.execute_input": "2022-02-08T02:09:43.023836Z",
     "iopub.status.busy": "2022-02-08T02:09:43.023261Z",
     "iopub.status.idle": "2022-02-08T02:09:44.351088Z",
     "shell.execute_reply": "2022-02-08T02:09:44.350240Z",
     "shell.execute_reply.started": "2022-02-08T02:09:43.023799Z"
    },
    "scrolled": true
   },
   "outputs": [
    {
     "name": "stdout",
     "output_type": "stream",
     "text": [
      "图像数据处理方法： ['BaseTransform', 'Compose', 'Resize', 'RandomResizedCrop', 'CenterCrop', 'RandomHorizontalFlip', 'RandomVerticalFlip', 'Transpose', 'Normalize', 'BrightnessTransform', 'SaturationTransform', 'ContrastTransform', 'HueTransform', 'ColorJitter', 'RandomCrop', 'Pad', 'RandomRotation', 'Grayscale', 'ToTensor', 'to_tensor', 'hflip', 'vflip', 'resize', 'pad', 'rotate', 'to_grayscale', 'crop', 'center_crop', 'adjust_brightness', 'adjust_contrast', 'adjust_hue', 'normalize']\n"
     ]
    }
   ],
   "source": [
    "import paddle\n",
    "print('图像数据处理方法：', paddle.vision.transforms.__all__)"
   ]
  },
  {
   "cell_type": "markdown",
   "id": "a4b999ee",
   "metadata": {},
   "source": [
    "包括图像随机裁剪、图像旋转变换、改变图像亮度、改变图像对比度等常见操作，各个操作方法的简介可参考 [API 文档](../../api/paddle/vision/Overview_cn.html#about-transforms)。\n",
    "\n",
    "\n",
    "\n",
    "对于飞桨框架内置的数据预处理方法，可以单个调用，也可以将多个数据预处理方法进行组合使用，具体使用方式如下：\n",
    "\n",
    "* 单个使用"
   ]
  },
  {
   "cell_type": "code",
   "execution_count": 4,
   "id": "69b80bc1",
   "metadata": {
    "scrolled": true
   },
   "outputs": [],
   "source": [
    "from paddle.vision.transforms import Resize\n",
    "\n",
    "# 定义一个待使用的数据处理方法，这里定义了一个调整图像大小的方法\n",
    "transform = Resize(size=28)"
   ]
  },
  {
   "cell_type": "markdown",
   "id": "533d6372",
   "metadata": {},
   "source": [
    "* 多个组合使用\n",
    "\n",
    "这种使用模式下，需要先定义好每个数据处理方法，然后用`Compose` 进行组合。"
   ]
  },
  {
   "cell_type": "code",
   "execution_count": 5,
   "id": "4a1a5cb3",
   "metadata": {
    "scrolled": true
   },
   "outputs": [],
   "source": [
    "from paddle.vision.transforms import Compose, RandomRotation\n",
    "\n",
    "# 定义待使用的数据处理方法，这里包括随机旋转、改变图片大小两个组合处理\n",
    "transform = Compose([RandomRotation(10), Resize(size=32)])"
   ]
  },
  {
   "cell_type": "markdown",
   "id": "b1bd06c0-b4f2-46a4-b446-cde3a1fe8afe",
   "metadata": {},
   "source": [
    "## 二、在数据集中应用数据预处理操作\n",
    "\n",
    "定义好数据处理方法后，可以直接在数据集 Dataset 中应用，下面介绍两种数据预处理应用方式：一种是在框架内置数据集中应用，一种是在自定义的数据集中应用。\n",
    "\n",
    "### 2.1 在框架内置数据集中应用\n",
    "\n",
    "前面已定义好数据处理的方法，在加载内置数据集时，将其传递给 `transform` 字段即可。\n"
   ]
  },
  {
   "cell_type": "code",
   "execution_count": 6,
   "id": "a7970f84",
   "metadata": {
    "scrolled": true
   },
   "outputs": [],
   "source": [
    "# 通过 transform 字段传递定义好的数据处理方法，即可完成对框架内置数据集的增强\n",
    "train_dataset = paddle.vision.datasets.MNIST(mode='train', transform=transform)"
   ]
  },
  {
   "cell_type": "markdown",
   "id": "74013246",
   "metadata": {},
   "source": [
    "### 2.2 在自定义的数据集中应用\n",
    "\n",
    "对于自定义的数据集，可以在数据集中将定义好的数据处理方法传入 `__init__` 函数，将其定义为自定义数据集类的一个属性，然后在 `__getitem__` 中将其应用到图像上，如下述代码所示："
   ]
  },
  {
   "cell_type": "code",
   "execution_count": null,
   "id": "d7cabb3c",
   "metadata": {
    "scrolled": true
   },
   "outputs": [],
   "source": [
    "# 下载 MNIST 数据集并解压\n",
    "! wget https://paddle-imagenet-models-name.bj.bcebos.com/data/mnist.tar\n",
    "! tar -xf mnist.tar"
   ]
  },
  {
   "cell_type": "code",
   "execution_count": 7,
   "id": "45ea330a",
   "metadata": {
    "scrolled": true
   },
   "outputs": [],
   "source": [
    "import os\n",
    "import cv2\n",
    "import numpy as np\n",
    "from paddle.io import Dataset\n",
    "\n",
    "class MyDataset(Dataset):\n",
    "    \"\"\"\n",
    "    步骤一：继承 paddle.io.Dataset 类\n",
    "    \"\"\"\n",
    "    def __init__(self, data_dir, label_path, transform=None):\n",
    "        \"\"\"\n",
    "        步骤二：实现 __init__ 函数，定义数据集大小\n",
    "        \"\"\"\n",
    "        super(MyDataset, self).__init__()\n",
    "        self.data_list = []\n",
    "        with open(label_path,encoding='utf-8') as f:\n",
    "            for line in f.readlines():\n",
    "                image_path, label = line.strip().split('\\t')\n",
    "                image_path = os.path.join(data_dir, image_path)\n",
    "                self.data_list.append([image_path, label])\n",
    "        # 传入定义好的数据处理方法，作为自定义数据集类的一个属性\n",
    "        self.transform = transform\n",
    "\n",
    "    def __getitem__(self, index):\n",
    "        \"\"\"\n",
    "        步骤三：实现 __getitem__ 函数，定义指定 index 时如何获取数据，并返回单条数据（训练数据、对应的标签）\n",
    "        \"\"\"\n",
    "        image_path, label = self.data_list[index]\n",
    "        image = cv2.imread(image_path, cv2.IMREAD_GRAYSCALE)\n",
    "        image = image.astype('float32')\n",
    "        # 应用数据处理方法到图像上\n",
    "        if self.transform is not None:\n",
    "            image = self.transform(image)\n",
    "        label = int(label)\n",
    "        return image, label\n",
    "\n",
    "    def __len__(self):\n",
    "        \"\"\"\n",
    "        步骤四：实现 __len__ 函数，返回数据集的样本总数\n",
    "        \"\"\"\n",
    "        return len(self.data_list)\n",
    "    \n",
    "custom_dataset = MyDataset('mnist/train','mnist/train/label.txt', transform)"
   ]
  },
  {
   "cell_type": "markdown",
   "id": "e8990b3f-3a00-4d03-a99a-88185da6964c",
   "metadata": {},
   "source": [
    "在以上示例代码中，定义了xxxx数据处理方法，并传入 `__init__` 函数，然后在 `__getitem__` 中将其应用到图像上。\n",
    "\n",
    "# 备注\n",
    "1. 代码中补充数据处理方法的定义，比如里面包含图像旋转、归一化，再补充文字说明一下。"
   ]
  },
  {
   "cell_type": "markdown",
   "id": "2b21d528-1ab3-4eb2-be73-d6871df4ba65",
   "metadata": {},
   "source": [
    "## 三、数据预处理的几种方法介绍\n",
    "\n",
    "通过可视化的方法，可方便地对比飞桨内置数据处理方法的效果，下面介绍其中几个方法的对比示例。\n",
    "\n",
    "### RandomRotation:\n",
    "\n",
    "依据degrees参数指定的角度范围，按照均匀分布随机产生一个角度对图像进行旋转。\n",
    "\n",
    "# 备注\n",
    "1. 换一个花朵的公开数据集图片，翻转一个、裁剪一个、变换颜色一个。"
   ]
  },
  {
   "cell_type": "code",
   "execution_count": 8,
   "id": "76edf274",
   "metadata": {
    "scrolled": true
   },
   "outputs": [
    {
     "data": {
      "text/plain": [
       "<matplotlib.image.AxesImage at 0x7fdfd5003950>"
      ]
     },
     "execution_count": 8,
     "metadata": {},
     "output_type": "execute_result"
    },
    {
     "data": {
      "image/png": "[encoded data removed]",
      "text/plain": [
       "<Figure size 432x288 with 2 Axes>"
      ]
     },
     "metadata": {
      "needs_background": "light"
     },
     "output_type": "display_data"
    }
   ],
   "source": [
    "import numpy as np\n",
    "from PIL import Image\n",
    "from matplotlib import pyplot as plt\n",
    "from paddle.vision.transforms import RandomRotation\n",
    "\n",
    "transform = RandomRotation(90)\n",
    "\n",
    "image = cv2.imread('mnist/train/imgs/0/0.jpg', cv2.IMREAD_GRAYSCALE)\n",
    "\n",
    "RandomRotation_image = transform(image)\n",
    "plt.subplot(1,2,1)\n",
    "plt.title('origin image')\n",
    "plt.imshow(image)\n",
    "plt.subplot(1,2,2)\n",
    "plt.title('RandomRotation image')\n",
    "plt.imshow(RandomRotation_image)"
   ]
  },
  {
   "cell_type": "markdown",
   "id": "f3cac20c",
   "metadata": {},
   "source": [
    "### RandomHorizontalFlip\n",
    "\n",
    "基于概率来执行图片的水平翻转。"
   ]
  },
  {
   "cell_type": "code",
   "execution_count": 15,
   "id": "f6adefc6",
   "metadata": {
    "scrolled": true
   },
   "outputs": [
    {
     "data": {
      "text/plain": [
       "<matplotlib.image.AxesImage at 0x7fdf62d91710>"
      ]
     },
     "execution_count": 15,
     "metadata": {},
     "output_type": "execute_result"
    },
    {
     "data": {
      "image/png": "[encoded data removed]",
      "text/plain": [
       "<Figure size 432x288 with 2 Axes>"
      ]
     },
     "metadata": {
      "needs_background": "light"
     },
     "output_type": "display_data"
    }
   ],
   "source": [
    "import numpy as np\n",
    "from PIL import Image\n",
    "from matplotlib import pyplot as plt\n",
    "from paddle.vision.transforms import RandomHorizontalFlip\n",
    "\n",
    "transform = RandomHorizontalFlip(0.5)\n",
    "\n",
    "image = cv2.imread('mnist/train/imgs/0/0.jpg', cv2.IMREAD_GRAYSCALE)\n",
    "\n",
    "RandomHorizontalFlip_image = transform(image)\n",
    "plt.subplot(1,2,1)\n",
    "plt.title('origin image')\n",
    "plt.imshow(image)\n",
    "plt.subplot(1,2,2)\n",
    "plt.title('RandomHorizontalFlip image')\n",
    "plt.imshow(RandomHorizontalFlip_image)"
   ]
  },
  {
   "cell_type": "markdown",
   "id": "c8272853",
   "metadata": {},
   "source": [
    "### RandomVerticalFlip\n",
    "\n",
    "基于概率来执行图片的垂直翻转。"
   ]
  },
  {
   "cell_type": "code",
   "execution_count": 17,
   "id": "470047b1",
   "metadata": {
    "scrolled": true
   },
   "outputs": [
    {
     "data": {
      "text/plain": [
       "<matplotlib.image.AxesImage at 0x7fdf63007710>"
      ]
     },
     "execution_count": 17,
     "metadata": {},
     "output_type": "execute_result"
    },
    {
     "data": {
      "image/png": "[encoded data removed]",
      "text/plain": [
       "<Figure size 432x288 with 2 Axes>"
      ]
     },
     "metadata": {
      "needs_background": "light"
     },
     "output_type": "display_data"
    }
   ],
   "source": [
    "import numpy as np\n",
    "from PIL import Image\n",
    "from matplotlib import pyplot as plt\n",
    "from paddle.vision.transforms import RandomVerticalFlip\n",
    "\n",
    "transform = RandomVerticalFlip(0.5)\n",
    "\n",
    "image = cv2.imread('mnist/train/imgs/0/0.jpg', cv2.IMREAD_GRAYSCALE)\n",
    "\n",
    "RandomVerticalFlip_image = transform(image)\n",
    "plt.subplot(1,2,1)\n",
    "plt.title('origin image')\n",
    "plt.imshow(image)\n",
    "plt.subplot(1,2,2)\n",
    "plt.title('RandomVerticalFlip image')\n",
    "plt.imshow(RandomVerticalFlip_image)"
   ]
  },
  {
   "cell_type": "markdown",
   "id": "94cdd766",
   "metadata": {},
   "source": [
    "更多数据处理方法介绍可以参考  [paddle.vision.transforms API 文档](../../api/paddle/vision/Overview_cn.html#about-transforms)。"
   ]
  },
  {
   "cell_type": "markdown",
   "id": "5927ccca",
   "metadata": {},
   "source": [
    "## 四、总结\n",
    "\n",
    "本节介绍了数据预处理方法在数据集中的使用方式，可先将一个或多个方法组合定义到一个实例中，再在数据集中应用，总结整个流程和用到的关键 API 如下图所示。\n",
    "\n",
    "<center><img src=\"images/data_preprocessing.png\" width=\"800\"></center>\n",
    "<center><br>图1：数据预处理流程</br></center>\n",
    "\n",
    "图像、文本等不同类型的数据预处理方法不同，关于文本的数据预处理可以参考 [PaddleNLP](https://github.com/PaddlePaddle/PaddleNLP/blob/develop/docs/data_prepare/overview.rst)。"
   ]
  }
 ],
 "metadata": {
  "kernelspec": {
   "display_name": "Python 3",
   "language": "python",
   "name": "py35-paddle1.2.0"
  },
  "language_info": {
   "codemirror_mode": {
    "name": "ipython",
    "version": 3
   },
   "file_extension": ".py",
   "mimetype": "text/x-python",
   "name": "python",
   "nbconvert_exporter": "python",
   "pygments_lexer": "ipython3",
   "version": "3.7.4"
  }
 },
 "nbformat": 4,
 "nbformat_minor": 5
}
