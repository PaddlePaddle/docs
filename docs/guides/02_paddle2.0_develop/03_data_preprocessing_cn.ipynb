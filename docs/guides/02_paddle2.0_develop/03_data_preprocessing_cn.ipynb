{
 "cells": [
  {
   "cell_type": "markdown",
   "id": "159b5b2a",
   "metadata": {},
   "source": [
    "# 数据预处理\n",
    "\n",
    "数据预处理包含对图像进行数据增强和对标签进行处理等操作，这里主要介绍图像处理部分。\n",
    "\n",
    "在模型训练过程中有时会遇到过拟合的问题，其中一个解决方法就是对训练数据做数据处理或增强。数据处理通过对数据进行处理得到不同的图像，从而增强模型的泛化性。"
   ]
  },
  {
   "cell_type": "markdown",
   "id": "b1d901d6-ceac-4c05-acdd-191e34317c62",
   "metadata": {},
   "source": [
    "## paddle.vision.transforms 介绍\n",
    "\n",
    "飞桨框架在 [paddle.vision.transforms](../../api/paddle/vision/Overview_cn.html#about-transforms) 下内置了数十种数据处理方法，可以通过以下代码查看："
   ]
  },
  {
   "cell_type": "code",
   "execution_count": 2,
   "id": "93904999",
   "metadata": {
    "scrolled": true
   },
   "outputs": [
    {
     "name": "stdout",
     "output_type": "stream",
     "text": [
      "数据处理方法： ['BaseTransform', 'Compose', 'Resize', 'RandomResizedCrop', 'CenterCrop', 'RandomHorizontalFlip', 'RandomVerticalFlip', 'Transpose', 'Normalize', 'BrightnessTransform', 'SaturationTransform', 'ContrastTransform', 'HueTransform', 'ColorJitter', 'RandomCrop', 'Pad', 'RandomRotation', 'Grayscale', 'ToTensor', 'to_tensor', 'hflip', 'vflip', 'resize', 'pad', 'rotate', 'to_grayscale', 'crop', 'center_crop', 'adjust_brightness', 'adjust_contrast', 'adjust_hue', 'normalize']\n"
     ]
    }
   ],
   "source": [
    "import paddle\n",
    "print('数据处理方法：', paddle.vision.transforms.__all__)"
   ]
  },
  {
   "cell_type": "markdown",
   "id": "a4b999ee",
   "metadata": {},
   "source": [
    "对于飞桨框架内置的数据处理方法，可以单个初始化调用，也可以将多个数据处理方法进行组合使用，具体使用方式如下：\n",
    "\n",
    "* 单个使用"
   ]
  },
  {
   "cell_type": "code",
   "execution_count": 3,
   "id": "69b80bc1",
   "metadata": {
    "scrolled": true
   },
   "outputs": [],
   "source": [
    "from paddle.vision.transforms import Resize\n",
    "\n",
    "# 定义想要使用的数据处理方式，这里初始化一个改变图片大小的变换\n",
    "transform = Resize(size=28)"
   ]
  },
  {
   "cell_type": "markdown",
   "id": "533d6372",
   "metadata": {},
   "source": [
    "* 多个组合使用\n",
    "\n",
    "这种使用模式下，需要先定义好每个数据处理方法，然后用`Compose` 进行组合"
   ]
  },
  {
   "cell_type": "code",
   "execution_count": 4,
   "id": "4a1a5cb3",
   "metadata": {
    "scrolled": true
   },
   "outputs": [],
   "source": [
    "from paddle.vision.transforms import Compose, RandomRotation\n",
    "\n",
    "# 定义想要使用的数据处理方式，这里包括随机旋转，改变图片大小\n",
    "transform = Compose([RandomRotation(10), Resize(size=32)])"
   ]
  },
  {
   "cell_type": "markdown",
   "id": "b1bd06c0-b4f2-46a4-b446-cde3a1fe8afe",
   "metadata": {},
   "source": [
    "## 在数据集中定义数据预处理操作\n",
    "\n",
    "定义好数据预处理方法后，可以直接在 DataSet 中使用，下面介绍两种数据处理使用方式，一种是基于框架内置数据集，一种是基于自定义的数据集。\n",
    "\n",
    "### 基于框架内置数据集\n",
    "\n",
    "在框架内置数据集中使用内置的数据处理方法时，只需要将数据处理操方法传递给 `transform` 字段即可。"
   ]
  },
  {
   "cell_type": "code",
   "execution_count": 5,
   "id": "a7970f84",
   "metadata": {
    "scrolled": true
   },
   "outputs": [],
   "source": [
    "# 通过transform参数传递定义好的数据增强方法即可完成对自带数据集的增强\n",
    "train_dataset = paddle.vision.datasets.MNIST(mode='train', transform=transform)"
   ]
  },
  {
   "cell_type": "markdown",
   "id": "74013246",
   "metadata": {},
   "source": [
    "### 基于自定义的数据集\n",
    "\n",
    "对于自定义的数据集，可以在数据集的 `__init__` 函数中定义数据处理方法，之后在 `__getitem__` 方法中对返回的数据应用数据预处理, 如下述代码所示："
   ]
  },
  {
   "cell_type": "code",
   "execution_count": null,
   "id": "d7cabb3c",
   "metadata": {},
   "outputs": [],
   "source": [
    "# 下载 MNIST 数据集并解压\n",
    "! wget https://paddle-imagenet-models-name.bj.bcebos.com/data/mnist.tar\n",
    "! tar -xf mnist.tar"
   ]
  },
  {
   "cell_type": "code",
   "execution_count": 6,
   "id": "45ea330a",
   "metadata": {
    "scrolled": true
   },
   "outputs": [],
   "source": [
    "import os\n",
    "import cv2\n",
    "import numpy as np\n",
    "from paddle.io import Dataset\n",
    "\n",
    "class MyDataset(Dataset):\n",
    "    \"\"\"\n",
    "    步骤一：继承 paddle.io.Dataset 类\n",
    "    \"\"\"\n",
    "    def __init__(self, data_dir, label_path, transform=None):\n",
    "        \"\"\"\n",
    "        步骤二：实现 __init__ 函数，定义数据集大小\n",
    "        \"\"\"\n",
    "        super(MyDataset, self).__init__()\n",
    "        self.data_list = []\n",
    "        with open(label_path,encoding='utf-8') as f:\n",
    "            for line in f.readlines():\n",
    "                image_path, label = line.strip().split('\\t')\n",
    "                image_path = os.path.join(data_dir, image_path)\n",
    "                self.data_list.append([image_path, label])\n",
    "        self.transform = transform\n",
    "\n",
    "    def __getitem__(self, index):\n",
    "        \"\"\"\n",
    "        步骤三：实现 __getitem__ 函数，定义指定 index 时如何获取数据，并返回单条数据（训练数据、对应的标签）\n",
    "        \"\"\"\n",
    "        # 根据索引，从列表中取出一个\n",
    "        image_path, label = self.data_list[index]\n",
    "        # 读取灰度图\n",
    "        image = cv2.imread(image_path, cv2.IMREAD_GRAYSCALE)\n",
    "        # 图像数据格式转换为 float32，此步骤为必须\n",
    "        image = image.astype('float32')\n",
    "        if self.transform is not None:\n",
    "            image = self.transform(image)\n",
    "        label = int(label)\n",
    "        return image, label\n",
    "\n",
    "    def __len__(self):\n",
    "        \"\"\"\n",
    "        步骤四：实现 __len__ 函数，返回数据集的样本总数\n",
    "        \"\"\"\n",
    "        return len(self.data_list)\n",
    "    \n",
    "custom_dataset = MyDataset('mnist/train','mnist/train/label.txt', transform)"
   ]
  },
  {
   "cell_type": "markdown",
   "id": "e8990b3f-3a00-4d03-a99a-88185da6964c",
   "metadata": {},
   "source": [
    "在自定义数据集中，直接将定义好的数据预处理传入`__init__`方法，将其定义为自定义数据集类的一个属性，然后在`__getitem__`中将数据预处理应用到图像上。"
   ]
  },
  {
   "cell_type": "markdown",
   "id": "2b21d528-1ab3-4eb2-be73-d6871df4ba65",
   "metadata": {},
   "source": [
    "## 数据处理的几种方法介绍\n",
    "\n",
    "### RandomRotation:\n",
    "\n",
    "依据degrees参数指定的角度范围，按照均匀分布随机产生一个角度对图像进行旋转。"
   ]
  },
  {
   "cell_type": "code",
   "execution_count": 12,
   "id": "76edf274",
   "metadata": {},
   "outputs": [
    {
     "data": {
      "text/plain": [
       "<matplotlib.image.AxesImage at 0x7fee0accee10>"
      ]
     },
     "execution_count": 12,
     "metadata": {},
     "output_type": "execute_result"
    },
    {
     "data": {
      "image/png": "[encoded data removed]",
      "text/plain": [
       "<Figure size 432x288 with 2 Axes>"
      ]
     },
     "metadata": {
      "needs_background": "light"
     },
     "output_type": "display_data"
    }
   ],
   "source": [
    "import numpy as np\n",
    "from PIL import Image\n",
    "from matplotlib import pyplot as plt\n",
    "from paddle.vision.transforms import RandomRotation\n",
    "\n",
    "transform = RandomRotation(90)\n",
    "\n",
    "image = cv2.imread('mnist/train/imgs/0/0.jpg', cv2.IMREAD_GRAYSCALE)\n",
    "\n",
    "RandomRotation_image = transform(image)\n",
    "plt.subplot(1,2,1)\n",
    "plt.title('origin image')\n",
    "plt.imshow(image)\n",
    "plt.subplot(1,2,2)\n",
    "plt.title('RandomRotation image')\n",
    "plt.imshow(RandomRotation_image)"
   ]
  },
  {
   "cell_type": "markdown",
   "id": "f3cac20c",
   "metadata": {},
   "source": [
    "### RandomHorizontalFlip\n",
    "\n",
    "基于概率来执行图片的水平翻转。"
   ]
  },
  {
   "cell_type": "code",
   "execution_count": 15,
   "id": "f6adefc6",
   "metadata": {},
   "outputs": [
    {
     "data": {
      "text/plain": [
       "<matplotlib.image.AxesImage at 0x7fedfa0a6bd0>"
      ]
     },
     "execution_count": 15,
     "metadata": {},
     "output_type": "execute_result"
    },
    {
     "data": {
      "image/png": "[encoded data removed]",
      "text/plain": [
       "<Figure size 432x288 with 2 Axes>"
      ]
     },
     "metadata": {
      "needs_background": "light"
     },
     "output_type": "display_data"
    }
   ],
   "source": [
    "import numpy as np\n",
    "from PIL import Image\n",
    "from matplotlib import pyplot as plt\n",
    "from paddle.vision.transforms import RandomHorizontalFlip\n",
    "\n",
    "transform = RandomHorizontalFlip(0.5)\n",
    "\n",
    "image = cv2.imread('mnist/train/imgs/0/0.jpg', cv2.IMREAD_GRAYSCALE)\n",
    "\n",
    "RandomRotation_image = transform(image)\n",
    "plt.subplot(1,2,1)\n",
    "plt.title('origin image')\n",
    "plt.imshow(image)\n",
    "plt.subplot(1,2,2)\n",
    "plt.title('RandomRotation image')\n",
    "plt.imshow(RandomRotation_image)"
   ]
  },
  {
   "cell_type": "markdown",
   "id": "94cdd766",
   "metadata": {},
   "source": [
    "更多数据预处理可以参考  [paddle.vision.transforms](../../api/paddle/vision/Overview_cn.html#about-transforms) "
   ]
  },
  {
   "cell_type": "markdown",
   "id": "5927ccca",
   "metadata": {},
   "source": [
    "## 总结\n",
    "\n",
    "本节介绍了数据预处理在数据集中的使用方式并介绍了常用的数据预处理操作。"
   ]
  }
 ],
 "metadata": {
  "kernelspec": {
   "display_name": "Python 3 (ipykernel)",
   "language": "python",
   "name": "python3"
  },
  "language_info": {
   "codemirror_mode": {
    "name": "ipython",
    "version": 3
   },
   "file_extension": ".py",
   "mimetype": "text/x-python",
   "name": "python",
   "nbconvert_exporter": "python",
   "pygments_lexer": "ipython3",
   "version": "3.7.10"
  }
 },
 "nbformat": 4,
 "nbformat_minor": 5
}
