{
 "cells": [
  {
   "cell_type": "markdown",
   "id": "f97a8a96",
   "metadata": {},
   "source": [
    "# 训练与预测验证\n",
    "\n",
    "在完成数据预处理，数据加载与模型的组建后，你就可以进行模型的训练与预测了。飞桨主框架提供了两种训练与预测的方法，一种是用 [paddle.Model](https://www.paddlepaddle.org.cn/documentation/docs/zh/api/paddle/Model_cn.html) 对模型进行封装，通过高层API如 [Model.fit](https://www.paddlepaddle.org.cn/documentation/docs/zh/api/paddle/Model_cn.html#fit-train-data-none-eval-data-none-batch-size-1-epochs-1-eval-freq-1-log-freq-10-save-dir-none-save-freq-1-verbose-2-drop-last-false-shuffle-true-num-workers-0-callbacks-none) 、 [Model.evaluate](https://www.paddlepaddle.org.cn/documentation/docs/zh/api/paddle/Model_cn.html#evaluate-eval-data-batch-size-1-log-freq-10-verbose-2-num-workers-0-callbacks-none) 、 [Model.predict](https://www.paddlepaddle.org.cn/documentation/docs/zh/api/paddle/Model_cn.html#predict-test-data-batch-size-1-num-workers-0-stack-outputs-false-callbacks-none) 等完成模型的训练与预测；另一种就是基于基础API常规的训练方式。\n",
    "\n",
    "高层API实现的模型训练与预测如 `Model.fit` 、 `Model.evaluate` 、 `Model.predict` 都可以通过基础API实现，本文先介绍高层API的训练方式，然后会将高层API拆解为基础API的方式，方便对比学习。\n",
    "\n",
    "## 一、训练前准备\n",
    "\n",
    "在封装模型前，需要先完成数据的加载，由于这一部分高层API与基础API通用，所以都可用下面的代码实现："
   ]
  },
  {
   "cell_type": "code",
   "execution_count": 1,
   "id": "86a3f26d",
   "metadata": {},
   "outputs": [],
   "source": [
    "import paddle\n",
    "import numpy as np\n",
    "from paddle.vision.transforms import ToTensor\n",
    "\n",
    "# 加载数据集\n",
    "train_dataset = paddle.vision.datasets.MNIST(mode='train', transform=ToTensor())\n",
    "test_dataset = paddle.vision.datasets.MNIST(mode='test', transform=ToTensor())"
   ]
  },
  {
   "cell_type": "markdown",
   "id": "d9d0367d",
   "metadata": {},
   "source": [
    "通过上述的代码，你就完成了训练集与测试集的构建，下面分别用两种方式完成模型的训练与预测。\n",
    "\n",
    "## 二、通过 `paddle.Model` 训练与预测\n",
    "\n",
    "在这里你可以采用Sequential组网或者SubClass组网的方式来创建一个mnist网络模型，你可使用 `paddle.Model` 完成模型的封装，将网络结构组合成一个可快速使用高层API进行训练和预测的对象。代码如下："
   ]
  },
  {
   "cell_type": "code",
   "execution_count": 2,
   "id": "a7705595",
   "metadata": {},
   "outputs": [
    {
     "name": "stderr",
     "output_type": "stream",
     "text": [
      "W1222 09:27:56.863570  7417 device_context.cc:447] Please NOTE: device: 0, GPU Compute Capability: 7.0, Driver API Version: 10.2, Runtime API Version: 10.2\n",
      "W1222 09:27:56.870544  7417 device_context.cc:465] device: 0, cuDNN Version: 7.6.\n"
     ]
    }
   ],
   "source": [
    "mnist = paddle.nn.Sequential(\n",
    "    paddle.nn.Flatten(1, -1), \n",
    "    paddle.nn.Linear(784, 512), \n",
    "    paddle.nn.ReLU(), \n",
    "    paddle.nn.Dropout(0.2), \n",
    "    paddle.nn.Linear(512, 10)\n",
    ")\n",
    "\n",
    "model = paddle.Model(mnist)"
   ]
  },
  {
   "cell_type": "markdown",
   "id": "4500460a",
   "metadata": {},
   "source": [
    "### 2.1 用 `Model.prepare` 配置模型\n",
    "\n",
    "用 `paddle.Model` 完成模型的封装后，在训练前，需要对模型进行配置，通过 [Model.prepare](https://www.paddlepaddle.org.cn/documentation/docs/zh/api/paddle/Model_cn.html#prepare-optimizer-none-loss-none-metrics-none-amp-configs-none) 接口来对训练进行提前的配置准备工作，包括设置模型优化器，Loss计算方法，精度计算方法等。"
   ]
  },
  {
   "cell_type": "code",
   "execution_count": 3,
   "id": "ccefe291",
   "metadata": {},
   "outputs": [],
   "source": [
    "# 为模型训练做准备，设置优化器，损失函数和精度计算方式\n",
    "model.prepare(optimizer=paddle.optimizer.Adam(parameters=model.parameters()), \n",
    "              loss=paddle.nn.CrossEntropyLoss(), \n",
    "              metrics=paddle.metric.Accuracy())"
   ]
  },
  {
   "cell_type": "markdown",
   "id": "5da3322e",
   "metadata": {},
   "source": [
    "### 2.2 用 `Model.fit` 训练模型\n",
    "\n",
    "做好模型训练的前期准备工作后，调用 `fit` 接口来启动训练过程，需要指定至少3个关键参数：训练数据集，训练轮次和单次训练数据批次大小。"
   ]
  },
  {
   "cell_type": "code",
   "execution_count": 4,
   "id": "51021638",
   "metadata": {},
   "outputs": [
    {
     "name": "stdout",
     "output_type": "stream",
     "text": [
      "The loss value printed in the log is the current step, and the metric is the average value of previous steps.\n",
      "Epoch 1/5\n"
     ]
    },
    {
     "name": "stderr",
     "output_type": "stream",
     "text": [
      "/usr/local/python3.7.0/lib/python3.7/site-packages/paddle/fluid/layers/utils.py:77: DeprecationWarning: Using or importing the ABCs from 'collections' instead of from 'collections.abc' is deprecated, and in 3.8 it will stop working\n",
      "  return (isinstance(seq, collections.Sequence) and\n"
     ]
    },
    {
     "name": "stdout",
     "output_type": "stream",
     "text": [
      "step 938/938 [==============================] - loss: 0.1663 - acc: 0.9299 - 32ms/step          \n",
      "Epoch 2/5\n",
      "step 938/938 [==============================] - loss: 0.0393 - acc: 0.9689 - 32ms/step          \n",
      "Epoch 3/5\n",
      "step 938/938 [==============================] - loss: 0.0341 - acc: 0.9774 - 32ms/step          \n",
      "Epoch 4/5\n",
      "step 938/938 [==============================] - loss: 0.0118 - acc: 0.9827 - 32ms/step          \n",
      "Epoch 5/5\n",
      "step 938/938 [==============================] - loss: 0.1354 - acc: 0.9865 - 33ms/step          \n"
     ]
    }
   ],
   "source": [
    "# 启动模型训练，指定训练数据集，设置训练轮次，设置每次数据集计算的批次大小，设置日志格式\n",
    "model.fit(train_dataset, \n",
    "          epochs=5, \n",
    "          batch_size=64,\n",
    "          verbose=1)"
   ]
  },
  {
   "cell_type": "markdown",
   "id": "eeff5f00",
   "metadata": {},
   "source": [
    "### 2.3 用 `Model.evaluate` 评估模型\n",
    "\n",
    "对于训练好的模型进行评估可以使用 `evaluate` 接口，事先定义好用于评估使用的数据集后，直接调用 `evaluate` 接口即可完成模型评估操作，结束后根据在 `prepare` 中 `loss` 和 `metric` 的定义来进行相关评估结果计算返回。\n",
    "\n",
    "返回格式是一个字典:\n",
    "* 只包含loss， `{'loss': xxx}` \n",
    "* 包含loss和一个评估指标， `{'loss': xxx, 'metric name': xxx}` \n",
    "* 包含loss和多个评估指标， `{'loss': xxx, 'metric name1': xxx, 'metric name2': xxx}` "
   ]
  },
  {
   "cell_type": "code",
   "execution_count": 5,
   "id": "70f670ec",
   "metadata": {},
   "outputs": [
    {
     "name": "stdout",
     "output_type": "stream",
     "text": [
      "Eval begin...\n",
      "step 10000/10000 [==============================] - loss: 4.7684e-07 - acc: 0.9816 - 3ms/step          \n",
      "Eval samples: 10000\n",
      "{'loss': [4.7683704e-07], 'acc': 0.9816}\n"
     ]
    }
   ],
   "source": [
    "# 用 evaluate 在测试集上对模型进行验证\n",
    "eval_result = model.evaluate(test_dataset, verbose=1)\n",
    "print(eval_result)"
   ]
  },
  {
   "cell_type": "markdown",
   "id": "109ac763",
   "metadata": {},
   "source": [
    "### 2.4 用 `Model.predict` 预测模型\n",
    "\n",
    "高层API中提供了 `predict` 接口来方便用户对训练好的模型进行预测验证，只需要基于训练好的模型将需要进行预测测试的数据放到接口中进行计算即可，接口会将经过模型计算得到的预测结果进行返回。\n",
    "\n",
    "返回格式是一个list，元素数目对应模型的输出数目：\n",
    "* 模型是单一输出：`[(numpy_ndarray_1, numpy_ndarray_2, …, numpy_ndarray_n)]`\n",
    "* 模型是多输出：`[(numpy_ndarray_1, numpy_ndarray_2, …, numpy_ndarray_n), (numpy_ndarray_1, numpy_ndarray_2, …, numpy_ndarray_n), …]`\n",
    "\n",
    "numpy_ndarray_n是对应原始数据经过模型计算后得到的预测数据，数目对应预测数据集的数目。"
   ]
  },
  {
   "cell_type": "code",
   "execution_count": 6,
   "id": "d6318f18",
   "metadata": {},
   "outputs": [
    {
     "name": "stdout",
     "output_type": "stream",
     "text": [
      "Predict begin...\n",
      "step 10000/10000 [==============================] - 2ms/step          \n",
      "Predict samples: 10000\n",
      "true label: 7, pred label: 7\n"
     ]
    },
    {
     "data": {
      "text/plain": [
       "<matplotlib.image.AxesImage at 0x7fca81a95e10>"
      ]
     },
     "execution_count": 6,
     "metadata": {},
     "output_type": "execute_result"
    },
    {
     "data": {
      "image/png": "[encoded data removed]",
      "text/plain": [
       "<Figure size 432x288 with 1 Axes>"
      ]
     },
     "metadata": {
      "needs_background": "light"
     },
     "output_type": "display_data"
    }
   ],
   "source": [
    "# 用 predict 在测试集上对模型进行测试\n",
    "test_result = model.predict(test_dataset)\n",
    "\n",
    "# 从测试集中取出一张图片\n",
    "img, label = test_dataset[0]\n",
    "\n",
    "# 执行推理并打印结果\n",
    "pred_label = test_result[0][0].argmax()\n",
    "print('true label: {}, pred label: {}'.format(label[0], pred_label))\n",
    "# 可视化图片\n",
    "from matplotlib import pyplot as plt\n",
    "plt.imshow(img[0])"
   ]
  },
  {
   "cell_type": "markdown",
   "id": "9508034b",
   "metadata": {},
   "source": [
    "## 三、通过基础API实现模型的训练与预测\n",
    "\n",
    "除了通过第一部分的高层API实现模型的训练与预测，飞桨框架也同样支持通过基础API对模型进行训练与预测。简单来说， `Model.prepare` 、 `Model.fit` 、 `Model.evaluate` 、 `Model.predict` 都是由基础API封装而来。下面通过拆解高层API到基础API的方式，来了解如何用基础API完成模型的训练与预测。"
   ]
  },
  {
   "cell_type": "code",
   "execution_count": 7,
   "id": "da17af7e",
   "metadata": {},
   "outputs": [],
   "source": [
    "# 定义网络结构( 采用SubClass 组网 )\n",
    "class Mnist(paddle.nn.Layer):\n",
    "    def __init__(self):\n",
    "        super(Mnist, self).__init__()\n",
    "        self.flatten = paddle.nn.Flatten()\n",
    "        self.linear_1 = paddle.nn.Linear(784, 512)\n",
    "        self.linear_2 = paddle.nn.Linear(512, 10)\n",
    "        self.relu = paddle.nn.ReLU()\n",
    "        self.dropout = paddle.nn.Dropout(0.2)\n",
    "            \n",
    "    def forward(self, inputs):\n",
    "        y = self.flatten(inputs)\n",
    "        y = self.linear_1(y)\n",
    "        y = self.relu(y)\n",
    "        y = self.dropout(y)\n",
    "        y = self.linear_2(y)\n",
    "        return y"
   ]
  },
  {
   "cell_type": "markdown",
   "id": "c02524fd",
   "metadata": {},
   "source": [
    "### 3.1 拆解 `Model.prepare` 、 `Model.fit` -- 用基础API训练模型\n",
    "\n",
    "飞桨框架通过基础API对模型进行训练与预测，对应第一部分的 `Model.prepare` 与 `Model.fit` ："
   ]
  },
  {
   "cell_type": "code",
   "execution_count": 8,
   "id": "8419b510",
   "metadata": {},
   "outputs": [
    {
     "name": "stdout",
     "output_type": "stream",
     "text": [
      "epoch: 0, batch_id: 900, loss is: [0.03877499], acc is: [1.]\n",
      "epoch: 1, batch_id: 900, loss is: [0.04977579], acc is: [0.984375]\n",
      "epoch: 2, batch_id: 900, loss is: [0.01578258], acc is: [1.]\n",
      "epoch: 3, batch_id: 900, loss is: [0.10209924], acc is: [0.96875]\n",
      "epoch: 4, batch_id: 900, loss is: [0.04281481], acc is: [1.]\n"
     ]
    }
   ],
   "source": [
    "# dataset与mnist的定义与第一部分内容一致\n",
    "# 用 DataLoader 实现数据加载\n",
    "train_loader = paddle.io.DataLoader(train_dataset, batch_size=64, shuffle=True)\n",
    "\n",
    "mnist=Mnist()\n",
    "mnist.train()\n",
    "\n",
    "# 设置迭代次数\n",
    "epochs = 5\n",
    "\n",
    "# 设置优化器\n",
    "optim = paddle.optimizer.Adam(parameters=mnist.parameters())\n",
    "# 设置损失函数\n",
    "loss_fn = paddle.nn.CrossEntropyLoss()\n",
    "for epoch in range(epochs):\n",
    "    for batch_id, data in enumerate(train_loader()):\n",
    "        \n",
    "        x_data = data[0]            # 训练数据\n",
    "        y_data = data[1]            # 训练数据标签\n",
    "        predicts = mnist(x_data)    # 预测结果  \n",
    "        \n",
    "        # 计算损失 等价于 prepare 中loss的设置\n",
    "        loss = loss_fn(predicts, y_data)\n",
    "        \n",
    "        # 计算准确率 等价于 prepare 中metrics的设置\n",
    "        acc = paddle.metric.accuracy(predicts, y_data)\n",
    "        \n",
    "        # 下面的反向传播、打印训练信息、更新参数、梯度清零都被封装到 Model.fit() 中\n",
    "        # 反向传播 \n",
    "        loss.backward()\n",
    "        \n",
    "        if (batch_id+1) % 900 == 0:\n",
    "            print(\"epoch: {}, batch_id: {}, loss is: {}, acc is: {}\".format(epoch, batch_id+1, loss.numpy(), acc.numpy()))\n",
    "        # 更新参数 \n",
    "        optim.step()\n",
    "        # 梯度清零\n",
    "        optim.clear_grad()"
   ]
  },
  {
   "cell_type": "markdown",
   "id": "00a077d3",
   "metadata": {},
   "source": [
    "### 3.2 拆解 `Model.evaluate` -- 用基础API验证模型\n",
    "\n",
    "飞桨框架通过基础API对模型进行验证，对应第一部分的 `Model.evaluate` :"
   ]
  },
  {
   "cell_type": "code",
   "execution_count": 9,
   "id": "d27f6ec2",
   "metadata": {},
   "outputs": [
    {
     "name": "stdout",
     "output_type": "stream",
     "text": [
      "batch_id: 30, loss is: [0.12935154], acc is: [0.953125]\n",
      "batch_id: 60, loss is: [0.19010888], acc is: [0.921875]\n",
      "batch_id: 90, loss is: [0.07307276], acc is: [0.984375]\n",
      "batch_id: 120, loss is: [0.01087341], acc is: [1.]\n",
      "batch_id: 150, loss is: [0.11148524], acc is: [0.984375]\n"
     ]
    }
   ],
   "source": [
    "# 加载测试数据集\n",
    "test_loader = paddle.io.DataLoader(test_dataset, batch_size=64, drop_last=True)\n",
    "loss_fn = paddle.nn.CrossEntropyLoss()\n",
    "# 将该模型及其所有子层设置为预测模式。这只会影响某些模块，如Dropout和BatchNorm\n",
    "mnist.eval()\n",
    "# 禁用动态图梯度计算\n",
    "for batch_id, data in enumerate(test_loader()):\n",
    "    \n",
    "    x_data = data[0]            # 测试数据\n",
    "    y_data = data[1]            # 测试数据标签\n",
    "    predicts = mnist(x_data)    # 预测结果\n",
    "    \n",
    "    # 计算损失与精度\n",
    "    loss = loss_fn(predicts, y_data)\n",
    "    acc = paddle.metric.accuracy(predicts, y_data)\n",
    "    \n",
    "    # 打印信息\n",
    "    if (batch_id+1) % 30 == 0:\n",
    "        print(\"batch_id: {}, loss is: {}, acc is: {}\".format(batch_id+1, loss.numpy(), acc.numpy()))"
   ]
  },
  {
   "cell_type": "markdown",
   "id": "214cc6de",
   "metadata": {},
   "source": [
    "### 3.3 拆解 `Model.predict` -- 用基础API测试模型\n",
    "\n",
    "飞桨框架通过基础API对模型进行测试，对应第一部分的 `Model.predict` :"
   ]
  },
  {
   "cell_type": "code",
   "execution_count": 10,
   "id": "1d79305f",
   "metadata": {},
   "outputs": [
    {
     "name": "stdout",
     "output_type": "stream",
     "text": [
      "predict finished\n",
      "true label: 7, pred label: 7\n"
     ]
    },
    {
     "data": {
      "text/plain": [
       "<matplotlib.image.AxesImage at 0x7fca819a1668>"
      ]
     },
     "execution_count": 10,
     "metadata": {},
     "output_type": "execute_result"
    },
    {
     "data": {
      "image/png": "[encoded data removed]",
      "text/plain": [
       "<Figure size 432x288 with 1 Axes>"
      ]
     },
     "metadata": {
      "needs_background": "light"
     },
     "output_type": "display_data"
    }
   ],
   "source": [
    "# 加载测试数据集\n",
    "test_loader = paddle.io.DataLoader(test_dataset, batch_size=64, drop_last=True)\n",
    "mnist.eval()\n",
    "for batch_id, data in enumerate(test_loader()):\n",
    "    x_data = data[0] \n",
    "    predicts = mnist(x_data)\n",
    "    # 获取预测结果\n",
    "print(\"predict finished\")\n",
    "\n",
    "# 从测试集中取出一组数据\n",
    "img, label = test_loader().next()\n",
    "\n",
    "# 执行推理并打印结果\n",
    "pred_label = mnist(img)[0].argmax()\n",
    "print('true label: {}, pred label: {}'.format(label[0].item(), pred_label[0].item()))\n",
    "# 可视化图片\n",
    "from matplotlib import pyplot as plt\n",
    "plt.imshow(img[0][0])"
   ]
  }
 ],
 "metadata": {
  "kernelspec": {
   "display_name": "Python 3",
   "language": "python",
   "name": "python3"
  },
  "language_info": {
   "codemirror_mode": {
    "name": "ipython",
    "version": 3
   },
   "file_extension": ".py",
   "mimetype": "text/x-python",
   "name": "python",
   "nbconvert_exporter": "python",
   "pygments_lexer": "ipython3",
   "version": "3.7.0"
  }
 },
 "nbformat": 4,
 "nbformat_minor": 5
}
