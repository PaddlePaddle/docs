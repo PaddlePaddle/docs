{
 "cells": [
  {
   "cell_type": "markdown",
   "id": "ca3e772f-5f57-450f-9370-bdc80f6ef241",
   "metadata": {},
   "source": [
    "# 模型组网\n",
    "\n",
    "\n",
    "模型组网是深度学习任务中的重要一环，该环节定义了神经网络的层次结构、数据从输入到输出的计算过程（即前向计算）等。\n",
    "\n",
    "飞桨框架提供了多种模型组网方式，本文介绍如下几种常见用法：\n",
    "* **直接使用内置模型**\n",
    "* **使用 [paddle.nn.Sequential](https://www.paddlepaddle.org.cn/documentation/docs/zh/api/paddle/nn/Sequential_cn.html#sequential) 组网**\n",
    "* **使用 [paddle.nn.Layer](https://www.paddlepaddle.org.cn/documentation/docs/zh/api/paddle/nn/Layer_cn.html#layer) 组网**\n",
    "* **使用 [paddle.nn.LayerList](https://www.paddlepaddle.org.cn/documentation/docs/zh/api/paddle/nn/LayerList_cn.html#cn-api-fluid-dygraph-layerlist) 组网**\n",
    "\n",
    "另外飞桨框架提供了 [paddle.summary](https://www.paddlepaddle.org.cn/documentation/docs/zh/api/paddle/summary_cn.html#summary) 函数方便查看网络结构、每层的输入输出 shape 和参数信息。"
   ]
  },
  {
   "cell_type": "markdown",
   "id": "3615327e-4ac0-4616-a091-077046fb40f8",
   "metadata": {},
   "source": [
    "## 一、直接使用内置模型\n",
    "\n",
    "飞桨框架目前在 [paddle.vision.models](https://www.paddlepaddle.org.cn/documentation/docs/zh/api/paddle/vision/Overview_cn.html#about-models) 下内置了计算机视觉领域的一些经典模型，只需一行代码即可完成网络构建和初始化，适合完成一些简单的深度学习任务，满足深度学习初阶用户感受模型的输入和输出形式、了解模型的性能。"
   ]
  },
  {
   "cell_type": "code",
   "execution_count": 1,
   "id": "a90c961d-6bd8-4d07-9a0f-44c25da7c023",
   "metadata": {
    "execution": {
     "iopub.execute_input": "2022-01-05T07:21:41.979509Z",
     "iopub.status.busy": "2022-01-05T07:21:41.978819Z",
     "iopub.status.idle": "2022-01-05T07:21:44.967951Z",
     "shell.execute_reply": "2022-01-05T07:21:44.966827Z",
     "shell.execute_reply.started": "2022-01-05T07:21:41.979443Z"
    },
    "scrolled": true
   },
   "outputs": [
    {
     "name": "stdout",
     "output_type": "stream",
     "text": [
      "飞桨框架内置模型： ['ResNet', 'resnet18', 'resnet34', 'resnet50', 'resnet101', 'resnet152', 'VGG', 'vgg11', 'vgg13', 'vgg16', 'vgg19', 'MobileNetV1', 'mobilenet_v1', 'MobileNetV2', 'mobilenet_v2', 'LeNet']\n"
     ]
    }
   ],
   "source": [
    "import paddle\n",
    "\n",
    "print('飞桨框架内置模型：', paddle.vision.models.__all__)"
   ]
  },
  {
   "cell_type": "markdown",
   "id": "79693587-4896-463d-be11-36cc939748d6",
   "metadata": {},
   "source": [
    "以 LeNet 模型为例，可通过如下代码组网："
   ]
  },
  {
   "cell_type": "code",
   "execution_count": 3,
   "id": "883f5395-3b1c-4d58-a70e-1dd7886a7d36",
   "metadata": {
    "execution": {
     "iopub.execute_input": "2022-01-05T08:23:47.069913Z",
     "iopub.status.busy": "2022-01-05T08:23:47.068838Z",
     "iopub.status.idle": "2022-01-05T08:23:47.101420Z",
     "shell.execute_reply": "2022-01-05T08:23:47.100556Z",
     "shell.execute_reply.started": "2022-01-05T08:23:47.069844Z"
    },
    "scrolled": true
   },
   "outputs": [
    {
     "name": "stdout",
     "output_type": "stream",
     "text": [
      "---------------------------------------------------------------------------\n",
      " Layer (type)       Input Shape          Output Shape         Param #    \n",
      "===========================================================================\n",
      "   Conv2D-3       [[1, 1, 28, 28]]      [1, 6, 28, 28]          60       \n",
      "    ReLU-3        [[1, 6, 28, 28]]      [1, 6, 28, 28]           0       \n",
      "  MaxPool2D-3     [[1, 6, 28, 28]]      [1, 6, 14, 14]           0       \n",
      "   Conv2D-4       [[1, 6, 14, 14]]     [1, 16, 10, 10]         2,416     \n",
      "    ReLU-4       [[1, 16, 10, 10]]     [1, 16, 10, 10]           0       \n",
      "  MaxPool2D-4    [[1, 16, 10, 10]]      [1, 16, 5, 5]            0       \n",
      "   Linear-4          [[1, 400]]            [1, 120]           48,120     \n",
      "   Linear-5          [[1, 120]]            [1, 84]            10,164     \n",
      "   Linear-6          [[1, 84]]             [1, 10]              850      \n",
      "===========================================================================\n",
      "Total params: 61,610\n",
      "Trainable params: 61,610\n",
      "Non-trainable params: 0\n",
      "---------------------------------------------------------------------------\n",
      "Input size (MB): 0.00\n",
      "Forward/backward pass size (MB): 0.11\n",
      "Params size (MB): 0.24\n",
      "Estimated Total Size (MB): 0.35\n",
      "---------------------------------------------------------------------------\n",
      "\n"
     ]
    },
    {
     "data": {
      "text/plain": [
       "{'total_params': 61610, 'trainable_params': 61610}"
      ]
     },
     "execution_count": 3,
     "metadata": {},
     "output_type": "execute_result"
    }
   ],
   "source": [
    "# 模型组网并初始化网络\n",
    "lenet = paddle.vision.models.LeNet(num_classes=10)\n",
    "\n",
    "# 可视化模型组网结构和参数\n",
    "paddle.summary(lenet,(1, 1, 28, 28))"
   ]
  },
  {
   "cell_type": "markdown",
   "id": "c48f8ac6",
   "metadata": {},
   "source": [
    "通过 [paddle.summary](https://www.paddlepaddle.org.cn/documentation/docs/zh/api/paddle/summary_cn.html#summary) 的结果可以看出，LeNet 模型包含 `Conv2D` 卷积层、`ReLU` 激活层、`MaxPool2D` 池化层以及 `Linear` 全连接层，这些层通过堆叠形成了 LeNet 模型，对应网络结构如下图所示。\n",
    "<center><img src=\"images/lenet.png\" width=\"600\"></center>\n",
    "<center><br>图1：LeNet网络结构示意图</br></center>\n",
    "\n",
    "另外在 [paddle.summary](https://www.paddlepaddle.org.cn/documentation/docs/zh/api/paddle/summary_cn.html#summary) 的结果中可清晰地查看每一层的输入数据和输出数据的形状（Shape）、模型的参数量（Params）等信息，方便可视化地了解模型结构、分析数据计算和传递过程。\n",
    "\n"
   ]
  },
  {
   "cell_type": "markdown",
   "id": "4c5fda8b-b153-49ee-b168-30f5293730ae",
   "metadata": {},
   "source": [
    "## 二、Paddle.nn 介绍\n",
    "\n",
    "经典模型可以满足一些简单深度学习任务的需求，然后更多情况下，需要使用深度学习框架构建一个自己的神经网络，这时可以使用飞桨框架 [paddle.nn](https://www.paddlepaddle.org.cn/documentation/docs/zh/api/paddle/nn/Overview_cn.html) 下的 API 构建网络，该目录下定义了丰富的神经网络层和相关函数 API，如卷积网络相关的 Conv1D、Conv2D、Conv3D，循环神经网络相关的 RNN、LSTM、GRU 等，方便组网调用，详细清单可在 [API 文档](https://www.paddlepaddle.org.cn/documentation/docs/zh/api/paddle/nn/Overview_cn.html) 中查看。\n",
    "\n",
    "飞桨提供继承类（class）的方式构建网络，并提供了几个基类，如：[paddle.nn.Sequential](https://www.paddlepaddle.org.cn/documentation/docs/zh/api/paddle/nn/Sequential_cn.html#sequential)、 \n",
    "[paddle.nn.Layer](https://www.paddlepaddle.org.cn/documentation/docs/zh/api/paddle/nn/Layer_cn.html#layer)、[paddle.nn.LayerList](https://www.paddlepaddle.org.cn/documentation/docs/zh/api/paddle/nn/LayerList_cn.html#cn-api-fluid-dygraph-layerlist)，构建一个继承基类的子类，并在子类中添加子层（sublayers，如卷积层、全连接层等）可实现网络的构建，不同基类对应不同的组网方式：\n",
    " \n",
    "* **使用 [paddle.nn.Sequential](https://www.paddlepaddle.org.cn/documentation/docs/zh/api/paddle/nn/Sequential_cn.html#sequential) 组网**：构建顺序的线性网络结构（如 LeNet、xxx）时，可以选择该方式。相比于 Layer 方式 ，Sequential 方式可以用更少的代码完成线性网络的构建。\n",
    "* **使用 [paddle.nn.Layer](https://www.paddlepaddle.org.cn/documentation/docs/zh/api/paddle/nn/Layer_cn.html#layer) 组网（推荐）**：构建一些比较复杂的网络结构时，可以选择该方式。相比于 Sequential 方式，Layer 方式可以更灵活地组建各种网络结构。\n",
    "* **使用 [paddle.nn.LayerList](https://www.paddlepaddle.org.cn/documentation/docs/zh/api/paddle/nn/LayerList_cn.html#cn-api-fluid-dygraph-layerlist) 组网**：xxxxxx\n",
    "\n"
   ]
  },
  {
   "cell_type": "markdown",
   "id": "7ab2efd1-2623-4678-809e-9264f14d9c7c",
   "metadata": {},
   "source": [
    "\n",
    "## 三、使用 paddle.nn.Sequential 组网\n",
    "\n",
    "\n",
    "构建顺序的线性网络结构时，可以选择该方式，只需要按模型的结构顺序，一层一层加到 [paddle.nn.Sequential](https://www.paddlepaddle.org.cn/documentation/docs/zh/api/paddle/nn/Sequential_cn.html#sequential) 子类中即可。\n",
    "\n",
    "参照前面图 1 所示的 LeNet 模型结构，构建该网络结构的代码如下："
   ]
  },
  {
   "cell_type": "code",
   "execution_count": 4,
   "id": "9a86cc3e",
   "metadata": {
    "execution": {
     "iopub.execute_input": "2022-01-05T08:40:20.974280Z",
     "iopub.status.busy": "2022-01-05T08:40:20.973687Z",
     "iopub.status.idle": "2022-01-05T08:40:21.032406Z",
     "shell.execute_reply": "2022-01-05T08:40:21.030756Z",
     "shell.execute_reply.started": "2022-01-05T08:40:20.974221Z"
    },
    "scrolled": true
   },
   "outputs": [
    {
     "ename": "ValueError",
     "evalue": "(InvalidArgument) Input(Y) has error dim.Y'dims[0] must be equal to 5But received Y'dims[0] is 400\n  [Hint: Expected y_dims[y_ndim - 2] == K, but received y_dims[y_ndim - 2]:400 != K:5.] (at /paddle/paddle/fluid/operators/matmul_v2_op.h:268)\n  [operator < matmul_v2 > error]",
     "output_type": "error",
     "traceback": [
      "\u001b[0;31m---------------------------------------------------------------------------\u001b[0m",
      "\u001b[0;31mValueError\u001b[0m                                Traceback (most recent call last)",
      "\u001b[0;32m/tmp/ipykernel_215/4050339869.py\u001b[0m in \u001b[0;36m<module>\u001b[0;34m\u001b[0m\n\u001b[1;32m     14\u001b[0m )\n\u001b[1;32m     15\u001b[0m \u001b[0;31m# 可视化模型组网结构和参数\u001b[0m\u001b[0;34m\u001b[0m\u001b[0;34m\u001b[0m\u001b[0;34m\u001b[0m\u001b[0m\n\u001b[0;32m---> 16\u001b[0;31m \u001b[0mpaddle\u001b[0m\u001b[0;34m.\u001b[0m\u001b[0msummary\u001b[0m\u001b[0;34m(\u001b[0m\u001b[0mlenet_Sequential\u001b[0m\u001b[0;34m,\u001b[0m\u001b[0;34m(\u001b[0m\u001b[0;36m1\u001b[0m\u001b[0;34m,\u001b[0m \u001b[0;36m1\u001b[0m\u001b[0;34m,\u001b[0m \u001b[0;36m28\u001b[0m\u001b[0;34m,\u001b[0m \u001b[0;36m28\u001b[0m\u001b[0;34m)\u001b[0m\u001b[0;34m)\u001b[0m\u001b[0;34m\u001b[0m\u001b[0;34m\u001b[0m\u001b[0m\n\u001b[0m",
      "\u001b[0;32m/opt/conda/envs/python35-paddle120-env/lib/python3.7/site-packages/paddle/hapi/model_summary.py\u001b[0m in \u001b[0;36msummary\u001b[0;34m(net, input_size, dtypes, input)\u001b[0m\n\u001b[1;32m    221\u001b[0m     \u001b[0m_input_size\u001b[0m \u001b[0;34m=\u001b[0m \u001b[0m_check_input\u001b[0m\u001b[0;34m(\u001b[0m\u001b[0m_input_size\u001b[0m\u001b[0;34m)\u001b[0m\u001b[0;34m\u001b[0m\u001b[0;34m\u001b[0m\u001b[0m\n\u001b[1;32m    222\u001b[0m \u001b[0;34m\u001b[0m\u001b[0m\n\u001b[0;32m--> 223\u001b[0;31m     \u001b[0mresult\u001b[0m\u001b[0;34m,\u001b[0m \u001b[0mparams_info\u001b[0m \u001b[0;34m=\u001b[0m \u001b[0msummary_string\u001b[0m\u001b[0;34m(\u001b[0m\u001b[0mnet\u001b[0m\u001b[0;34m,\u001b[0m \u001b[0m_input_size\u001b[0m\u001b[0;34m,\u001b[0m \u001b[0mdtypes\u001b[0m\u001b[0;34m,\u001b[0m \u001b[0minput\u001b[0m\u001b[0;34m)\u001b[0m\u001b[0;34m\u001b[0m\u001b[0;34m\u001b[0m\u001b[0m\n\u001b[0m\u001b[1;32m    224\u001b[0m     \u001b[0mprint\u001b[0m\u001b[0;34m(\u001b[0m\u001b[0mresult\u001b[0m\u001b[0;34m)\u001b[0m\u001b[0;34m\u001b[0m\u001b[0;34m\u001b[0m\u001b[0m\n\u001b[1;32m    225\u001b[0m \u001b[0;34m\u001b[0m\u001b[0m\n",
      "\u001b[0;32m<decorator-gen-394>\u001b[0m in \u001b[0;36msummary_string\u001b[0;34m(model, input_size, dtypes, input)\u001b[0m\n",
      "\u001b[0;32m/opt/conda/envs/python35-paddle120-env/lib/python3.7/site-packages/paddle/fluid/dygraph/base.py\u001b[0m in \u001b[0;36m_decorate_function\u001b[0;34m(func, *args, **kwargs)\u001b[0m\n\u001b[1;32m    329\u001b[0m         \u001b[0;32mdef\u001b[0m \u001b[0m_decorate_function\u001b[0m\u001b[0;34m(\u001b[0m\u001b[0mfunc\u001b[0m\u001b[0;34m,\u001b[0m \u001b[0;34m*\u001b[0m\u001b[0margs\u001b[0m\u001b[0;34m,\u001b[0m \u001b[0;34m**\u001b[0m\u001b[0mkwargs\u001b[0m\u001b[0;34m)\u001b[0m\u001b[0;34m:\u001b[0m\u001b[0;34m\u001b[0m\u001b[0;34m\u001b[0m\u001b[0m\n\u001b[1;32m    330\u001b[0m             \u001b[0;32mwith\u001b[0m \u001b[0mself\u001b[0m\u001b[0;34m:\u001b[0m\u001b[0;34m\u001b[0m\u001b[0;34m\u001b[0m\u001b[0m\n\u001b[0;32m--> 331\u001b[0;31m                 \u001b[0;32mreturn\u001b[0m \u001b[0mfunc\u001b[0m\u001b[0;34m(\u001b[0m\u001b[0;34m*\u001b[0m\u001b[0margs\u001b[0m\u001b[0;34m,\u001b[0m \u001b[0;34m**\u001b[0m\u001b[0mkwargs\u001b[0m\u001b[0;34m)\u001b[0m\u001b[0;34m\u001b[0m\u001b[0;34m\u001b[0m\u001b[0m\n\u001b[0m\u001b[1;32m    332\u001b[0m \u001b[0;34m\u001b[0m\u001b[0m\n\u001b[1;32m    333\u001b[0m         \u001b[0;34m@\u001b[0m\u001b[0mdecorator\u001b[0m\u001b[0;34m.\u001b[0m\u001b[0mdecorator\u001b[0m\u001b[0;34m\u001b[0m\u001b[0;34m\u001b[0m\u001b[0m\n",
      "\u001b[0;32m/opt/conda/envs/python35-paddle120-env/lib/python3.7/site-packages/paddle/hapi/model_summary.py\u001b[0m in \u001b[0;36msummary_string\u001b[0;34m(model, input_size, dtypes, input)\u001b[0m\n\u001b[1;32m    351\u001b[0m         \u001b[0mx\u001b[0m \u001b[0;34m=\u001b[0m \u001b[0mbuild_input\u001b[0m\u001b[0;34m(\u001b[0m\u001b[0minput_size\u001b[0m\u001b[0;34m,\u001b[0m \u001b[0mdtypes\u001b[0m\u001b[0;34m)\u001b[0m\u001b[0;34m\u001b[0m\u001b[0;34m\u001b[0m\u001b[0m\n\u001b[1;32m    352\u001b[0m         \u001b[0;31m# make a forward pass\u001b[0m\u001b[0;34m\u001b[0m\u001b[0;34m\u001b[0m\u001b[0;34m\u001b[0m\u001b[0m\n\u001b[0;32m--> 353\u001b[0;31m         \u001b[0mmodel\u001b[0m\u001b[0;34m(\u001b[0m\u001b[0;34m*\u001b[0m\u001b[0mx\u001b[0m\u001b[0;34m)\u001b[0m\u001b[0;34m\u001b[0m\u001b[0;34m\u001b[0m\u001b[0m\n\u001b[0m\u001b[1;32m    354\u001b[0m \u001b[0;34m\u001b[0m\u001b[0m\n\u001b[1;32m    355\u001b[0m     \u001b[0;31m# remove these hooks\u001b[0m\u001b[0;34m\u001b[0m\u001b[0;34m\u001b[0m\u001b[0;34m\u001b[0m\u001b[0m\n",
      "\u001b[0;32m/opt/conda/envs/python35-paddle120-env/lib/python3.7/site-packages/paddle/fluid/dygraph/layers.py\u001b[0m in \u001b[0;36m__call__\u001b[0;34m(self, *inputs, **kwargs)\u001b[0m\n\u001b[1;32m    912\u001b[0m                 \u001b[0mself\u001b[0m\u001b[0;34m.\u001b[0m\u001b[0m_built\u001b[0m \u001b[0;34m=\u001b[0m \u001b[0;32mTrue\u001b[0m\u001b[0;34m\u001b[0m\u001b[0;34m\u001b[0m\u001b[0m\n\u001b[1;32m    913\u001b[0m \u001b[0;34m\u001b[0m\u001b[0m\n\u001b[0;32m--> 914\u001b[0;31m             \u001b[0moutputs\u001b[0m \u001b[0;34m=\u001b[0m \u001b[0mself\u001b[0m\u001b[0;34m.\u001b[0m\u001b[0mforward\u001b[0m\u001b[0;34m(\u001b[0m\u001b[0;34m*\u001b[0m\u001b[0minputs\u001b[0m\u001b[0;34m,\u001b[0m \u001b[0;34m**\u001b[0m\u001b[0mkwargs\u001b[0m\u001b[0;34m)\u001b[0m\u001b[0;34m\u001b[0m\u001b[0;34m\u001b[0m\u001b[0m\n\u001b[0m\u001b[1;32m    915\u001b[0m \u001b[0;34m\u001b[0m\u001b[0m\n\u001b[1;32m    916\u001b[0m             \u001b[0;32mfor\u001b[0m \u001b[0mforward_post_hook\u001b[0m \u001b[0;32min\u001b[0m \u001b[0mself\u001b[0m\u001b[0;34m.\u001b[0m\u001b[0m_forward_post_hooks\u001b[0m\u001b[0;34m.\u001b[0m\u001b[0mvalues\u001b[0m\u001b[0;34m(\u001b[0m\u001b[0;34m)\u001b[0m\u001b[0;34m:\u001b[0m\u001b[0;34m\u001b[0m\u001b[0;34m\u001b[0m\u001b[0m\n",
      "\u001b[0;32m/opt/conda/envs/python35-paddle120-env/lib/python3.7/site-packages/paddle/fluid/dygraph/container.py\u001b[0m in \u001b[0;36mforward\u001b[0;34m(self, input)\u001b[0m\n\u001b[1;32m     96\u001b[0m     \u001b[0;32mdef\u001b[0m \u001b[0mforward\u001b[0m\u001b[0;34m(\u001b[0m\u001b[0mself\u001b[0m\u001b[0;34m,\u001b[0m \u001b[0minput\u001b[0m\u001b[0;34m)\u001b[0m\u001b[0;34m:\u001b[0m\u001b[0;34m\u001b[0m\u001b[0;34m\u001b[0m\u001b[0m\n\u001b[1;32m     97\u001b[0m         \u001b[0;32mfor\u001b[0m \u001b[0mlayer\u001b[0m \u001b[0;32min\u001b[0m \u001b[0mself\u001b[0m\u001b[0;34m.\u001b[0m\u001b[0m_sub_layers\u001b[0m\u001b[0;34m.\u001b[0m\u001b[0mvalues\u001b[0m\u001b[0;34m(\u001b[0m\u001b[0;34m)\u001b[0m\u001b[0;34m:\u001b[0m\u001b[0;34m\u001b[0m\u001b[0;34m\u001b[0m\u001b[0m\n\u001b[0;32m---> 98\u001b[0;31m             \u001b[0minput\u001b[0m \u001b[0;34m=\u001b[0m \u001b[0mlayer\u001b[0m\u001b[0;34m(\u001b[0m\u001b[0minput\u001b[0m\u001b[0;34m)\u001b[0m\u001b[0;34m\u001b[0m\u001b[0;34m\u001b[0m\u001b[0m\n\u001b[0m\u001b[1;32m     99\u001b[0m         \u001b[0;32mreturn\u001b[0m \u001b[0minput\u001b[0m\u001b[0;34m\u001b[0m\u001b[0;34m\u001b[0m\u001b[0m\n\u001b[1;32m    100\u001b[0m \u001b[0;34m\u001b[0m\u001b[0m\n",
      "\u001b[0;32m/opt/conda/envs/python35-paddle120-env/lib/python3.7/site-packages/paddle/fluid/dygraph/layers.py\u001b[0m in \u001b[0;36m__call__\u001b[0;34m(self, *inputs, **kwargs)\u001b[0m\n\u001b[1;32m    912\u001b[0m                 \u001b[0mself\u001b[0m\u001b[0;34m.\u001b[0m\u001b[0m_built\u001b[0m \u001b[0;34m=\u001b[0m \u001b[0;32mTrue\u001b[0m\u001b[0;34m\u001b[0m\u001b[0;34m\u001b[0m\u001b[0m\n\u001b[1;32m    913\u001b[0m \u001b[0;34m\u001b[0m\u001b[0m\n\u001b[0;32m--> 914\u001b[0;31m             \u001b[0moutputs\u001b[0m \u001b[0;34m=\u001b[0m \u001b[0mself\u001b[0m\u001b[0;34m.\u001b[0m\u001b[0mforward\u001b[0m\u001b[0;34m(\u001b[0m\u001b[0;34m*\u001b[0m\u001b[0minputs\u001b[0m\u001b[0;34m,\u001b[0m \u001b[0;34m**\u001b[0m\u001b[0mkwargs\u001b[0m\u001b[0;34m)\u001b[0m\u001b[0;34m\u001b[0m\u001b[0;34m\u001b[0m\u001b[0m\n\u001b[0m\u001b[1;32m    915\u001b[0m \u001b[0;34m\u001b[0m\u001b[0m\n\u001b[1;32m    916\u001b[0m             \u001b[0;32mfor\u001b[0m \u001b[0mforward_post_hook\u001b[0m \u001b[0;32min\u001b[0m \u001b[0mself\u001b[0m\u001b[0;34m.\u001b[0m\u001b[0m_forward_post_hooks\u001b[0m\u001b[0;34m.\u001b[0m\u001b[0mvalues\u001b[0m\u001b[0;34m(\u001b[0m\u001b[0;34m)\u001b[0m\u001b[0;34m:\u001b[0m\u001b[0;34m\u001b[0m\u001b[0;34m\u001b[0m\u001b[0m\n",
      "\u001b[0;32m/opt/conda/envs/python35-paddle120-env/lib/python3.7/site-packages/paddle/nn/layer/common.py\u001b[0m in \u001b[0;36mforward\u001b[0;34m(self, input)\u001b[0m\n\u001b[1;32m    170\u001b[0m     \u001b[0;32mdef\u001b[0m \u001b[0mforward\u001b[0m\u001b[0;34m(\u001b[0m\u001b[0mself\u001b[0m\u001b[0;34m,\u001b[0m \u001b[0minput\u001b[0m\u001b[0;34m)\u001b[0m\u001b[0;34m:\u001b[0m\u001b[0;34m\u001b[0m\u001b[0;34m\u001b[0m\u001b[0m\n\u001b[1;32m    171\u001b[0m         out = F.linear(\n\u001b[0;32m--> 172\u001b[0;31m             x=input, weight=self.weight, bias=self.bias, name=self.name)\n\u001b[0m\u001b[1;32m    173\u001b[0m         \u001b[0;32mreturn\u001b[0m \u001b[0mout\u001b[0m\u001b[0;34m\u001b[0m\u001b[0;34m\u001b[0m\u001b[0m\n\u001b[1;32m    174\u001b[0m \u001b[0;34m\u001b[0m\u001b[0m\n",
      "\u001b[0;32m/opt/conda/envs/python35-paddle120-env/lib/python3.7/site-packages/paddle/nn/functional/common.py\u001b[0m in \u001b[0;36mlinear\u001b[0;34m(x, weight, bias, name)\u001b[0m\n\u001b[1;32m   1478\u001b[0m     \u001b[0;32mif\u001b[0m \u001b[0min_dygraph_mode\u001b[0m\u001b[0;34m(\u001b[0m\u001b[0;34m)\u001b[0m\u001b[0;34m:\u001b[0m\u001b[0;34m\u001b[0m\u001b[0;34m\u001b[0m\u001b[0m\n\u001b[1;32m   1479\u001b[0m         pre_bias = _C_ops.matmul_v2(x, weight, 'trans_x', False, 'trans_y',\n\u001b[0;32m-> 1480\u001b[0;31m                                     False)\n\u001b[0m\u001b[1;32m   1481\u001b[0m \u001b[0;34m\u001b[0m\u001b[0m\n\u001b[1;32m   1482\u001b[0m         \u001b[0;32mif\u001b[0m \u001b[0mbias\u001b[0m \u001b[0;32mis\u001b[0m \u001b[0;32mNone\u001b[0m\u001b[0;34m:\u001b[0m\u001b[0;34m\u001b[0m\u001b[0;34m\u001b[0m\u001b[0m\n",
      "\u001b[0;31mValueError\u001b[0m: (InvalidArgument) Input(Y) has error dim.Y'dims[0] must be equal to 5But received Y'dims[0] is 400\n  [Hint: Expected y_dims[y_ndim - 2] == K, but received y_dims[y_ndim - 2]:400 != K:5.] (at /paddle/paddle/fluid/operators/matmul_v2_op.h:268)\n  [operator < matmul_v2 > error]"
     ]
    }
   ],
   "source": [
    "from paddle import nn\n",
    "\n",
    "# 使用 paddle.nn.Sequential 构建 LeNet 模型\n",
    "lenet_Sequential = nn.Sequential(\n",
    "    nn.Conv2D(1, 6, 3, stride=1, padding=1),\n",
    "    nn.ReLU(),\n",
    "    nn.MaxPool2D(2, 2),\n",
    "    nn.Conv2D(6, 16, 5, stride=1, padding=0),\n",
    "    nn.ReLU(),\n",
    "    nn.MaxPool2D(2, 2),\n",
    "    nn.Linear(400, 120),\n",
    "    nn.Linear(120, 84), \n",
    "    nn.Linear(84, 10)\n",
    ")\n",
    "# 可视化模型组网结构和参数\n",
    "paddle.summary(lenet_Sequential,(1, 1, 28, 28))"
   ]
  },
  {
   "cell_type": "markdown",
   "id": "19fd4c4c-9ff4-434e-b06c-32daf8e1ae43",
   "metadata": {},
   "source": [
    "以上代码实现的组网与 paddle.vision.models.LeNet 完全一样。\n",
    "\n",
    "Sequential组网中框架做了什么：\n",
    "\n",
    "使用Sequential组网方式的条件和限制：\n",
    "\n"
   ]
  },
  {
   "cell_type": "markdown",
   "id": "b9524d1c",
   "metadata": {},
   "source": [
    "## 四、使用 paddle.nn.Layer 组网\n",
    "\n",
    "构建一些比较复杂的网络结构时，可以选择该方式，组网包括三个步骤：\n",
    "1. 创建一个继承自 [paddle.nn.Layer](https://www.paddlepaddle.org.cn/documentation/docs/zh/api/paddle/nn/Layer_cn.html#layer) 的类；\n",
    "1. 在类的构造函数 `__init__` 中定义组网用到的神经网络层（sublayer）；\n",
    "1. 在类的前向计算函数 `forward` 中使用定义好的 sublayer 进行前向计算。\n",
    "\n",
    "并且 sublayer 既可以通过基础的神经网络层 API（如卷积层、池化层、全连接层等）定义，也可以通过 nn.Sequential 或 nn.Layer 定义。由此可见，paddle.nn.Layer 的组网用法非常灵活，便于构建各种复杂网络。\n",
    "\n",
    "仍然以 LeNet 模型为例，使用 paddle.nn.Layer 组网的代码如下：\n"
   ]
  },
  {
   "cell_type": "code",
   "execution_count": 3,
   "id": "cf89df53",
   "metadata": {
    "execution": {
     "iopub.execute_input": "2022-01-03T12:04:22.365846Z",
     "iopub.status.busy": "2022-01-03T12:04:22.365241Z",
     "iopub.status.idle": "2022-01-03T12:04:22.386477Z",
     "shell.execute_reply": "2022-01-03T12:04:22.385631Z",
     "shell.execute_reply.started": "2022-01-03T12:04:22.365800Z"
    },
    "scrolled": true
   },
   "outputs": [
    {
     "name": "stdout",
     "output_type": "stream",
     "text": [
      "---------------------------------------------------------------------------\n",
      " Layer (type)       Input Shape          Output Shape         Param #    \n",
      "===========================================================================\n",
      "   Conv2D-5       [[1, 1, 28, 28]]      [1, 6, 28, 28]          60       \n",
      "    ReLU-5        [[1, 6, 28, 28]]      [1, 6, 28, 28]           0       \n",
      "  MaxPool2D-5     [[1, 6, 28, 28]]      [1, 6, 14, 14]           0       \n",
      "   Conv2D-6       [[1, 6, 14, 14]]     [1, 16, 10, 10]         2,416     \n",
      "    ReLU-6       [[1, 16, 10, 10]]     [1, 16, 10, 10]           0       \n",
      "  MaxPool2D-6    [[1, 16, 10, 10]]      [1, 16, 5, 5]            0       \n",
      "   Linear-7          [[1, 400]]            [1, 120]           48,120     \n",
      "   Linear-8          [[1, 120]]            [1, 84]            10,164     \n",
      "   Linear-9          [[1, 84]]             [1, 10]              850      \n",
      "===========================================================================\n",
      "Total params: 61,610\n",
      "Trainable params: 61,610\n",
      "Non-trainable params: 0\n",
      "---------------------------------------------------------------------------\n",
      "Input size (MB): 0.00\n",
      "Forward/backward pass size (MB): 0.11\n",
      "Params size (MB): 0.24\n",
      "Estimated Total Size (MB): 0.35\n",
      "---------------------------------------------------------------------------\n",
      "\n",
      "{'total_params': 61610, 'trainable_params': 61610}\n"
     ]
    }
   ],
   "source": [
    "# 使用 Subclass 方式构建 LeNet 模型\n",
    "class LeNet(nn.Layer):\n",
    "    def __init__(self, num_classes=10):\n",
    "        super(LeNet, self).__init__()\n",
    "        self.num_classes = num_classes\n",
    "        self.features = nn.Sequential(\n",
    "            nn.Conv2D(\n",
    "                1, 6, 3, stride=1, padding=1),\n",
    "            nn.ReLU(),\n",
    "            nn.MaxPool2D(2, 2),\n",
    "            nn.Conv2D(\n",
    "                6, 16, 5, stride=1, padding=0),\n",
    "            nn.ReLU(),\n",
    "            nn.MaxPool2D(2, 2))\n",
    "\n",
    "        if num_classes > 0:\n",
    "            self.fc = nn.Sequential(\n",
    "                nn.Linear(400, 120),\n",
    "                nn.Linear(120, 84), nn.Linear(84, num_classes))\n",
    "\n",
    "    def forward(self, inputs):\n",
    "        x = self.features(inputs)\n",
    "\n",
    "        if self.num_classes > 0:\n",
    "            x = paddle.flatten(x, 1)\n",
    "            x = self.fc(x)\n",
    "        return x\n",
    "lenet_SubClass = LeNet()\n",
    "\n",
    "# 可视化模型组网结构和参数\n",
    "params_info = paddle.summary(lenet_SubClass,(1, 1, 28, 28))\n",
    "print(params_info)"
   ]
  },
  {
   "cell_type": "markdown",
   "id": "541d133d",
   "metadata": {},
   "source": [
    "## 五、使用 paddle.nn.LayerList 组网\n",
    "\n",
    "待补充"
   ]
  },
  {
   "cell_type": "markdown",
   "id": "c55565c4-cc47-4654-98cf-bccc8bff1331",
   "metadata": {},
   "source": [
    "# 六、总结\n",
    "\n",
    "待补充"
   ]
  },
  {
   "cell_type": "markdown",
   "id": "490f2617-b7c2-4b3c-9ee6-1dae6c04bd59",
   "metadata": {},
   "source": [
    "# 扩展阅读：模型的层（Layer）\n",
    "\n",
    "选几个经典的层解读一下\n",
    "\n",
    "\n",
    "\n",
    "\n",
    "\n",
    "\n"
   ]
  },
  {
   "cell_type": "markdown",
   "id": "f5b24ab6-802e-4b72-a6cf-6d06b459fd93",
   "metadata": {},
   "source": [
    "# 扩展阅读：模型的参数（Parameter）\n",
    "\n",
    "补充parameters的介绍\n"
   ]
  }
 ],
 "metadata": {
  "kernelspec": {
   "display_name": "Python 3",
   "language": "python",
   "name": "py35-paddle1.2.0"
  },
  "language_info": {
   "codemirror_mode": {
    "name": "ipython",
    "version": 3
   },
   "file_extension": ".py",
   "mimetype": "text/x-python",
   "name": "python",
   "nbconvert_exporter": "python",
   "pygments_lexer": "ipython3",
   "version": "3.7.4"
  }
 },
 "nbformat": 4,
 "nbformat_minor": 5
}
