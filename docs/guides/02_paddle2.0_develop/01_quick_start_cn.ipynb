{
 "cells": [
  {
   "cell_type": "markdown",
   "id": "f848b574",
   "metadata": {},
   "source": [
    "\n",
    "# 10分钟快速上手飞桨\n",
    "\n",
    "从完成一个简单的『手写数字识别任务』开始，可快速了解深度学习模型开发的大致流程，并初步掌握飞桨框架 API 的使用方法。\n",
    "\n",
    "## 一、快速安装飞桨\n",
    "\n",
    "如果已经安装好飞桨那么可以跳过此步骤。飞桨支持很多种安装方式，这里介绍其中一种简单的安装命令：\n"
   ]
  },
  {
   "cell_type": "code",
   "execution_count": 1,
   "id": "e7d9b5cf-fffe-4086-b84d-3f58eee2f602",
   "metadata": {
    "execution": {
     "iopub.execute_input": "2021-12-20T07:51:58.100025Z",
     "iopub.status.busy": "2021-12-20T07:51:58.099277Z",
     "iopub.status.idle": "2021-12-20T07:51:59.862320Z",
     "shell.execute_reply": "2021-12-20T07:51:59.861499Z",
     "shell.execute_reply.started": "2021-12-20T07:51:58.099995Z"
    }
   },
   "outputs": [
    {
     "name": "stdout",
     "output_type": "stream",
     "text": [
      "Looking in indexes: https://mirror.baidu.com/pypi/simple\n",
      "Requirement already satisfied: paddlepaddle in /opt/conda/envs/python35-paddle120-env/lib/python3.7/site-packages (2.2.1)\n",
      "Requirement already satisfied: requests>=2.20.0 in /opt/conda/envs/python35-paddle120-env/lib/python3.7/site-packages (from paddlepaddle) (2.22.0)\n",
      "Requirement already satisfied: astor in /opt/conda/envs/python35-paddle120-env/lib/python3.7/site-packages (from paddlepaddle) (0.8.1)\n",
      "Requirement already satisfied: Pillow in /opt/conda/envs/python35-paddle120-env/lib/python3.7/site-packages (from paddlepaddle) (7.1.2)\n",
      "Requirement already satisfied: numpy>=1.13; python_version >= \"3.5\" and platform_system != \"Windows\" in /opt/conda/envs/python35-paddle120-env/lib/python3.7/site-packages (from paddlepaddle) (1.16.4)\n",
      "Requirement already satisfied: protobuf>=3.1.0 in /opt/conda/envs/python35-paddle120-env/lib/python3.7/site-packages (from paddlepaddle) (3.14.0)\n",
      "Requirement already satisfied: six in /opt/conda/envs/python35-paddle120-env/lib/python3.7/site-packages (from paddlepaddle) (1.15.0)\n",
      "Requirement already satisfied: decorator in /opt/conda/envs/python35-paddle120-env/lib/python3.7/site-packages (from paddlepaddle) (4.4.2)\n",
      "Requirement already satisfied: urllib3!=1.25.0,!=1.25.1,<1.26,>=1.21.1 in /opt/conda/envs/python35-paddle120-env/lib/python3.7/site-packages (from requests>=2.20.0->paddlepaddle) (1.25.6)\n",
      "Requirement already satisfied: idna<2.9,>=2.5 in /opt/conda/envs/python35-paddle120-env/lib/python3.7/site-packages (from requests>=2.20.0->paddlepaddle) (2.8)\n",
      "Requirement already satisfied: certifi>=2017.4.17 in /opt/conda/envs/python35-paddle120-env/lib/python3.7/site-packages (from requests>=2.20.0->paddlepaddle) (2019.9.11)\n",
      "Requirement already satisfied: chardet<3.1.0,>=3.0.2 in /opt/conda/envs/python35-paddle120-env/lib/python3.7/site-packages (from requests>=2.20.0->paddlepaddle) (3.0.4)\n"
     ]
    }
   ],
   "source": [
    "# 使用 pip 工具安装飞桨 CPU 版\n",
    "! python3 -m pip install paddlepaddle -i https://mirror.baidu.com/pypi/simple"
   ]
  },
  {
   "cell_type": "markdown",
   "id": "54e32a09-1e8f-4bc6-a3bd-1eebd621fa66",
   "metadata": {},
   "source": [
    "该命令用于安装 CPU 版本的飞桨，如果要安装其他计算平台或操作系统支持的版本，可点击 [ 快速安装]( <https://www.paddlepaddle.org.cn/install/quick>)  查看安装引导。\n",
    "\n",
    "### 二、导入飞桨\n",
    "\n",
    "安装完成后，需要在Python解释器中使用 import 导入飞桨，即可开始实践深度学习任务。\n",
    "\n",
    "若操作成功，会输出飞桨的版本号。"
   ]
  },
  {
   "cell_type": "code",
   "execution_count": 6,
   "id": "468426ec",
   "metadata": {
    "execution": {
     "iopub.execute_input": "2021-12-16T04:18:43.298378Z",
     "iopub.status.busy": "2021-12-16T04:18:43.297973Z",
     "iopub.status.idle": "2021-12-16T04:18:43.302570Z",
     "shell.execute_reply": "2021-12-16T04:18:43.301792Z",
     "shell.execute_reply.started": "2021-12-16T04:18:43.298346Z"
    }
   },
   "outputs": [
    {
     "name": "stdout",
     "output_type": "stream",
     "text": [
      "2.2.1\n"
     ]
    }
   ],
   "source": [
    "import paddle    \n",
    "print(paddle.__version__)"
   ]
  },
  {
   "cell_type": "markdown",
   "id": "a3e0d5e5",
   "metadata": {},
   "source": [
    "\n",
    "\n",
    "## 三、实践：手写数字识别任务\n",
    "\n",
    "『手写数字识别』是深度学习里的 Hello World 任务，用于对 0 ~ 9 的十类数字进行分类，即输入手写数字的图片，可识别出这个图片中的数字。\n",
    "\n",
    "本任务用到的数据集为 [MNIST 手写数字数据集](http://yann.lecun.com/exdb/mnist/)，用于训练和测试模型。该数据集包含 60000 张训练图片、 10000 张测试图片、以及对应的分类标签文件，每张图片上是一个 0 ~ 9 的手写数字，分辨率为 28 * 28。部分图像和对应的分类标签如下图所示。\n",
    "\n",
    "<center><img src=\"images/mnist.png\" width=\"600\"></center>\n",
    "<center><br>图1：MNIST数据集样例</br></center>\n",
    "\n",
    "开始之前，需要使用下面的命令安装 Python 的 matplotlib 库和 numpy 库，matplotlib 库用于可视化图片，numpy 库用于处理数据。"
   ]
  },
  {
   "cell_type": "code",
   "execution_count": 2,
   "id": "0b50ba8c-93dd-42d9-8b52-35025ecb122b",
   "metadata": {
    "execution": {
     "iopub.execute_input": "2021-12-16T06:31:04.356444Z",
     "iopub.status.busy": "2021-12-16T06:31:04.355435Z",
     "iopub.status.idle": "2021-12-16T06:31:06.274730Z",
     "shell.execute_reply": "2021-12-16T06:31:06.273827Z",
     "shell.execute_reply.started": "2021-12-16T06:31:04.356403Z"
    }
   },
   "outputs": [
    {
     "name": "stdout",
     "output_type": "stream",
     "text": [
      "Looking in indexes: https://mirror.baidu.com/pypi/simple\n",
      "Requirement already satisfied: matplotlib in /opt/conda/envs/python35-paddle120-env/lib/python3.7/site-packages (2.2.3)\n",
      "Requirement already satisfied: numpy in /opt/conda/envs/python35-paddle120-env/lib/python3.7/site-packages (1.16.4)\n",
      "Requirement already satisfied: python-dateutil>=2.1 in /opt/conda/envs/python35-paddle120-env/lib/python3.7/site-packages (from matplotlib) (2.8.0)\n",
      "Requirement already satisfied: pyparsing!=2.0.4,!=2.1.2,!=2.1.6,>=2.0.1 in /opt/conda/envs/python35-paddle120-env/lib/python3.7/site-packages (from matplotlib) (2.4.2)\n",
      "Requirement already satisfied: six>=1.10 in /opt/conda/envs/python35-paddle120-env/lib/python3.7/site-packages (from matplotlib) (1.15.0)\n",
      "Requirement already satisfied: kiwisolver>=1.0.1 in /opt/conda/envs/python35-paddle120-env/lib/python3.7/site-packages (from matplotlib) (1.1.0)\n",
      "Requirement already satisfied: pytz in /opt/conda/envs/python35-paddle120-env/lib/python3.7/site-packages (from matplotlib) (2019.3)\n",
      "Requirement already satisfied: cycler>=0.10 in /opt/conda/envs/python35-paddle120-env/lib/python3.7/site-packages (from matplotlib) (0.10.0)\n",
      "Requirement already satisfied: setuptools in /opt/conda/envs/python35-paddle120-env/lib/python3.7/site-packages (from kiwisolver>=1.0.1->matplotlib) (41.4.0)\n"
     ]
    }
   ],
   "source": [
    "# 使用 pip 工具安装 matplotlib 和 numpy\n",
    "! python3 -m pip install matplotlib numpy -i https://mirror.baidu.com/pypi/simple"
   ]
  },
  {
   "cell_type": "markdown",
   "id": "7ba0ec0a-bc6c-43cc-8478-488cc231bca8",
   "metadata": {},
   "source": [
    "下面是手写数字识别任务的完整代码，如果想直接运行代码，可以拷贝下面的完整代码到一个Python文件中运行。"
   ]
  },
  {
   "cell_type": "code",
   "execution_count": 3,
   "id": "93d0c8a1",
   "metadata": {
    "execution": {
     "iopub.execute_input": "2021-12-16T06:31:11.340019Z",
     "iopub.status.busy": "2021-12-16T06:31:11.338995Z",
     "iopub.status.idle": "2021-12-16T06:33:13.307650Z",
     "shell.execute_reply": "2021-12-16T06:33:13.306938Z",
     "shell.execute_reply.started": "2021-12-16T06:31:11.339980Z"
    }
   },
   "outputs": [
    {
     "name": "stdout",
     "output_type": "stream",
     "text": [
      "The loss value printed in the log is the current step, and the metric is the average value of previous steps.\n",
      "Epoch 1/5\n",
      "step 938/938 [==============================] - loss: 0.0414 - acc: 0.9518 - 20ms/step          \n",
      "Epoch 2/5\n",
      "step 938/938 [==============================] - loss: 0.0219 - acc: 0.9801 - 20ms/step          \n",
      "Epoch 3/5\n",
      "step 938/938 [==============================] - loss: 0.0156 - acc: 0.9834 - 19ms/step          \n",
      "Epoch 4/5\n",
      "step 938/938 [==============================] - loss: 0.0021 - acc: 0.9866 - 20ms/step          \n",
      "Epoch 5/5\n",
      "step 938/938 [==============================] - loss: 0.0165 - acc: 0.9884 - 19ms/step          \n",
      "Eval begin...\n",
      "step 10000/10000 [==============================] - loss: 1.0729e-06 - acc: 0.9850 - 2ms/step          \n",
      "Eval samples: 10000\n",
      "true label: 7, pred label: 7\n"
     ]
    },
    {
     "data": {
      "text/plain": [
       "<matplotlib.image.AxesImage at 0x7f3119ea8850>"
      ]
     },
     "execution_count": 3,
     "metadata": {},
     "output_type": "execute_result"
    },
    {
     "data": {
      "image/png": "[encoded data removed]",
      "text/plain": [
       "<Figure size 432x288 with 1 Axes>"
      ]
     },
     "metadata": {
      "needs_background": "light"
     },
     "output_type": "display_data"
    }
   ],
   "source": [
    "import paddle\n",
    "import numpy as np\n",
    "from paddle.vision.transforms import ToTensor\n",
    "\n",
    "# 下载数据集并初始化 DataSet\n",
    "train_dataset = paddle.vision.datasets.MNIST(mode='train', transform=ToTensor())\n",
    "test_dataset = paddle.vision.datasets.MNIST(mode='test', transform=ToTensor())\n",
    "\n",
    "# 模型组网并初始化网络\n",
    "lenet = paddle.vision.models.LeNet(num_classes=10)\n",
    "model = paddle.Model(lenet)\n",
    "\n",
    "# 模型训练的配置准备，准备损失函数，优化器和评价指标\n",
    "model.prepare(paddle.optimizer.Adam(parameters=model.parameters()), \n",
    "              paddle.nn.CrossEntropyLoss(),\n",
    "              paddle.metric.Accuracy())\n",
    "\n",
    "# 模型训练\n",
    "model.fit(train_dataset, epochs=5, batch_size=64, verbose=1)\n",
    "# 模型评估\n",
    "model.evaluate(test_dataset, verbose=1)\n",
    "\n",
    "# 保存模型\n",
    "model.save('./output/mnist')\n",
    "# 加载模型\n",
    "model.load('output/mnist')\n",
    "\n",
    "# 从测试集中取出一张图片并将图片shape变为1*1*28*28\n",
    "img, label = test_dataset[0]\n",
    "img_batch = np.expand_dims(img.astype('float32'), axis=0)\n",
    "\n",
    "# 执行推理并打印结果\n",
    "out = model.predict_batch(img_batch)[0]\n",
    "pred_label = out.argmax()\n",
    "print('true label: {}, pred label: {}'.format(label[0], pred_label))\n",
    "# 可视化图片\n",
    "from matplotlib import pyplot as plt\n",
    "plt.imshow(img[0])"
   ]
  },
  {
   "cell_type": "markdown",
   "id": "f1be5eec",
   "metadata": {},
   "source": [
    "以上代码使用 MNIST 数据集训练并测试了 LeNet 模型，并最终成功推理出了一张手写数字图片的标签，该图片推理结果是 7 （ pred label: 7），真实标签也是7 （true label: 7）。\n",
    "\n",
    "简单地说，深度学习任务一般分为以下几个核心步骤：\n",
    "\n",
    "\n",
    "1. 数据集定义与加载\n",
    "2. 模型组网\n",
    "3. 模型训练和评估\n",
    "4. 模型推理\n",
    "\n",
    "接下来逐个步骤介绍，帮助你快速掌握使用飞桨框架实践深度学习任务的方法。\n"
   ]
  },
  {
   "cell_type": "markdown",
   "id": "9fdc68f2-fe82-45f0-8022-e180a5960bf7",
   "metadata": {},
   "source": [
    "###  3.1 数据集定义与加载\n",
    "\n",
    "飞桨在 [paddle.vision.datasets](https://www.paddlepaddle.org.cn/documentation/docs/zh/api/paddle/vision/Overview_cn.html#api) 下内置了计算机视觉（Computer Vision，CV）领域常见的数据集，如 MNIST、Cifar10、Cifar100、FashionMNIST 和 VOC2012 等。在本任务中，先后加载了 MNIST 训练集（`mode='train'`）和测试集（`mode='test'`），训练集用于训练模型，测试集用于评估模型效果。\n",
    "\n",
    "MNIST 数据集是图像格式文件，而深度学习模型通常不能直接用图像格式的数据进行训练，需要转换为模型支持的数据格式，因此本任务中还导入了 [paddle.vision.transforms](https://www.paddlepaddle.org.cn/documentation/docs/zh/api/paddle/vision/Overview_cn.html#about-transforms) 模块，在初始化 MNIST 数据集时传入了 `ToTensor` 变换来将图像转换为飞桨支持的 Tensor 数据类型。\n"
   ]
  },
  {
   "cell_type": "code",
   "execution_count": 2,
   "id": "f99c914f",
   "metadata": {
    "execution": {
     "iopub.execute_input": "2021-12-17T06:55:43.185059Z",
     "iopub.status.busy": "2021-12-17T06:55:43.184142Z",
     "iopub.status.idle": "2021-12-17T06:55:53.018229Z",
     "shell.execute_reply": "2021-12-17T06:55:53.017346Z",
     "shell.execute_reply.started": "2021-12-17T06:55:43.185027Z"
    }
   },
   "outputs": [
    {
     "name": "stdout",
     "output_type": "stream",
     "text": [
      "item   48/2421 [..............................] - ETA: 5s - 2ms/item"
     ]
    },
    {
     "name": "stderr",
     "output_type": "stream",
     "text": [
      "Cache file /home/aistudio/.cache/paddle/dataset/mnist/train-images-idx3-ubyte.gz not found, downloading https://dataset.bj.bcebos.com/mnist/train-images-idx3-ubyte.gz \n",
      "Begin to download\n"
     ]
    },
    {
     "name": "stdout",
     "output_type": "stream",
     "text": [
      "item 8/8 [============================>.] - ETA: 0s - 2ms/item"
     ]
    },
    {
     "name": "stderr",
     "output_type": "stream",
     "text": [
      "\n",
      "Download finished\n",
      "Cache file /home/aistudio/.cache/paddle/dataset/mnist/train-labels-idx1-ubyte.gz not found, downloading https://dataset.bj.bcebos.com/mnist/train-labels-idx1-ubyte.gz \n",
      "Begin to download\n",
      "\n",
      "Download finished\n"
     ]
    },
    {
     "name": "stdout",
     "output_type": "stream",
     "text": [
      "item  39/403 [=>............................] - ETA: 1s - 3ms/item"
     ]
    },
    {
     "name": "stderr",
     "output_type": "stream",
     "text": [
      "Cache file /home/aistudio/.cache/paddle/dataset/mnist/t10k-images-idx3-ubyte.gz not found, downloading https://dataset.bj.bcebos.com/mnist/t10k-images-idx3-ubyte.gz \n",
      "Begin to download\n"
     ]
    },
    {
     "name": "stdout",
     "output_type": "stream",
     "text": [
      "item 2/2 [===========================>..] - ETA: 0s - 2ms/item"
     ]
    },
    {
     "name": "stderr",
     "output_type": "stream",
     "text": [
      "\n",
      "Download finished\n",
      "Cache file /home/aistudio/.cache/paddle/dataset/mnist/t10k-labels-idx1-ubyte.gz not found, downloading https://dataset.bj.bcebos.com/mnist/t10k-labels-idx1-ubyte.gz \n",
      "Begin to download\n",
      "\n",
      "Download finished\n"
     ]
    },
    {
     "name": "stdout",
     "output_type": "stream",
     "text": [
      "60000 images in train_dataset, 10000 images in test_dataset\n"
     ]
    }
   ],
   "source": [
    "import paddle\n",
    "from paddle.vision.transforms import ToTensor\n",
    "\n",
    "# 下载数据集并初始化DataSet\n",
    "train_dataset = paddle.vision.datasets.MNIST(mode='train', transform=ToTensor())\n",
    "test_dataset = paddle.vision.datasets.MNIST(mode='test', transform=ToTensor())\n",
    "# 打印数据集里图片数量\n",
    "print('{} images in train_dataset, {} images in test_dataset'.format(len(train_dataset), len(test_dataset)))"
   ]
  },
  {
   "cell_type": "markdown",
   "id": "2d89cb67",
   "metadata": {},
   "source": [
    "飞桨除了内置了 CV 领域常见的数据集，还在 [paddle.text.datasets](https://www.paddlepaddle.org.cn/documentation/docs/zh/api/paddle/text/Overview_cn.html#api) 下内置了自然语言处理（Natural Language Processing，NLP）领域常见的数据集，并提供了自定义数据集与加载的 [paddle.io.Dataset](https://www.paddlepaddle.org.cn/documentation/docs/zh/api/paddle/io/Dataset_cn.html#dataset) 和 [paddle.io.DataLoader](https://www.paddlepaddle.org.cn/documentation/docs/zh/api/paddle/io/DataLoader_cn.html#dataloader) API，详细使用方法可参考『数据集定义与加载』 章节。\n",
    "\n",
    "在 `paddle.vision.transforms` 模块中还内置了很多数据增广的 API，如对图像进行中心裁剪、水平翻转和图像归一化等操作，以增加训练样本的多样性，提升模型的泛化能力，详细使用方法可参考『数据预处理』 章节。\n",
    "\n",
    "更多参考：\n",
    "* [数据集定义与加载](02_data_load_cn.html)\n",
    "* [数据预处理](03_data_preprocessing_cn.html)\n"
   ]
  },
  {
   "cell_type": "markdown",
   "id": "6ba82de9",
   "metadata": {},
   "source": [
    "###  3.2 模型组网\n",
    "\n",
    "飞桨的模型组网有多种方式，既可以直接使用飞桨内置的模型，也可以自定义组网。\n",
    "\n",
    "\n",
    "『手写数字识别任务』比较简单，普通的神经网络就能达到很高的精度，在本任务中使用了飞桨内置的 LeNet 作为模型。飞桨在 [paddle.vision.models](https://www.paddlepaddle.org.cn/documentation/docs/zh/api/paddle/vision/Overview_cn.html#about-models) 下内置了 CV 领域的一些经典模型，LeNet 就是其中之一，调用很方便，只需一行代码即可完成 LeNet 的网络构建和初始化。`num_classes` 字段中定义分类的类别数，因为需要对 0 ~ 9 的十类数字进行分类，所以设置为10。\n",
    "\n",
    "另外通过 [paddle.summary](https://www.paddlepaddle.org.cn/documentation/docs/zh/api/paddle/summary_cn.html#summary) 可方便地打印网络的基础结构和参数信息。"
   ]
  },
  {
   "cell_type": "code",
   "execution_count": 9,
   "id": "e8bf3841",
   "metadata": {
    "execution": {
     "iopub.execute_input": "2021-12-17T06:59:47.978121Z",
     "iopub.status.busy": "2021-12-17T06:59:47.977323Z",
     "iopub.status.idle": "2021-12-17T06:59:47.990123Z",
     "shell.execute_reply": "2021-12-17T06:59:47.989596Z",
     "shell.execute_reply.started": "2021-12-17T06:59:47.978088Z"
    }
   },
   "outputs": [
    {
     "name": "stdout",
     "output_type": "stream",
     "text": [
      "---------------------------------------------------------------------------\n",
      " Layer (type)       Input Shape          Output Shape         Param #    \n",
      "===========================================================================\n",
      "   Conv2D-13      [[1, 1, 28, 28]]      [1, 6, 28, 28]          60       \n",
      "    ReLU-13       [[1, 6, 28, 28]]      [1, 6, 28, 28]           0       \n",
      " MaxPool2D-13     [[1, 6, 28, 28]]      [1, 6, 14, 14]           0       \n",
      "   Conv2D-14      [[1, 6, 14, 14]]     [1, 16, 10, 10]         2,416     \n",
      "    ReLU-14      [[1, 16, 10, 10]]     [1, 16, 10, 10]           0       \n",
      " MaxPool2D-14    [[1, 16, 10, 10]]      [1, 16, 5, 5]            0       \n",
      "   Linear-19         [[1, 400]]            [1, 120]           48,120     \n",
      "   Linear-20         [[1, 120]]            [1, 84]            10,164     \n",
      "   Linear-21         [[1, 84]]             [1, 10]              850      \n",
      "===========================================================================\n",
      "Total params: 61,610\n",
      "Trainable params: 61,610\n",
      "Non-trainable params: 0\n",
      "---------------------------------------------------------------------------\n",
      "Input size (MB): 0.00\n",
      "Forward/backward pass size (MB): 0.11\n",
      "Params size (MB): 0.24\n",
      "Estimated Total Size (MB): 0.35\n",
      "---------------------------------------------------------------------------\n",
      "\n",
      "{'total_params': 61610, 'trainable_params': 61610}\n"
     ]
    }
   ],
   "source": [
    "# 模型组网并初始化网络\n",
    "lenet = paddle.vision.models.LeNet(num_classes=10)\n",
    "\n",
    "# 可视化模型组网结构和参数\n",
    "params_info = paddle.summary(lenet,(1, 1, 28, 28))\n",
    "print(params_info)"
   ]
  },
  {
   "cell_type": "markdown",
   "id": "67dfcc50",
   "metadata": {},
   "source": [
    "通过飞桨的 [paddle.nn.Sequential](https://www.paddlepaddle.org.cn/documentation/docs/zh/api/paddle/nn/Sequential_cn.html) 和 [paddle.nn.Layer](https://www.paddlepaddle.org.cn/documentation/docs/zh/api/paddle/nn/Layer_cn.html) API 可以更灵活方便的组建自定义的神经网络，详细使用方法可参考『模型组网』章节。\n",
    "\n",
    "更多参考：\n",
    "* [模型组网](04_model_cn.html)"
   ]
  },
  {
   "cell_type": "markdown",
   "id": "4902817f",
   "metadata": {},
   "source": [
    "### 3.3 模型训练评估\n",
    "\n",
    "#### 3.3.1 模型训练\n",
    "\n",
    "模型训练需完成如下步骤：\n",
    "\n",
    "1. **使用 [paddle.Model](https://www.paddlepaddle.org.cn/documentation/docs/zh/api/paddle/Model_cn.html) 封装模型。**  将网络结构组合成可快速使用[飞桨高层 API ](http://)进行训练、评估、推理的实例，方便后续操作。\n",
    "2. **使用 [paddle.Model.prepare](https://www.paddlepaddle.org.cn/documentation/docs/zh/api/paddle/Model_cn.html#prepare-optimizer-none-loss-none-metrics-none-amp-configs-none) 完成训练的配置准备工作。**  包括损失函数、优化器和评价指标等。飞桨在 [paddle.optimizer](https://www.paddlepaddle.org.cn/documentation/docs/zh/api/paddle/optimizer/Overview_cn.html#api) 下提供了优化器算法相关 API，在 [paddle.nn](https://www.paddlepaddle.org.cn/documentation/docs/zh/api/paddle/nn/Overview_cn.html#loss) 下提供了损失函数相关 API，在 [paddle.metric](https://www.paddlepaddle.org.cn/documentation/docs/zh/api/paddle/metric/Overview_cn.html) 下提供了评价指标相关 API。\n",
    "3. **使用 [paddle.Model.fit](https://www.paddlepaddle.org.cn/documentation/docs/zh/api/paddle/Model_cn.html#fit-train-data-none-eval-data-none-batch-size-1-epochs-1-eval-freq-1-log-freq-10-save-dir-none-save-freq-1-verbose-2-drop-last-false-shuffle-true-num-workers-0-callbacks-none) 配置循环参数并启动训练。**  配置参数包括指定训练的数据源 `train_dataset`、训练的批大小 `batch_size`、训练轮数 `epochs` 等，执行后将自动完成模型的训练循环。\n",
    "\n",
    "\n",
    "因为是分类任务，这里损失函数使用常见的 [CrossEntropyLoss](https://www.paddlepaddle.org.cn/documentation/docs/zh/api/paddle/nn/CrossEntropyLoss_cn.html#crossentropyloss) （交叉熵损失函数），优化器使用常见的 [Adam](https://www.paddlepaddle.org.cn/documentation/docs/zh/api/paddle/optimizer/Adam_cn.html#adam) 优化器，使用 [Accuracy](https://www.paddlepaddle.org.cn/documentation/docs/zh/api/paddle/metric/Accuracy_cn.html#accuracy) （精度）指标来计算模型在训练集上的精度。"
   ]
  },
  {
   "cell_type": "code",
   "execution_count": 3,
   "id": "3333a7bb",
   "metadata": {
    "execution": {
     "iopub.execute_input": "2021-12-17T04:01:43.380962Z",
     "iopub.status.busy": "2021-12-17T04:01:43.380575Z",
     "iopub.status.idle": "2021-12-17T04:03:17.852495Z",
     "shell.execute_reply": "2021-12-17T04:03:17.851918Z",
     "shell.execute_reply.started": "2021-12-17T04:01:43.380928Z"
    }
   },
   "outputs": [
    {
     "name": "stdout",
     "output_type": "stream",
     "text": [
      "The loss value printed in the log is the current step, and the metric is the average value of previous steps.\n",
      "Epoch 1/5\n"
     ]
    },
    {
     "name": "stderr",
     "output_type": "stream",
     "text": [
      "/opt/conda/envs/python35-paddle120-env/lib/python3.7/site-packages/paddle/fluid/layers/utils.py:77: DeprecationWarning: Using or importing the ABCs from 'collections' instead of from 'collections.abc' is deprecated, and in 3.8 it will stop working\n",
      "  return (isinstance(seq, collections.Sequence) and\n"
     ]
    },
    {
     "name": "stdout",
     "output_type": "stream",
     "text": [
      "step 938/938 [==============================] - loss: 0.1031 - acc: 0.9476 - 20ms/step          \n",
      "Epoch 2/5\n",
      "step 938/938 [==============================] - loss: 0.0154 - acc: 0.9794 - 20ms/step          \n",
      "Epoch 3/5\n",
      "step 938/938 [==============================] - loss: 0.0077 - acc: 0.9837 - 20ms/step          \n",
      "Epoch 4/5\n",
      "step 938/938 [==============================] - loss: 0.0113 - acc: 0.9860 - 21ms/step          \n",
      "Epoch 5/5\n",
      "step 938/938 [==============================] - loss: 0.0537 - acc: 0.9874 - 21ms/step          \n"
     ]
    }
   ],
   "source": [
    "# 封装模型，便于进行后续的训练、评估和推理\n",
    "model = paddle.Model(lenet)\n",
    "\n",
    "# 模型训练的配置准备，准备损失函数，优化器和评价指标\n",
    "model.prepare(paddle.optimizer.Adam(parameters=model.parameters()), \n",
    "              paddle.nn.CrossEntropyLoss(),\n",
    "              paddle.metric.Accuracy())\n",
    "\n",
    "# 开始训练\n",
    "model.fit(train_dataset, epochs=5, batch_size=64, verbose=1)"
   ]
  },
  {
   "cell_type": "markdown",
   "id": "351c2504-9392-4480-b522-f3435c4d58dc",
   "metadata": {},
   "source": [
    "从训练过程的打印日志中，可观察到损失函数值 loss 逐渐变小，精度 acc 逐渐上升的趋势，反映出不错的训练效果。"
   ]
  },
  {
   "cell_type": "markdown",
   "id": "684e7be6",
   "metadata": {},
   "source": [
    "#### 3.3.2 模型评估\n",
    "\n",
    "模型训练完成之后，调用 [paddle.Model.evaluate](https://www.paddlepaddle.org.cn/documentation/docs/zh/api/paddle/Model_cn.html#evaluate-eval-data-batch-size-1-log-freq-10-verbose-2-num-workers-0-callbacks-none) ，使用预先定义的测试数据集，来评估训练好的模型效果，评估完成后将输出模型在测试集上的损失函数值 loss 和精度 acc。\n"
   ]
  },
  {
   "cell_type": "code",
   "execution_count": 8,
   "id": "b86f0289",
   "metadata": {},
   "outputs": [
    {
     "name": "stdout",
     "output_type": "stream",
     "text": [
      "Eval begin...\n",
      "step 10000/10000 [==============================] - loss: 1.1921e-07 - acc: 0.9800 - 2ms/step          - loss: 0\n",
      "Eval samples: 10000\n"
     ]
    },
    {
     "data": {
      "text/plain": [
       "{'loss': [1.1920929e-07], 'acc': 0.98}"
      ]
     },
     "execution_count": 8,
     "metadata": {},
     "output_type": "execute_result"
    }
   ],
   "source": [
    "# 进行模型评估\n",
    "model.evaluate(test_dataset, verbose=1)"
   ]
  },
  {
   "cell_type": "markdown",
   "id": "94c4a7af",
   "metadata": {},
   "source": [
    "从结果可以看到，初步训练得到的模型精度在98%附近，在逐渐熟悉深度学习模型开发和训练技巧后，可以通过调整其中的训练参数来进一步提升模型的精度。\n",
    "\n",
    "更多参考：\n",
    "* [模型训练与评估](http://)xxxxxxx"
   ]
  },
  {
   "cell_type": "markdown",
   "id": "e991757c",
   "metadata": {},
   "source": [
    "### 3.4 模型推理\n",
    "\n"
   ]
  },
  {
   "cell_type": "markdown",
   "id": "39ee250a",
   "metadata": {},
   "source": [
    "#### 3.4.1 模型保存\n",
    "\n",
    "模型训练完成后，通常需要将训练好的模型参数和优化器等信息，持久化保存到参数文件中，便于后续执行推理验证。\n",
    "\n",
    "在飞桨中可通过调用 [paddle.Model.save](https://www.paddlepaddle.org.cn/documentation/docs/zh/api/paddle/Model_cn.html#save-path-training-true) 保存模型。代码示例如下，其中 output 为模型保存的文件夹名称，minst 为保存的模型文件名称。"
   ]
  },
  {
   "cell_type": "code",
   "execution_count": 5,
   "id": "07bff4b4",
   "metadata": {
    "execution": {
     "iopub.execute_input": "2021-12-17T04:11:42.623618Z",
     "iopub.status.busy": "2021-12-17T04:11:42.622719Z",
     "iopub.status.idle": "2021-12-17T04:11:42.637039Z",
     "shell.execute_reply": "2021-12-17T04:11:42.636284Z",
     "shell.execute_reply.started": "2021-12-17T04:11:42.623579Z"
    }
   },
   "outputs": [],
   "source": [
    "# 保存模型，文件夹会自动创建\n",
    "model.save('./output/mnist')"
   ]
  },
  {
   "cell_type": "markdown",
   "id": "0daaf2e3",
   "metadata": {},
   "source": [
    "以上代码执行后会在`output`目录下保存两个文件，`mnist.pdopt`为优化器的参数，`mnist.pdparams`为模型的参数\n",
    "```bash\n",
    "output\n",
    "├── mnist.pdopt     # 优化器的参数\n",
    "└── mnist.pdparams  # 模型的参数\n",
    "```\n"
   ]
  },
  {
   "cell_type": "markdown",
   "id": "e2d87664-6b04-4969-8af4-02f57356e1d4",
   "metadata": {},
   "source": [
    "#### 3.4.2 模型加载并执行推理\n",
    "\n",
    "执行模型推理时，可调用 [paddle.Model.load](https://www.paddlepaddle.org.cn/documentation/docs/zh/api/paddle/Model_cn.html#load-path-skip-mismatch-false-reset-optimizer-false) 加载模型，然后可通过调用 [paddle.Model.predict_batch](https://www.paddlepaddle.org.cn/documentation/docs/zh/api/paddle/Model_cn.html#predict-batch-inputs) 执行推理操作。\n",
    "\n",
    "如下示例中，针对前面创建的 `model` 实例加载保存的参数文件 `output/mnist`，并选择测试集中的一张图片 `test_dataset[0]` 作为输入，执行推理并打印结果，可以看到推理的结果与可视化图片一致。\n"
   ]
  },
  {
   "cell_type": "code",
   "execution_count": 10,
   "id": "bb8328ef",
   "metadata": {},
   "outputs": [
    {
     "name": "stdout",
     "output_type": "stream",
     "text": [
      "true label: 7, pred label: 7\n"
     ]
    },
    {
     "data": {
      "text/plain": [
       "<matplotlib.image.AxesImage at 0x7f853e6f0e50>"
      ]
     },
     "execution_count": 10,
     "metadata": {},
     "output_type": "execute_result"
    },
    {
     "data": {
      "image/png": "[encoded data removed]",
      "text/plain": [
       "<Figure size 432x288 with 1 Axes>"
      ]
     },
     "metadata": {
      "needs_background": "light"
     },
     "output_type": "display_data"
    }
   ],
   "source": [
    "# 加载模型\n",
    "model.load('output/mnist')\n",
    "\n",
    "# 从测试集中取出一张图片并将图片shape变为1*1*28*28\n",
    "img, label = test_dataset[0]\n",
    "img_batch = np.expand_dims(img.astype('float32'), axis=0)\n",
    "\n",
    "# 执行推理并打印结果\n",
    "out = model.predict_batch(img_batch)[0]\n",
    "pred_label = out.argmax()\n",
    "print('true label: {}, pred label: {}'.format(label[0], pred_label))\n",
    "# 可视化图片\n",
    "from matplotlib import pyplot as plt\n",
    "plt.imshow(img[0])"
   ]
  },
  {
   "cell_type": "markdown",
   "id": "54a041fd",
   "metadata": {},
   "source": [
    "更多参考：\n",
    "* [模型保存与加载](http://)xxxxxxx\n",
    "* [模型推理](http://)xxxxxxx"
   ]
  },
  {
   "cell_type": "markdown",
   "id": "07dc4cc1-4f8e-439c-a7e5-ce9a8c8d014f",
   "metadata": {},
   "source": [
    "## 四、总结\n",
    "\n",
    "至此通过飞桨几个简单的API完成了一个深度学习任务，总结整个流程和用到的关键 API 如下图所示。\n",
    "\n",
    "<center><img src=\"images/model_develop_flow.png\" width=\"600\"></center>\n",
    "<center><br>图1：模型开发流程</br></center>\n",
    "\n",
    "如果想要完成更复杂的深度学习任务，开发更强大的模型，飞桨提供了功能丰富的 API 帮助开发者完成任务，比如对数据集应用数据增广、使用更大的 CNN 模型、自定义神经网络、调优性能等，同时飞桨官网提供了丰富的教程与案例可供参考，欢迎一起探索深度学习的世界。"
   ]
  },
  {
   "cell_type": "code",
   "execution_count": null,
   "id": "852da582",
   "metadata": {},
   "outputs": [],
   "source": []
  }
 ],
 "metadata": {
  "kernelspec": {
   "display_name": "Python 3",
   "language": "python",
   "name": "python3"
  },
  "language_info": {
   "codemirror_mode": {
    "name": "ipython",
    "version": 3
   },
   "file_extension": ".py",
   "mimetype": "text/x-python",
   "name": "python",
   "nbconvert_exporter": "python",
   "pygments_lexer": "ipython3",
   "version": "3.8.8"
  },
  "toc-autonumbering": false,
  "toc-showcode": false,
  "toc-showmarkdowntxt": false,
  "toc-showtags": false
 },
 "nbformat": 4,
 "nbformat_minor": 5
}
