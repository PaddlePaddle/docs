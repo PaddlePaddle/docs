{
 "cells": [
  {
   "cell_type": "markdown",
   "id": "f848b574",
   "metadata": {},
   "source": [
    "# 10分钟快速上手飞桨\n",
    "\n",
    "从完成一个简单的『手写数字识别任务』开始，可快速了解深度学习模型开发的大致流程，并初步掌握飞桨框架 API 的使用方法。\n",
    "\n",
    "\n",
    "## 快速安装飞桨\n",
    "\n",
    "如果已经安装好飞桨那么可以跳过此步骤。飞桨支持很多种安装方式，这里介绍其中一种简单的安装命令：\n",
    "\n",
    "```bash\n",
    "# 使用 pip 工具安装飞桨 CPU 版\n",
    "python3 -m pip install paddlepaddle -i https://mirror.baidu.com/pypi/simple --trusted-host\n",
    "```\n",
    "\n",
    "该命令用于安装CPU版本的飞桨，如果要安装其他计算平台或操作系统支持的版本，可点击 [ 快速安装]( <https://www.paddlepaddle.org.cn/install/quick>)  查看安装引导。\n",
    "\n",
    "### 导入飞桨\n",
    "\n",
    "安装完成后，需要在Python解释器中使用 import 导入飞桨，即可开始实践深度学习任务。\n",
    "\n",
    "若操作成功，会输出飞桨的版本号。"
   ]
  },
  {
   "cell_type": "code",
   "execution_count": 1,
   "id": "468426ec",
   "metadata": {},
   "outputs": [
    {
     "name": "stdout",
     "output_type": "stream",
     "text": [
      "2.2.0\n"
     ]
    }
   ],
   "source": [
    "import paddle    \n",
    "print(paddle.__version__)"
   ]
  },
  {
   "cell_type": "markdown",
   "id": "a3e0d5e5",
   "metadata": {},
   "source": [
    "\n",
    "\n",
    "## 实践：手写数字识别任务\n",
    "\n",
    "手写数字识别是深度学习里的 Hello Word 任务，其目标是输入手写数字的图片，输出这个图片中的数字。本任务中用到的数据集为MNIST手写数字数据集，该手写数字数据集包含60000张训练图片和10000张测试图片，这些图片是从0~9的手写数字，分辨率为28*28。数据集中部分图像和对应的分类标签如下图所示。\n",
    "![](images/mnist.png)\n",
    "\n",
    "开始之前，需要使用下面的代码安装matplotlib和numpy\n",
    "\n",
    "```bash\n",
    "python3 -m pip install matplotlib numpy -i https://mirror.baidu.com/pypi/simple\n",
    "```\n",
    "\n",
    "如果想直接运行代码，可以拷贝下面的完整代码到一个Python文件中进行运行。\n",
    "\n",
    "完整代码如下:"
   ]
  },
  {
   "cell_type": "code",
   "execution_count": 2,
   "id": "93d0c8a1",
   "metadata": {},
   "outputs": [],
   "source": [
    "import paddle\n",
    "import numpy as np\n",
    "from paddle.vision.transforms import ToTensor\n",
    "\n",
    "# 下载数据集并初始化DataSet\n",
    "train_dataset = paddle.vision.datasets.MNIST(mode='train', transform=ToTensor())\n",
    "test_dataset = paddle.vision.datasets.MNIST(mode='test', transform=ToTensor())\n",
    "\n",
    "# 初始化网络\n",
    "lenet = paddle.vision.models.LeNet(num_classes=10)\n",
    "model = paddle.Model(lenet)\n",
    "\n",
    "# 模型训练相关配置，准备损失计算方法，优化器和精度计算方法\n",
    "model.prepare(paddle.optimizer.Adam(parameters=model.parameters()), \n",
    "              paddle.nn.CrossEntropyLoss(),\n",
    "              paddle.metric.Accuracy())\n",
    "\n",
    "# 模型训练\n",
    "model.fit(train_dataset, epochs=5, batch_size=64, verbose=1)\n",
    "# 模型评估\n",
    "model.evaluate(test_dataset, verbose=1)\n",
    "\n",
    "# 保存模型\n",
    "model.save('./output/mnist')\n",
    "# 加载模型\n",
    "model.load('output/mnist')\n",
    "\n",
    "# 从测试集中取出一张图片并将图片shape变为1*1*28*28\n",
    "img, label = test_dataset[0]\n",
    "img_batch = np.expand_dims(img.astype('float32'), axis=0)\n",
    "\n",
    "# 执行推理并打印结果\n",
    "out = model.predict_batch(img_batch)[0]\n",
    "pred_label = out.argmax()\n",
    "print('true label: {}, pred label: {}'.format(label[0], pred_label))"
   ]
  },
  {
   "cell_type": "markdown",
   "id": "f1be5eec",
   "metadata": {},
   "source": [
    "简单的说，深度学习任务一般分为以下几个核心步骤：\n",
    "\n",
    "\n",
    "1. 数据集定义与加载；\n",
    "2. 模型组网；\n",
    "3. 模型训练和评估；\n",
    "5. 模型预测。\n",
    "\n",
    "接下来逐个步骤介绍，帮助你快速掌握使用飞桨框架API实践深度学习任务的方法。\n",
    "\n",
    "\n",
    "###  数据集定义与加载\n",
    "\n",
    "Paddle 在 paddle.vision.dataset 下提供了 CV 领域常见的数据集,如Cifar10,Cifar100,FashionMNIST,MNIST和VOC2012等，如果你想了解更多，点击 [paddle.vision.dataset文档](https://www.paddlepaddle.org.cn/documentation/docs/zh/api/paddle/vision/Overview_cn.html#api)。\n",
    "\n",
    "在本任务中，直接加载飞桨框架的内置的MNIST手写数字数据集。这里加载两个数据集，一个用来训练模型，一般叫做训练集；一个用来测试模型，一般叫做测试集。\n",
    "\n",
    "在下面的代码中，导入了`paddle.vision.transforms`模块，`paddle.vision.transforms` 里内置了很多和数据处理相关的api，如对图像进行中心裁剪、水平翻转图像和对图像进行归一化，详细的api信息可以在[paddle.vision.transforms文档](https://www.paddlepaddle.org.cn/documentation/docs/zh/api/paddle/vision/Overview_cn.html#about-transforms)查看 \n"
   ]
  },
  {
   "cell_type": "code",
   "execution_count": 4,
   "id": "f99c914f",
   "metadata": {},
   "outputs": [
    {
     "name": "stdout",
     "output_type": "stream",
     "text": [
      "60000 images in train_dataset, 10000 images in test_dataset\n"
     ]
    }
   ],
   "source": [
    "import paddle\n",
    "from paddle.vision.transforms import ToTensor\n",
    "\n",
    "# 下载数据集并初始化DataSet\n",
    "train_dataset = paddle.vision.datasets.MNIST(mode='train', transform=ToTensor())\n",
    "test_dataset = paddle.vision.datasets.MNIST(mode='test', transform=ToTensor())\n",
    "# 打印数据集里图片数量\n",
    "print('{} images in train_dataset, {} images in test_dataset'.format(len(train_dataset), len(test_dataset)))"
   ]
  },
  {
   "cell_type": "markdown",
   "id": "6ba82de9",
   "metadata": {},
   "source": [
    "###  模型组网\n",
    "\n",
    "飞桨的模型组网有两种方式，一种是使用飞桨内置的模型来直接进行模型的组网和初始化，一种是使用内置的 [paddle.nn.Layer](https://www.paddlepaddle.org.cn/documentation/docs/zh/api/paddle/nn/Layer_cn.html#layer) api来进行灵活度更高的组网。\n",
    "\n",
    "由于MNIST数据集比较简单，普通的神经网络就能够达到很高的精度，因此在本任务中使用飞桨内置的LeNet作为模型，LeNet作为 [paddle.vision.models](https://www.paddlepaddle.org.cn/documentation/docs/zh/api/paddle/vision/Overview_cn.html#about-models) 的内置模型，可以很方便的调用它，只需要下面这句话即可完成LeNet的网络构建和初始化。"
   ]
  },
  {
   "cell_type": "code",
   "execution_count": 5,
   "id": "e8bf3841",
   "metadata": {},
   "outputs": [],
   "source": [
    "# 初始化网络\n",
    "lenet = paddle.vision.models.LeNet(num_classes=10)"
   ]
  },
  {
   "cell_type": "markdown",
   "id": "4902817f",
   "metadata": {},
   "source": [
    "### 模型训练评估\n",
    "\n",
    "#### 模型训练\n",
    "\n",
    "在训练模型前，需要配置训练模型时的损失函数与优化方法，因为是分类任务，这里损失函数使用常见的 [CrossEntropyLoss](https://www.paddlepaddle.org.cn/documentation/docs/zh/api/paddle/nn/CrossEntropyLoss_cn.html#crossentropyloss) (交叉熵损失函数)，优化器使用常见的 [Adam](https://www.paddlepaddle.org.cn/documentation/docs/zh/api/paddle/optimizer/Adam_cn.html#adam) 优化器，使用 [Accuracy](https://www.paddlepaddle.org.cn/documentation/docs/zh/api/paddle/metric/Accuracy_cn.html#accuracy) 指标来计算网络在训练集上的精度。在训练过程中可以使用飞桨框架高层API- [paddle.Model.fit()](https://www.paddlepaddle.org.cn/documentation/docs/zh/api/paddle/Model_cn.html#fit-train-data-none-eval-data-none-batch-size-1-epochs-1-eval-freq-1-log-freq-10-save-dir-none-save-freq-1-verbose-2-drop-last-false-shuffle-true-num-workers-0-callbacks-none) 来自动完成模型的训练循环，具体代码如下。"
   ]
  },
  {
   "cell_type": "code",
   "execution_count": 7,
   "id": "3333a7bb",
   "metadata": {},
   "outputs": [
    {
     "name": "stdout",
     "output_type": "stream",
     "text": [
      "The loss value printed in the log is the current step, and the metric is the average value of previous steps.\n",
      "Epoch 1/5\n",
      "step 938/938 [==============================] - loss: 0.0312 - acc: 0.9869 - 16ms/step          \n",
      "Epoch 2/5\n",
      "step 938/938 [==============================] - loss: 0.0414 - acc: 0.9889 - 16ms/step          \n",
      "Epoch 3/5\n",
      "step 938/938 [==============================] - loss: 2.4796e-04 - acc: 0.9904 - 16ms/step      \n",
      "Epoch 4/5\n",
      "step 938/938 [==============================] - loss: 9.6802e-04 - acc: 0.9919 - 16ms/step      \n",
      "Epoch 5/5\n",
      "step 938/938 [==============================] - loss: 0.0047 - acc: 0.9922 - 16ms/step            \n"
     ]
    }
   ],
   "source": [
    "# 初始化paddle.Model模型，便于进行后续的配置、训练和验证\n",
    "model = paddle.Model(lenet)\n",
    "\n",
    "# 模型训练相关配置，准备损失计算方法，优化器和精度计算方法\n",
    "model.prepare(paddle.optimizer.Adam(parameters=model.parameters()), \n",
    "              paddle.nn.CrossEntropyLoss(),\n",
    "              paddle.metric.Accuracy())\n",
    "\n",
    "# 开始模型\n",
    "model.fit(train_dataset, epochs=5, batch_size=64, verbose=1)"
   ]
  },
  {
   "cell_type": "markdown",
   "id": "684e7be6",
   "metadata": {},
   "source": [
    "#### 模型评估\n",
    "\n",
    "模型训练完成之后，可以使用预先定义的测试数据集来评估训练得到的模型的精度。评估完成会输出模型在测试集上的loss和精度。\n",
    "\n",
    "可以看到，初步训练得到的模型精度在98%附近，在逐渐了解飞桨后，可以通过调整其中的训练参数来提升模型的精度。\n"
   ]
  },
  {
   "cell_type": "code",
   "execution_count": 8,
   "id": "b86f0289",
   "metadata": {},
   "outputs": [
    {
     "name": "stdout",
     "output_type": "stream",
     "text": [
      "Eval begin...\n",
      "step 10000/10000 [==============================] - loss: 1.1921e-07 - acc: 0.9800 - 2ms/step          - loss: 0\n",
      "Eval samples: 10000\n"
     ]
    },
    {
     "data": {
      "text/plain": [
       "{'loss': [1.1920929e-07], 'acc': 0.98}"
      ]
     },
     "execution_count": 8,
     "metadata": {},
     "output_type": "execute_result"
    }
   ],
   "source": [
    "# 进行模型评估\n",
    "model.evaluate(test_dataset, verbose=1)"
   ]
  },
  {
   "cell_type": "markdown",
   "id": "e991757c",
   "metadata": {},
   "source": [
    "### 模型预测\n",
    "\n",
    "在普遍的离线预测场景下，完成训练完成后，需要将模型进行保存，然后再进行模型加载之后进行预测。因此，本次的推理过程如下：\n",
    "\n",
    "1. 保存模型\n",
    "1. 加载模型\n",
    "2. 从测试集中选择一张图片作为输入\n",
    "3. 进行推理并输出结果\n"
   ]
  },
  {
   "cell_type": "markdown",
   "id": "39ee250a",
   "metadata": {},
   "source": [
    "模型训练完成之后，可以通过如下命令进行保存，在下面的命令中，output为模型保存的文件夹名称，minst为模型保存的文件名称"
   ]
  },
  {
   "cell_type": "code",
   "execution_count": 9,
   "id": "07bff4b4",
   "metadata": {},
   "outputs": [],
   "source": [
    "# 保存模型，文件夹会自动创建\n",
    "model.save('./output/mnist')"
   ]
  },
  {
   "cell_type": "markdown",
   "id": "0daaf2e3",
   "metadata": {},
   "source": [
    "模型保存会在`output`目录下保存两个文件，`mnist.pdopt`为优化器的参数，`mnist.pdparams`为网络的参数\n",
    "```bash\n",
    "output\n",
    "├── mnist.pdopt     # 优化器的参数\n",
    "└── mnist.pdparams  # 网络的参数\n",
    "```\n",
    "模型保存完成后，通过下面的命令进行模型加载和预测"
   ]
  },
  {
   "cell_type": "code",
   "execution_count": 10,
   "id": "bb8328ef",
   "metadata": {},
   "outputs": [
    {
     "name": "stdout",
     "output_type": "stream",
     "text": [
      "true label: 7, pred label: 7\n"
     ]
    },
    {
     "data": {
      "text/plain": [
       "<matplotlib.image.AxesImage at 0x7f853e6f0e50>"
      ]
     },
     "execution_count": 10,
     "metadata": {},
     "output_type": "execute_result"
    },
    {
     "data": {
      "image/png": "[encoded data removed]",
      "text/plain": [
       "<Figure size 432x288 with 1 Axes>"
      ]
     },
     "metadata": {
      "needs_background": "light"
     },
     "output_type": "display_data"
    }
   ],
   "source": [
    "# 加载模型\n",
    "model.load('output/mnist')\n",
    "\n",
    "# 从测试集中取出一张图片并将图片shape变为1*1*28*28\n",
    "img, label = test_dataset[0]\n",
    "img_batch = np.expand_dims(img.astype('float32'), axis=0)\n",
    "\n",
    "# 执行推理并打印结果\n",
    "out = model.predict_batch(img_batch)[0]\n",
    "pred_label = out.argmax()\n",
    "print('true label: {}, pred label: {}'.format(label[0], pred_label))\n",
    "# 可视化图片\n",
    "from matplotlib import pyplot as plt\n",
    "plt.imshow(img[0])"
   ]
  },
  {
   "cell_type": "markdown",
   "id": "54a041fd",
   "metadata": {},
   "source": [
    "至此你就通过飞桨几个简单的API完成了一个深度学习任务，你也可以针对自己的需求来更换其中的代码，比如对数据集使用更多的数据增强、使用更大的 CNN 模型和自定义的神经网络等，飞桨官网提供了丰富的教程与案例可供参考"
   ]
  }
 ],
 "metadata": {
  "kernelspec": {
   "display_name": "Python 3 (ipykernel)",
   "language": "python",
   "name": "python3"
  },
  "language_info": {
   "codemirror_mode": {
    "name": "ipython",
    "version": 3
   },
   "file_extension": ".py",
   "mimetype": "text/x-python",
   "name": "python",
   "nbconvert_exporter": "python",
   "pygments_lexer": "ipython3",
   "version": "3.7.10"
  }
 },
 "nbformat": 4,
 "nbformat_minor": 5
}
