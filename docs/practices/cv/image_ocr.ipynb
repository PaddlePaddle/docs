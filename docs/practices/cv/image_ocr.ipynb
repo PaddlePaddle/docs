{
 "cells": [
  {
   "cell_type": "markdown",
   "metadata": {
    "collapsed": false
   },
   "source": [
    "# 通过OCR实现验证码识别\n",
    "\n",
    "**作者:** [GT_老张](https://github.com/GT-ZhangAcer)  \n",
    "\n",
    "**时间:** 2022.5\n",
    "\n",
    "**摘要:** 本篇将介绍如何通过飞桨实现简单的CRNN+CTC自定义数据集OCR识别模型，数据集采用[CaptchaDataset](https://github.com/GT-ZhangAcer/CaptchaDataset)中OCR部分的9453张图像，其中前8453张图像在本案例中作为训练集，后1000张则作为测试集。  \n",
    "在更复杂的场景中推荐使用[PaddleOCR](https://github.com/PaddlePaddle/PaddleOCR)产出工业级模型，模型轻量且精度大幅提升。  \n",
    "同样也可以在[PaddleHub](https://www.paddlepaddle.org.cn/hubdetail?name=chinese_ocr_db_crnn_mobile&en_category=TextRecognition)中快速使用PaddleOCR。"
   ]
  },
  {
   "cell_type": "markdown",
   "metadata": {
    "collapsed": false
   },
   "source": [
    "## 一、环境配置\n",
    "\n",
    "本教程基于PaddlePaddle 2.3.0 编写，如果你的环境不是本版本，请先参考官网[安装](https://www.paddlepaddle.org.cn/install/quick) PaddlePaddle 2.3.0 。"
   ]
  },
  {
   "cell_type": "code",
   "execution_count": 2,
   "metadata": {
    "collapsed": false
   },
   "outputs": [
    {
     "name": "stdout",
     "output_type": "stream",
     "text": [
      "2.3.0\n"
     ]
    }
   ],
   "source": [
    "import paddle\n",
    "print(paddle.__version__)"
   ]
  },
  {
   "cell_type": "markdown",
   "metadata": {
    "collapsed": false
   },
   "source": [
    "## 二、自定义数据集读取器\n",
    "\n",
    "常见的开发任务中，我们并不一定会拿到标准的数据格式，好在我们可以通过自定义Reader的形式来随心所欲读取自己想要数据。 \n",
    "\n",
    "设计合理的Reader往往可以带来更好的性能，我们可以将读取标签文件列表、制作图像文件列表等必要操作在`__init__`特殊方法中实现。这样就可以在实例化`Reader`时装入内存，避免使用时频繁读取导致增加额外开销。同样我们可以在`__getitem__`特殊方法中实现如图像增强、归一化等个性操作，完成数据读取后即可释放该部分内存。    \n",
    "需要我们注意的是，如果不能保证自己数据十分纯净，可以通过`try`和`expect`来捕获异常并指出该数据的位置。当然也可以制定一个策略，使其在发生数据读取异常后依旧可以正常进行训练。  "
   ]
  },
  {
   "cell_type": "markdown",
   "metadata": {
    "collapsed": false
   },
   "source": [
    "### 2.1 数据展示\n",
    "<div align=\"center\">\n",
    "<img src=https://ai-studio-static-online.cdn.bcebos.com/57d6c77aa5194cdca5c7edc533cc57e4d5070de95f6a4454b3cd1ca1e0eebe98 width=\"500px\">\n",
    "</div>\n",
    "\n",
    "点此[快速获取本节数据集](https://aistudio.baidu.com/aistudio/datasetdetail/57285)，待数据集下载完毕后可使用`!unzip OCR_Dataset.zip -d data/`命令或熟悉的解压软件进行解压，待数据准备工作完成后修改本文“训练准备”中的`DATA_PATH = 解压后数据集路径`。"
   ]
  },
  {
   "cell_type": "code",
   "execution_count": null,
   "metadata": {
    "collapsed": false
   },
   "outputs": [],
   "source": [
    "# 下载数据集 \n",
    "!wget -O OCR_Dataset.zip https://bj.bcebos.com/v1/ai-studio-online/c91f50ef72de43b090298a38281e9c59a2d741eadd334f1cba7c710c5496e342?responseContentDisposition=attachment%3B%20filename%3DOCR_Dataset.zip&authorization=bce-auth-v1%2F0ef6765c1e494918bc0d4c3ca3e5c6d1%2F2020-10-27T09%3A50%3A21Z%2F-1%2F%2Fddc4aebed803af6c57dac46abba42d207961b78e7bc81744e8388395979b66fa"
   ]
  },
  {
   "cell_type": "code",
   "execution_count": null,
   "metadata": {
    "collapsed": false
   },
   "outputs": [],
   "source": [
    "# 解压数据集\n",
    "!unzip OCR_Dataset.zip -d data/"
   ]
  },
  {
   "cell_type": "code",
   "execution_count": null,
   "metadata": {
    "collapsed": false
   },
   "outputs": [],
   "source": [
    "import os\n",
    "\n",
    "import PIL.Image as Image\n",
    "import numpy as np\n",
    "from paddle.io import Dataset\n",
    "\n",
    "# 图片信息配置 - 通道数、高度、宽度\n",
    "IMAGE_SHAPE_C = 3\n",
    "IMAGE_SHAPE_H = 30\n",
    "IMAGE_SHAPE_W = 70\n",
    "# 数据集图片中标签长度最大值设置 - 因图片中均为4个字符，故该处填写为4即可\n",
    "LABEL_MAX_LEN = 4\n",
    "\n",
    "\n",
    "class Reader(Dataset):\n",
    "    def __init__(self, data_path: str, is_val: bool = False):\n",
    "        \"\"\"\n",
    "        数据读取Reader\n",
    "        :param data_path: Dataset路径\n",
    "        :param is_val: 是否为验证集\n",
    "        \"\"\"\n",
    "        super().__init__()\n",
    "        self.data_path = data_path\n",
    "        # 读取Label字典\n",
    "        with open(os.path.join(self.data_path, \"label_dict.txt\"), \"r\", encoding=\"utf-8\") as f:\n",
    "            self.info = eval(f.read())\n",
    "        # 获取文件名列表\n",
    "        self.img_paths = [img_name for img_name in self.info]\n",
    "        # 将数据集后1024张图片设置为验证集，当is_val为真时img_path切换为后1024张\n",
    "        self.img_paths = self.img_paths[-1024:] if is_val else self.img_paths[:-1024]\n",
    "\n",
    "    def __getitem__(self, index):\n",
    "        # 获取第index个文件的文件名以及其所在路径\n",
    "        file_name = self.img_paths[index]\n",
    "        file_path = os.path.join(self.data_path, file_name)\n",
    "        # 捕获异常 - 在发生异常时终止训练\n",
    "        try:\n",
    "            # 使用Pillow来读取图像数据\n",
    "            img = Image.open(file_path)\n",
    "            # 转为Numpy的array格式并整体除以255进行归一化\n",
    "            img = np.array(img, dtype=\"float32\").reshape((IMAGE_SHAPE_C, IMAGE_SHAPE_H, IMAGE_SHAPE_W)) / 255\n",
    "        except Exception as e:\n",
    "            raise Exception(file_name + \"\\t文件打开失败，请检查路径是否准确以及图像文件完整性，报错信息如下:\\n\" + str(e))\n",
    "        # 读取该图像文件对应的Label字符串，并进行处理\n",
    "        label = self.info[file_name]\n",
    "        label = list(label)\n",
    "        # 将label转化为Numpy的array格式\n",
    "        label = np.array(label, dtype=\"int32\")\n",
    "\n",
    "        return img, label\n",
    "\n",
    "    def __len__(self):\n",
    "        # 返回每个Epoch中图片数量\n",
    "        return len(self.img_paths)"
   ]
  },
  {
   "cell_type": "markdown",
   "metadata": {
    "collapsed": false
   },
   "source": [
    "## 三、模型配置"
   ]
  },
  {
   "cell_type": "markdown",
   "metadata": {
    "collapsed": false
   },
   "source": [
    "### 3.1 定义模型结构以及模型输入\n",
    "\n",
    "模型方面使用的简单的CRNN-CTC结构，输入形为CHW的图像在经过CNN->Flatten->Linear->RNN->Linear后输出图像中每个位置所对应的字符概率。考虑到CTC解码器在面对图像中元素数量不一、相邻元素重复时会存在无法正确对齐等情况，故额外添加一个类别代表“分隔符”进行改善。\n",
    "\n",
    "CTC相关论文：[Connectionist Temporal Classification: Labelling Unsegmented Sequence Data with Recurrent Neu](http://people.idsia.ch/~santiago/papers/icml2006.pdf) \n",
    "\n",
    "<div align=\"center\">\n",
    "<img src=https://ai-studio-static-online.cdn.bcebos.com/f9458cedbb4441d682f15fefd3f3cae5e49d499bcf0a4bbdb976dfdff5a2e656 width=\"500px\">\n",
    "</div>\n",
    "\n",
    "网络部分，因本篇采用数据集较为简单且图像尺寸较小并不适合较深层次网络。若在对尺寸较大的图像进行模型构建，可以考虑使用更深层次网络/注意力机制来完成。当然也可以通过目标检测形式先检出文本位置，然后进行OCR部分模型构建。\n",
    "\n",
    "<div align=\"center\">\n",
    "<img src=https://ai-studio-static-online.cdn.bcebos.com/19ddf6107e7f47ee9b3b84ee0c12de1e15f7ab8b88f04eed95232440c92fe0d7 width=\"500px\">\n",
    "</div>\n",
    "\n",
    "<a href=\"https://github.com/PaddlePaddle/PaddleOCR\">PaddleOCR效果图</a>\n",
    "</p>"
   ]
  },
  {
   "cell_type": "code",
   "execution_count": null,
   "metadata": {
    "collapsed": false
   },
   "outputs": [],
   "source": [
    "import paddle\n",
    "\n",
    "# 分类数量设置 - 因数据集中共包含0~9共10种数字+分隔符，所以是11分类任务\n",
    "CLASSIFY_NUM = 11\n",
    "\n",
    "# 定义输入层，shape中第0维使用-1则可以在预测时自由调节batch size\n",
    "input_define = paddle.static.InputSpec(shape=[-1, IMAGE_SHAPE_C, IMAGE_SHAPE_H, IMAGE_SHAPE_W],\n",
    "                                   dtype=\"float32\",\n",
    "                                   name=\"img\")\n",
    "\n",
    "# 定义网络结构\n",
    "class Net(paddle.nn.Layer):\n",
    "    def __init__(self, is_infer: bool = False):\n",
    "        super().__init__()\n",
    "        self.is_infer = is_infer\n",
    "\n",
    "        # 定义一层3x3卷积+BatchNorm\n",
    "        self.conv1 = paddle.nn.Conv2D(in_channels=IMAGE_SHAPE_C,\n",
    "                                  out_channels=32,\n",
    "                                  kernel_size=3)\n",
    "        self.bn1 = paddle.nn.BatchNorm2D(32)\n",
    "        # 定义一层步长为2的3x3卷积进行下采样+BatchNorm\n",
    "        self.conv2 = paddle.nn.Conv2D(in_channels=32,\n",
    "                                  out_channels=64,\n",
    "                                  kernel_size=3,\n",
    "                                  stride=2)\n",
    "        self.bn2 = paddle.nn.BatchNorm2D(64)\n",
    "        # 定义一层1x1卷积压缩通道数，输出通道数设置为比LABEL_MAX_LEN稍大的定值可获取更优效果，当然也可设置为LABEL_MAX_LEN\n",
    "        self.conv3 = paddle.nn.Conv2D(in_channels=64,\n",
    "                                  out_channels=LABEL_MAX_LEN + 4,\n",
    "                                  kernel_size=1)\n",
    "        # 定义全连接层，压缩并提取特征（可选）\n",
    "        self.linear = paddle.nn.Linear(in_features=429,\n",
    "                                   out_features=128)\n",
    "        # 定义RNN层来更好提取序列特征，此处为双向LSTM输出为2 x hidden_size，可尝试换成GRU等RNN结构\n",
    "        self.lstm = paddle.nn.LSTM(input_size=128,\n",
    "                               hidden_size=64,\n",
    "                               direction=\"bidirectional\")\n",
    "        # 定义输出层，输出大小为分类数\n",
    "        self.linear2 = paddle.nn.Linear(in_features=64 * 2,\n",
    "                                    out_features=CLASSIFY_NUM)\n",
    "\n",
    "    def forward(self, ipt):\n",
    "        # 卷积 + ReLU + BN\n",
    "        x = self.conv1(ipt)\n",
    "        x = paddle.nn.functional.relu(x)\n",
    "        x = self.bn1(x)\n",
    "        # 卷积 + ReLU + BN\n",
    "        x = self.conv2(x)\n",
    "        x = paddle.nn.functional.relu(x)\n",
    "        x = self.bn2(x)\n",
    "        # 卷积 + ReLU\n",
    "        x = self.conv3(x)\n",
    "        x = paddle.nn.functional.relu(x)\n",
    "        # 将3维特征转换为2维特征 - 此处可以使用reshape代替\n",
    "        x = paddle.tensor.flatten(x, 2)\n",
    "        # 全连接 + ReLU\n",
    "        x = self.linear(x)\n",
    "        x = paddle.nn.functional.relu(x)\n",
    "        # 双向LSTM - [0]代表取双向结果，[1][0]代表forward结果,[1][1]代表backward结果，详细说明可在官方文档中搜索'LSTM'\n",
    "        x = self.lstm(x)[0]\n",
    "        # 输出层 - Shape = (Batch Size, Max label len, Signal) \n",
    "        x = self.linear2(x)\n",
    "\n",
    "        # 在计算损失时ctc-loss会自动进行softmax，所以在预测模式中需额外做softmax获取标签概率\n",
    "        if self.is_infer:\n",
    "            # 输出层 - Shape = (Batch Size, Max label len, Prob) \n",
    "            x = paddle.nn.functional.softmax(x)\n",
    "            # 转换为标签\n",
    "            x = paddle.argmax(x, axis=-1)\n",
    "        return x"
   ]
  },
  {
   "cell_type": "markdown",
   "metadata": {
    "collapsed": false
   },
   "source": [
    "## 四、训练准备"
   ]
  },
  {
   "cell_type": "markdown",
   "metadata": {
    "collapsed": false
   },
   "source": [
    "### 4.1 定义label输入以及超参数\n",
    "监督训练需要定义label，预测则不需要该步骤。"
   ]
  },
  {
   "cell_type": "code",
   "execution_count": null,
   "metadata": {
    "collapsed": false
   },
   "outputs": [],
   "source": [
    "# 数据集路径设置\n",
    "DATA_PATH = \"./data/OCR_Dataset\"\n",
    "# 训练轮数\n",
    "EPOCH = 10\n",
    "# 每批次数据大小\n",
    "BATCH_SIZE = 16\n",
    "\n",
    "label_define = paddle.static.InputSpec(shape=[-1, LABEL_MAX_LEN],\n",
    "                                    dtype=\"int32\",\n",
    "                                    name=\"label\")"
   ]
  },
  {
   "cell_type": "markdown",
   "metadata": {
    "collapsed": false
   },
   "source": [
    "### 4.2 定义CTC Loss\n",
    "\n",
    "了解CTC解码器效果后，我们需要在训练中让模型尽可能接近这种类型输出形式，那么我们需要定义一个CTC Loss来计算模型损失。不必担心，在飞桨框架中内置了多种Loss，无需手动复现即可完成损失计算。\n",
    " \n",
    "使用文档：[CTCLoss](https://www.paddlepaddle.org.cn/documentation/docs/zh/2.0-beta/api/paddle/nn/functional/loss/ctc_loss_cn.html#ctc-loss)"
   ]
  },
  {
   "cell_type": "code",
   "execution_count": null,
   "metadata": {
    "collapsed": false
   },
   "outputs": [],
   "source": [
    "class CTCLoss(paddle.nn.Layer):\n",
    "    def __init__(self):\n",
    "        \"\"\"\n",
    "        定义CTCLoss\n",
    "        \"\"\"\n",
    "        super().__init__()\n",
    "\n",
    "    def forward(self, ipt, label):\n",
    "        input_lengths = paddle.full(shape=[BATCH_SIZE],fill_value=LABEL_MAX_LEN + 4,dtype= \"int64\")\n",
    "        label_lengths = paddle.full(shape=[BATCH_SIZE],fill_value=LABEL_MAX_LEN,dtype= \"int64\")\n",
    "        # 按文档要求进行转换dim顺序\n",
    "        ipt = paddle.tensor.transpose(ipt, [1, 0, 2])\n",
    "        # 计算loss\n",
    "        loss = paddle.nn.functional.ctc_loss(ipt, label, input_lengths, label_lengths, blank=10)\n",
    "        return loss"
   ]
  },
  {
   "cell_type": "markdown",
   "metadata": {
    "collapsed": false
   },
   "source": [
    "### 4.3 实例化模型并配置优化策略"
   ]
  },
  {
   "cell_type": "code",
   "execution_count": null,
   "metadata": {
    "collapsed": false
   },
   "outputs": [],
   "source": [
    "# 实例化模型\n",
    "model = paddle.Model(Net(), inputs=input_define, labels=label_define)"
   ]
  },
  {
   "cell_type": "code",
   "execution_count": null,
   "metadata": {
    "collapsed": false
   },
   "outputs": [],
   "source": [
    "# 定义优化器\n",
    "optimizer = paddle.optimizer.Adam(learning_rate=0.0001, parameters=model.parameters())\n",
    "\n",
    "# 为模型配置运行环境并设置该优化策略\n",
    "model.prepare(optimizer=optimizer,\n",
    "                loss=CTCLoss())"
   ]
  },
  {
   "cell_type": "markdown",
   "metadata": {
    "collapsed": false
   },
   "source": [
    "## 五、开始训练\n"
   ]
  },
  {
   "cell_type": "code",
   "execution_count": null,
   "metadata": {
    "collapsed": false
   },
   "outputs": [],
   "source": [
    "# 执行训练\n",
    "model.fit(train_data=Reader(DATA_PATH),\n",
    "            eval_data=Reader(DATA_PATH, is_val=True),\n",
    "            batch_size=BATCH_SIZE,\n",
    "            epochs=EPOCH,\n",
    "            save_dir=\"output/\",\n",
    "            save_freq=1,\n",
    "            verbose=1,\n",
    "            drop_last=True)"
   ]
  },
  {
   "cell_type": "markdown",
   "metadata": {
    "collapsed": false
   },
   "source": [
    "## 六、预测前准备"
   ]
  },
  {
   "cell_type": "markdown",
   "metadata": {
    "collapsed": false
   },
   "source": [
    "### 6.1 像定义训练Reader一样定义预测Reader"
   ]
  },
  {
   "cell_type": "code",
   "execution_count": null,
   "metadata": {
    "collapsed": false
   },
   "outputs": [],
   "source": [
    "# 与训练近似，但不包含Label\n",
    "class InferReader(Dataset):\n",
    "    def __init__(self, dir_path=None, img_path=None):\n",
    "        \"\"\"\n",
    "        数据读取Reader(预测)\n",
    "        :param dir_path: 预测对应文件夹（二选一）\n",
    "        :param img_path: 预测单张图片（二选一）\n",
    "        \"\"\"\n",
    "        super().__init__()\n",
    "        if dir_path:\n",
    "            # 获取文件夹中所有图片路径\n",
    "            self.img_names = [i for i in os.listdir(dir_path) if os.path.splitext(i)[1] == \".jpg\"]\n",
    "            self.img_paths = [os.path.join(dir_path, i) for i in self.img_names]\n",
    "        elif img_path:\n",
    "            self.img_names = [os.path.split(img_path)[1]]\n",
    "            self.img_paths = [img_path]\n",
    "        else:\n",
    "            raise Exception(\"请指定需要预测的文件夹或对应图片路径\")\n",
    "\n",
    "    def get_names(self):\n",
    "        \"\"\"\n",
    "        获取预测文件名顺序 \n",
    "        \"\"\"\n",
    "        return self.img_names\n",
    "\n",
    "    def __getitem__(self, index):\n",
    "        # 获取图像路径\n",
    "        file_path = self.img_paths[index]\n",
    "        # 使用Pillow来读取图像数据并转成Numpy格式\n",
    "        img = Image.open(file_path)\n",
    "        img = np.array(img, dtype=\"float32\").reshape((IMAGE_SHAPE_C, IMAGE_SHAPE_H, IMAGE_SHAPE_W)) / 255\n",
    "        return img\n",
    "\n",
    "    def __len__(self):\n",
    "        return len(self.img_paths)"
   ]
  },
  {
   "cell_type": "markdown",
   "metadata": {
    "collapsed": false
   },
   "source": [
    "### 6.2 参数设置"
   ]
  },
  {
   "cell_type": "code",
   "execution_count": null,
   "metadata": {
    "collapsed": false
   },
   "outputs": [],
   "source": [
    "# 待预测目录 - 可在测试数据集中挑出\\b3张图像放在该目录中进行推理\n",
    "INFER_DATA_PATH = \"./sample_img\"\n",
    "# 训练后存档点路径 - final 代表最终训练所得模型\n",
    "CHECKPOINT_PATH = \"./output/final.pdparams\"\n",
    "# 每批次处理数量\n",
    "BATCH_SIZE = 32"
   ]
  },
  {
   "cell_type": "markdown",
   "metadata": {
    "collapsed": false
   },
   "source": [
    "### 6.3 展示待预测数据"
   ]
  },
  {
   "cell_type": "code",
   "execution_count": null,
   "metadata": {
    "collapsed": false
   },
   "outputs": [
    {
     "data": {
      "image/png": "[encoded data removed]",
      "text/plain": [
       "<Figure size 720x720 with 3 Axes>"
      ]
     },
     "metadata": {},
     "output_type": "display_data"
    }
   ],
   "source": [
    "import matplotlib.pyplot as plt\n",
    "plt.figure(figsize=(10, 10))\n",
    "sample_idxs = np.random.choice(50000, size=25, replace=False)\n",
    "\n",
    "for img_id, img_name in enumerate(os.listdir(INFER_DATA_PATH)):\n",
    "    plt.subplot(1, 3, img_id + 1)\n",
    "    plt.xticks([])\n",
    "    plt.yticks([])\n",
    "    im = Image.open(os.path.join(INFER_DATA_PATH, img_name))\n",
    "    plt.imshow(im, cmap=plt.cm.binary)\n",
    "    plt.xlabel(\"Img name: \" + img_name)\n",
    "plt.show()"
   ]
  },
  {
   "cell_type": "markdown",
   "metadata": {
    "collapsed": false
   },
   "source": [
    "## 七、开始预测\n",
    "> 飞桨2.3 CTC Decoder 相关API正在迁移中，本节暂时使用简易版解码器。"
   ]
  },
  {
   "cell_type": "code",
   "execution_count": null,
   "metadata": {
    "collapsed": false
   },
   "outputs": [
    {
     "name": "stdout",
     "output_type": "stream",
     "text": [
      "Predict begin...\n",
      "step 1/1 [==============================] - 7ms/step\n",
      "Predict samples: 3\n",
      "文件名：9450.jpg，推理结果为：[8, 2, 0, 5]\n",
      "文件名：9451.jpg，推理结果为：[3, 4, 6, 3]\n",
      "文件名：9452.jpg，推理结果为：[0, 3, 0, 0]\n"
     ]
    }
   ],
   "source": [
    "# 编写简易版解码器\n",
    "def ctc_decode(text, blank=10):\n",
    "    \"\"\"\n",
    "    简易CTC解码器\n",
    "    :param text: 待解码数据\n",
    "    :param blank: 分隔符索引值\n",
    "    :return: 解码后数据\n",
    "    \"\"\"\n",
    "    result = []\n",
    "    cache_idx = -1\n",
    "    for char in text:\n",
    "        if char != blank and char != cache_idx:\n",
    "            result.append(char)\n",
    "        cache_idx = char\n",
    "    return result\n",
    "\n",
    "\n",
    "# 实例化推理模型\n",
    "model = paddle.Model(Net(is_infer=True), inputs=input_define)\n",
    "# 加载训练好的参数模型\n",
    "model.load(CHECKPOINT_PATH)\n",
    "# 设置运行环境\n",
    "model.prepare()\n",
    "\n",
    "# 加载预测Reader\n",
    "infer_reader = InferReader(INFER_DATA_PATH)\n",
    "img_names = infer_reader.get_names()\n",
    "results = model.predict(infer_reader, batch_size=BATCH_SIZE)\n",
    "index = 0\n",
    "for text_batch in results[0]:\n",
    "    for prob in text_batch:\n",
    "        out = ctc_decode(prob, blank=10)\n",
    "        print(f\"文件名：{img_names[index]}，推理结果为：{out}\")\n",
    "        index += 1"
   ]
  }
 ],
 "metadata": {
  "kernelspec": {
   "display_name": "Python 3",
   "language": "python",
   "name": "py35-paddle1.2.0"
  },
  "language_info": {
   "codemirror_mode": {
    "name": "ipython",
    "version": 3
   },
   "file_extension": ".py",
   "mimetype": "text/x-python",
   "name": "python",
   "nbconvert_exporter": "python",
   "pygments_lexer": "ipython3",
   "version": "3.7.4"
  },
  "pycharm": {
   "stem_cell": {
    "cell_type": "raw",
    "source": [],
    "metadata": {
     "collapsed": false
    }
   }
  }
 },
 "nbformat": 4,
 "nbformat_minor": 1
}