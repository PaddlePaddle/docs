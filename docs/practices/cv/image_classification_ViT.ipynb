{
 "cells": [
  {
   "cell_type": "markdown",
   "metadata": {},
   "source": [
    "# CIFAR-100数据集上基于Vision Transformer 实现图片分类\n",
    "\n",
    "作者信息：[GuoQuanhao](https://github.com/GuoQuanhao)\n",
    "\n",
    "更新日期：2022 年 12 月 20 日\n",
    "\n",
    "摘要: 本示例教程演示如何在CIFAR-100数据集上用ViT进行图像分类。"
   ]
  },
  {
   "cell_type": "markdown",
   "metadata": {},
   "source": [
    "## 一、简要介绍\n",
    "![](https://ai-studio-static-online.cdn.bcebos.com/063de5fc4b814ad6bfd976320f7c7cc9ca06b38744b1458189ae3a7356f3ffd4)\n",
    "ViT尽量保持NLP中Transformer结构，做尽量小的结构或代码调整，主要目的是证明NLP中的Transformer能够很好的迁移到视觉任务上\n",
    "\n",
    "- 使用图像切片的方式将图片转变成一组Patch得到一个序列；\n",
    "\n",
    "- 将这一序列Patch通过线性投影层(Patch Embedding)将每一个Patch转变成一个向量(token)；\n",
    "\n",
    "- 由于每个Patch在图像中具有位置信息，因此为每个token增加位置编码(Position Embedding)，这样每个token既包含了图像块原本有的图像信息，又包含了图像块所在的位置信息。此外，额外添加一个分类字符[Extra learnable class embedding, 借鉴NLP领域]，将分类字符的输出作为最终的分类判断【作者发现使用class embedding和采用global average pooling得到的结果区别不大】；\n",
    "\n",
    "<center><img src=\"https://ai-studio-static-online.cdn.bcebos.com/fa28e4e7aa644bc9a801ba746b9e8512efbe30e5e8ba44b0b0ce9999e1141773\" width=\"600\"/></center>\n",
    "\n",
    "- 得到了一个一个的token，将整个序列输入进Transformer，得到反馈的输出；"
   ]
  },
  {
   "cell_type": "markdown",
   "metadata": {},
   "source": [
    "## 二、环境配置\n",
    "本教程基于PaddlePaddle 2.4.0 编写，如果你的环境低于本版本，请先参考[官网](https://www.paddlepaddle.org.cn/install/quick?docurl=/documentation/docs/zh/install/install_NGC_PaddlePaddle_ch.html)安装PaddlePaddle最新版本"
   ]
  },
  {
   "cell_type": "code",
   "execution_count": 1,
   "metadata": {
    "collapsed": false,
    "jupyter": {
     "outputs_hidden": false
    }
   },
   "outputs": [
    {
     "name": "stdout",
     "output_type": "stream",
     "text": [
      "2.4.0\n"
     ]
    },
    {
     "name": "stderr",
     "output_type": "stream",
     "text": [
      "/opt/conda/envs/python35-paddle120-env/lib/python3.7/site-packages/matplotlib/__init__.py:107: DeprecationWarning: Using or importing the ABCs from 'collections' instead of from 'collections.abc' is deprecated, and in 3.8 it will stop working\n",
      "  from collections import MutableMapping\n",
      "/opt/conda/envs/python35-paddle120-env/lib/python3.7/site-packages/matplotlib/rcsetup.py:20: DeprecationWarning: Using or importing the ABCs from 'collections' instead of from 'collections.abc' is deprecated, and in 3.8 it will stop working\n",
      "  from collections import Iterable, Mapping\n",
      "/opt/conda/envs/python35-paddle120-env/lib/python3.7/site-packages/matplotlib/colors.py:53: DeprecationWarning: Using or importing the ABCs from 'collections' instead of from 'collections.abc' is deprecated, and in 3.8 it will stop working\n",
      "  from collections import Sized\n"
     ]
    }
   ],
   "source": [
    "import paddle\n",
    "import time\n",
    "import paddle.nn as nn\n",
    "import paddle.nn.functional as F\n",
    "import paddle.vision.transforms as transforms\n",
    "from paddle.io import DataLoader\n",
    "import numpy as np\n",
    "import paddle.optimizer.lr as lrScheduler\n",
    "from paddle.vision.transforms import BaseTransform\n",
    "import matplotlib.pyplot as plt\n",
    "import math\n",
    "from tqdm import tqdm\n",
    "import os\n",
    "\n",
    "paddle.seed(1024)\n",
    "np.random.seed(512)\n",
    "\n",
    "print(paddle.__version__)"
   ]
  },
  {
   "cell_type": "markdown",
   "metadata": {},
   "source": [
    "## 三、加载数据集\n",
    "本案例将会使用飞桨提供的API完成数据集的下载并为后续的训练任务准备好数据迭代器。CIFAR-100数据集有100个类。每个类有600张大小为$32\\times 32$的彩色图像，其中500张作为训练集，100张作为测试集。"
   ]
  },
  {
   "cell_type": "code",
   "execution_count": 2,
   "metadata": {
    "collapsed": false,
    "jupyter": {
     "outputs_hidden": false
    }
   },
   "outputs": [
    {
     "name": "stdout",
     "output_type": "stream",
     "text": [
      "训练集数量: 50000 训练集图像尺寸 (3, 32, 32)\n",
      "测试集数量: 10000 测试集图像尺寸 (3, 32, 32)\n"
     ]
    }
   ],
   "source": [
    "class AutoTransforms(BaseTransform):\n",
    "    def __init__(self, transforms=None, keys=None):\n",
    "        super(AutoTransforms, self).__init__(keys)\n",
    "        self.transforms = transforms\n",
    "\n",
    "    def _apply_image(self, image):\n",
    "        if self.transforms is None: \n",
    "            return image\n",
    "        choose=np.random.randint(0, len(self.transforms))\n",
    "        return self.transforms[choose](image)\n",
    "\n",
    "# 训练集数据增强\n",
    "mean = [0.5071, 0.4867, 0.4408]\n",
    "std = [0.2675, 0.2565, 0.2761]\n",
    "\n",
    "transforms_list= [\n",
    "    transforms.BrightnessTransform(0.5),\n",
    "    transforms.SaturationTransform(0.5),\n",
    "    transforms.ContrastTransform(0.5),\n",
    "    transforms.HueTransform(0.5),\n",
    "    transforms.RandomRotation(15,\n",
    "                              expand=True,\n",
    "                              fill=128),\n",
    "    transforms.ColorJitter(0.5,0.5,0.5,0.5),\n",
    "    transforms.Grayscale(3)\n",
    "]\n",
    "\n",
    "train_tx = transforms.Compose([\n",
    "           transforms.RandomHorizontalFlip(),\n",
    "           AutoTransforms(transforms_list),\n",
    "           transforms.RandomCrop(32),\n",
    "           transforms.RandomVerticalFlip(),\n",
    "           transforms.Transpose(),\n",
    "           transforms.Normalize(0.0, 255.0),\n",
    "           transforms.Normalize(mean, std)\n",
    "])\n",
    "\n",
    "val_tx = transforms.Compose([\n",
    "         transforms.Transpose(),\n",
    "         transforms.Normalize(0.0, 255.0),\n",
    "         transforms.Normalize(mean, std)\n",
    "])\n",
    "\n",
    "cifar100_train = paddle.vision.datasets.Cifar100(mode='train', transform=train_tx, download=True)\n",
    "cifar100_test = paddle.vision.datasets.Cifar100(mode='test', transform=val_tx, download=True)\n",
    "\n",
    "print('训练集数量:', len(cifar100_train), '训练集图像尺寸', cifar100_train[0][0].shape)\n",
    "print('测试集数量:', len(cifar100_test), '测试集图像尺寸', cifar100_test[0][0].shape)"
   ]
  },
  {
   "cell_type": "markdown",
   "metadata": {},
   "source": [
    "显示训练和测试的图像，其中训练图像包含数据增强"
   ]
  },
  {
   "cell_type": "code",
   "execution_count": 3,
   "metadata": {
    "collapsed": false,
    "jupyter": {
     "outputs_hidden": false
    }
   },
   "outputs": [],
   "source": [
    "def anti_normalize(image):\n",
    "    image = paddle.to_tensor(image)\n",
    "    t_mean = paddle.to_tensor(mean).reshape([3, 1, 1]).expand([3, 32, 32])\n",
    "    t_std = paddle.to_tensor(std).reshape([3, 1, 1]).expand([3, 32, 32])\n",
    "    return (image * t_std + t_mean).transpose([1, 2, 0])\n",
    "\n",
    "def plot_num_images(num, data):\n",
    "    if num < 1:\n",
    "        print('INFO:The number of input pictures must be greater than zero!')\n",
    "    else:\n",
    "        choose_list = []\n",
    "        for i in range(num):\n",
    "            choose_n = np.random.randint(len(data))\n",
    "            choose_list.append(choose_n)\n",
    "        fig = plt.gcf()\n",
    "        fig.set_size_inches(10, 10)\n",
    "        for i in range(num):\n",
    "            ax_img = plt.subplot(math.ceil(num / int(math.sqrt(num))), math.sqrt(num), i + 1)\n",
    "            single_data = data[choose_list[i]]\n",
    "            plt_img = anti_normalize(single_data[0])\n",
    "            ax_img.imshow(plt_img, cmap='binary')\n",
    "            ax_img.set_title('label:' + str(single_data[1]),\n",
    "                             fontsize=10)\n",
    "            ax_img.axis('off')\n",
    "        plt.show()"
   ]
  },
  {
   "cell_type": "markdown",
   "metadata": {},
   "source": [
    "训练集图片可视化"
   ]
  },
  {
   "cell_type": "code",
   "execution_count": 4,
   "metadata": {
    "collapsed": false,
    "jupyter": {
     "outputs_hidden": false
    }
   },
   "outputs": [
    {
     "name": "stderr",
     "output_type": "stream",
     "text": [
      "/opt/conda/envs/python35-paddle120-env/lib/python3.7/site-packages/matplotlib/cbook/__init__.py:2349: DeprecationWarning: Using or importing the ABCs from 'collections' instead of from 'collections.abc' is deprecated, and in 3.8 it will stop working\n",
      "  if isinstance(obj, collections.Iterator):\n",
      "W1219 14:59:51.791672  6508 gpu_resources.cc:61] Please NOTE: device: 0, GPU Compute Capability: 7.0, Driver API Version: 11.2, Runtime API Version: 11.2\n",
      "W1219 14:59:51.795758  6508 gpu_resources.cc:91] device: 0, cuDNN Version: 8.2.\n",
      "/opt/conda/envs/python35-paddle120-env/lib/python3.7/site-packages/matplotlib/cbook/__init__.py:2366: DeprecationWarning: Using or importing the ABCs from 'collections' instead of from 'collections.abc' is deprecated, and in 3.8 it will stop working\n",
      "  return list(data) if isinstance(data, collections.MappingView) else data\n"
     ]
    },
    {
     "data": {
      "image/png": "[encoded data removed]",
      "text/plain": [
       "<Figure size 1000x1000 with 25 Axes>"
      ]
     },
     "metadata": {},
     "output_type": "display_data"
    }
   ],
   "source": [
    "plot_num_images(25, cifar100_train)"
   ]
  },
  {
   "cell_type": "markdown",
   "metadata": {},
   "source": [
    "测试集图片可视化"
   ]
  },
  {
   "cell_type": "code",
   "execution_count": null,
   "metadata": {
    "collapsed": false,
    "jupyter": {
     "outputs_hidden": false
    }
   },
   "outputs": [],
   "source": [
    "plot_num_images(25, cifar100_test)"
   ]
  },
  {
   "cell_type": "markdown",
   "metadata": {},
   "source": [
    "## 四、模型组网\n",
    "\n",
    "ViT模型组网部分包含图像切片Patches，Implement multilayer perceptron (MLP)，多头自注意力机制（MultiHeadSelfAttention）以及TransformerEncoder"
   ]
  },
  {
   "cell_type": "markdown",
   "metadata": {},
   "source": [
    "### 4.1 Patches\n",
    "Patches的目的是实现图像切块，将整张图像分割成一个个小块（patch），以方便后续将图像编码成一个个tokens"
   ]
  },
  {
   "cell_type": "code",
   "execution_count": null,
   "metadata": {
    "collapsed": false,
    "jupyter": {
     "outputs_hidden": false
    }
   },
   "outputs": [],
   "source": [
    "class Patches(paddle.nn.Layer):\n",
    "    def __init__(self, patch_size):\n",
    "        super(Patches, self).__init__()\n",
    "        self.patch_size = patch_size\n",
    "\n",
    "    def forward(self, images):\n",
    "        patches = F.unfold(images, self.patch_size, self.patch_size)\n",
    "        return patches.transpose([0,2,1])"
   ]
  },
  {
   "cell_type": "markdown",
   "metadata": {},
   "source": [
    "可视化产生的image patches"
   ]
  },
  {
   "cell_type": "code",
   "execution_count": null,
   "metadata": {
    "collapsed": false,
    "jupyter": {
     "outputs_hidden": false
    }
   },
   "outputs": [],
   "source": [
    "image_size = 32\n",
    "patch_size = 8\n",
    "\n",
    "image = anti_normalize(paddle.to_tensor(cifar100_test[np.random.choice(len(cifar100_test))][0]))\n",
    "fig=plt.figure(figsize=(8, 4))\n",
    "grid = plt.GridSpec(4, 8, wspace=0.5, figure=fig)\n",
    "plt.subplot(grid[:4, :4])\n",
    "plt.imshow(image)\n",
    "plt.axis(\"off\")\n",
    "\n",
    "patches = Patches(patch_size)(image.transpose([2, 0, 1]).unsqueeze(0))\n",
    "\n",
    "print(f\"Image size: {image_size} X {image_size}\")\n",
    "print(f\"Patch size: {patch_size} X {patch_size}\")\n",
    "print(f\"Patches per image: {patches.shape[1]}\")\n",
    "print(f\"Elements per patch: {patches.shape[-1]}\")\n",
    "\n",
    "for i, patch in enumerate(patches[0]):\n",
    "    plt.subplot(grid[i // 4, i % 4 + 4])\n",
    "    patch_img = patch.reshape([3, patch_size, patch_size]).transpose([1,2,0])\n",
    "    plt.imshow(patch_img)\n",
    "    plt.axis(\"off\")"
   ]
  },
  {
   "cell_type": "markdown",
   "metadata": {},
   "source": [
    "### 4.2 MLP\n",
    "\n",
    "多层感知机。包含线性层，激活层(GELU)，DropOut层，将输入扩增指定维度，再缩减回去，MLP不改变输入输出维度"
   ]
  },
  {
   "cell_type": "code",
   "execution_count": null,
   "metadata": {
    "collapsed": false,
    "jupyter": {
     "outputs_hidden": false
    }
   },
   "outputs": [],
   "source": [
    "class Mlp(nn.Layer):\n",
    "    def __init__(self, feats, mlp_hidden, dropout=0.1):\n",
    "        super().__init__()\n",
    "        self.fc1 = nn.Linear(feats, mlp_hidden)\n",
    "        self.fc2 = nn.Linear(mlp_hidden, feats)\n",
    "        self.act = nn.GELU()\n",
    "        self.dropout = nn.Dropout(dropout)\n",
    "    \n",
    "    def forward(self, x):\n",
    "        x = self.fc1(x)\n",
    "        x = self.act(x)\n",
    "        x = self.dropout(x)\n",
    "        x = self.fc2(x)\n",
    "        x = self.dropout(x)\n",
    "\n",
    "        return x"
   ]
  },
  {
   "cell_type": "markdown",
   "metadata": {},
   "source": [
    "### 4.3 Multi-Head Self Attention(MSA)\n",
    "\n",
    "多头自注意力机制。每个token的维度是768，假如设置12个头，每个头的维度为$768/12=64$，得到$Q,K,V=197×64$维度。最后将12个头的输出拼接起来最后又得到$197×768$维度。论文发现自注意力在网络刚开始时就能注意到全局上的信息，而不像CNN一样在浅层部分感受野非常小，在深层部分，自注意力距离非常可以非常远，能够学到带有语义性的概念，而不是靠临近的像素点去判断\n",
    "<center class=\"half\"><img src=https://ai-studio-static-online.cdn.bcebos.com/8129768a52b04f898d9115ca39a384e8fea7e26dd9f94cf5bd2411a1ad0553c1 width=\"400\"/>&nbsp&nbsp&nbsp&nbsp&nbsp&nbsp&nbsp&nbsp<img src=https://ai-studio-static-online.cdn.bcebos.com/d61d6660198243a1afc4027b0ac3a7446864458b8fc149ecb8861ffd6fa1dd70 width=\"200\"/> </center>"
   ]
  },
  {
   "cell_type": "code",
   "execution_count": null,
   "metadata": {
    "collapsed": false,
    "jupyter": {
     "outputs_hidden": false
    }
   },
   "outputs": [],
   "source": [
    "class MultiHeadSelfAttention(nn.Layer):\n",
    "    def __init__(self, feats, head=8, dropout=0., attn_dropout=0.0):\n",
    "        super(MultiHeadSelfAttention, self).__init__()\n",
    "        self.head = head\n",
    "        self.feats = feats\n",
    "        self.sqrt_d = self.feats ** 0.5\n",
    "        self.qkv = nn.Linear(feats,\n",
    "                             feats * 3)\n",
    "        self.out = nn.Linear(feats, feats)\n",
    "        self.dropout = nn.Dropout(dropout)\n",
    "        self.attn_dropout = nn.Dropout(attn_dropout)\n",
    "\n",
    "    def transpose_multi_head(self, x):\n",
    "        new_shape = x.shape[:-1] + [self.head, self.feats//self.head]\n",
    "        x = x.reshape(new_shape)\n",
    "        x = x.transpose([0, 2, 1, 3])\n",
    "        return x\n",
    "\n",
    "    def forward(self, x):\n",
    "        b, n, f = x.shape\n",
    "        qkv = self.qkv(x).chunk(3, -1)\n",
    "        q, k, v = map(self.transpose_multi_head, qkv)\n",
    "        attn = F.softmax(paddle.einsum(\"bhif, bhjf->bhij\", q, k) / self.sqrt_d, axis=-1)\n",
    "        attn = self.attn_dropout(attn)\n",
    "        attn = paddle.einsum(\"bhij, bhjf->bihf\", attn, v)\n",
    "        out = self.dropout(self.out(attn.flatten(2)))\n",
    "        return out"
   ]
  },
  {
   "cell_type": "markdown",
   "metadata": {},
   "source": [
    "### 4.4 Transformer Encoder\n",
    "\n",
    "一个Transformer Encoder包括LayerNorm层，MultiHeadSelfAttention以及MLP，将输入进来的token编码输出"
   ]
  },
  {
   "cell_type": "code",
   "execution_count": null,
   "metadata": {
    "collapsed": false,
    "jupyter": {
     "outputs_hidden": false
    }
   },
   "outputs": [],
   "source": [
    "class TransformerEncoder(nn.Layer):\n",
    "    def __init__(self, feats, mlp_hidden, head=8, dropout=0., attn_dropout=0.):\n",
    "        super(TransformerEncoder, self).__init__()\n",
    "        self.layer1 = nn.LayerNorm(feats)\n",
    "        self.msa = MultiHeadSelfAttention(feats, head=head, dropout=dropout, attn_dropout=attn_dropout)\n",
    "        self.layer2 = nn.LayerNorm(feats)\n",
    "        self.mlp = Mlp(feats, mlp_hidden)\n",
    "\n",
    "    def forward(self, x):\n",
    "        out = self.msa(self.layer1(x)) + x\n",
    "        out = self.mlp(self.layer2(out)) + out\n",
    "        return out"
   ]
  },
  {
   "cell_type": "markdown",
   "metadata": {},
   "source": [
    "### 4.5 ViT\n",
    "将Patches，MLP，MultiHeadSelfAttention以及TransformerEncoder组合，实现ViT"
   ]
  },
  {
   "cell_type": "code",
   "execution_count": null,
   "metadata": {
    "collapsed": false,
    "jupyter": {
     "outputs_hidden": false
    }
   },
   "outputs": [],
   "source": [
    "class ViT(nn.Layer):\n",
    "    def __init__(self, in_c=3, num_classes=10, img_size=32, patch=8, dropout=0., attn_dropout=0.0, num_layers=7, hidden=384, mlp_hidden=384*4, head=8, is_cls_token=True):\n",
    "        super(ViT, self).__init__()\n",
    "        self.patch = patch\n",
    "        self.is_cls_token = is_cls_token\n",
    "        self.patch_size = img_size // self.patch\n",
    "        self.patches = Patches(self.patch_size)\n",
    "        f = (img_size // self.patch) ** 2 * 3\n",
    "        num_tokens = (self.patch ** 2) + 1 if self.is_cls_token else (self.patch ** 2)\n",
    "\n",
    "        self.emb = nn.Linear(f, hidden)\n",
    "        self.cls_token  = paddle.create_parameter(\n",
    "            shape = [1, 1, hidden],\n",
    "            dtype = 'float32',\n",
    "            default_initializer=nn.initializer.Assign(paddle.randn([1, 1, hidden]))\n",
    "        ) if is_cls_token else None\n",
    "\n",
    "        self.pos_embedding  = paddle.create_parameter(\n",
    "            shape = [1,num_tokens, hidden],\n",
    "            dtype = 'float32',\n",
    "            default_initializer=nn.initializer.Assign(paddle.randn([1,num_tokens, hidden]))\n",
    "        )\n",
    "\n",
    "        encoder_list = [TransformerEncoder(hidden, mlp_hidden=mlp_hidden, dropout=dropout, attn_dropout=attn_dropout, head=head) for _ in range(num_layers)]\n",
    "        self.encoder = nn.Sequential(*encoder_list)\n",
    "        self.fc = nn.Sequential(\n",
    "            nn.LayerNorm(hidden),\n",
    "            nn.Linear(hidden, num_classes) # for cls_token\n",
    "        )\n",
    "\n",
    "    def forward(self, x):\n",
    "        out = self.patches(x)\n",
    "        out = self.emb(out)\n",
    "        if self.is_cls_token:\n",
    "            out = paddle.concat([self.cls_token.tile([out.shape[0],1,1]), out], axis=1)\n",
    "        out = out + self.pos_embedding\n",
    "        out = self.encoder(out)\n",
    "        if self.is_cls_token:\n",
    "            out = out[:,0]\n",
    "        else:\n",
    "            out = out.mean(1)\n",
    "        out = self.fc(out)\n",
    "        return out"
   ]
  },
  {
   "cell_type": "markdown",
   "metadata": {},
   "source": [
    "## 五、Slover构建\n",
    "为了取得更好的效果，构建LabelSmoothingCrossEntropyLoss作为损失函数，并采用带Warmup的Cosine学习率衰减方式"
   ]
  },
  {
   "cell_type": "code",
   "execution_count": null,
   "metadata": {
    "collapsed": false,
    "jupyter": {
     "outputs_hidden": false
    }
   },
   "outputs": [],
   "source": [
    "class LabelSmoothingCrossEntropyLoss(nn.Layer):\n",
    "    def __init__(self, classes, smoothing=0.0, dim=-1):\n",
    "        super(LabelSmoothingCrossEntropyLoss, self).__init__()\n",
    "        self.confidence = 1.0 - smoothing\n",
    "        self.smoothing = smoothing\n",
    "        self.cls = classes\n",
    "        self.dim = dim\n",
    "\n",
    "    def forward(self, pred, target):\n",
    "        pred = F.log_softmax(pred, axis=self.dim)\n",
    "        with paddle.no_grad():\n",
    "            true_dist = paddle.ones_like(pred)\n",
    "            true_dist.fill_(self.smoothing / (self.cls - 1))\n",
    "            true_dist.put_along_axis_(target.unsqueeze(1), self.confidence, 1)\n",
    "        return paddle.mean(paddle.sum(-true_dist * pred, axis=self.dim))\n",
    "\n",
    "def get_scheduler(epochs, warmup_epochs, learning_rate):\n",
    "    base_scheduler = lrScheduler.CosineAnnealingDecay(learning_rate=learning_rate, T_max=epochs, eta_min=1e-5, verbose=False)\n",
    "    scheduler = lrScheduler.LinearWarmup(base_scheduler, warmup_epochs, 1e-5, learning_rate, last_epoch=-1, verbose=False)\n",
    "    return scheduler"
   ]
  },
  {
   "cell_type": "markdown",
   "metadata": {},
   "source": [
    "验证衰减方式是否正确"
   ]
  },
  {
   "cell_type": "code",
   "execution_count": null,
   "metadata": {
    "collapsed": false,
    "jupyter": {
     "outputs_hidden": false
    }
   },
   "outputs": [],
   "source": [
    "schedulerTest = get_scheduler(epochs=100, warmup_epochs=5, learning_rate=1e-3)\n",
    "lr = []\n",
    "for epoch in range(100):\n",
    "    lr.append(schedulerTest.get_lr())\n",
    "    schedulerTest.step()\n",
    "plt.plot(lr)\n",
    "plt.show()"
   ]
  },
  {
   "cell_type": "markdown",
   "metadata": {},
   "source": [
    "## 六、模型训练\n",
    "\n",
    "在训练之前可以通过paddle.summary查验模型"
   ]
  },
  {
   "cell_type": "code",
   "execution_count": null,
   "metadata": {
    "collapsed": false,
    "jupyter": {
     "outputs_hidden": false
    }
   },
   "outputs": [],
   "source": [
    "Model = ViT(in_c=3, num_classes=100, img_size=32, patch=8, dropout=0.5, attn_dropout=0.1, num_layers=7, hidden=384, head=12, mlp_hidden=384, is_cls_token=True)\n",
    "paddle.summary(Model, (1, 3, 32, 32))"
   ]
  },
  {
   "cell_type": "code",
   "execution_count": null,
   "metadata": {
    "collapsed": false,
    "jupyter": {
     "outputs_hidden": false
    }
   },
   "outputs": [],
   "source": [
    "# hyperparameter\n",
    "EPOCHS = 200\n",
    "BATCH_SIZE = 128\n",
    "NUM_CLASSES = 100\n",
    "WARMUP_EPOCHS = 5\n",
    "LR = 1e-3\n",
    "\n",
    "scheduler = get_scheduler(epochs=EPOCHS, warmup_epochs=WARMUP_EPOCHS, learning_rate=LR)\n",
    "optim = paddle.optimizer.Adam(learning_rate=scheduler, parameters=Model.parameters(), weight_decay=5e-5)\n",
    "criterion = LabelSmoothingCrossEntropyLoss(NUM_CLASSES, smoothing=0.1)\n",
    "\n",
    "train_loader = DataLoader(cifar100_train, batch_size=BATCH_SIZE, shuffle=True, num_workers=4, drop_last=False)\n",
    "test_loader = DataLoader(cifar100_test, batch_size=BATCH_SIZE * 16, shuffle=False, num_workers=4, drop_last=False)"
   ]
  },
  {
   "cell_type": "code",
   "execution_count": null,
   "metadata": {
    "collapsed": false,
    "jupyter": {
     "outputs_hidden": false
    }
   },
   "outputs": [],
   "source": [
    "def train_epoch(model):\n",
    "    acc_num = 0\n",
    "    total_samples = 0\n",
    "    nb = len(train_loader)\n",
    "    pbar = enumerate(train_loader)\n",
    "    pbar = tqdm(pbar, total=nb, colour='red')\n",
    "    pbar.set_description(f'EPOCH: {epoch:3d}')\n",
    "    for _, (_, data) in enumerate(pbar):\n",
    "        x_data = data[0]\n",
    "        y_data = data[1]\n",
    "        predicts = model(x_data)\n",
    "        loss = criterion(predicts, y_data)\n",
    "        loss_item = loss.item()\n",
    "        acc_num += paddle.sum(predicts.argmax(1) == y_data).item()\n",
    "        total_samples += y_data.shape[0]\n",
    "        total_acc = acc_num / total_samples\n",
    "        current_lr = optim.get_lr()\n",
    "        loss.backward()\n",
    "        pbar.set_postfix(train_loss=f'{loss_item:5f}', train_acc=f'{total_acc:5f}', train_lr=f'{current_lr:5f}')\n",
    "        optim.step()\n",
    "        optim.clear_grad()\n",
    "    scheduler.step()\n",
    "\n",
    "@paddle.no_grad()\n",
    "def validation(model):\n",
    "    model.eval()\n",
    "    acc_num = 0\n",
    "    total_samples = 0\n",
    "    nb = len(test_loader)\n",
    "    pbar = enumerate(test_loader)\n",
    "    pbar = tqdm(pbar, total=nb, colour='green')\n",
    "    pbar.set_description(f'EVAL')\n",
    "    for _, (_, data) in enumerate(pbar):\n",
    "        x_data = data[0]\n",
    "        y_data = data[1]\n",
    "        predicts = model(x_data)\n",
    "        acc_num += paddle.sum(predicts.argmax(1) == y_data).item()\n",
    "        total_samples += y_data.shape[0]\n",
    "        batch_acc = paddle.metric.accuracy(predicts, y_data.unsqueeze(1)).item()\n",
    "        total_acc = acc_num / total_samples\n",
    "        pbar.set_postfix(eval_batch_acc=f'{batch_acc:4f}', total_acc=f'{total_acc:4f}')"
   ]
  },
  {
   "cell_type": "markdown",
   "metadata": {},
   "source": [
    "200 epochs训练大概耗时80分钟"
   ]
  },
  {
   "cell_type": "code",
   "execution_count": null,
   "metadata": {
    "collapsed": false,
    "jupyter": {
     "outputs_hidden": false
    }
   },
   "outputs": [
    {
     "name": "stderr",
     "output_type": "stream",
     "text": [
      "EPOCH:   0:  38%|\u001b[31m███▊      \u001b[0m| 149/391 [00:08<00:12, 19.06it/s, train_acc=0.011406, train_loss=4.731184, train_lr=0.000010]"
     ]
    }
   ],
   "source": [
    "start = time.time()\n",
    "for epoch in range(EPOCHS):\n",
    "    train_epoch(Model)\n",
    "    validation(Model)\n",
    "    if (epoch + 1) % 50 == 0:\n",
    "        paddle.save(Model.state_dict(), str(epoch + 1) + '.pdparams')\n",
    "paddle.save(Model.state_dict(), 'finished.pdparams')\n",
    "end = time.time()\n",
    "print('Training Cost ', (end-start) / 60, 'minutes')\n"
   ]
  },
  {
   "cell_type": "markdown",
   "metadata": {},
   "source": [
    "## 七、模型评估\n",
    "实现TOP1为0.53左右精度，TOP5为0.73左右精度"
   ]
  },
  {
   "cell_type": "code",
   "execution_count": null,
   "metadata": {
    "collapsed": false,
    "jupyter": {
     "outputs_hidden": false
    }
   },
   "outputs": [],
   "source": [
    "state_dict = paddle.load('finished.pdparams')\n",
    "Model.set_state_dict(state_dict)\n",
    "Model.eval()\n",
    "top1_num = 0\n",
    "top5_num = 0\n",
    "total_samples = 0\n",
    "nb = len(test_loader)\n",
    "pbar = enumerate(test_loader)\n",
    "pbar = tqdm(pbar, total=nb, colour='green')\n",
    "pbar.set_description(f'EVAL')\n",
    "with paddle.no_grad():\n",
    "    for _, (_, data) in enumerate(pbar):\n",
    "        x_data = data[0]\n",
    "        y_data = data[1]\n",
    "        predicts = Model(x_data)\n",
    "        total_samples += y_data.shape[0]\n",
    "        top1_num += paddle.metric.accuracy(predicts, y_data.unsqueeze(1), k=1).item() * y_data.shape[0]\n",
    "        top5_num += paddle.metric.accuracy(predicts, y_data.unsqueeze(1), k=5).item() * y_data.shape[0]\n",
    "        TOP1 = top1_num / total_samples\n",
    "        TOP5 = top5_num / total_samples\n",
    "        pbar.set_postfix(TOP1=f'{TOP1:4f}', TOP5=f'{TOP5:4f}')"
   ]
  },
  {
   "cell_type": "markdown",
   "metadata": {
    "tags": []
   },
   "source": [
    "## 八、模型预测"
   ]
  },
  {
   "cell_type": "code",
   "execution_count": null,
   "metadata": {
    "collapsed": false,
    "jupyter": {
     "outputs_hidden": false
    }
   },
   "outputs": [],
   "source": [
    "Model.eval()\n",
    "data = cifar100_test[np.random.randint(0, len(cifar100_test))]\n",
    "pred = Model(paddle.to_tensor(data[0]).unsqueeze(0)).argmax(-1).item()\n",
    "print('预测结果为:', pred, '标签为:', data[1].item())"
   ]
  }
 ],
 "metadata": {
  "kernelspec": {
   "display_name": "MegEngine",
   "language": "python",
   "name": "megengine"
  },
  "language_info": {
   "codemirror_mode": {
    "name": "ipython",
    "version": 3
   },
   "file_extension": ".py",
   "mimetype": "text/x-python",
   "name": "python",
   "nbconvert_exporter": "python",
   "pygments_lexer": "ipython3",
   "version": "3.7.13"
  }
 },
 "nbformat": 4,
 "nbformat_minor": 4
}
