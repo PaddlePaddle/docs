{
 "cells": [
  {
   "cell_type": "markdown",
   "metadata": {
    "collapsed": false
   },
   "source": [
    "# 使用卷积神经网络进行图像分类\n",
    "\n",
    "**作者:** [PaddlePaddle](https://github.com/PaddlePaddle) <br>\n",
    "**日期:** 2022.4 <br>\n",
    "**摘要:** 本示例教程将会演示如何使用飞桨的卷积神经网络来完成图像分类任务。这是一个较为简单的示例，将会使用一个由三个卷积层组成的网络完成[cifar10](https://www.cs.toronto.edu/~kriz/cifar.html)数据集的图像分类任务。"
   ]
  },
  {
   "cell_type": "markdown",
   "metadata": {
    "collapsed": false
   },
   "source": [
    "## 一、环境配置\n",
    "\n",
    "本教程基于PaddlePaddle 2.3.0-rc0 编写，如果你的环境不是本版本，请先参考官网[安装](https://www.paddlepaddle.org.cn/install/quick) PaddlePaddle 2.3.0-rc0 。"
   ]
  },
  {
   "cell_type": "code",
   "execution_count": 1,
   "metadata": {
    "collapsed": false
   },
   "outputs": [
    {
     "name": "stdout",
     "output_type": "stream",
     "text": [
      "2.3.0-rc0\n"
     ]
    }
   ],
   "source": [
    "import paddle\n",
    "import paddle.nn.functional as F\n",
    "from paddle.vision.transforms import ToTensor\n",
    "import numpy as np\n",
    "import matplotlib.pyplot as plt\n",
    "\n",
    "print(paddle.__version__)"
   ]
  },
  {
   "cell_type": "markdown",
   "metadata": {
    "collapsed": false
   },
   "source": [
    "## 二、加载数据集\n",
    "\n",
    "本案例将会使用飞桨提供的API完成数据集的下载并为后续的训练任务准备好数据迭代器。cifar10数据集由60000张大小为32 * 32的彩色图片组成，其中有50000张图片组成了训练集，另外10000张图片组成了测试集。这些图片分为10个类别，将训练一个模型能够把图片进行正确的分类。"
   ]
  },
  {
   "cell_type": "code",
   "execution_count": 2,
   "metadata": {
    "collapsed": false
   },
   "outputs": [
    {
     "name": "stdout",
     "output_type": "stream",
     "text": [
      "item   137/41626 [..............................] - ETA: 52s - 1ms/ite"
     ]
    },
    {
     "name": "stdout",
     "output_type": "stream",
     "text": [
      "item   347/41626 [..............................] - ETA: 37s - 909us/itemitem   590/41626 [..............................] - ETA: 32s - 796us/it\n",
      "item  2923/41626 [=>............................] - ETA: 25s - 669us/ite"
     ]
    },
    {
     "name": "stdout",
     "output_type": "stream",
     "text": [
      "item  6690/41626 [===>..........................] - ETA: 22s - 646us/i\n",
      "item  7126/41626 [====>.........................] - ETA: 22s - 643us/it"
     ]
    },
    {
     "name": "stdout",
     "output_type": "stream",
     "text": [
      "item  8913/41626 [=====>........................] - ETA: 20s - 642us/it\n",
      "item 11332/41626 [=======>......................] - ETA: 19s - 638us/it"
     ]
    },
    {
     "name": "stdout",
     "output_type": "stream",
     "text": [
      "item 13007/41626 [========>.....................] - ETA: 18s - 636us/itemitem 13956/41626 [=========>....................] - ETA: 17s - 636us/it\n",
      "item 15571/41626 [==========>...................] - ETA: 16s - 637us/it"
     ]
    },
    {
     "name": "stdout",
     "output_type": "stream",
     "text": [
      "item 17014/41626 [===========>..................] - ETA: 15s - 636us/itemitem 17227/41626 [===========>..................] - ETA: 15s - 636us/i\n",
      "item 19795/41626 [=============>................] - ETA: 13s - 635us/it"
     ]
    },
    {
     "name": "stdout",
     "output_type": "stream",
     "text": [
      "item 21223/41626 [==============>...............] - ETA: 12s - 635us/itemitem 22638/41626 [===============>..............] - ETA: 12s - 634us/it\n",
      "item 24005/41626 [================>.............] - ETA: 11s - 634us/ite"
     ]
    },
    {
     "name": "stdout",
     "output_type": "stream",
     "text": [
      "item 28384/41626 [===================>..........] - ETA: 8s - 634us/it"
     ]
    },
    {
     "name": "stdout",
     "output_type": "stream",
     "text": [
      "item 30619/41626 [=====================>........] - ETA: 6s - 634us/\n",
      "item 32695/41626 [======================>.......] - ETA: 5s - 634us/it"
     ]
    },
    {
     "name": "stdout",
     "output_type": "stream",
     "text": [
      "item 34362/41626 [=======================>......] - ETA: 4s - 633us/\n",
      "item 36989/41626 [=========================>....] - ETA: 2s - 633us/it"
     ]
    },
    {
     "name": "stdout",
     "output_type": "stream",
     "text": [
      "item 38747/41626 [==========================>...] - ETA: 1s - 633us/itemitem 38987/41626 [===========================>..] - ETA: 1s - 633us/\n",
      "item 41278/41626 [============================>.] - ETA: 0s - 633us/item"
     ]
    },
    {
     "name": "stderr",
     "output_type": "stream",
     "text": [
      "IOPub message rate exceeded.\n",
      "The notebook server will temporarily stop sending output\n",
      "to the client in order to avoid crashing it.\n",
      "To change this limit, set the config variable\n",
      "`--NotebookApp.iopub_msg_rate_limit`.\n",
      "\n",
      "Current values:\n",
      "NotebookApp.iopub_msg_rate_limit=1000.0 (msgs/sec)\n",
      "NotebookApp.rate_limit_window=3.0 (secs)\n",
      "\n"
     ]
    }
   ],
   "source": [
    "transform = ToTensor()\n",
    "cifar10_train = paddle.vision.datasets.Cifar10(mode='train',\n",
    "                                               transform=transform)\n",
    "cifar10_test = paddle.vision.datasets.Cifar10(mode='test',\n",
    "                                              transform=transform)"
   ]
  },
  {
   "cell_type": "markdown",
   "metadata": {
    "collapsed": false
   },
   "source": [
    "## 三、组建网络\n",
    "接下来使用飞桨定义一个使用了三个二维卷积（ ``Conv2D`` ) 且每次卷积之后使用 ``relu`` 激活函数，两个二维池化层（ ``MaxPool2D`` ），和两个线性变换层组成的分类网络，来把一个(32, 32, 3)形状的图片通过卷积神经网络映射为10个输出，这对应着10个分类的类别。"
   ]
  },
  {
   "cell_type": "code",
   "execution_count": 3,
   "metadata": {
    "collapsed": false
   },
   "outputs": [],
   "source": [
    "class MyNet(paddle.nn.Layer):\n",
    "    def __init__(self, num_classes=1):\n",
    "        super(MyNet, self).__init__()\n",
    "\n",
    "        self.conv1 = paddle.nn.Conv2D(in_channels=3, out_channels=32, kernel_size=(3, 3))\n",
    "        self.pool1 = paddle.nn.MaxPool2D(kernel_size=2, stride=2)\n",
    "\n",
    "        self.conv2 = paddle.nn.Conv2D(in_channels=32, out_channels=64, kernel_size=(3,3))\n",
    "        self.pool2 = paddle.nn.MaxPool2D(kernel_size=2, stride=2)\n",
    "\n",
    "        self.conv3 = paddle.nn.Conv2D(in_channels=64, out_channels=64, kernel_size=(3,3))\n",
    "\n",
    "        self.flatten = paddle.nn.Flatten()\n",
    "\n",
    "        self.linear1 = paddle.nn.Linear(in_features=1024, out_features=64)\n",
    "        self.linear2 = paddle.nn.Linear(in_features=64, out_features=num_classes)\n",
    "\n",
    "    def forward(self, x):\n",
    "        x = self.conv1(x)\n",
    "        x = F.relu(x)\n",
    "        x = self.pool1(x)\n",
    "\n",
    "        x = self.conv2(x)\n",
    "        x = F.relu(x)\n",
    "        x = self.pool2(x)\n",
    "\n",
    "        x = self.conv3(x)\n",
    "        x = F.relu(x)\n",
    "\n",
    "        x = self.flatten(x)\n",
    "        x = self.linear1(x)\n",
    "        x = F.relu(x)\n",
    "        x = self.linear2(x)\n",
    "        return x"
   ]
  },
  {
   "cell_type": "markdown",
   "metadata": {
    "collapsed": false
   },
   "source": [
    "## 四、模型训练&预测\n",
    "\n",
    "接下来，用一个循环来进行模型的训练，将会: <br> \n",
    "- 使用 ``paddle.optimizer.Adam`` 优化器来进行优化。 \n",
    "- 使用 ``F.cross_entropy`` 来计算损失值。 \n",
    "- 使用 ``paddle.io.DataLoader`` 来加载数据并组建batch。"
   ]
  },
  {
   "cell_type": "code",
   "execution_count": 4,
   "metadata": {
    "collapsed": false
   },
   "outputs": [],
   "source": [
    "epoch_num = 10\n",
    "batch_size = 32\n",
    "learning_rate = 0.001"
   ]
  },
  {
   "cell_type": "code",
   "execution_count": 5,
   "metadata": {
    "collapsed": false
   },
   "outputs": [
    {
     "name": "stderr",
     "output_type": "stream",
     "text": [
      "W0422 18:46:14.491096   218 gpu_context.cc:244] Please NOTE: device: 0, GPU Compute Capability: 7.0, Driver API Version: 10.1, Runtime API Version: 10.1\n",
      "W0422 18:46:14.495162   218 gpu_context.cc:272] device: 0, cuDNN Version: 7.6.\n"
     ]
    },
    {
     "name": "stdout",
     "output_type": "stream",
     "text": [
      "start training ... \n",
      "epoch: 0, batch_id: 0, loss is: [2.6365247]\n",
      "epoch: 0, batch_id: 1000, loss is: [1.6511033]\n",
      "[validation] accuracy/loss: 0.6052316427230835/1.1072614192962646\n",
      "epoch: 1, batch_id: 0, loss is: [1.2555599]\n",
      "epoch: 1, batch_id: 1000, loss is: [1.0468134]\n",
      "[validation] accuracy/loss: 0.659744381904602/0.9759457111358643\n",
      "epoch: 2, batch_id: 0, loss is: [0.935238]\n",
      "epoch: 2, batch_id: 1000, loss is: [1.1341345]\n",
      "[validation] accuracy/loss: 0.6822084784507751/0.9051249623298645\n",
      "epoch: 3, batch_id: 0, loss is: [0.67600495]\n",
      "epoch: 3, batch_id: 1000, loss is: [0.9933354]\n",
      "[validation] accuracy/loss: 0.6809105277061462/0.9242604374885559\n",
      "epoch: 4, batch_id: 0, loss is: [0.55304813]\n",
      "epoch: 4, batch_id: 1000, loss is: [0.8691678]\n",
      "[validation] accuracy/loss: 0.6847044825553894/0.9043663144111633\n",
      "epoch: 5, batch_id: 0, loss is: [0.6037531]\n",
      "epoch: 5, batch_id: 1000, loss is: [0.61593914]\n",
      "[validation] accuracy/loss: 0.723542332649231/0.8300285935401917\n",
      "epoch: 6, batch_id: 0, loss is: [0.71193403]\n",
      "epoch: 6, batch_id: 1000, loss is: [0.8199645]\n",
      "[validation] accuracy/loss: 0.7282348275184631/0.8335299491882324\n",
      "epoch: 7, batch_id: 0, loss is: [0.3681252]\n",
      "epoch: 7, batch_id: 1000, loss is: [0.6241748]\n",
      "[validation] accuracy/loss: 0.7123602032661438/0.8713681101799011\n",
      "epoch: 8, batch_id: 0, loss is: [0.5829371]\n",
      "epoch: 8, batch_id: 1000, loss is: [0.48872867]\n",
      "[validation] accuracy/loss: 0.7156549692153931/0.9057596921920776\n",
      "epoch: 9, batch_id: 0, loss is: [0.39203867]\n",
      "epoch: 9, batch_id: 1000, loss is: [0.498074]\n",
      "[validation] accuracy/loss: 0.7095646858215332/0.9451571702957153\n"
     ]
    }
   ],
   "source": [
    "val_acc_history = []\n",
    "val_loss_history = []\n",
    "\n",
    "def train(model):\n",
    "    print('start training ... ')\n",
    "    # turn into training mode\n",
    "    model.train()\n",
    "\n",
    "    opt = paddle.optimizer.Adam(learning_rate=learning_rate,\n",
    "                                parameters=model.parameters())\n",
    "\n",
    "    train_loader = paddle.io.DataLoader(cifar10_train,\n",
    "                                        shuffle=True,\n",
    "                                        batch_size=batch_size)\n",
    "\n",
    "    valid_loader = paddle.io.DataLoader(cifar10_test, batch_size=batch_size)\n",
    "    \n",
    "    for epoch in range(epoch_num):\n",
    "        for batch_id, data in enumerate(train_loader()):\n",
    "            x_data = data[0]\n",
    "            y_data = paddle.to_tensor(data[1])\n",
    "            y_data = paddle.unsqueeze(y_data, 1)\n",
    "\n",
    "            logits = model(x_data)\n",
    "            loss = F.cross_entropy(logits, y_data)\n",
    "\n",
    "            if batch_id % 1000 == 0:\n",
    "                print(\"epoch: {}, batch_id: {}, loss is: {}\".format(epoch, batch_id, loss.numpy()))\n",
    "            loss.backward()\n",
    "            opt.step()\n",
    "            opt.clear_grad()\n",
    "\n",
    "        # evaluate model after one epoch\n",
    "        model.eval()\n",
    "        accuracies = []\n",
    "        losses = []\n",
    "        for batch_id, data in enumerate(valid_loader()):\n",
    "            x_data = data[0]\n",
    "            y_data = paddle.to_tensor(data[1])\n",
    "            y_data = paddle.unsqueeze(y_data, 1)\n",
    "\n",
    "            logits = model(x_data)\n",
    "            loss = F.cross_entropy(logits, y_data)\n",
    "            acc = paddle.metric.accuracy(logits, y_data)\n",
    "            accuracies.append(acc.numpy())\n",
    "            losses.append(loss.numpy())\n",
    "\n",
    "        avg_acc, avg_loss = np.mean(accuracies), np.mean(losses)\n",
    "        print(\"[validation] accuracy/loss: {}/{}\".format(avg_acc, avg_loss))\n",
    "        val_acc_history.append(avg_acc)\n",
    "        val_loss_history.append(avg_loss)\n",
    "        model.train()\n",
    "\n",
    "model = MyNet(num_classes=10)\n",
    "train(model)"
   ]
  },
  {
   "cell_type": "code",
   "execution_count": 6,
   "metadata": {
    "collapsed": false
   },
   "outputs": [
    {
     "data": {
      "text/plain": [
       "<matplotlib.legend.Legend at 0x7f2bfa51ae90>"
      ]
     },
     "execution_count": 6,
     "metadata": {},
     "output_type": "execute_result"
    },
    {
     "data": {
      "image/png": "[encoded data removed]",
      "text/plain": [
       "<Figure size 432x288 with 1 Axes>"
      ]
     },
     "metadata": {},
     "output_type": "display_data"
    }
   ],
   "source": [
    "plt.plot(val_acc_history, label = 'validation accuracy')\n",
    "\n",
    "plt.xlabel('Epoch')\n",
    "plt.ylabel('Accuracy')\n",
    "plt.ylim([0.5, 0.8])\n",
    "plt.legend(loc='lower right')"
   ]
  },
  {
   "cell_type": "markdown",
   "metadata": {
    "collapsed": false
   },
   "source": [
    "## The End\n",
    "从上面的示例可以看到，在cifar10数据集上，使用简单的卷积神经网络，用飞桨可以达到70%以上的准确率。你也可以通过调整网络结构和参数，达到更好的效果。"
   ]
  }
 ],
 "metadata": {
  "kernelspec": {
   "display_name": "Python 3",
   "language": "python",
   "name": "py35-paddle1.2.0"
  },
  "language_info": {
   "codemirror_mode": {
    "name": "ipython",
    "version": 3
   },
   "file_extension": ".py",
   "mimetype": "text/x-python",
   "name": "python",
   "nbconvert_exporter": "python",
   "pygments_lexer": "ipython3",
   "version": "3.7.4"
  }
 },
 "nbformat": 4,
 "nbformat_minor": 1
}
