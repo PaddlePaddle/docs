{
 "cells": [
  {
   "cell_type": "markdown",
   "metadata": {
    "jupyter": {
     "outputs_hidden": false
    },
    "tags": []
   },
   "source": [
    "# MNIST数据集下用Paddle框架的动态图模式玩耍经典对抗生成网络（GAN）\n",
    "\n",
    "作者信息：[Liyulingyue](https://github.com/Liyulingyue)\n",
    "\n",
    "更新日期：2022 年 11 月 18 日\n",
    "\n",
    "## 1. 简要介绍\n",
    "### 关于GAN\n",
    "[GAN](https://arxiv.org/abs/1406.2661)（Generative Adversarial Networks, 对抗生成网络）是Ian J. Goodfellow等在2014年提出的一种建立生成模型的框架。在这个框架中，用于刻画目标数据的生成模型（Generative model, 下文简称G）和用于鉴别数据是否真实的鉴别模型（Discriminative model, 下文简称D）被交替训练，最终使得G能够完美刻画目标数据的分布，而D的误判率趋近于1/2。\n",
    "\n",
    "GAN的训练框架可以描述如下：\n",
    "\n",
    "\n",
    "```\n",
    "1. 抽取一组真实数据\n",
    "2. 根据随机数，通过G生成假数据\n",
    "3. 训练鉴别器D\n",
    "4. 将生成数据输入D，将D的输出和正标签求loss\n",
    "5. 根据第四步的loss更新G\n",
    "6. 重复第一到第五步直到收敛\n",
    "```\n",
    "\n",
    "### 关于MINIST\n",
    "[MINIST](http://yann.lecun.com/exdb/mnist/)是一个手写数字数据集，Paddle已经集成了这个数据集，可以通过封装好的API直接获取这个数据集中的内容。\n",
    "\n",
    "### 关于Paddle的梯度计算\n",
    "Paddle动态图模式梯度计算是自动累加模式。因此，在运行GAN（对抗生成网络）的时候，可以多个batch/多个模块的loss单独进行backward，但也需要需要注意清除梯度和阻断反向传播。\n",
    "\n",
    "关于梯度累加和阻断反向传播的介绍如下：\n",
    "\n",
    "1. 梯度累加：梯度累加是指在模型训练过程中，训练一个 batch 的数据得到梯度后，不立即用该梯度更新模型参数，而是继续下一个 batch 数据的训练，得到梯度后继续循环，多次循环后梯度不断累加，直至达到一定次数后，用累加的梯度更新参数，这样可以起到变相扩大 batch_size 的作用。受限于显存大小，可能无法开到更大的 batch_size，使用梯度累加可以实现增大 batch_size 的作用。动态图模式天然支持梯度累加，即只要不调用梯度清零 clear_grad 方法，动态图的梯度会一直累积。\n",
    "2. 阻断反向传播：在一些任务中，只希望拿到正向预测的值，但是不希望更新参数，或者在反向的时候剪枝，减少计算量，阻断反向的传播，即可使用`paddle.Tensor.detach()`产生一个新的、和当前计算图分离的，但是拥有当前变量内容的临时变量。\n",
    "\n",
    "\n",
    "## 2. 环境设置\n",
    "导入包，主要包括paddle和一些画图辅助，如plt\n",
    "\n",
    "\n",
    "\n"
   ]
  },
  {
   "cell_type": "code",
   "execution_count": 8,
   "metadata": {
    "execution": {
     "iopub.execute_input": "2022-12-23T13:46:17.513893Z",
     "iopub.status.busy": "2022-12-23T13:46:17.513484Z",
     "iopub.status.idle": "2022-12-23T13:46:17.518065Z",
     "shell.execute_reply": "2022-12-23T13:46:17.517491Z",
     "shell.execute_reply.started": "2022-12-23T13:46:17.513865Z"
    },
    "scrolled": true,
    "tags": []
   },
   "outputs": [
    {
     "name": "stdout",
     "output_type": "stream",
     "text": [
      "2.3.2\r\n"
     ]
    }
   ],
   "source": [
    "import os\n",
    "import random\n",
    "import paddle \n",
    "import numpy as np\n",
    "import matplotlib.pyplot as plt\n",
    "import matplotlib.animation as animation\n",
    "import cv2\n",
    "\n",
    "# 输出使用的paddle版本\n",
    "print(paddle.__version__)"
   ]
  },
  {
   "cell_type": "markdown",
   "metadata": {},
   "source": [
    "## 3. 数据集\n",
    "Paddle已经集成MNIST数据集了，直接调用即可。本项目通过`paddle.vision.datasets.MNIST`导入数据集，并且用paddle.io.DataLoader封装为读取器。\n",
    "\n",
    "如果想要换成其他数据集，可以自行参考如何使用`paddle.io.Dataset`和`paddle.io.DataLoader`，封装后即可轻松复用本项目代码进行训练。\n",
    "\n",
    "首先，加载数据集。"
   ]
  },
  {
   "cell_type": "code",
   "execution_count": null,
   "metadata": {
    "scrolled": true,
    "tags": []
   },
   "outputs": [],
   "source": [
    "dataset = paddle.vision.datasets.MNIST(mode='train', \n",
    "                                        transform=paddle.vision.transforms.Compose([\n",
    "                                            paddle.vision.transforms.Resize((32,32)),\n",
    "                                            paddle.vision.transforms.Normalize([0], [255])\n",
    "                                        ]))\n",
    "\n",
    "dataloader = paddle.io.DataLoader(dataset, batch_size=32,shuffle=True, num_workers=4)"
   ]
  },
  {
   "cell_type": "markdown",
   "metadata": {},
   "source": [
    "查看数据的形状，可以看到从dataloader返回的数据格式中，每张图大小为32*32，每张图片带有一个标签。"
   ]
  },
  {
   "cell_type": "code",
   "execution_count": 3,
   "metadata": {
    "execution": {
     "iopub.execute_input": "2022-11-18T14:56:26.398712Z",
     "iopub.status.busy": "2022-11-18T14:56:26.398464Z",
     "iopub.status.idle": "2022-11-18T14:56:28.588250Z",
     "shell.execute_reply": "2022-11-18T14:56:28.586489Z",
     "shell.execute_reply.started": "2022-11-18T14:56:26.398689Z"
    },
    "scrolled": true
   },
   "outputs": [
    {
     "name": "stdout",
     "output_type": "stream",
     "text": [
      "0 [32, 1, 32, 32] [32, 1]\r\n"
     ]
    }
   ],
   "source": [
    "for step, data in enumerate(dataloader):\n",
    "    data, label = data\n",
    "    print(step, data.shape, label.shape)\n",
    "    break"
   ]
  },
  {
   "cell_type": "markdown",
   "metadata": {},
   "source": [
    "查看一张图片。"
   ]
  },
  {
   "cell_type": "code",
   "execution_count": 5,
   "metadata": {
    "execution": {
     "iopub.execute_input": "2022-11-18T14:56:33.127447Z",
     "iopub.status.busy": "2022-11-18T14:56:33.126723Z",
     "iopub.status.idle": "2022-11-18T14:56:33.300217Z",
     "shell.execute_reply": "2022-11-18T14:56:33.299356Z",
     "shell.execute_reply.started": "2022-11-18T14:56:33.127406Z"
    },
    "scrolled": true
   },
   "outputs": [
    {
     "data": {
      "text/plain": [
       "<matplotlib.image.AxesImage at 0x7f58c027bb50>"
      ]
     },
     "execution_count": 5,
     "metadata": {},
     "output_type": "execute_result"
    },
    {
     "data": {
      "image/png": "[encoded data removed]",
      "text/plain": [
       "<Figure size 640x480 with 1 Axes>"
      ]
     },
     "metadata": {},
     "output_type": "display_data"
    }
   ],
   "source": [
    "plt.imshow(data[0].numpy()[0])\n",
    "# plt.show()"
   ]
  },
  {
   "cell_type": "markdown",
   "metadata": {},
   "source": [
    "通过下述代码可以快捷查看十张图片。"
   ]
  },
  {
   "cell_type": "code",
   "execution_count": 11,
   "metadata": {
    "execution": {
     "iopub.execute_input": "2022-11-18T15:44:02.287336Z",
     "iopub.status.busy": "2022-11-18T15:44:02.285886Z",
     "iopub.status.idle": "2022-11-18T15:44:02.507338Z",
     "shell.execute_reply": "2022-11-18T15:44:02.506391Z",
     "shell.execute_reply.started": "2022-11-18T15:44:02.287293Z"
    },
    "scrolled": true
   },
   "outputs": [
    {
     "data": {
      "image/png": "[encoded data removed]",
      "text/plain": [
       "<Figure size 640x480 with 10 Axes>"
      ]
     },
     "metadata": {},
     "output_type": "display_data"
    }
   ],
   "source": [
    "for i in range(10):\n",
    "    image = data[i].numpy()[0]\n",
    "    plt.subplot(1, 10, i + 1)\n",
    "\n",
    "    plt.imshow(image, vmin=-1, vmax=1)\n",
    "    plt.axis('off')\n",
    "    plt.xticks([])\n",
    "    plt.yticks([])\n",
    "    plt.subplots_adjust(wspace=0.1, hspace=0.1)"
   ]
  },
  {
   "cell_type": "markdown",
   "metadata": {},
   "source": [
    "## 4. 模型组网\n",
    "GAN是一种生成网络框架，因此，可以选用任何网络去训练生成模型，只需要保证G和D的构造是满足需求的即可。\n",
    "\n",
    "本项目中，Generator由3个全连接层组建，用于将一个长为100的随机数向量扩充为长和宽均为32的图片。Discriminator同样由3个全连接层组成，用于将一张图片转化为数字，1表明这张图片是真实的，0表示这张图片是由网络生成的。"
   ]
  },
  {
   "cell_type": "code",
   "execution_count": 8,
   "metadata": {
    "execution": {
     "iopub.execute_input": "2022-11-18T14:57:02.380985Z",
     "iopub.status.busy": "2022-11-18T14:57:02.380290Z",
     "iopub.status.idle": "2022-11-18T14:57:02.844687Z",
     "shell.execute_reply": "2022-11-18T14:57:02.843654Z",
     "shell.execute_reply.started": "2022-11-18T14:57:02.380931Z"
    },
    "scrolled": true
   },
   "outputs": [
    {
     "name": "stdout",
     "output_type": "stream",
     "text": [
      "Generator(\r\n",
      "  (gen): Sequential(\r\n",
      "    (0): Linear(in_features=100, out_features=256, dtype=float32)\r\n",
      "    (1): ReLU(name=True)\r\n",
      "    (2): Linear(in_features=256, out_features=512, dtype=float32)\r\n",
      "    (3): ReLU(name=True)\r\n",
      "    (4): Linear(in_features=512, out_features=1024, dtype=float32)\r\n",
      "    (5): Tanh()\r\n",
      "  )\r\n",
      ")\r\n",
      "---------------------------------------------------------------------------\r\n",
      " Layer (type)       Input Shape          Output Shape         Param #    \r\n",
      "===========================================================================\r\n",
      "   Linear-2          [[8, 100]]            [8, 256]           25,856     \r\n",
      "    ReLU-1           [[8, 256]]            [8, 256]              0       \r\n",
      "   Linear-3          [[8, 256]]            [8, 512]           131,584    \r\n",
      "    ReLU-2           [[8, 512]]            [8, 512]              0       \r\n",
      "   Linear-4          [[8, 512]]           [8, 1024]           525,312    \r\n",
      "    Tanh-1          [[8, 1024]]           [8, 1024]              0       \r\n",
      "===========================================================================\r\n",
      "Total params: 682,752\r\n",
      "Trainable params: 682,752\r\n",
      "Non-trainable params: 0\r\n",
      "---------------------------------------------------------------------------\r\n",
      "Input size (MB): 0.00\r\n",
      "Forward/backward pass size (MB): 0.22\r\n",
      "Params size (MB): 2.60\r\n",
      "Estimated Total Size (MB): 2.83\r\n",
      "---------------------------------------------------------------------------\r\n",
      "\r\n"
     ]
    },
    {
     "data": {
      "text/plain": [
       "{'total_params': 682752, 'trainable_params': 682752}"
      ]
     },
     "execution_count": 8,
     "metadata": {},
     "output_type": "execute_result"
    }
   ],
   "source": [
    "# Generator Code\n",
    "class Generator(paddle.nn.Layer):\n",
    "    def __init__(self, ):\n",
    "        super(Generator, self).__init__()\n",
    "        self.gen = paddle.nn.Sequential(\n",
    "            paddle.nn.Linear(in_features=100, out_features=256),\n",
    "            paddle.nn.ReLU(True),\n",
    "            paddle.nn.Linear(in_features=256, out_features=512),\n",
    "            paddle.nn.ReLU(True),\n",
    "            paddle.nn.Linear(in_features=512, out_features=1024),\n",
    "            paddle.nn.Tanh(),\n",
    "        )\n",
    "\n",
    "    def forward(self, x):\n",
    "        x = self.gen(x)\n",
    "        out = paddle.reshape(x,[-1,1,32,32])\n",
    "        return out\n",
    "\n",
    "# 创建模型\n",
    "netG = Generator()\n",
    "print(netG)\n",
    "\n",
    "# 通过paddle.summary可以查看一个指定形状的数据在网络中各个模块中的传递\n",
    "paddle.summary(netG, (8, 100))"
   ]
  },
  {
   "cell_type": "code",
   "execution_count": 9,
   "metadata": {
    "execution": {
     "iopub.execute_input": "2022-11-18T14:57:11.520623Z",
     "iopub.status.busy": "2022-11-18T14:57:11.520016Z",
     "iopub.status.idle": "2022-11-18T14:57:11.537228Z",
     "shell.execute_reply": "2022-11-18T14:57:11.536325Z",
     "shell.execute_reply.started": "2022-11-18T14:57:11.520583Z"
    },
    "scrolled": true,
    "tags": []
   },
   "outputs": [
    {
     "name": "stdout",
     "output_type": "stream",
     "text": [
      "Discriminator(\r\n",
      "  (dis): Sequential(\r\n",
      "    (0): Linear(in_features=1024, out_features=512, dtype=float32)\r\n",
      "    (1): LeakyReLU(negative_slope=0.2)\r\n",
      "    (2): Linear(in_features=512, out_features=256, dtype=float32)\r\n",
      "    (3): LeakyReLU(negative_slope=0.2)\r\n",
      "    (4): Linear(in_features=256, out_features=1, dtype=float32)\r\n",
      "    (5): Sigmoid()\r\n",
      "  )\r\n",
      ")\r\n",
      "---------------------------------------------------------------------------\r\n",
      " Layer (type)       Input Shape          Output Shape         Param #    \r\n",
      "===========================================================================\r\n",
      "   Linear-5         [[8, 1024]]            [8, 512]           524,800    \r\n",
      "  LeakyReLU-1        [[8, 512]]            [8, 512]              0       \r\n",
      "   Linear-6          [[8, 512]]            [8, 256]           131,328    \r\n",
      "  LeakyReLU-2        [[8, 256]]            [8, 256]              0       \r\n",
      "   Linear-7          [[8, 256]]             [8, 1]              257      \r\n",
      "   Sigmoid-1          [[8, 1]]              [8, 1]               0       \r\n",
      "===========================================================================\r\n",
      "Total params: 656,385\r\n",
      "Trainable params: 656,385\r\n",
      "Non-trainable params: 0\r\n",
      "---------------------------------------------------------------------------\r\n",
      "Input size (MB): 0.03\r\n",
      "Forward/backward pass size (MB): 0.09\r\n",
      "Params size (MB): 2.50\r\n",
      "Estimated Total Size (MB): 2.63\r\n",
      "---------------------------------------------------------------------------\r\n",
      "\r\n"
     ]
    },
    {
     "data": {
      "text/plain": [
       "{'total_params': 656385, 'trainable_params': 656385}"
      ]
     },
     "execution_count": 9,
     "metadata": {},
     "output_type": "execute_result"
    }
   ],
   "source": [
    "# Discriminator Code\n",
    "class Discriminator(paddle.nn.Layer):\n",
    "    def __init__(self, ):\n",
    "        super(Discriminator, self).__init__()\n",
    "        self.dis = paddle.nn.Sequential(\n",
    "            paddle.nn.Linear(in_features=1024, out_features=512),\n",
    "            paddle.nn.LeakyReLU(0.2),\n",
    "            paddle.nn.Linear(in_features=512, out_features=256),\n",
    "            paddle.nn.LeakyReLU(0.2),\n",
    "            paddle.nn.Linear(in_features=256, out_features=1),\n",
    "            paddle.nn.Sigmoid()\n",
    "        )\n",
    "\n",
    "    def forward(self, x):\n",
    "        x = paddle.reshape(x, [-1, 1024])\n",
    "        out = self.dis(x)\n",
    "        return out\n",
    "\n",
    "netD = Discriminator()\n",
    "print(netD)\n",
    "\n",
    "# 通过paddle.summary可以查看一个指定形状的数据在网络中各个模块中的传递\n",
    "paddle.summary(netD, (8, 1, 32, 32))"
   ]
  },
  {
   "cell_type": "markdown",
   "metadata": {},
   "source": [
    "## 5. 模型训练\n",
    "\n",
    "本项目的训练参数配置如下：\n",
    "\n",
    "- 迭代次数：10\n",
    "- 损失函数：[均方损失函数（MSELoss）](https://www.paddlepaddle.org.cn/documentation/docs/zh/api/paddle/nn/MSELoss_cn.html#mseloss)\n",
    "- 优化器：Adam优化器，出自[Adam论文](https://arxiv.org/abs/1412.6980)的第二节，能够利用梯度的一阶矩估计和二阶矩估计动态调整每个参数的学习率。\n",
    "- 学习率：0.0002\n",
    "\n",
    "下述程序大约需要运行半个小时。\n",
    "\n"
   ]
  },
  {
   "cell_type": "code",
   "execution_count": 19,
   "metadata": {
    "execution": {
     "iopub.execute_input": "2022-11-18T16:16:22.907384Z",
     "iopub.status.busy": "2022-11-18T16:16:22.906610Z",
     "iopub.status.idle": "2022-11-18T16:16:25.184043Z",
     "shell.execute_reply": "2022-11-18T16:16:25.182665Z",
     "shell.execute_reply.started": "2022-11-18T16:16:22.907342Z"
    },
    "scrolled": true,
    "tags": []
   },
   "outputs": [
    {
     "name": "stdout",
     "output_type": "stream",
     "text": [
      "Epoch ID=0 Batch ID=100 \r\n",
      "\r\n",
      " D-Loss=0.3066627085208893 G-Loss=0.5891025066375732\r\n"
     ]
    },
    {
     "data": {
      "image/png": "[encoded data removed]",
      "text/plain": [
       "<Figure size 1500x1500 with 10 Axes>"
      ]
     },
     "metadata": {},
     "output_type": "display_data"
    }
   ],
   "source": [
    "# create Net\n",
    "netG = Generator()\n",
    "netD = Discriminator()\n",
    "\n",
    "# 如果想要接着之前训练的模型训练，将if 0修改为if 1即可\n",
    "if 1:\n",
    "    try:\n",
    "        mydict = paddle.load('generator.params')\n",
    "        netG.set_dict(mydict)\n",
    "        mydict = paddle.load('discriminator.params')\n",
    "        netD.set_dict(mydict)\n",
    "    except:\n",
    "        print('fail to load model')\n",
    "\n",
    "optimizerD = paddle.optimizer.Adam(parameters=netD.parameters(), learning_rate=0.0002, beta1=0.5, beta2=0.999)\n",
    "optimizerG = paddle.optimizer.Adam(parameters=netG.parameters(), learning_rate=0.0002, beta1=0.5, beta2=0.999)\n",
    "\n",
    "# 最大迭代epoch\n",
    "max_epoch = 10\n",
    "\n",
    "now_step = 0\n",
    "for epoch in range(max_epoch):\n",
    "    for step, (data, label) in enumerate(dataloader):\n",
    "        ############################\n",
    "        # (1) Update D network: maximize log(D(x)) + log(1 - D(G(z)))\n",
    "        ###########################\n",
    "\n",
    "        # 清除D的梯度\n",
    "        optimizerD.clear_grad()\n",
    "\n",
    "        # 传入正样本，并更新梯度\n",
    "        pos_img = data\n",
    "        label = paddle.full([pos_img.shape[0], 1], 1, dtype='float32')\n",
    "        pre = netD(pos_img)\n",
    "        loss_D_1 = paddle.nn.functional.mse_loss(pre, label)\n",
    "        loss_D_1.backward()\n",
    "\n",
    "        # 通过randn构造随机数，制造负样本，并传入D，更新梯度\n",
    "        noise = paddle.randn([pos_img.shape[0], 100], 'float32')\n",
    "        neg_img = netG(noise)\n",
    "        label = paddle.full([pos_img.shape[0], 1], 0, dtype='float32')\n",
    "        pre = netD(neg_img.detach()) # 通过detach阻断网络梯度传播，不影响G的梯度计算\n",
    "        loss_D_2 = paddle.nn.functional.mse_loss(pre,label)\n",
    "        loss_D_2.backward()\n",
    "\n",
    "        # 更新D网络参数\n",
    "        optimizerD.step()\n",
    "        optimizerD.clear_grad()\n",
    "\n",
    "        loss_D = loss_D_1 + loss_D_2\n",
    "\n",
    "        ############################\n",
    "        # (2) Update G network: maximize log(D(G(z)))\n",
    "        ###########################\n",
    "\n",
    "        # 清除D的梯度\n",
    "        optimizerG.clear_grad()\n",
    "\n",
    "        noise = paddle.randn([pos_img.shape[0], 100],'float32')\n",
    "        fake = netG(noise)\n",
    "        label = paddle.full((pos_img.shape[0], 1), 1, dtype=np.float32,)\n",
    "        output = netD(fake)\n",
    "        loss_G = paddle.nn.functional.mse_loss(output,label)\n",
    "        loss_G.backward()\n",
    "\n",
    "        # 更新G网络参数\n",
    "        optimizerG.step()\n",
    "        optimizerG.clear_grad()\n",
    "\n",
    "        now_step += 1\n",
    "\n",
    "        ###########################\n",
    "        # 可视化\n",
    "        ###########################\n",
    "        if now_step % 100 == 0:\n",
    "            generated_image = netG(noise).numpy()\n",
    "            imgs = []\n",
    "            plt.figure(figsize=(15,15))\n",
    "            try:\n",
    "                for i in range(10):\n",
    "                    # image = generated_image[i].transpose()\n",
    "                    image = generated_image[i]\n",
    "                    image = np.where(image > 0, image, 0)\n",
    "                    image = image.transpose((1,2,0))\n",
    "                    plt.subplot(10, 10, i + 1)\n",
    "                    \n",
    "                    plt.imshow(image[...,0], vmin=-1, vmax=1)\n",
    "                    plt.axis('off')\n",
    "                    plt.xticks([])\n",
    "                    plt.yticks([])\n",
    "                    plt.subplots_adjust(wspace=0.1, hspace=0.1)\n",
    "                msg = 'Epoch ID={0} Batch ID={1} \\n\\n D-Loss={2} G-Loss={3}'.format(epoch, now_step, loss_D.numpy()[0], loss_G.numpy()[0])\n",
    "                print(msg)\n",
    "                plt.suptitle(msg,fontsize=20)\n",
    "                plt.draw()\n",
    "                # 保存在work文件夹下\n",
    "                plt.savefig('{}/{:04d}_{:04d}.png'.format('work', epoch, now_step), bbox_inches='tight')\n",
    "                plt.pause(0.01)\n",
    "            except IOError:\n",
    "                print(IOError)\n",
    "paddle.save(netG.state_dict(), \"generator.params\")\n",
    "paddle.save(netD.state_dict(), \"discriminator.params\")"
   ]
  },
  {
   "cell_type": "markdown",
   "metadata": {},
   "source": [
    "## 6. 模型预测\n",
    "通过下述代码即可调用刚刚训练好的生成器。"
   ]
  },
  {
   "cell_type": "code",
   "execution_count": 29,
   "metadata": {
    "execution": {
     "iopub.execute_input": "2022-11-18T16:20:27.124813Z",
     "iopub.status.busy": "2022-11-18T16:20:27.124035Z",
     "iopub.status.idle": "2022-11-18T16:20:27.311705Z",
     "shell.execute_reply": "2022-11-18T16:20:27.310847Z",
     "shell.execute_reply.started": "2022-11-18T16:20:27.124762Z"
    },
    "scrolled": true
   },
   "outputs": [
    {
     "data": {
      "text/plain": [
       "<matplotlib.image.AxesImage at 0x7f58c0125810>"
      ]
     },
     "execution_count": 29,
     "metadata": {},
     "output_type": "execute_result"
    },
    {
     "data": {
      "image/png": "[encoded data removed]",
      "text/plain": [
       "<Figure size 640x480 with 1 Axes>"
      ]
     },
     "metadata": {},
     "output_type": "display_data"
    }
   ],
   "source": [
    "netG = Generator()\n",
    "mydict = paddle.load('generator.params')\n",
    "netG.set_dict(mydict)\n",
    "\n",
    "noise = paddle.randn([1, 100],'float32')\n",
    "img = netG(noise)\n",
    "img = img.numpy()[0][0]\n",
    "img[img<0] = 0\n",
    "plt.imshow(img)"
   ]
  },
  {
   "cell_type": "markdown",
   "metadata": {},
   "source": [
    "## 7. 结语\n",
    "本文简单的用全连接网络跑通了GAN的流程，如果对网络有更高的性能需求可以参考文末的两个参考链接，内容类似，但是会更为详实。\n",
    "\n",
    "在本文的基础上，如果删除了激活层，代码也是可以运行的，但是没有激活层的情况下，模型学习到的效果较差，因此，在构造GAN的时候需要较为慎重的选择对应的生成模型。"
   ]
  },
  {
   "cell_type": "markdown",
   "metadata": {},
   "source": [
    "## 8. 致谢\n",
    "本文参考以下项目\n",
    "- [一文搞懂生成对抗网络之经典GAN（动态图、VisualDL2.0）](https://aistudio.baidu.com/aistudio/projectdetail/551962)\n",
    "- [生成对抗网络七日打卡营](https://aistudio.baidu.com/aistudio/course/introduce/16651)"
   ]
  },
  {
   "cell_type": "markdown",
   "metadata": {},
   "source": [
    "请点击[此处](https://ai.baidu.com/docs#/AIStudio_Project_Notebook/a38e5576)查看本环境基本用法.  <br>\n",
    "Please click [here ](https://ai.baidu.com/docs#/AIStudio_Project_Notebook/a38e5576) for more detailed instructions. "
   ]
  }
 ],
 "metadata": {
  "kernelspec": {
   "display_name": "Python 3",
   "language": "python",
   "name": "py35-paddle1.2.0"
  },
  "language_info": {
   "codemirror_mode": {
    "name": "ipython",
    "version": 3
   },
   "file_extension": ".py",
   "mimetype": "text/x-python",
   "name": "python",
   "nbconvert_exporter": "python",
   "pygments_lexer": "ipython3",
   "version": "3.7.4"
  }
 },
 "nbformat": 4,
 "nbformat_minor": 4
}
