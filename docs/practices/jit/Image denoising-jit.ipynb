{
 "cells": [
  {
   "cell_type": "code",
   "execution_count": 1,
   "metadata": {
    "collapsed": false,
    "execution": {
     "iopub.execute_input": "2022-05-04T08:34:20.989158Z",
     "iopub.status.busy": "2022-05-04T08:34:20.988840Z",
     "iopub.status.idle": "2022-05-04T08:34:21.185186Z",
     "shell.execute_reply": "2022-05-04T08:34:21.184481Z",
     "shell.execute_reply.started": "2022-05-04T08:34:20.989130Z"
    },
    "jupyter": {
     "outputs_hidden": false
    },
    "scrolled": true,
    "tags": []
   },
   "outputs": [],
   "source": [
    "# 查看当前挂载的数据集目录, 该目录下的变更重启环境后会自动还原\n",
    "# View dataset directory. \n",
    "# This directory will be recovered automatically after resetting environment. \n",
    "!ls /home/aistudio/data"
   ]
  },
  {
   "cell_type": "code",
   "execution_count": 2,
   "metadata": {
    "collapsed": false,
    "execution": {
     "iopub.execute_input": "2022-05-04T08:34:23.044833Z",
     "iopub.status.busy": "2022-05-04T08:34:23.044557Z",
     "iopub.status.idle": "2022-05-04T08:34:23.241258Z",
     "shell.execute_reply": "2022-05-04T08:34:23.240528Z",
     "shell.execute_reply.started": "2022-05-04T08:34:23.044805Z"
    },
    "jupyter": {
     "outputs_hidden": false
    },
    "scrolled": true,
    "tags": []
   },
   "outputs": [],
   "source": [
    "# 查看工作区文件, 该目录下的变更将会持久保存. 请及时清理不必要的文件, 避免加载过慢.\n",
    "# View personal work directory. \n",
    "# All changes under this directory will be kept even after reset. \n",
    "# Please clean unnecessary files in time to speed up environment loading. \n",
    "!ls /home/aistudio/work"
   ]
  },
  {
   "cell_type": "code",
   "execution_count": 3,
   "metadata": {
    "collapsed": false,
    "execution": {
     "iopub.execute_input": "2022-05-04T08:34:26.119091Z",
     "iopub.status.busy": "2022-05-04T08:34:26.118786Z",
     "iopub.status.idle": "2022-05-04T08:34:28.698866Z",
     "shell.execute_reply": "2022-05-04T08:34:28.698104Z",
     "shell.execute_reply.started": "2022-05-04T08:34:26.119062Z"
    },
    "jupyter": {
     "outputs_hidden": false
    },
    "scrolled": true,
    "tags": []
   },
   "outputs": [
    {
     "name": "stdout",
     "output_type": "stream",
     "text": [
      "Looking in indexes: https://pypi.tuna.tsinghua.edu.cn/simple\n",
      "Collecting beautifulsoup4\n",
      "  Downloading https://pypi.tuna.tsinghua.edu.cn/packages/9c/d8/909c4089dbe4ade9f9705f143c9f13f065049a9d5e7d34c828aefdd0a97c/beautifulsoup4-4.11.1-py3-none-any.whl (128 kB)\n",
      "\u001b[2K     \u001b[90m━━━━━━━━━━━━━━━━━━━━━━━━━━━━━━━━━━━━━━━\u001b[0m \u001b[32m128.2/128.2 KB\u001b[0m \u001b[31m1.7 MB/s\u001b[0m eta \u001b[36m0:00:00\u001b[0ma \u001b[36m0:00:01\u001b[0m\n",
      "\u001b[?25hCollecting soupsieve>1.2\n",
      "  Downloading https://pypi.tuna.tsinghua.edu.cn/packages/16/e3/4ad79882b92617e3a4a0df1960d6bce08edfb637737ac5c3f3ba29022e25/soupsieve-2.3.2.post1-py3-none-any.whl (37 kB)\n",
      "Installing collected packages: soupsieve, beautifulsoup4\n",
      "Successfully installed beautifulsoup4-4.11.1 soupsieve-2.3.2.post1\n"
     ]
    }
   ],
   "source": [
    "# 如果需要进行持久化安装, 需要使用持久化路径, 如下方代码示例:\n",
    "# If a persistence installation is required, \n",
    "# you need to use the persistence path as the following: \n",
    "!mkdir /home/aistudio/external-libraries\n",
    "!pip install beautifulsoup4 -t /home/aistudio/external-libraries"
   ]
  },
  {
   "cell_type": "code",
   "execution_count": 4,
   "metadata": {
    "collapsed": false,
    "execution": {
     "iopub.execute_input": "2022-05-04T08:34:29.817313Z",
     "iopub.status.busy": "2022-05-04T08:34:29.817070Z",
     "iopub.status.idle": "2022-05-04T08:34:29.820288Z",
     "shell.execute_reply": "2022-05-04T08:34:29.819897Z",
     "shell.execute_reply.started": "2022-05-04T08:34:29.817291Z"
    },
    "jupyter": {
     "outputs_hidden": false
    },
    "scrolled": true,
    "tags": []
   },
   "outputs": [],
   "source": [
    "# 同时添加如下代码, 这样每次环境(kernel)启动的时候只要运行下方代码即可: \n",
    "# Also add the following code, \n",
    "# so that every time the environment (kernel) starts, \n",
    "# just run the following code: \n",
    "import sys \n",
    "sys.path.append('/home/aistudio/external-libraries')"
   ]
  },
  {
   "cell_type": "code",
   "execution_count": 5,
   "metadata": {
    "execution": {
     "iopub.execute_input": "2022-05-04T08:36:51.914676Z",
     "iopub.status.busy": "2022-05-04T08:36:51.914263Z",
     "iopub.status.idle": "2022-05-04T08:36:53.054344Z",
     "shell.execute_reply": "2022-05-04T08:36:53.053446Z",
     "shell.execute_reply.started": "2022-05-04T08:36:51.914643Z"
    },
    "scrolled": true,
    "tags": []
   },
   "outputs": [],
   "source": [
    "import paddle\r\n",
    "from paddle.vision.transforms import Compose, Normalize\r\n",
    "import math"
   ]
  },
  {
   "cell_type": "markdown",
   "metadata": {},
   "source": [
    "# 数据集的构建"
   ]
  },
  {
   "cell_type": "markdown",
   "metadata": {},
   "source": [
    "## 加载mnist数据集 "
   ]
  },
  {
   "cell_type": "code",
   "execution_count": 6,
   "metadata": {
    "execution": {
     "iopub.execute_input": "2022-05-04T08:38:11.644012Z",
     "iopub.status.busy": "2022-05-04T08:38:11.643694Z",
     "iopub.status.idle": "2022-05-04T08:38:17.776802Z",
     "shell.execute_reply": "2022-05-04T08:38:17.776025Z",
     "shell.execute_reply.started": "2022-05-04T08:38:11.643982Z"
    },
    "scrolled": true,
    "tags": []
   },
   "outputs": [
    {
     "name": "stdout",
     "output_type": "stream",
     "text": [
      "item  162/2421 [=>............................] - ETA: 1s - 752us/item"
     ]
    },
    {
     "name": "stderr",
     "output_type": "stream",
     "text": [
      "Cache file /home/aistudio/.cache/paddle/dataset/mnist/train-images-idx3-ubyte.gz not found, downloading https://dataset.bj.bcebos.com/mnist/train-images-idx3-ubyte.gz \n",
      "Begin to download\n"
     ]
    },
    {
     "name": "stdout",
     "output_type": "stream",
     "text": [
      "item 8/8 [============================>.] - ETA: 0s - 2ms/item"
     ]
    },
    {
     "name": "stderr",
     "output_type": "stream",
     "text": [
      "\n",
      "Download finished\n",
      "Cache file /home/aistudio/.cache/paddle/dataset/mnist/train-labels-idx1-ubyte.gz not found, downloading https://dataset.bj.bcebos.com/mnist/train-labels-idx1-ubyte.gz \n",
      "Begin to download\n",
      "\n",
      "Download finished\n"
     ]
    },
    {
     "name": "stdout",
     "output_type": "stream",
     "text": [
      "item 207/403 [==============>...............] - ETA: 0s - 707us/item"
     ]
    },
    {
     "name": "stderr",
     "output_type": "stream",
     "text": [
      "Cache file /home/aistudio/.cache/paddle/dataset/mnist/t10k-images-idx3-ubyte.gz not found, downloading https://dataset.bj.bcebos.com/mnist/t10k-images-idx3-ubyte.gz \n",
      "Begin to download\n"
     ]
    },
    {
     "name": "stdout",
     "output_type": "stream",
     "text": [
      "item 2/2 [===========================>..] - ETA: 0s - 1ms/item  "
     ]
    },
    {
     "name": "stderr",
     "output_type": "stream",
     "text": [
      "\n",
      "Download finished\n",
      "Cache file /home/aistudio/.cache/paddle/dataset/mnist/t10k-labels-idx1-ubyte.gz not found, downloading https://dataset.bj.bcebos.com/mnist/t10k-labels-idx1-ubyte.gz \n",
      "Begin to download\n",
      "\n",
      "Download finished\n"
     ]
    },
    {
     "name": "stdout",
     "output_type": "stream",
     "text": [
      "训练集样本量: 60000，验证集样本量: 10000\n"
     ]
    }
   ],
   "source": [
    "batch_size=256\r\n",
    "\r\n",
    "\r\n",
    "# 使用transform对数据集做归一化\r\n",
    "transform = Compose([Normalize(mean=[0],\r\n",
    "                               std=[255],\r\n",
    "                               data_format='CHW')])\r\n",
    "\r\n",
    "# 训练数据集\r\n",
    "train_datasets = paddle.vision.datasets.MNIST(mode='train',transform=transform)\r\n",
    "\r\n",
    "# 测试数据集\r\n",
    "test_datasets = paddle.vision.datasets.MNIST(mode='test',transform=transform)\r\n",
    "\r\n",
    "print('训练集样本量: {}，验证集样本量: {}'.format(len(train_datasets), len(test_datasets)))\r\n"
   ]
  },
  {
   "cell_type": "code",
   "execution_count": 8,
   "metadata": {
    "execution": {
     "iopub.execute_input": "2022-05-04T08:39:57.363747Z",
     "iopub.status.busy": "2022-05-04T08:39:57.363340Z",
     "iopub.status.idle": "2022-05-04T08:39:57.372499Z",
     "shell.execute_reply": "2022-05-04T08:39:57.371974Z",
     "shell.execute_reply.started": "2022-05-04T08:39:57.363714Z"
    },
    "scrolled": true,
    "tags": []
   },
   "outputs": [
    {
     "data": {
      "text/plain": [
       "(1, 28, 28)"
      ]
     },
     "execution_count": 8,
     "metadata": {},
     "output_type": "execute_result"
    }
   ],
   "source": [
    "train_datasets[0][0].shape"
   ]
  },
  {
   "cell_type": "markdown",
   "metadata": {},
   "source": [
    "## 图像进行加噪"
   ]
  },
  {
   "cell_type": "code",
   "execution_count": 11,
   "metadata": {
    "execution": {
     "iopub.execute_input": "2022-05-04T08:42:45.123608Z",
     "iopub.status.busy": "2022-05-04T08:42:45.123321Z",
     "iopub.status.idle": "2022-05-04T08:42:51.167900Z",
     "shell.execute_reply": "2022-05-04T08:42:51.167346Z",
     "shell.execute_reply.started": "2022-05-04T08:42:45.123583Z"
    },
    "scrolled": true,
    "tags": []
   },
   "outputs": [
    {
     "name": "stdout",
     "output_type": "stream",
     "text": [
      "训练数据的长度是60000 测试数据的长度是10000\n",
      "训练数据的shape是(1, 28, 28) 测试数据的shape是(1, 28, 28)\n",
      "添加噪声后数据长度是60000 测试数据的长度是10000\n",
      "添加噪声后数据的shape是(1, 28, 28) 测试数据的shape是(1, 28, 28)\n"
     ]
    }
   ],
   "source": [
    "import numpy as np\r\n",
    "#1、将数据格式进行转换\r\n",
    "x_train = [i[0] for i in train_datasets]\r\n",
    "x_test = [i[0] for i in test_datasets]\r\n",
    "\r\n",
    "x_train = np.reshape(x_train,(len(x_train),1,28,28))\r\n",
    "x_test = np.reshape(x_test,(len(x_test),1,28,28))\r\n",
    "print('训练数据的长度是{} 测试数据的长度是{}'.format(len(x_train),len(x_test)))\r\n",
    "print('训练数据的shape是{} 测试数据的shape是{}'.format(x_train[0].shape,x_test[0].shape))\r\n",
    "\r\n",
    "\r\n",
    "#2、添加随机白噪声（均值是0，方差为1）\r\n",
    "noise_factor = 0.5\r\n",
    "x_train_noise = x_train+noise_factor*np.random.normal(loc=0.0,scale=1.0,size=x_train.shape)\r\n",
    "x_test_noise = x_test+noise_factor*np.random.normal(loc=0.0,scale=1.0,size=x_test.shape)\r\n",
    "#限制加完噪声的数值取值范围\r\n",
    "x_train_noise = np.clip(x_train_noise,0,1) \r\n",
    "x_test_noise = np.clip(x_test_noise,0,1)\r\n",
    "\r\n",
    "print('添加噪声后数据长度是{} 测试数据的长度是{}'.format(len(x_train_noise),len(x_test_noise)))\r\n",
    "print('添加噪声后数据的shape是{} 测试数据的shape是{}'.format(x_train_noise[0].shape,x_test_noise[0].shape))"
   ]
  },
  {
   "cell_type": "markdown",
   "metadata": {},
   "source": [
    "## 构建dataset，输入为噪声图片，标签为原图"
   ]
  },
  {
   "cell_type": "code",
   "execution_count": 12,
   "metadata": {
    "execution": {
     "iopub.execute_input": "2022-05-04T08:44:49.216924Z",
     "iopub.status.busy": "2022-05-04T08:44:49.216628Z",
     "iopub.status.idle": "2022-05-04T08:44:49.223109Z",
     "shell.execute_reply": "2022-05-04T08:44:49.222703Z",
     "shell.execute_reply.started": "2022-05-04T08:44:49.216899Z"
    },
    "scrolled": true,
    "tags": []
   },
   "outputs": [],
   "source": [
    "import paddle\r\n",
    "import json\r\n",
    "import gzip\r\n",
    "import numpy as np\r\n",
    "\r\n",
    "# 创建一个类MnistDataset，继承paddle.io.Dataset 这个类\r\n",
    "class MnistDataset(paddle.io.Dataset):\r\n",
    "    def __init__(self, mode):\r\n",
    "        super(MnistDataset, self).__init__()\r\n",
    "        # 读取到的数据区分训练集，验证集，测试集\r\n",
    "        if mode == 'train':\r\n",
    "            # 获得训练数据集\r\n",
    "            imgs, labels = x_train_noise, x_train\r\n",
    "        elif mode == 'test':\r\n",
    "            # 获得测试数据集\r\n",
    "            imgs, labels = x_test_noise,x_test\r\n",
    "        else:\r\n",
    "            raise Exception(\"mode can only be one of ['train', 'valid', 'eval']\")\r\n",
    "\r\n",
    "        # 校验数据\r\n",
    "        imgs_length = len(imgs)\r\n",
    "        assert len(imgs) == len(labels), \\\r\n",
    "            \"length of train_imgs({}) should be the same as train_labels({})\".format(len(imgs), len(labels))\r\n",
    "\r\n",
    "        self.imgs = imgs  \r\n",
    "        self.labels = labels\r\n",
    "\r\n",
    "    def __getitem__(self, idx):\r\n",
    "        img = np.array(self.imgs[idx]).astype('float32') \r\n",
    "        label = np.array(self.labels[idx]).astype('float32')\r\n",
    "\r\n",
    "        return img, label\r\n",
    "\r\n",
    "    def __len__(self):\r\n",
    "        return len(self.imgs)\r\n"
   ]
  },
  {
   "cell_type": "markdown",
   "metadata": {},
   "source": [
    "## 数据可视化"
   ]
  },
  {
   "cell_type": "code",
   "execution_count": 15,
   "metadata": {
    "execution": {
     "iopub.execute_input": "2022-05-04T08:47:58.812349Z",
     "iopub.status.busy": "2022-05-04T08:47:58.812056Z",
     "iopub.status.idle": "2022-05-04T08:47:59.230391Z",
     "shell.execute_reply": "2022-05-04T08:47:59.229971Z",
     "shell.execute_reply.started": "2022-05-04T08:47:58.812324Z"
    },
    "scrolled": true,
    "tags": []
   },
   "outputs": [
    {
     "data": {
      "image/png": "[encoded data removed]",
      "text/plain": [
       "<Figure size 1440x144 with 20 Axes>"
      ]
     },
     "metadata": {
      "needs_background": "light"
     },
     "output_type": "display_data"
    }
   ],
   "source": [
    "import warnings \r\n",
    "warnings.filterwarnings('ignore')\r\n",
    "\r\n",
    "import matplotlib.pyplot as plt\r\n",
    "%matplotlib inline\r\n",
    "\r\n",
    "n = 10 \r\n",
    "\r\n",
    "plt.figure(figsize=(20,2)) \r\n",
    "for i in range(n): \r\n",
    "    ax = plt.subplot(2,n,i+1) \r\n",
    "    plt.imshow(x_train[i][0].reshape(28,28)) \r\n",
    "    plt.gray() \r\n",
    "    ax.get_xaxis().set_visible(False) \r\n",
    "    ax.get_yaxis().set_visible(False)\r\n",
    "\r\n",
    "for i in range(n): \r\n",
    "    ax = plt.subplot(2,n,10+i+1) \r\n",
    "    plt.imshow(x_train_noise[i][0].reshape(28,28)) \r\n",
    "    plt.gray() \r\n",
    "    ax.get_xaxis().set_visible(False) \r\n",
    "    ax.get_yaxis().set_visible(False)\r\n",
    "\r\n",
    "plt.show()\r\n",
    "\r\n"
   ]
  },
  {
   "cell_type": "markdown",
   "metadata": {},
   "source": [
    "## 构建dataloader"
   ]
  },
  {
   "cell_type": "code",
   "execution_count": 18,
   "metadata": {
    "execution": {
     "iopub.execute_input": "2022-05-04T08:55:46.773880Z",
     "iopub.status.busy": "2022-05-04T08:55:46.773599Z",
     "iopub.status.idle": "2022-05-04T08:55:46.776941Z",
     "shell.execute_reply": "2022-05-04T08:55:46.776545Z",
     "shell.execute_reply.started": "2022-05-04T08:55:46.773855Z"
    },
    "scrolled": true,
    "tags": []
   },
   "outputs": [],
   "source": [
    "train_dataset = MnistDataset(mode='train')\r\n",
    "train_loader = paddle.io.DataLoader(train_dataset, batch_size=batch_size, shuffle=True)"
   ]
  },
  {
   "cell_type": "markdown",
   "metadata": {},
   "source": [
    "# 模型的构建：构建自编码器，此处采用动态图"
   ]
  },
  {
   "cell_type": "code",
   "execution_count": 16,
   "metadata": {
    "execution": {
     "iopub.execute_input": "2022-05-04T08:52:43.914724Z",
     "iopub.status.busy": "2022-05-04T08:52:43.914422Z",
     "iopub.status.idle": "2022-05-04T08:52:43.923754Z",
     "shell.execute_reply": "2022-05-04T08:52:43.923336Z",
     "shell.execute_reply.started": "2022-05-04T08:52:43.914699Z"
    },
    "scrolled": true,
    "tags": []
   },
   "outputs": [],
   "source": [
    "import paddle\r\n",
    "import paddle.nn.functional as F\r\n",
    "\r\n",
    "class autoencoder(paddle.nn.Layer):\r\n",
    "    def __init__(self):\r\n",
    "        super(autoencoder, self).__init__()\r\n",
    "        # encoder部分\r\n",
    "        # （1， 28， 28） ---> （32， 28， 28）\r\n",
    "        self.conv1 = paddle.nn.Conv2D(in_channels=1, out_channels=32, kernel_size=(3,3), stride=1, padding=1)\r\n",
    "        # （32， 28， 28）--- > (32, 14, 14)\r\n",
    "        self.max_pool1 = paddle.nn.MaxPool2D(kernel_size=2,  stride=2)\r\n",
    "        # （32， 14,  14)--- > (64, 14, 14)\r\n",
    "        self.conv2 = paddle.nn.Conv2D(in_channels=32, out_channels=64, kernel_size=(3,3), stride=1,padding=1)\r\n",
    "        #  (64, 14, 14)--- > (64, 7, 7)\r\n",
    "        self.max_pool2 = paddle.nn.MaxPool2D(kernel_size=2, stride=2)\r\n",
    "        \r\n",
    "        # decoder部分\r\n",
    "        # (64, 7, 7) ----> \r\n",
    "        self.conv3 = paddle.nn.Conv2D(in_channels=64, out_channels=64, kernel_size=(3,3), stride=1, padding=1)\r\n",
    "        self.up_pool3 = paddle.nn.Upsample(size=[14,14]) #不改变channel，只是将其hw翻倍\r\n",
    "        self.conv4 = paddle.nn.Conv2D(in_channels=64, out_channels=32, kernel_size=(3,3), stride=1,padding=1)\r\n",
    "        self.up_pool4 = paddle.nn.Upsample(size=[28,28])\r\n",
    "        self.conv5 = paddle.nn.Conv2D(in_channels=32, out_channels=1, kernel_size=(3,3), stride=1, padding=1)\r\n",
    "        \r\n",
    "        \r\n",
    "    def forward(self, x):\r\n",
    "        # encoder部分\r\n",
    "        x = self.conv1(x)\r\n",
    "        x = F.relu(x)\r\n",
    "        x = self.max_pool1(x)\r\n",
    "        x = self.conv2(x)\r\n",
    "        x = F.relu(x)\r\n",
    "        x = self.max_pool2(x)\r\n",
    "        #decoder部分\r\n",
    "        x = self.conv3(x)\r\n",
    "        x = F.relu(x)\r\n",
    "        x = self.up_pool3(x)\r\n",
    "        x = self.conv4(x)\r\n",
    "        x = F.relu(x)\r\n",
    "        x = self.up_pool4(x)\r\n",
    "        x = self.conv5(x)\r\n",
    "        x = F.sigmoid(x)\r\n",
    "        return x"
   ]
  },
  {
   "cell_type": "code",
   "execution_count": 17,
   "metadata": {
    "execution": {
     "iopub.execute_input": "2022-05-04T08:52:56.554027Z",
     "iopub.status.busy": "2022-05-04T08:52:56.553741Z",
     "iopub.status.idle": "2022-05-04T08:53:00.767506Z",
     "shell.execute_reply": "2022-05-04T08:53:00.766954Z",
     "shell.execute_reply.started": "2022-05-04T08:52:56.554003Z"
    },
    "scrolled": true,
    "tags": []
   },
   "outputs": [
    {
     "name": "stderr",
     "output_type": "stream",
     "text": [
      "W0504 16:52:56.556185   163 device_context.cc:447] Please NOTE: device: 0, GPU Compute Capability: 8.0, Driver API Version: 11.2, Runtime API Version: 11.2\n",
      "W0504 16:52:56.559684   163 device_context.cc:465] device: 0, cuDNN Version: 8.2.\n"
     ]
    },
    {
     "name": "stdout",
     "output_type": "stream",
     "text": [
      "---------------------------------------------------------------------------\n",
      " Layer (type)       Input Shape          Output Shape         Param #    \n",
      "===========================================================================\n",
      "   Conv2D-1       [[1, 1, 28, 28]]     [1, 32, 28, 28]          320      \n",
      "  MaxPool2D-1    [[1, 32, 28, 28]]     [1, 32, 14, 14]           0       \n",
      "   Conv2D-2      [[1, 32, 14, 14]]     [1, 64, 14, 14]        18,496     \n",
      "  MaxPool2D-2    [[1, 64, 14, 14]]      [1, 64, 7, 7]            0       \n",
      "   Conv2D-3       [[1, 64, 7, 7]]       [1, 64, 7, 7]         36,928     \n",
      "  Upsample-1      [[1, 64, 7, 7]]      [1, 64, 14, 14]           0       \n",
      "   Conv2D-4      [[1, 64, 14, 14]]     [1, 32, 14, 14]        18,464     \n",
      "  Upsample-2     [[1, 32, 14, 14]]     [1, 32, 28, 28]           0       \n",
      "   Conv2D-5      [[1, 32, 28, 28]]      [1, 1, 28, 28]          289      \n",
      "===========================================================================\n",
      "Total params: 74,497\n",
      "Trainable params: 74,497\n",
      "Non-trainable params: 0\n",
      "---------------------------------------------------------------------------\n",
      "Input size (MB): 0.00\n",
      "Forward/backward pass size (MB): 0.72\n",
      "Params size (MB): 0.28\n",
      "Estimated Total Size (MB): 1.01\n",
      "---------------------------------------------------------------------------\n",
      "\n",
      "{'total_params': 74497, 'trainable_params': 74497}\n"
     ]
    }
   ],
   "source": [
    "model = autoencoder()\r\n",
    "#查看模型结构\r\n",
    "params_info = paddle.summary(model, (1, 1, 28, 28))\r\n",
    "print(params_info)"
   ]
  },
  {
   "cell_type": "markdown",
   "metadata": {},
   "source": [
    "# 构建优化器"
   ]
  },
  {
   "cell_type": "code",
   "execution_count": 19,
   "metadata": {
    "execution": {
     "iopub.execute_input": "2022-05-04T08:56:37.561502Z",
     "iopub.status.busy": "2022-05-04T08:56:37.561204Z",
     "iopub.status.idle": "2022-05-04T08:56:37.564706Z",
     "shell.execute_reply": "2022-05-04T08:56:37.564251Z",
     "shell.execute_reply.started": "2022-05-04T08:56:37.561476Z"
    },
    "scrolled": true,
    "tags": []
   },
   "outputs": [],
   "source": [
    "optim = paddle.optimizer.Adam(learning_rate=0.001, parameters=model.parameters())"
   ]
  },
  {
   "cell_type": "markdown",
   "metadata": {},
   "source": [
    "# 训练"
   ]
  },
  {
   "cell_type": "code",
   "execution_count": 22,
   "metadata": {
    "execution": {
     "iopub.execute_input": "2022-05-04T09:01:50.695787Z",
     "iopub.status.busy": "2022-05-04T09:01:50.695418Z",
     "iopub.status.idle": "2022-05-04T09:01:50.702122Z",
     "shell.execute_reply": "2022-05-04T09:01:50.701503Z",
     "shell.execute_reply.started": "2022-05-04T09:01:50.695757Z"
    },
    "scrolled": true,
    "tags": []
   },
   "outputs": [],
   "source": [
    "def train(model, optim, epochs): \r\n",
    "    model.train()\r\n",
    "    for epoch in range(epochs):\r\n",
    "        for batch_id, data in enumerate(train_loader,1):\r\n",
    "            x_data = data[0]\r\n",
    "            y_data = data[1]\r\n",
    "            predicts = model(x_data)\r\n",
    "            # y_data为0， 1可以采用二分类交叉熵损失按数\r\n",
    "            loss = F.binary_cross_entropy(predicts, y_data) \r\n",
    "                # 计算损失\r\n",
    "            loss.backward()\r\n",
    "            optim.step()\r\n",
    "            optim.clear_grad()\r\n",
    "\r\n",
    "            if batch_id % 50 == 0:\r\n",
    "                opt_lr = optim.get_lr()\r\n",
    "                print(\"epoch: {}, batch_id: {}, loss is: {}, opt_lr: {}\".format(epoch, batch_id, loss.numpy(), opt_lr))\r\n"
   ]
  },
  {
   "cell_type": "code",
   "execution_count": 23,
   "metadata": {
    "execution": {
     "iopub.execute_input": "2022-05-04T09:01:53.560327Z",
     "iopub.status.busy": "2022-05-04T09:01:53.559994Z",
     "iopub.status.idle": "2022-05-04T09:02:32.744321Z",
     "shell.execute_reply": "2022-05-04T09:02:32.743708Z",
     "shell.execute_reply.started": "2022-05-04T09:01:53.560297Z"
    },
    "scrolled": true,
    "tags": []
   },
   "outputs": [
    {
     "name": "stdout",
     "output_type": "stream",
     "text": [
      "epoch: 0, batch_id: 50, loss is: [0.1508055], opt_lr: 0.001\n",
      "epoch: 0, batch_id: 100, loss is: [0.13356395], opt_lr: 0.001\n",
      "epoch: 0, batch_id: 150, loss is: [0.12579954], opt_lr: 0.001\n",
      "epoch: 0, batch_id: 200, loss is: [0.11945431], opt_lr: 0.001\n",
      "epoch: 1, batch_id: 50, loss is: [0.11757692], opt_lr: 0.001\n",
      "epoch: 1, batch_id: 100, loss is: [0.11732341], opt_lr: 0.001\n",
      "epoch: 1, batch_id: 150, loss is: [0.11405985], opt_lr: 0.001\n",
      "epoch: 1, batch_id: 200, loss is: [0.11205357], opt_lr: 0.001\n",
      "epoch: 2, batch_id: 50, loss is: [0.10728515], opt_lr: 0.001\n",
      "epoch: 2, batch_id: 100, loss is: [0.10778838], opt_lr: 0.001\n",
      "epoch: 2, batch_id: 150, loss is: [0.10553826], opt_lr: 0.001\n",
      "epoch: 2, batch_id: 200, loss is: [0.10809629], opt_lr: 0.001\n",
      "epoch: 3, batch_id: 50, loss is: [0.10743915], opt_lr: 0.001\n",
      "epoch: 3, batch_id: 100, loss is: [0.10226806], opt_lr: 0.001\n",
      "epoch: 3, batch_id: 150, loss is: [0.1021505], opt_lr: 0.001\n",
      "epoch: 3, batch_id: 200, loss is: [0.10333781], opt_lr: 0.001\n",
      "epoch: 4, batch_id: 50, loss is: [0.10274198], opt_lr: 0.001\n",
      "epoch: 4, batch_id: 100, loss is: [0.10416618], opt_lr: 0.001\n",
      "epoch: 4, batch_id: 150, loss is: [0.10226612], opt_lr: 0.001\n",
      "epoch: 4, batch_id: 200, loss is: [0.10335997], opt_lr: 0.001\n",
      "epoch: 5, batch_id: 50, loss is: [0.102478], opt_lr: 0.001\n",
      "epoch: 5, batch_id: 100, loss is: [0.09874876], opt_lr: 0.001\n",
      "epoch: 5, batch_id: 150, loss is: [0.10439914], opt_lr: 0.001\n",
      "epoch: 5, batch_id: 200, loss is: [0.10197291], opt_lr: 0.001\n",
      "epoch: 6, batch_id: 50, loss is: [0.09828829], opt_lr: 0.001\n",
      "epoch: 6, batch_id: 100, loss is: [0.09923309], opt_lr: 0.001\n",
      "epoch: 6, batch_id: 150, loss is: [0.09882569], opt_lr: 0.001\n",
      "epoch: 6, batch_id: 200, loss is: [0.10150312], opt_lr: 0.001\n",
      "epoch: 7, batch_id: 50, loss is: [0.09955291], opt_lr: 0.001\n",
      "epoch: 7, batch_id: 100, loss is: [0.09907445], opt_lr: 0.001\n",
      "epoch: 7, batch_id: 150, loss is: [0.09910685], opt_lr: 0.001\n",
      "epoch: 7, batch_id: 200, loss is: [0.0992258], opt_lr: 0.001\n",
      "epoch: 8, batch_id: 50, loss is: [0.09876722], opt_lr: 0.001\n",
      "epoch: 8, batch_id: 100, loss is: [0.09823684], opt_lr: 0.001\n",
      "epoch: 8, batch_id: 150, loss is: [0.0986691], opt_lr: 0.001\n",
      "epoch: 8, batch_id: 200, loss is: [0.09885979], opt_lr: 0.001\n",
      "epoch: 9, batch_id: 50, loss is: [0.10165662], opt_lr: 0.001\n",
      "epoch: 9, batch_id: 100, loss is: [0.09757827], opt_lr: 0.001\n",
      "epoch: 9, batch_id: 150, loss is: [0.09765131], opt_lr: 0.001\n",
      "epoch: 9, batch_id: 200, loss is: [0.09868667], opt_lr: 0.001\n",
      "epoch: 10, batch_id: 50, loss is: [0.09821317], opt_lr: 0.001\n",
      "epoch: 10, batch_id: 100, loss is: [0.09776197], opt_lr: 0.001\n",
      "epoch: 10, batch_id: 150, loss is: [0.0996934], opt_lr: 0.001\n",
      "epoch: 10, batch_id: 200, loss is: [0.09697092], opt_lr: 0.001\n",
      "epoch: 11, batch_id: 50, loss is: [0.09950332], opt_lr: 0.001\n",
      "epoch: 11, batch_id: 100, loss is: [0.0986447], opt_lr: 0.001\n",
      "epoch: 11, batch_id: 150, loss is: [0.09873365], opt_lr: 0.001\n",
      "epoch: 11, batch_id: 200, loss is: [0.0978436], opt_lr: 0.001\n",
      "epoch: 12, batch_id: 50, loss is: [0.09742838], opt_lr: 0.001\n",
      "epoch: 12, batch_id: 100, loss is: [0.09709799], opt_lr: 0.001\n",
      "epoch: 12, batch_id: 150, loss is: [0.09535895], opt_lr: 0.001\n",
      "epoch: 12, batch_id: 200, loss is: [0.09824618], opt_lr: 0.001\n",
      "epoch: 13, batch_id: 50, loss is: [0.09578139], opt_lr: 0.001\n",
      "epoch: 13, batch_id: 100, loss is: [0.09841461], opt_lr: 0.001\n",
      "epoch: 13, batch_id: 150, loss is: [0.09561975], opt_lr: 0.001\n",
      "epoch: 13, batch_id: 200, loss is: [0.09720887], opt_lr: 0.001\n",
      "epoch: 14, batch_id: 50, loss is: [0.09563191], opt_lr: 0.001\n",
      "epoch: 14, batch_id: 100, loss is: [0.09563148], opt_lr: 0.001\n",
      "epoch: 14, batch_id: 150, loss is: [0.09583557], opt_lr: 0.001\n",
      "epoch: 14, batch_id: 200, loss is: [0.09642026], opt_lr: 0.001\n",
      "epoch: 15, batch_id: 50, loss is: [0.09888563], opt_lr: 0.001\n",
      "epoch: 15, batch_id: 100, loss is: [0.09592318], opt_lr: 0.001\n",
      "epoch: 15, batch_id: 150, loss is: [0.09575748], opt_lr: 0.001\n",
      "epoch: 15, batch_id: 200, loss is: [0.09646571], opt_lr: 0.001\n",
      "epoch: 16, batch_id: 50, loss is: [0.09500609], opt_lr: 0.001\n",
      "epoch: 16, batch_id: 100, loss is: [0.09510812], opt_lr: 0.001\n",
      "epoch: 16, batch_id: 150, loss is: [0.09582922], opt_lr: 0.001\n",
      "epoch: 16, batch_id: 200, loss is: [0.09704416], opt_lr: 0.001\n",
      "epoch: 17, batch_id: 50, loss is: [0.0948493], opt_lr: 0.001\n",
      "epoch: 17, batch_id: 100, loss is: [0.09397411], opt_lr: 0.001\n",
      "epoch: 17, batch_id: 150, loss is: [0.09457557], opt_lr: 0.001\n",
      "epoch: 17, batch_id: 200, loss is: [0.09863666], opt_lr: 0.001\n",
      "epoch: 18, batch_id: 50, loss is: [0.09370035], opt_lr: 0.001\n",
      "epoch: 18, batch_id: 100, loss is: [0.09644823], opt_lr: 0.001\n",
      "epoch: 18, batch_id: 150, loss is: [0.09582626], opt_lr: 0.001\n",
      "epoch: 18, batch_id: 200, loss is: [0.09611063], opt_lr: 0.001\n",
      "epoch: 19, batch_id: 50, loss is: [0.09449808], opt_lr: 0.001\n",
      "epoch: 19, batch_id: 100, loss is: [0.09640694], opt_lr: 0.001\n",
      "epoch: 19, batch_id: 150, loss is: [0.09285444], opt_lr: 0.001\n",
      "epoch: 19, batch_id: 200, loss is: [0.09234895], opt_lr: 0.001\n"
     ]
    }
   ],
   "source": [
    "epochs = 20\r\n",
    "train(model, optim, epochs)"
   ]
  },
  {
   "cell_type": "markdown",
   "metadata": {},
   "source": [
    "# 预测"
   ]
  },
  {
   "cell_type": "code",
   "execution_count": 24,
   "metadata": {
    "execution": {
     "iopub.execute_input": "2022-05-04T09:05:36.561586Z",
     "iopub.status.busy": "2022-05-04T09:05:36.558161Z",
     "iopub.status.idle": "2022-05-04T09:05:36.565264Z",
     "shell.execute_reply": "2022-05-04T09:05:36.564800Z",
     "shell.execute_reply.started": "2022-05-04T09:05:36.561502Z"
    },
    "scrolled": true,
    "tags": []
   },
   "outputs": [],
   "source": [
    "test_dataset = MnistDataset(mode='test')\r\n",
    "# 使用paddle.io.DataLoader 定义DataLoader对象用于加载Python生成器产生的数据，\r\n",
    "test_loader = paddle.io.DataLoader(test_dataset, batch_size=16, shuffle=False)"
   ]
  },
  {
   "cell_type": "code",
   "execution_count": 51,
   "metadata": {
    "execution": {
     "iopub.execute_input": "2022-05-04T09:30:19.712354Z",
     "iopub.status.busy": "2022-05-04T09:30:19.712068Z",
     "iopub.status.idle": "2022-05-04T09:30:19.721057Z",
     "shell.execute_reply": "2022-05-04T09:30:19.720638Z",
     "shell.execute_reply.started": "2022-05-04T09:30:19.712329Z"
    },
    "scrolled": true,
    "tags": []
   },
   "outputs": [],
   "source": [
    " for batch_id, data in enumerate(test_loader):\r\n",
    "    x_data = data[0]\r\n",
    "    y_data = data[1]\r\n",
    "    predicts = model(x_data)\r\n",
    "    break"
   ]
  },
  {
   "cell_type": "markdown",
   "metadata": {},
   "source": [
    "## 可视化原图与网络去噪后图像"
   ]
  },
  {
   "cell_type": "code",
   "execution_count": 52,
   "metadata": {
    "execution": {
     "iopub.execute_input": "2022-05-04T09:30:21.980561Z",
     "iopub.status.busy": "2022-05-04T09:30:21.980214Z",
     "iopub.status.idle": "2022-05-04T09:30:22.402297Z",
     "shell.execute_reply": "2022-05-04T09:30:22.401837Z",
     "shell.execute_reply.started": "2022-05-04T09:30:21.980530Z"
    },
    "scrolled": true,
    "tags": []
   },
   "outputs": [
    {
     "data": {
      "image/png": "[encoded data removed]",
      "text/plain": [
       "<Figure size 1440x144 with 20 Axes>"
      ]
     },
     "metadata": {
      "needs_background": "light"
     },
     "output_type": "display_data"
    }
   ],
   "source": [
    "import warnings \r\n",
    "warnings.filterwarnings('ignore')\r\n",
    "\r\n",
    "import matplotlib.pyplot as plt\r\n",
    "%matplotlib inline\r\n",
    "\r\n",
    "n = 10 \r\n",
    "\r\n",
    "x_data = x_data.numpy()\r\n",
    "predicts = predicts.numpy()\r\n",
    "\r\n",
    "plt.figure(figsize=(20,2)) \r\n",
    "for i in range(n): \r\n",
    "    ax = plt.subplot(2,n,i+1) \r\n",
    "    plt.imshow(x_data[i][0].reshape(28,28)) \r\n",
    "    plt.gray() \r\n",
    "    ax.get_xaxis().set_visible(False) \r\n",
    "    ax.get_yaxis().set_visible(False)\r\n",
    "\r\n",
    "for i in range(n): \r\n",
    "    ax = plt.subplot(2,n,10+i+1) \r\n",
    "    plt.imshow(predicts[i].reshape(28,28)) \r\n",
    "    plt.gray() \r\n",
    "    ax.get_xaxis().set_visible(False) \r\n",
    "    ax.get_yaxis().set_visible(False)\r\n",
    "\r\n",
    "plt.show()\r\n",
    "\r\n"
   ]
  },
  {
   "cell_type": "markdown",
   "metadata": {},
   "source": [
    "# 使用 paddle.jit.to_static 实现动转静"
   ]
  },
  {
   "cell_type": "markdown",
   "metadata": {},
   "source": [
    "## 改写组网代码"
   ]
  },
  {
   "cell_type": "code",
   "execution_count": 42,
   "metadata": {
    "execution": {
     "iopub.execute_input": "2022-05-04T09:25:21.924312Z",
     "iopub.status.busy": "2022-05-04T09:25:21.924023Z",
     "iopub.status.idle": "2022-05-04T09:25:21.933480Z",
     "shell.execute_reply": "2022-05-04T09:25:21.933029Z",
     "shell.execute_reply.started": "2022-05-04T09:25:21.924287Z"
    },
    "scrolled": true,
    "tags": []
   },
   "outputs": [],
   "source": [
    "class autoencoder2(paddle.nn.Layer):\r\n",
    "    def __init__(self):\r\n",
    "        super(autoencoder2, self).__init__()\r\n",
    "        # encoder部分\r\n",
    "        # （1， 28， 28） ---> （32， 28， 28）\r\n",
    "        self.conv1 = paddle.nn.Conv2D(in_channels=1, out_channels=32, kernel_size=(3,3), stride=1, padding=1)\r\n",
    "        # （32， 28， 28）--- > (32, 14, 14)\r\n",
    "        self.max_pool1 = paddle.nn.MaxPool2D(kernel_size=2,  stride=2)\r\n",
    "        # （32， 14,  14)--- > (64, 14, 14)\r\n",
    "        self.conv2 = paddle.nn.Conv2D(in_channels=32, out_channels=64, kernel_size=(3,3), stride=1,padding=1)\r\n",
    "        #  (64, 14, 14)--- > (64, 7, 7)\r\n",
    "        self.max_pool2 = paddle.nn.MaxPool2D(kernel_size=2, stride=2)\r\n",
    "        \r\n",
    "        # decoder部分\r\n",
    "        # (64, 7, 7) ----> \r\n",
    "        self.conv3 = paddle.nn.Conv2D(in_channels=64, out_channels=64, kernel_size=(3,3), stride=1, padding=1)\r\n",
    "        self.up_pool3 = paddle.nn.Upsample(size=[14,14]) #不改变channel，只是将其hw翻倍\r\n",
    "        self.conv4 = paddle.nn.Conv2D(in_channels=64, out_channels=32, kernel_size=(3,3), stride=1,padding=1)\r\n",
    "        self.up_pool4 = paddle.nn.Upsample(size=[28,28])\r\n",
    "        self.conv5 = paddle.nn.Conv2D(in_channels=32, out_channels=1, kernel_size=(3,3), stride=1, padding=1)\r\n",
    "        \r\n",
    "    \r\n",
    "    # 在forward 前添加 paddle.jit.to_static 装饰器\r\n",
    "    @paddle.jit.to_static()\r\n",
    "    def forward(self, x):\r\n",
    "        # encoder部分\r\n",
    "        x = self.conv1(x)\r\n",
    "        x = F.relu(x)\r\n",
    "        x = self.max_pool1(x)\r\n",
    "        x = self.conv2(x)\r\n",
    "        x = F.relu(x)\r\n",
    "        x = self.max_pool2(x)\r\n",
    "        #decoder部分\r\n",
    "        x = self.conv3(x)\r\n",
    "        x = F.relu(x)\r\n",
    "        x = self.up_pool3(x)\r\n",
    "        x = self.conv4(x)\r\n",
    "        x = F.relu(x)\r\n",
    "        x = self.up_pool4(x)\r\n",
    "        x = self.conv5(x)\r\n",
    "        x = F.sigmoid(x)\r\n",
    "        return x"
   ]
  },
  {
   "cell_type": "markdown",
   "metadata": {},
   "source": [
    "## 模型训练"
   ]
  },
  {
   "cell_type": "code",
   "execution_count": 43,
   "metadata": {
    "execution": {
     "iopub.execute_input": "2022-05-04T09:27:07.124631Z",
     "iopub.status.busy": "2022-05-04T09:27:07.124322Z",
     "iopub.status.idle": "2022-05-04T09:27:40.046876Z",
     "shell.execute_reply": "2022-05-04T09:27:40.046183Z",
     "shell.execute_reply.started": "2022-05-04T09:27:07.124602Z"
    },
    "scrolled": true,
    "tags": []
   },
   "outputs": [
    {
     "name": "stdout",
     "output_type": "stream",
     "text": [
      "epoch: 0, batch_id: 50, loss is: [0.169617], opt_lr: 0.001\n",
      "epoch: 0, batch_id: 100, loss is: [0.14395738], opt_lr: 0.001\n",
      "epoch: 0, batch_id: 150, loss is: [0.1290719], opt_lr: 0.001\n",
      "epoch: 0, batch_id: 200, loss is: [0.12327737], opt_lr: 0.001\n",
      "epoch: 1, batch_id: 50, loss is: [0.11703932], opt_lr: 0.001\n",
      "epoch: 1, batch_id: 100, loss is: [0.11644541], opt_lr: 0.001\n",
      "epoch: 1, batch_id: 150, loss is: [0.11610189], opt_lr: 0.001\n",
      "epoch: 1, batch_id: 200, loss is: [0.11325552], opt_lr: 0.001\n",
      "epoch: 2, batch_id: 50, loss is: [0.11371018], opt_lr: 0.001\n",
      "epoch: 2, batch_id: 100, loss is: [0.10730042], opt_lr: 0.001\n",
      "epoch: 2, batch_id: 150, loss is: [0.10588661], opt_lr: 0.001\n",
      "epoch: 2, batch_id: 200, loss is: [0.10843735], opt_lr: 0.001\n",
      "epoch: 3, batch_id: 50, loss is: [0.10706727], opt_lr: 0.001\n",
      "epoch: 3, batch_id: 100, loss is: [0.10239325], opt_lr: 0.001\n",
      "epoch: 3, batch_id: 150, loss is: [0.10862175], opt_lr: 0.001\n",
      "epoch: 3, batch_id: 200, loss is: [0.10543257], opt_lr: 0.001\n",
      "epoch: 4, batch_id: 50, loss is: [0.10374369], opt_lr: 0.001\n",
      "epoch: 4, batch_id: 100, loss is: [0.10380919], opt_lr: 0.001\n",
      "epoch: 4, batch_id: 150, loss is: [0.1029813], opt_lr: 0.001\n",
      "epoch: 4, batch_id: 200, loss is: [0.10477626], opt_lr: 0.001\n",
      "epoch: 5, batch_id: 50, loss is: [0.10353363], opt_lr: 0.001\n",
      "epoch: 5, batch_id: 100, loss is: [0.10166034], opt_lr: 0.001\n",
      "epoch: 5, batch_id: 150, loss is: [0.10359956], opt_lr: 0.001\n",
      "epoch: 5, batch_id: 200, loss is: [0.10143657], opt_lr: 0.001\n",
      "epoch: 6, batch_id: 50, loss is: [0.10366039], opt_lr: 0.001\n",
      "epoch: 6, batch_id: 100, loss is: [0.10135973], opt_lr: 0.001\n",
      "epoch: 6, batch_id: 150, loss is: [0.1002941], opt_lr: 0.001\n",
      "epoch: 6, batch_id: 200, loss is: [0.10337035], opt_lr: 0.001\n",
      "epoch: 7, batch_id: 50, loss is: [0.10042988], opt_lr: 0.001\n",
      "epoch: 7, batch_id: 100, loss is: [0.1004205], opt_lr: 0.001\n",
      "epoch: 7, batch_id: 150, loss is: [0.09875569], opt_lr: 0.001\n",
      "epoch: 7, batch_id: 200, loss is: [0.10202026], opt_lr: 0.001\n",
      "epoch: 8, batch_id: 50, loss is: [0.10035688], opt_lr: 0.001\n",
      "epoch: 8, batch_id: 100, loss is: [0.0982463], opt_lr: 0.001\n",
      "epoch: 8, batch_id: 150, loss is: [0.10255557], opt_lr: 0.001\n",
      "epoch: 8, batch_id: 200, loss is: [0.10166503], opt_lr: 0.001\n",
      "epoch: 9, batch_id: 50, loss is: [0.09931719], opt_lr: 0.001\n",
      "epoch: 9, batch_id: 100, loss is: [0.09736487], opt_lr: 0.001\n",
      "epoch: 9, batch_id: 150, loss is: [0.09799257], opt_lr: 0.001\n",
      "epoch: 9, batch_id: 200, loss is: [0.09900901], opt_lr: 0.001\n",
      "epoch: 10, batch_id: 50, loss is: [0.10127259], opt_lr: 0.001\n",
      "epoch: 10, batch_id: 100, loss is: [0.10058917], opt_lr: 0.001\n",
      "epoch: 10, batch_id: 150, loss is: [0.09551379], opt_lr: 0.001\n",
      "epoch: 10, batch_id: 200, loss is: [0.09726325], opt_lr: 0.001\n",
      "epoch: 11, batch_id: 50, loss is: [0.09861174], opt_lr: 0.001\n",
      "epoch: 11, batch_id: 100, loss is: [0.09999968], opt_lr: 0.001\n",
      "epoch: 11, batch_id: 150, loss is: [0.09981595], opt_lr: 0.001\n",
      "epoch: 11, batch_id: 200, loss is: [0.09690353], opt_lr: 0.001\n",
      "epoch: 12, batch_id: 50, loss is: [0.09662779], opt_lr: 0.001\n",
      "epoch: 12, batch_id: 100, loss is: [0.09695677], opt_lr: 0.001\n",
      "epoch: 12, batch_id: 150, loss is: [0.09773625], opt_lr: 0.001\n",
      "epoch: 12, batch_id: 200, loss is: [0.09750137], opt_lr: 0.001\n",
      "epoch: 13, batch_id: 50, loss is: [0.0978588], opt_lr: 0.001\n",
      "epoch: 13, batch_id: 100, loss is: [0.09882198], opt_lr: 0.001\n",
      "epoch: 13, batch_id: 150, loss is: [0.09647948], opt_lr: 0.001\n",
      "epoch: 13, batch_id: 200, loss is: [0.0956523], opt_lr: 0.001\n",
      "epoch: 14, batch_id: 50, loss is: [0.09674709], opt_lr: 0.001\n",
      "epoch: 14, batch_id: 100, loss is: [0.09855855], opt_lr: 0.001\n",
      "epoch: 14, batch_id: 150, loss is: [0.09678999], opt_lr: 0.001\n",
      "epoch: 14, batch_id: 200, loss is: [0.09646296], opt_lr: 0.001\n",
      "epoch: 15, batch_id: 50, loss is: [0.09774074], opt_lr: 0.001\n",
      "epoch: 15, batch_id: 100, loss is: [0.0990114], opt_lr: 0.001\n",
      "epoch: 15, batch_id: 150, loss is: [0.09859668], opt_lr: 0.001\n",
      "epoch: 15, batch_id: 200, loss is: [0.09847274], opt_lr: 0.001\n",
      "epoch: 16, batch_id: 50, loss is: [0.0930793], opt_lr: 0.001\n",
      "epoch: 16, batch_id: 100, loss is: [0.09622699], opt_lr: 0.001\n",
      "epoch: 16, batch_id: 150, loss is: [0.0949804], opt_lr: 0.001\n",
      "epoch: 16, batch_id: 200, loss is: [0.09686655], opt_lr: 0.001\n",
      "epoch: 17, batch_id: 50, loss is: [0.09775889], opt_lr: 0.001\n",
      "epoch: 17, batch_id: 100, loss is: [0.09961951], opt_lr: 0.001\n",
      "epoch: 17, batch_id: 150, loss is: [0.09541321], opt_lr: 0.001\n",
      "epoch: 17, batch_id: 200, loss is: [0.09536967], opt_lr: 0.001\n",
      "epoch: 18, batch_id: 50, loss is: [0.09764759], opt_lr: 0.001\n",
      "epoch: 18, batch_id: 100, loss is: [0.09770085], opt_lr: 0.001\n",
      "epoch: 18, batch_id: 150, loss is: [0.09733106], opt_lr: 0.001\n",
      "epoch: 18, batch_id: 200, loss is: [0.0958437], opt_lr: 0.001\n",
      "epoch: 19, batch_id: 50, loss is: [0.09469792], opt_lr: 0.001\n",
      "epoch: 19, batch_id: 100, loss is: [0.09562233], opt_lr: 0.001\n",
      "epoch: 19, batch_id: 150, loss is: [0.09384999], opt_lr: 0.001\n",
      "epoch: 19, batch_id: 200, loss is: [0.0972498], opt_lr: 0.001\n"
     ]
    }
   ],
   "source": [
    "epochs = 20\r\n",
    "model_2 = autoencoder2()\r\n",
    "optim_2 = paddle.optimizer.Adam(learning_rate=0.001, parameters=model_2.parameters())\r\n",
    "train(model_2, optim_2, epochs)"
   ]
  },
  {
   "cell_type": "markdown",
   "metadata": {},
   "source": [
    "## 使用 paddle.jit.save 保存动转静模型"
   ]
  },
  {
   "cell_type": "code",
   "execution_count": 44,
   "metadata": {
    "execution": {
     "iopub.execute_input": "2022-05-04T09:28:16.745681Z",
     "iopub.status.busy": "2022-05-04T09:28:16.745391Z",
     "iopub.status.idle": "2022-05-04T09:28:16.772081Z",
     "shell.execute_reply": "2022-05-04T09:28:16.771638Z",
     "shell.execute_reply.started": "2022-05-04T09:28:16.745658Z"
    },
    "scrolled": true,
    "tags": []
   },
   "outputs": [
    {
     "name": "stderr",
     "output_type": "stream",
     "text": [
      "Wed May 04 17:28:16 Dynamic-to-Static WARNING: Current function: forward(x), input_spec: None has more than one cached programs: 2, the last traced progam will be return by default.\n"
     ]
    }
   ],
   "source": [
    "paddle.jit.save(model_2, 'model')"
   ]
  },
  {
   "cell_type": "markdown",
   "metadata": {},
   "source": [
    "## 使用 paddle.jit.load 加载动转静模型"
   ]
  },
  {
   "cell_type": "code",
   "execution_count": 45,
   "metadata": {
    "execution": {
     "iopub.execute_input": "2022-05-04T09:28:44.010140Z",
     "iopub.status.busy": "2022-05-04T09:28:44.009848Z",
     "iopub.status.idle": "2022-05-04T09:28:44.024315Z",
     "shell.execute_reply": "2022-05-04T09:28:44.023881Z",
     "shell.execute_reply.started": "2022-05-04T09:28:44.010115Z"
    },
    "scrolled": true,
    "tags": []
   },
   "outputs": [],
   "source": [
    "model_2 = paddle.jit.load('model')"
   ]
  },
  {
   "cell_type": "markdown",
   "metadata": {},
   "source": [
    "## 预测"
   ]
  },
  {
   "cell_type": "code",
   "execution_count": 49,
   "metadata": {
    "execution": {
     "iopub.execute_input": "2022-05-04T09:30:03.149250Z",
     "iopub.status.busy": "2022-05-04T09:30:03.148950Z",
     "iopub.status.idle": "2022-05-04T09:30:03.158770Z",
     "shell.execute_reply": "2022-05-04T09:30:03.158138Z",
     "shell.execute_reply.started": "2022-05-04T09:30:03.149226Z"
    },
    "scrolled": true,
    "tags": []
   },
   "outputs": [],
   "source": [
    " for batch_id, data in enumerate(test_loader):\r\n",
    "    x_data = data[0]\r\n",
    "    y_data = data[1]\r\n",
    "    predicts = model_2(x_data)\r\n",
    "    break"
   ]
  },
  {
   "cell_type": "code",
   "execution_count": 50,
   "metadata": {
    "execution": {
     "iopub.execute_input": "2022-05-04T09:30:05.299936Z",
     "iopub.status.busy": "2022-05-04T09:30:05.299631Z",
     "iopub.status.idle": "2022-05-04T09:30:05.921781Z",
     "shell.execute_reply": "2022-05-04T09:30:05.921343Z",
     "shell.execute_reply.started": "2022-05-04T09:30:05.299912Z"
    },
    "scrolled": true,
    "tags": []
   },
   "outputs": [
    {
     "data": {
      "image/png": "[encoded data removed]",
      "text/plain": [
       "<Figure size 1440x144 with 20 Axes>"
      ]
     },
     "metadata": {
      "needs_background": "light"
     },
     "output_type": "display_data"
    }
   ],
   "source": [
    "import warnings \r\n",
    "warnings.filterwarnings('ignore')\r\n",
    "\r\n",
    "import matplotlib.pyplot as plt\r\n",
    "%matplotlib inline\r\n",
    "\r\n",
    "n = 10 \r\n",
    "\r\n",
    "x_data = x_data.numpy()\r\n",
    "predicts = predicts.numpy()\r\n",
    "\r\n",
    "plt.figure(figsize=(20,2)) \r\n",
    "for i in range(n): \r\n",
    "    ax = plt.subplot(2,n,i+1) \r\n",
    "    plt.imshow(x_data[i][0].reshape(28,28)) \r\n",
    "    plt.gray() \r\n",
    "    ax.get_xaxis().set_visible(False) \r\n",
    "    ax.get_yaxis().set_visible(False)\r\n",
    "\r\n",
    "for i in range(n): \r\n",
    "    ax = plt.subplot(2,n,10+i+1) \r\n",
    "    plt.imshow(predicts[i].reshape(28,28)) \r\n",
    "    plt.gray() \r\n",
    "    ax.get_xaxis().set_visible(False) \r\n",
    "    ax.get_yaxis().set_visible(False)\r\n",
    "\r\n",
    "plt.show()\r\n",
    "\r\n"
   ]
  },
  {
   "cell_type": "markdown",
   "metadata": {},
   "source": [
    "请点击[此处](https://ai.baidu.com/docs#/AIStudio_Project_Notebook/a38e5576)查看本环境基本用法.  <br>\n",
    "Please click [here ](https://ai.baidu.com/docs#/AIStudio_Project_Notebook/a38e5576) for more detailed instructions. "
   ]
  }
 ],
 "metadata": {
  "kernelspec": {
   "display_name": "Python 3",
   "language": "python",
   "name": "py35-paddle1.2.0"
  },
  "language_info": {
   "codemirror_mode": {
    "name": "ipython",
    "version": 3
   },
   "file_extension": ".py",
   "mimetype": "text/x-python",
   "name": "python",
   "nbconvert_exporter": "python",
   "pygments_lexer": "ipython3",
   "version": "3.7.4"
  }
 },
 "nbformat": 4,
 "nbformat_minor": 4
}
