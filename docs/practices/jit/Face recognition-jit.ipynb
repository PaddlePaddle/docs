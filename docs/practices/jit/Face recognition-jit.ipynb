{
 "cells": [
  {
   "cell_type": "code",
   "execution_count": 1,
   "metadata": {
    "collapsed": false,
    "execution": {
     "iopub.execute_input": "2022-05-03T09:37:09.082319Z",
     "iopub.status.busy": "2022-05-03T09:37:09.081349Z",
     "iopub.status.idle": "2022-05-03T09:37:09.312566Z",
     "shell.execute_reply": "2022-05-03T09:37:09.311225Z",
     "shell.execute_reply.started": "2022-05-03T09:37:09.082262Z"
    },
    "jupyter": {
     "outputs_hidden": false
    },
    "scrolled": true,
    "tags": []
   },
   "outputs": [
    {
     "name": "stdout",
     "output_type": "stream",
     "text": [
      "data39602\n"
     ]
    }
   ],
   "source": [
    "# 查看当前挂载的数据集目录, 该目录下的变更重启环境后会自动还原\n",
    "# View dataset directory. \n",
    "# This directory will be recovered automatically after resetting environment. \n",
    "!ls /home/aistudio/data"
   ]
  },
  {
   "cell_type": "code",
   "execution_count": 2,
   "metadata": {
    "collapsed": false,
    "execution": {
     "iopub.execute_input": "2022-05-03T09:37:15.704486Z",
     "iopub.status.busy": "2022-05-03T09:37:15.703512Z",
     "iopub.status.idle": "2022-05-03T09:37:15.929880Z",
     "shell.execute_reply": "2022-05-03T09:37:15.928738Z",
     "shell.execute_reply.started": "2022-05-03T09:37:15.704438Z"
    },
    "jupyter": {
     "outputs_hidden": false
    },
    "scrolled": true,
    "tags": []
   },
   "outputs": [],
   "source": [
    "# 查看工作区文件, 该目录下的变更将会持久保存. 请及时清理不必要的文件, 避免加载过慢.\n",
    "# View personal work directory. \n",
    "# All changes under this directory will be kept even after reset. \n",
    "# Please clean unnecessary files in time to speed up environment loading. \n",
    "!ls /home/aistudio/work"
   ]
  },
  {
   "cell_type": "code",
   "execution_count": 3,
   "metadata": {
    "collapsed": false,
    "execution": {
     "iopub.execute_input": "2022-05-03T09:37:22.035866Z",
     "iopub.status.busy": "2022-05-03T09:37:22.035240Z",
     "iopub.status.idle": "2022-05-03T09:37:24.853978Z",
     "shell.execute_reply": "2022-05-03T09:37:24.852354Z",
     "shell.execute_reply.started": "2022-05-03T09:37:22.035825Z"
    },
    "jupyter": {
     "outputs_hidden": false
    },
    "scrolled": true,
    "tags": []
   },
   "outputs": [
    {
     "name": "stdout",
     "output_type": "stream",
     "text": [
      "Looking in indexes: https://pypi.tuna.tsinghua.edu.cn/simple\n",
      "Collecting beautifulsoup4\n",
      "  Downloading https://pypi.tuna.tsinghua.edu.cn/packages/9c/d8/909c4089dbe4ade9f9705f143c9f13f065049a9d5e7d34c828aefdd0a97c/beautifulsoup4-4.11.1-py3-none-any.whl (128 kB)\n",
      "\u001b[2K     \u001b[90m━━━━━━━━━━━━━━━━━━━━━━━━━━━━━━━━━━━━━━\u001b[0m \u001b[32m128.2/128.2 KB\u001b[0m \u001b[31m13.8 MB/s\u001b[0m eta \u001b[36m0:00:00\u001b[0m\n",
      "\u001b[?25hCollecting soupsieve>1.2\n",
      "  Downloading https://pypi.tuna.tsinghua.edu.cn/packages/16/e3/4ad79882b92617e3a4a0df1960d6bce08edfb637737ac5c3f3ba29022e25/soupsieve-2.3.2.post1-py3-none-any.whl (37 kB)\n",
      "Installing collected packages: soupsieve, beautifulsoup4\n",
      "Successfully installed beautifulsoup4-4.11.1 soupsieve-2.3.2.post1\n"
     ]
    }
   ],
   "source": [
    "# 如果需要进行持久化安装, 需要使用持久化路径, 如下方代码示例:\n",
    "# If a persistence installation is required, \n",
    "# you need to use the persistence path as the following: \n",
    "!mkdir /home/aistudio/external-libraries\n",
    "!pip install beautifulsoup4 -t /home/aistudio/external-libraries"
   ]
  },
  {
   "cell_type": "code",
   "execution_count": 4,
   "metadata": {
    "collapsed": false,
    "execution": {
     "iopub.execute_input": "2022-05-03T09:37:31.215094Z",
     "iopub.status.busy": "2022-05-03T09:37:31.214588Z",
     "iopub.status.idle": "2022-05-03T09:37:31.220602Z",
     "shell.execute_reply": "2022-05-03T09:37:31.218962Z",
     "shell.execute_reply.started": "2022-05-03T09:37:31.215055Z"
    },
    "jupyter": {
     "outputs_hidden": false
    },
    "scrolled": true,
    "tags": []
   },
   "outputs": [],
   "source": [
    "# 同时添加如下代码, 这样每次环境(kernel)启动的时候只要运行下方代码即可: \n",
    "# Also add the following code, \n",
    "# so that every time the environment (kernel) starts, \n",
    "# just run the following code: \n",
    "import sys \n",
    "sys.path.append('/home/aistudio/external-libraries')"
   ]
  },
  {
   "cell_type": "markdown",
   "metadata": {},
   "source": [
    "# 数据处理"
   ]
  },
  {
   "cell_type": "code",
   "execution_count": 5,
   "metadata": {
    "execution": {
     "iopub.execute_input": "2022-05-03T09:38:19.500231Z",
     "iopub.status.busy": "2022-05-03T09:38:19.499662Z",
     "iopub.status.idle": "2022-05-03T09:38:20.022909Z",
     "shell.execute_reply": "2022-05-03T09:38:20.021817Z",
     "shell.execute_reply.started": "2022-05-03T09:38:19.500189Z"
    },
    "scrolled": true,
    "tags": []
   },
   "outputs": [
    {
     "name": "stdout",
     "output_type": "stream",
     "text": [
      "Archive:  /home/aistudio/data/data39602/images.zip\n",
      "   creating: images/\n",
      "   creating: images/face/\n",
      "   creating: images/face/dilireba/\n",
      "  inflating: images/face/dilireba/15911604352.jpg  \n",
      "  inflating: images/face/dilireba/15911604353.jpg  \n",
      "  inflating: images/face/dilireba/15911604354.jpg  \n",
      "  inflating: images/face/dilireba/15911604355.jpg  \n",
      "  inflating: images/face/dilireba/159116043610.jpg  \n",
      "  inflating: images/face/dilireba/159116043611.jpg  \n",
      "  inflating: images/face/dilireba/159116043612.jpg  \n",
      "  inflating: images/face/dilireba/159116043613.jpg  \n",
      "  inflating: images/face/dilireba/159116043614.jpg  \n",
      "  inflating: images/face/dilireba/159116043615.jpg  \n",
      "  inflating: images/face/dilireba/159116043616.jpg  \n",
      "  inflating: images/face/dilireba/159116043618.jpg  \n",
      "  inflating: images/face/dilireba/159116043620.jpg  \n",
      "  inflating: images/face/dilireba/159116043622.jpg  \n",
      "  inflating: images/face/dilireba/159116043623.jpg  \n",
      "  inflating: images/face/dilireba/159116043624.jpg  \n",
      "  inflating: images/face/dilireba/159116043625.jpg  \n",
      "  inflating: images/face/dilireba/159116043626.jpg  \n",
      "  inflating: images/face/dilireba/159116043627.jpg  \n",
      "  inflating: images/face/dilireba/159116043628.jpg  \n",
      "  inflating: images/face/dilireba/159116043629.jpg  \n",
      "  inflating: images/face/dilireba/159116043631.jpg  \n",
      "  inflating: images/face/dilireba/159116043632.jpg  \n",
      "  inflating: images/face/dilireba/159116043633.jpg  \n",
      "  inflating: images/face/dilireba/159116043634.jpg  \n",
      "  inflating: images/face/dilireba/159116043635.jpg  \n",
      "  inflating: images/face/dilireba/159116043636.jpg  \n",
      "  inflating: images/face/dilireba/159116043637.jpg  \n",
      "  inflating: images/face/dilireba/159116043638.jpg  \n",
      "  inflating: images/face/dilireba/159116043639.jpg  \n",
      "  inflating: images/face/dilireba/159116043640.jpg  \n",
      "  inflating: images/face/dilireba/159116043641.jpg  \n",
      "  inflating: images/face/dilireba/159116043642.jpg  \n",
      "  inflating: images/face/dilireba/159116043643.jpg  \n",
      "  inflating: images/face/dilireba/159116043644.jpg  \n",
      "  inflating: images/face/dilireba/159116043645.jpg  \n",
      "  inflating: images/face/dilireba/159116043646.jpg  \n",
      "  inflating: images/face/dilireba/159116043647.jpg  \n",
      "  inflating: images/face/dilireba/159116043648.jpg  \n",
      "  inflating: images/face/dilireba/159116043649.jpg  \n",
      "  inflating: images/face/dilireba/159116043650.jpg  \n",
      "  inflating: images/face/dilireba/159116043651.jpg  \n",
      "  inflating: images/face/dilireba/159116043652.jpg  \n",
      "  inflating: images/face/dilireba/159116043653.jpg  \n",
      "  inflating: images/face/dilireba/159116043654.jpg  \n",
      "  inflating: images/face/dilireba/159116043655.jpg  \n",
      "  inflating: images/face/dilireba/159116043656.jpg  \n",
      "  inflating: images/face/dilireba/159116043657.jpg  \n",
      "  inflating: images/face/dilireba/159116043658.jpg  \n",
      "  inflating: images/face/dilireba/159116043659.jpg  \n",
      "  inflating: images/face/dilireba/15911604366.jpg  \n",
      "  inflating: images/face/dilireba/159116043660.jpg  \n",
      "  inflating: images/face/dilireba/15911604367.jpg  \n",
      "  inflating: images/face/dilireba/15911604368.jpg  \n",
      "  inflating: images/face/dilireba/15911604369.jpg  \n",
      "  inflating: images/face/dilireba/1591160437100.jpg  \n",
      "  inflating: images/face/dilireba/1591160437101.jpg  \n",
      "  inflating: images/face/dilireba/1591160437102.jpg  \n",
      "  inflating: images/face/dilireba/1591160437103.jpg  \n",
      "  inflating: images/face/dilireba/1591160437104.jpg  \n",
      "  inflating: images/face/dilireba/1591160437105.jpg  \n",
      "  inflating: images/face/dilireba/1591160437107.jpg  \n",
      "  inflating: images/face/dilireba/1591160437108.jpg  \n",
      "  inflating: images/face/dilireba/1591160437109.jpg  \n",
      "  inflating: images/face/dilireba/1591160437110.jpg  \n",
      "  inflating: images/face/dilireba/1591160437111.jpg  \n",
      "  inflating: images/face/dilireba/1591160437112.jpg  \n",
      "  inflating: images/face/dilireba/1591160437114.jpg  \n",
      "  inflating: images/face/dilireba/159116043761.jpg  \n",
      "  inflating: images/face/dilireba/159116043762.jpg  \n",
      "  inflating: images/face/dilireba/159116043763.jpg  \n",
      "  inflating: images/face/dilireba/159116043764.jpg  \n",
      "  inflating: images/face/dilireba/159116043765.jpg  \n",
      "  inflating: images/face/dilireba/159116043766.jpg  \n",
      "  inflating: images/face/dilireba/159116043767.jpg  \n",
      "  inflating: images/face/dilireba/159116043768.jpg  \n",
      "  inflating: images/face/dilireba/159116043769.jpg  \n",
      "  inflating: images/face/dilireba/159116043770.jpg  \n",
      "  inflating: images/face/dilireba/159116043771.jpg  \n",
      "  inflating: images/face/dilireba/159116043772.jpg  \n",
      "  inflating: images/face/dilireba/159116043773.jpg  \n",
      "  inflating: images/face/dilireba/159116043775.jpg  \n",
      "  inflating: images/face/dilireba/159116043776.jpg  \n",
      "  inflating: images/face/dilireba/159116043777.jpg  \n",
      "  inflating: images/face/dilireba/159116043779.jpg  \n",
      "  inflating: images/face/dilireba/159116043781.jpg  \n",
      "  inflating: images/face/dilireba/159116043783.jpg  \n",
      "  inflating: images/face/dilireba/159116043784.jpg  \n",
      "  inflating: images/face/dilireba/159116043785.jpg  \n",
      "  inflating: images/face/dilireba/159116043786.jpg  \n",
      "  inflating: images/face/dilireba/159116043787.jpg  \n",
      "  inflating: images/face/dilireba/159116043788.jpg  \n",
      "  inflating: images/face/dilireba/159116043789.jpg  \n",
      "  inflating: images/face/dilireba/159116043791.jpg  \n",
      "  inflating: images/face/dilireba/159116043792.jpg  \n",
      "  inflating: images/face/dilireba/159116043793.jpg  \n",
      "  inflating: images/face/dilireba/159116043794.jpg  \n",
      "  inflating: images/face/dilireba/159116043796.jpg  \n",
      "  inflating: images/face/dilireba/159116043797.jpg  \n",
      "  inflating: images/face/dilireba/159116043798.jpg  \n",
      "  inflating: images/face/dilireba/159116043799.jpg  \n",
      "  inflating: images/face/dilireba/1591160438115.jpg  \n",
      "  inflating: images/face/dilireba/1591160438116.jpg  \n",
      "  inflating: images/face/dilireba/1591160438117.jpg  \n",
      "  inflating: images/face/dilireba/1591160438118.jpg  \n",
      "  inflating: images/face/dilireba/1591160438119.jpg  \n",
      "  inflating: images/face/dilireba/1591160438120.jpg  \n",
      "  inflating: images/face/dilireba/1591160438121.jpg  \n",
      "  inflating: images/face/dilireba/1591160438122.jpg  \n",
      "  inflating: images/face/dilireba/1591160438123.jpg  \n",
      "  inflating: images/face/dilireba/1591160438124.jpg  \n",
      "  inflating: images/face/dilireba/1591160438125.jpg  \n",
      "   creating: images/face/jiangwen/\n",
      "  inflating: images/face/jiangwen/0acb8d12-f929-11e8-ac67-005056c00008.jpg  \n",
      "  inflating: images/face/jiangwen/0b1937e2-f929-11e8-8a8a-005056c00008.jpg  \n",
      "  inflating: images/face/jiangwen/10acb8d12-f929-11e8-ac67-005056c00008.jpg  \n",
      "  inflating: images/face/jiangwen/10b1937e2-f929-11e8-8a8a-005056c00008.jpg  \n",
      "  inflating: images/face/jiangwen/118207c00-f929-11e8-bee9-005056c00008.jpg  \n",
      "  inflating: images/face/jiangwen/1185e2140-f929-11e8-9b08-005056c00008.jpeg  \n",
      "  inflating: images/face/jiangwen/118b60540-f929-11e8-aefd-005056c00008.jpg  \n",
      "  inflating: images/face/jiangwen/11ad8ed12-f929-11e8-ab1f-005056c00008.jpg  \n",
      "  inflating: images/face/jiangwen/11b9203e2-f929-11e8-970c-005056c00008.jpg  \n",
      "  inflating: images/face/jiangwen/11bc5be12-f929-11e8-860a-005056c00008.jpg  \n",
      "  inflating: images/face/jiangwen/11c749bb0-f929-11e8-bfb9-005056c00008.jpg  \n",
      "  inflating: images/face/jiangwen/11cc97270-f929-11e8-8f86-005056c00008.jpeg  \n",
      "  inflating: images/face/jiangwen/11de1c040-f929-11e8-b9f1-005056c00008.jpeg  \n",
      "  inflating: images/face/jiangwen/11e2c7540-f929-11e8-b467-005056c00008.jpg  \n",
      "  inflating: images/face/jiangwen/11e78d7f0-f929-11e8-b323-005056c00008.jpg  \n",
      "  inflating: images/face/jiangwen/11eb9ffa2-f929-11e8-a78c-005056c00008.jpg  \n",
      "  inflating: images/face/jiangwen/11fe84670-f929-11e8-8e1b-005056c00008.jpg  \n",
      "  inflating: images/face/jiangwen/13a0d63f0-f929-11e8-9dce-005056c00008.png  \n",
      "  inflating: images/face/jiangwen/13ac6eff0-f929-11e8-bd75-005056c00008.jpg  \n",
      "  inflating: images/face/jiangwen/13b4791a2-f929-11e8-8555-005056c00008.jpg  \n",
      "  inflating: images/face/jiangwen/13b938ec0-f929-11e8-85af-005056c00008.jpg  \n",
      "  inflating: images/face/jiangwen/13bc1a3a2-f929-11e8-bdf1-005056c00008.jpeg  \n",
      "  inflating: images/face/jiangwen/13d309cf0-f929-11e8-855f-005056c00008.jpg  \n",
      "  inflating: images/face/jiangwen/13f521d62-f929-11e8-a72b-005056c00008.jpeg  \n",
      "  inflating: images/face/jiangwen/140040840-f929-11e8-b9ec-005056c00008.jpg  \n",
      "  inflating: images/face/jiangwen/14047c800-f929-11e8-9bbd-005056c00008.jpg  \n",
      "  inflating: images/face/jiangwen/1413cfd70-f929-11e8-a030-005056c00008.jpg  \n",
      "  inflating: images/face/jiangwen/141625fc0-f929-11e8-bcf4-005056c00008.jpg  \n",
      "  inflating: images/face/jiangwen/14eb97192-f929-11e8-a1ff-005056c00008.jpg  \n",
      "  inflating: images/face/jiangwen/14f2308d2-f929-11e8-b45b-005056c00008.jpeg  \n",
      "  inflating: images/face/jiangwen/16c874bc0-f929-11e8-bad9-005056c00008.jpeg  \n",
      "  inflating: images/face/jiangwen/170bedaf0-f929-11e8-b1ba-005056c00008.jpeg  \n",
      "  inflating: images/face/jiangwen/1741224a2-f929-11e8-9e25-005056c00008.jpg  \n",
      "  inflating: images/face/jiangwen/18207c00-f929-11e8-bee9-005056c00008.jpg  \n",
      "  inflating: images/face/jiangwen/18358d170-f929-11e8-b2a3-005056c00008.jpg  \n",
      "  inflating: images/face/jiangwen/185e2140-f929-11e8-9b08-005056c00008.jpeg  \n",
      "  inflating: images/face/jiangwen/18900b980-f929-11e8-b547-005056c00008.jpg  \n",
      "  inflating: images/face/jiangwen/18b60540-f929-11e8-aefd-005056c00008.jpg  \n",
      "  inflating: images/face/jiangwen/18e42b3d2-f929-11e8-ad0c-005056c00008.jpg  \n",
      "  inflating: images/face/jiangwen/18f6fc222-f929-11e8-86ae-005056c00008.jpg  \n",
      "  inflating: images/face/jiangwen/1905985e2-f929-11e8-a7e1-005056c00008.png  \n",
      "  inflating: images/face/jiangwen/191270f12-f929-11e8-8bc6-005056c00008.jpeg  \n",
      "  inflating: images/face/jiangwen/192c57cd2-f929-11e8-855d-005056c00008.jpg  \n",
      "  inflating: images/face/jiangwen/1930285d2-f929-11e8-a039-005056c00008.jpg  \n",
      "  inflating: images/face/jiangwen/194b19562-f929-11e8-88e0-005056c00008.jpg  \n",
      "  inflating: images/face/jiangwen/1a2935b00-f929-11e8-8ef8-005056c00008.jpg  \n",
      "  inflating: images/face/jiangwen/1ad8ed12-f929-11e8-ab1f-005056c00008.jpg  \n",
      "  inflating: images/face/jiangwen/1b055d8d2-f929-11e8-a6e5-005056c00008.jpg  \n",
      "  inflating: images/face/jiangwen/1b18ece00-f929-11e8-8e00-005056c00008.jpg  \n",
      "  inflating: images/face/jiangwen/1b20584a2-f929-11e8-8681-005056c00008.png  \n",
      "  inflating: images/face/jiangwen/1b56b44e2-f929-11e8-995c-005056c00008.jpg  \n",
      "  inflating: images/face/jiangwen/1b74c60f0-f929-11e8-8eea-005056c00008.jpg  \n",
      "  inflating: images/face/jiangwen/1b91699a2-f929-11e8-a82b-005056c00008.jpg  \n",
      "  inflating: images/face/jiangwen/1b9203e2-f929-11e8-970c-005056c00008.jpg  \n",
      "  inflating: images/face/jiangwen/1b9969f12-f929-11e8-8e46-005056c00008.jpg  \n",
      "  inflating: images/face/jiangwen/1ba5952d2-f929-11e8-bcf4-005056c00008.jpg  \n",
      "  inflating: images/face/jiangwen/1bc5be12-f929-11e8-860a-005056c00008.jpg  \n",
      "  inflating: images/face/jiangwen/1bd622600-f929-11e8-8623-005056c00008.jpg  \n",
      "  inflating: images/face/jiangwen/1bebb2652-f929-11e8-a1e8-005056c00008.jpg  \n",
      "  inflating: images/face/jiangwen/1c2128eb0-f929-11e8-8a05-005056c00008.jpg  \n",
      "  inflating: images/face/jiangwen/1c749bb0-f929-11e8-bfb9-005056c00008.jpg  \n",
      "  inflating: images/face/jiangwen/1cc97270-f929-11e8-8f86-005056c00008.jpeg  \n",
      "  inflating: images/face/jiangwen/1d3134792-f929-11e8-8194-005056c00008.jpg  \n",
      "  inflating: images/face/jiangwen/1d3725780-f929-11e8-b066-005056c00008.jpg  \n",
      "  inflating: images/face/jiangwen/1de1c040-f929-11e8-b9f1-005056c00008.jpeg  \n",
      "  inflating: images/face/jiangwen/1e2c7540-f929-11e8-b467-005056c00008.jpg  \n",
      "  inflating: images/face/jiangwen/1e78d7f0-f929-11e8-b323-005056c00008.jpg  \n",
      "  inflating: images/face/jiangwen/1e9fde062-f928-11e8-acbd-005056c00008.jpg  \n",
      "  inflating: images/face/jiangwen/1ea6c3292-f928-11e8-b3ee-005056c00008.jpg  \n",
      "  inflating: images/face/jiangwen/1ea95b392-f928-11e8-a520-005056c00008.jpg  \n",
      "  inflating: images/face/jiangwen/1eade4870-f929-11e8-befb-005056c00008.jpg  \n",
      "  inflating: images/face/jiangwen/1eb0ae392-f928-11e8-81ce-005056c00008.jpg  \n",
      "  inflating: images/face/jiangwen/1eb9ffa2-f929-11e8-a78c-005056c00008.jpg  \n",
      "  inflating: images/face/jiangwen/1f896b422-f929-11e8-b4fb-005056c00008.jpg  \n",
      "  inflating: images/face/jiangwen/1f9c8b152-f928-11e8-b6ca-005056c00008.jpg  \n",
      "  inflating: images/face/jiangwen/1fa115312-f928-11e8-91fb-005056c00008.jpg  \n",
      "  inflating: images/face/jiangwen/1faba8b62-f928-11e8-a0bc-005056c00008.jpeg  \n",
      "  inflating: images/face/jiangwen/1fb42ce30-f928-11e8-b69d-005056c00008.jpg  \n",
      "  inflating: images/face/jiangwen/1fb8be522-f928-11e8-8016-005056c00008.jpg  \n",
      "  inflating: images/face/jiangwen/1fc638070-f928-11e8-9d12-005056c00008.jpg  \n",
      "  inflating: images/face/jiangwen/1fe84670-f929-11e8-8e1b-005056c00008.jpg  \n",
      "  inflating: images/face/jiangwen/3a0d63f0-f929-11e8-9dce-005056c00008.png  \n",
      "  inflating: images/face/jiangwen/3ac6eff0-f929-11e8-bd75-005056c00008.jpg  \n",
      "  inflating: images/face/jiangwen/3b4791a2-f929-11e8-8555-005056c00008.jpg  \n",
      "  inflating: images/face/jiangwen/3b938ec0-f929-11e8-85af-005056c00008.jpg  \n",
      "  inflating: images/face/jiangwen/3bc1a3a2-f929-11e8-bdf1-005056c00008.jpeg  \n",
      "  inflating: images/face/jiangwen/3d309cf0-f929-11e8-855f-005056c00008.jpg  \n",
      "  inflating: images/face/jiangwen/3f521d62-f929-11e8-a72b-005056c00008.jpeg  \n",
      "  inflating: images/face/jiangwen/40040840-f929-11e8-b9ec-005056c00008.jpg  \n",
      "  inflating: images/face/jiangwen/4047c800-f929-11e8-9bbd-005056c00008.jpg  \n",
      "  inflating: images/face/jiangwen/413cfd70-f929-11e8-a030-005056c00008.jpg  \n",
      "  inflating: images/face/jiangwen/41625fc0-f929-11e8-bcf4-005056c00008.jpg  \n",
      "  inflating: images/face/jiangwen/4eb97192-f929-11e8-a1ff-005056c00008.jpg  \n",
      "  inflating: images/face/jiangwen/4f2308d2-f929-11e8-b45b-005056c00008.jpg  \n",
      "  inflating: images/face/jiangwen/6c874bc0-f929-11e8-bad9-005056c00008.jpg  \n",
      "  inflating: images/face/jiangwen/70bedaf0-f929-11e8-b1ba-005056c00008.jpeg  \n",
      "  inflating: images/face/jiangwen/741224a2-f929-11e8-9e25-005056c00008.jpg  \n",
      "  inflating: images/face/jiangwen/8358d170-f929-11e8-b2a3-005056c00008.jpg  \n",
      "  inflating: images/face/jiangwen/8900b980-f929-11e8-b547-005056c00008.jpg  \n",
      "  inflating: images/face/jiangwen/8e42b3d2-f929-11e8-ad0c-005056c00008.jpg  \n",
      "  inflating: images/face/jiangwen/8f6fc222-f929-11e8-86ae-005056c00008.jpg  \n",
      "  inflating: images/face/jiangwen/905985e2-f929-11e8-a7e1-005056c00008.png  \n",
      "  inflating: images/face/jiangwen/91270f12-f929-11e8-8bc6-005056c00008.jpeg  \n",
      "  inflating: images/face/jiangwen/92c57cd2-f929-11e8-855d-005056c00008.jpg  \n",
      "  inflating: images/face/jiangwen/930285d2-f929-11e8-a039-005056c00008.jpg  \n",
      "  inflating: images/face/jiangwen/94b19562-f929-11e8-88e0-005056c00008.jpg  \n",
      "  inflating: images/face/jiangwen/a2935b00-f929-11e8-8ef8-005056c00008.jpg  \n",
      "  inflating: images/face/jiangwen/aff912d2-f929-11e8-8807-005056c00008.jpg  \n",
      "  inflating: images/face/jiangwen/b055d8d2-f929-11e8-a6e5-005056c00008.jpg  \n",
      "  inflating: images/face/jiangwen/b18ece00-f929-11e8-8e00-005056c00008.jpg  \n",
      "  inflating: images/face/jiangwen/b20584a2-f929-11e8-8681-005056c00008.png  \n",
      "  inflating: images/face/jiangwen/b56b44e2-f929-11e8-995c-005056c00008.jpg  \n",
      "  inflating: images/face/jiangwen/b74c60f0-f929-11e8-8eea-005056c00008.jpg  \n",
      "  inflating: images/face/jiangwen/b91699a2-f929-11e8-a82b-005056c00008.jpg  \n",
      "  inflating: images/face/jiangwen/b9969f12-f929-11e8-8e46-005056c00008.jpg  \n",
      "  inflating: images/face/jiangwen/bd622600-f929-11e8-8623-005056c00008.jpg  \n",
      "  inflating: images/face/jiangwen/bebb2652-f929-11e8-a1e8-005056c00008.jpg  \n",
      "  inflating: images/face/jiangwen/c2128eb0-f929-11e8-8a05-005056c00008.jpg  \n",
      "  inflating: images/face/jiangwen/d3134792-f929-11e8-8194-005056c00008.jpg  \n",
      "  inflating: images/face/jiangwen/d3725780-f929-11e8-b066-005056c00008.jpg  \n",
      "  inflating: images/face/jiangwen/e9fde062-f928-11e8-acbd-005056c00008.jpg  \n",
      "  inflating: images/face/jiangwen/ea6c3292-f928-11e8-b3ee-005056c00008.jpg  \n",
      "  inflating: images/face/jiangwen/ea95b392-f928-11e8-a520-005056c00008.jpg  \n",
      "  inflating: images/face/jiangwen/eade4870-f929-11e8-befb-005056c00008.jpg  \n",
      "  inflating: images/face/jiangwen/eb0ae392-f928-11e8-81ce-005056c00008.jpg  \n",
      "  inflating: images/face/jiangwen/f896b422-f929-11e8-b4fb-005056c00008.jpg  \n",
      "  inflating: images/face/jiangwen/f97205d2-f928-11e8-9d91-005056c00008.jpg  \n",
      "  inflating: images/face/jiangwen/f9c8b152-f928-11e8-b6ca-005056c00008.jpg  \n",
      "  inflating: images/face/jiangwen/fa115312-f928-11e8-91fb-005056c00008.jpg  \n",
      "  inflating: images/face/jiangwen/faba8b62-f928-11e8-a0bc-005056c00008.jpg  \n",
      "  inflating: images/face/jiangwen/fb42ce30-f928-11e8-b69d-005056c00008.jpg  \n",
      "  inflating: images/face/jiangwen/fb8be522-f928-11e8-8016-005056c00008.jpg  \n",
      "  inflating: images/face/jiangwen/fc638070-f928-11e8-9d12-005056c00008.jpg  \n",
      "   creating: images/face/pengyuyan/\n",
      "  inflating: images/face/pengyuyan/20181206160937.png  \n",
      "  inflating: images/face/pengyuyan/20181206161041.png  \n",
      "  inflating: images/face/pengyuyan/20181206161053.png  \n",
      "  inflating: images/face/pengyuyan/20181206161115.png  \n",
      "  inflating: images/face/pengyuyan/20181206161127.png  \n",
      "  inflating: images/face/pengyuyan/20181206161153.png  \n",
      "  inflating: images/face/pengyuyan/20181206161233.png  \n",
      "  inflating: images/face/pengyuyan/20181206161255.png  \n",
      "  inflating: images/face/pengyuyan/20181206161312.png  \n",
      "  inflating: images/face/pengyuyan/20181206161331.png  \n",
      "  inflating: images/face/pengyuyan/20181206161448.png  \n",
      "  inflating: images/face/pengyuyan/20181206161502.png  \n",
      "  inflating: images/face/pengyuyan/20181206161516.png  \n",
      "  inflating: images/face/pengyuyan/20181206161530.png  \n",
      "  inflating: images/face/pengyuyan/20181206161541.png  \n",
      "  inflating: images/face/pengyuyan/20181206161554.png  \n",
      "  inflating: images/face/pengyuyan/20181206161607.png  \n",
      "  inflating: images/face/pengyuyan/20181206161634.png  \n",
      "  inflating: images/face/pengyuyan/20181206161648.png  \n",
      "  inflating: images/face/pengyuyan/20181206161702.png  \n",
      "  inflating: images/face/pengyuyan/20181206161734.png  \n",
      "  inflating: images/face/pengyuyan/20181206161755.png  \n",
      "  inflating: images/face/pengyuyan/20181206161806.png  \n",
      "  inflating: images/face/pengyuyan/20181206161828.png  \n",
      "  inflating: images/face/pengyuyan/20181206161848.png  \n",
      "  inflating: images/face/pengyuyan/20181206161903.png  \n",
      "  inflating: images/face/pengyuyan/20181206161917.png  \n",
      "  inflating: images/face/pengyuyan/20181206161943.png  \n",
      "  inflating: images/face/pengyuyan/20181206161954.png  \n",
      "  inflating: images/face/pengyuyan/20181206162010.png  \n",
      "  inflating: images/face/pengyuyan/20181206162027.png  \n",
      "  inflating: images/face/pengyuyan/20181206162042.png  \n",
      "  inflating: images/face/pengyuyan/20181206162057.png  \n",
      "  inflating: images/face/pengyuyan/20181206162112.png  \n",
      "  inflating: images/face/pengyuyan/20181206162157.png  \n",
      "  inflating: images/face/pengyuyan/20181206162211.png  \n",
      "  inflating: images/face/pengyuyan/20181206162223.png  \n",
      "  inflating: images/face/pengyuyan/20181206162234.png  \n",
      "  inflating: images/face/pengyuyan/20181206162254.png  \n",
      "  inflating: images/face/pengyuyan/20181206162311.png  \n",
      "  inflating: images/face/pengyuyan/20181206162340.png  \n",
      "  inflating: images/face/pengyuyan/20181206162351.png  \n",
      "  inflating: images/face/pengyuyan/20181206162411.png  \n",
      "  inflating: images/face/pengyuyan/20181206162423.png  \n",
      "  inflating: images/face/pengyuyan/20181206162442.png  \n",
      "  inflating: images/face/pengyuyan/20181206162454.png  \n",
      "  inflating: images/face/pengyuyan/20181206162507.png  \n",
      "  inflating: images/face/pengyuyan/20181206162522.png  \n",
      "  inflating: images/face/pengyuyan/20181206162540.png  \n",
      "  inflating: images/face/pengyuyan/20181206162552.png  \n",
      "  inflating: images/face/pengyuyan/20181206162602.png  \n",
      "  inflating: images/face/pengyuyan/20181206162613.png  \n",
      "  inflating: images/face/pengyuyan/20181206162625.png  \n",
      "  inflating: images/face/pengyuyan/20181206162641.png  \n",
      "  inflating: images/face/pengyuyan/20181206162654.png  \n",
      "  inflating: images/face/pengyuyan/20181206162707.png  \n",
      "  inflating: images/face/pengyuyan/20181206162717.png  \n",
      "  inflating: images/face/pengyuyan/20181206162732.png  \n",
      "  inflating: images/face/pengyuyan/20181206162749.png  \n",
      "  inflating: images/face/pengyuyan/20181206162804.png  \n",
      "  inflating: images/face/pengyuyan/20181206162816.png  \n",
      "  inflating: images/face/pengyuyan/20181206162836.png  \n",
      "  inflating: images/face/pengyuyan/20181206162850.png  \n",
      "  inflating: images/face/pengyuyan/20181206162904.png  \n",
      "  inflating: images/face/pengyuyan/20181206162915.png  \n",
      "  inflating: images/face/pengyuyan/20181206162932.png  \n",
      "  inflating: images/face/pengyuyan/20181206162941.png  \n",
      "  inflating: images/face/pengyuyan/20181206162956.png  \n",
      "  inflating: images/face/pengyuyan/20181206163011.png  \n",
      "  inflating: images/face/pengyuyan/20181206163213.png  \n",
      "  inflating: images/face/pengyuyan/20181206163224.png  \n",
      "  inflating: images/face/pengyuyan/20181206163238.png  \n",
      "  inflating: images/face/pengyuyan/20181206163250.png  \n",
      "  inflating: images/face/pengyuyan/20181206163306.png  \n",
      "  inflating: images/face/pengyuyan/20181206163318.png  \n",
      "  inflating: images/face/pengyuyan/20181206163331.png  \n",
      "  inflating: images/face/pengyuyan/20181206163344.png  \n",
      "  inflating: images/face/pengyuyan/20181206163359.png  \n",
      "  inflating: images/face/pengyuyan/20181206163412.png  \n",
      "  inflating: images/face/pengyuyan/20181206163439.png  \n",
      "  inflating: images/face/pengyuyan/20181206163452.png  \n",
      "  inflating: images/face/pengyuyan/20181206164423.png  \n",
      "  inflating: images/face/pengyuyan/20181206164436.png  \n",
      "  inflating: images/face/pengyuyan/20181206164450.png  \n",
      "  inflating: images/face/pengyuyan/20181206164502.png  \n",
      "  inflating: images/face/pengyuyan/20181206164513.png  \n",
      "  inflating: images/face/pengyuyan/20181206164526.png  \n",
      "  inflating: images/face/pengyuyan/20181206164539.png  \n",
      "  inflating: images/face/pengyuyan/20181206164550.png  \n",
      "  inflating: images/face/pengyuyan/20181206164628.png  \n",
      "  inflating: images/face/pengyuyan/20181206164640.png  \n",
      "  inflating: images/face/pengyuyan/20181206164655.png  \n",
      "  inflating: images/face/pengyuyan/20181206164707.png  \n",
      "  inflating: images/face/pengyuyan/20181206164718.png  \n",
      "  inflating: images/face/pengyuyan/20181206164727.png  \n",
      "  inflating: images/face/pengyuyan/20181206164742.png  \n",
      "  inflating: images/face/pengyuyan/20181206164753.png  \n",
      "  inflating: images/face/pengyuyan/20181206164804.png  \n",
      "  inflating: images/face/pengyuyan/20181206164816.png  \n",
      "  inflating: images/face/pengyuyan/20181206164827.png  \n",
      "  inflating: images/face/pengyuyan/20181206164840.png  \n",
      "  inflating: images/face/pengyuyan/20181206164853.png  \n",
      "  inflating: images/face/pengyuyan/20181206164912.png  \n",
      "  inflating: images/face/pengyuyan/20181206165014.png  \n",
      "  inflating: images/face/pengyuyan/20181206165044.png  \n",
      "  inflating: images/face/pengyuyan/20181206165057.png  \n",
      "  inflating: images/face/pengyuyan/20181206165108.png  \n",
      "  inflating: images/face/pengyuyan/20181206165118.png  \n",
      "  inflating: images/face/pengyuyan/20181206165131.png  \n",
      "  inflating: images/face/pengyuyan/20181206165143.png  \n",
      "  inflating: images/face/pengyuyan/20181206165157.png  \n",
      "  inflating: images/face/pengyuyan/20181206165211.png  \n",
      "  inflating: images/face/pengyuyan/20181206165238.png  \n",
      "  inflating: images/face/pengyuyan/20181206165249.png  \n",
      "   creating: images/face/zhangyan/\n",
      "images/face/zhangyan/微信图片_20200610094637.jpg:  mismatching \"local\" filename (images/face/zhangyan/х╛оф┐бхЫ╛чЙЗ_20200610094637.jpg),\n",
      "         continuing with \"central\" filename version\n",
      "  inflating: images/face/zhangyan/微信图片_20200610094637.jpg  \n",
      "images/face/zhangyan/微信图片_20200610094707.jpg:  mismatching \"local\" filename (images/face/zhangyan/х╛оф┐бхЫ╛чЙЗ_20200610094707.jpg),\n",
      "         continuing with \"central\" filename version\n",
      "  inflating: images/face/zhangyan/微信图片_20200610094707.jpg  \n",
      "images/face/zhangyan/微信图片_20200610094710.jpg:  mismatching \"local\" filename (images/face/zhangyan/х╛оф┐бхЫ╛чЙЗ_20200610094710.jpg),\n",
      "         continuing with \"central\" filename version\n",
      "  inflating: images/face/zhangyan/微信图片_20200610094710.jpg  \n",
      "images/face/zhangyan/微信图片_20200610094714.jpg:  mismatching \"local\" filename (images/face/zhangyan/х╛оф┐бхЫ╛чЙЗ_20200610094714.jpg),\n",
      "         continuing with \"central\" filename version\n",
      "  inflating: images/face/zhangyan/微信图片_20200610094714.jpg  \n",
      "images/face/zhangyan/微信图片_20200610094717.jpg:  mismatching \"local\" filename (images/face/zhangyan/х╛оф┐бхЫ╛чЙЗ_20200610094717.jpg),\n",
      "         continuing with \"central\" filename version\n",
      "  inflating: images/face/zhangyan/微信图片_20200610094717.jpg  \n",
      "images/face/zhangyan/微信图片_20200610094720.jpg:  mismatching \"local\" filename (images/face/zhangyan/х╛оф┐бхЫ╛чЙЗ_20200610094720.jpg),\n",
      "         continuing with \"central\" filename version\n",
      "  inflating: images/face/zhangyan/微信图片_20200610094720.jpg  \n",
      "images/face/zhangyan/微信图片_20200610094723.jpg:  mismatching \"local\" filename (images/face/zhangyan/х╛оф┐бхЫ╛чЙЗ_20200610094723.jpg),\n",
      "         continuing with \"central\" filename version\n",
      "  inflating: images/face/zhangyan/微信图片_20200610094723.jpg  \n",
      "images/face/zhangyan/微信图片_20200610094727.jpg:  mismatching \"local\" filename (images/face/zhangyan/х╛оф┐бхЫ╛чЙЗ_20200610094727.jpg),\n",
      "         continuing with \"central\" filename version\n",
      "  inflating: images/face/zhangyan/微信图片_20200610094727.jpg  \n",
      "images/face/zhangyan/微信图片_20200610094730.jpg:  mismatching \"local\" filename (images/face/zhangyan/х╛оф┐бхЫ╛чЙЗ_20200610094730.jpg),\n",
      "         continuing with \"central\" filename version\n",
      "  inflating: images/face/zhangyan/微信图片_20200610094730.jpg  \n",
      "images/face/zhangyan/微信图片_20200610094733.jpg:  mismatching \"local\" filename (images/face/zhangyan/х╛оф┐бхЫ╛чЙЗ_20200610094733.jpg),\n",
      "         continuing with \"central\" filename version\n",
      "  inflating: images/face/zhangyan/微信图片_20200610094733.jpg  \n",
      "images/face/zhangyan/微信图片_20200610094736.jpg:  mismatching \"local\" filename (images/face/zhangyan/х╛оф┐бхЫ╛чЙЗ_20200610094736.jpg),\n",
      "         continuing with \"central\" filename version\n",
      "  inflating: images/face/zhangyan/微信图片_20200610094736.jpg  \n",
      "images/face/zhangyan/微信图片_20200610094739.jpg:  mismatching \"local\" filename (images/face/zhangyan/х╛оф┐бхЫ╛чЙЗ_20200610094739.jpg),\n",
      "         continuing with \"central\" filename version\n",
      "  inflating: images/face/zhangyan/微信图片_20200610094739.jpg  \n",
      "images/face/zhangyan/微信图片_20200610094742.jpg:  mismatching \"local\" filename (images/face/zhangyan/х╛оф┐бхЫ╛чЙЗ_20200610094742.jpg),\n",
      "         continuing with \"central\" filename version\n",
      "  inflating: images/face/zhangyan/微信图片_20200610094742.jpg  \n",
      "images/face/zhangyan/微信图片_20200610094745.jpg:  mismatching \"local\" filename (images/face/zhangyan/х╛оф┐бхЫ╛чЙЗ_20200610094745.jpg),\n",
      "         continuing with \"central\" filename version\n",
      "  inflating: images/face/zhangyan/微信图片_20200610094745.jpg  \n",
      "images/face/zhangyan/微信图片_20200610094749.jpg:  mismatching \"local\" filename (images/face/zhangyan/х╛оф┐бхЫ╛чЙЗ_20200610094749.jpg),\n",
      "         continuing with \"central\" filename version\n",
      "  inflating: images/face/zhangyan/微信图片_20200610094749.jpg  \n",
      "images/face/zhangyan/微信图片_20200610094752.jpg:  mismatching \"local\" filename (images/face/zhangyan/х╛оф┐бхЫ╛чЙЗ_20200610094752.jpg),\n",
      "         continuing with \"central\" filename version\n",
      "  inflating: images/face/zhangyan/微信图片_20200610094752.jpg  \n",
      "images/face/zhangyan/微信图片_20200610094755.jpg:  mismatching \"local\" filename (images/face/zhangyan/х╛оф┐бхЫ╛чЙЗ_20200610094755.jpg),\n",
      "         continuing with \"central\" filename version\n",
      "  inflating: images/face/zhangyan/微信图片_20200610094755.jpg  \n",
      "images/face/zhangyan/微信图片_20200610094759.jpg:  mismatching \"local\" filename (images/face/zhangyan/х╛оф┐бхЫ╛чЙЗ_20200610094759.jpg),\n",
      "         continuing with \"central\" filename version\n",
      "  inflating: images/face/zhangyan/微信图片_20200610094759.jpg  \n",
      "images/face/zhangyan/微信图片_20200610094801.jpg:  mismatching \"local\" filename (images/face/zhangyan/х╛оф┐бхЫ╛чЙЗ_20200610094801.jpg),\n",
      "         continuing with \"central\" filename version\n",
      "  inflating: images/face/zhangyan/微信图片_20200610094801.jpg  \n",
      "images/face/zhangyan/微信图片_20200610094804.jpg:  mismatching \"local\" filename (images/face/zhangyan/х╛оф┐бхЫ╛чЙЗ_20200610094804.jpg),\n",
      "         continuing with \"central\" filename version\n",
      "  inflating: images/face/zhangyan/微信图片_20200610094804.jpg  \n",
      "images/face/zhangyan/微信图片_20200610094807.jpg:  mismatching \"local\" filename (images/face/zhangyan/х╛оф┐бхЫ╛чЙЗ_20200610094807.jpg),\n",
      "         continuing with \"central\" filename version\n",
      "  inflating: images/face/zhangyan/微信图片_20200610094807.jpg  \n",
      "images/face/zhangyan/微信图片_20200610094810.jpg:  mismatching \"local\" filename (images/face/zhangyan/х╛оф┐бхЫ╛чЙЗ_20200610094810.jpg),\n",
      "         continuing with \"central\" filename version\n",
      "  inflating: images/face/zhangyan/微信图片_20200610094810.jpg  \n",
      "images/face/zhangyan/微信图片_20200610094813.jpg:  mismatching \"local\" filename (images/face/zhangyan/х╛оф┐бхЫ╛чЙЗ_20200610094813.jpg),\n",
      "         continuing with \"central\" filename version\n",
      "  inflating: images/face/zhangyan/微信图片_20200610094813.jpg  \n",
      "images/face/zhangyan/微信图片_20200610094816.jpg:  mismatching \"local\" filename (images/face/zhangyan/х╛оф┐бхЫ╛чЙЗ_20200610094816.jpg),\n",
      "         continuing with \"central\" filename version\n",
      "  inflating: images/face/zhangyan/微信图片_20200610094816.jpg  \n",
      "images/face/zhangyan/微信图片_20200610094818.jpg:  mismatching \"local\" filename (images/face/zhangyan/х╛оф┐бхЫ╛чЙЗ_20200610094818.jpg),\n",
      "         continuing with \"central\" filename version\n",
      "  inflating: images/face/zhangyan/微信图片_20200610094818.jpg  \n",
      "images/face/zhangyan/微信图片_20200610094821.jpg:  mismatching \"local\" filename (images/face/zhangyan/х╛оф┐бхЫ╛чЙЗ_20200610094821.jpg),\n",
      "         continuing with \"central\" filename version\n",
      "  inflating: images/face/zhangyan/微信图片_20200610094821.jpg  \n",
      "images/face/zhangyan/微信图片_20200610094824.jpg:  mismatching \"local\" filename (images/face/zhangyan/х╛оф┐бхЫ╛чЙЗ_20200610094824.jpg),\n",
      "         continuing with \"central\" filename version\n",
      "  inflating: images/face/zhangyan/微信图片_20200610094824.jpg  \n",
      "images/face/zhangyan/微信图片_20200610094827.jpg:  mismatching \"local\" filename (images/face/zhangyan/х╛оф┐бхЫ╛чЙЗ_20200610094827.jpg),\n",
      "         continuing with \"central\" filename version\n",
      "  inflating: images/face/zhangyan/微信图片_20200610094827.jpg  \n",
      "images/face/zhangyan/微信图片_20200610094829.jpg:  mismatching \"local\" filename (images/face/zhangyan/х╛оф┐бхЫ╛чЙЗ_20200610094829.jpg),\n",
      "         continuing with \"central\" filename version\n",
      "  inflating: images/face/zhangyan/微信图片_20200610094829.jpg  \n",
      "images/face/zhangyan/微信图片_20200610094832.jpg:  mismatching \"local\" filename (images/face/zhangyan/х╛оф┐бхЫ╛чЙЗ_20200610094832.jpg),\n",
      "         continuing with \"central\" filename version\n",
      "  inflating: images/face/zhangyan/微信图片_20200610094832.jpg  \n",
      "images/face/zhangyan/微信图片_20200610094835.jpg:  mismatching \"local\" filename (images/face/zhangyan/х╛оф┐бхЫ╛чЙЗ_20200610094835.jpg),\n",
      "         continuing with \"central\" filename version\n",
      "  inflating: images/face/zhangyan/微信图片_20200610094835.jpg  \n",
      "images/face/zhangyan/微信图片_20200610094838.jpg:  mismatching \"local\" filename (images/face/zhangyan/х╛оф┐бхЫ╛чЙЗ_20200610094838.jpg),\n",
      "         continuing with \"central\" filename version\n",
      "  inflating: images/face/zhangyan/微信图片_20200610094838.jpg  \n",
      "images/face/zhangyan/微信图片_20200610094841.jpg:  mismatching \"local\" filename (images/face/zhangyan/х╛оф┐бхЫ╛чЙЗ_20200610094841.jpg),\n",
      "         continuing with \"central\" filename version\n",
      "  inflating: images/face/zhangyan/微信图片_20200610094841.jpg  \n",
      "images/face/zhangyan/微信图片_20200610094843.jpg:  mismatching \"local\" filename (images/face/zhangyan/х╛оф┐бхЫ╛чЙЗ_20200610094843.jpg),\n",
      "         continuing with \"central\" filename version\n",
      "  inflating: images/face/zhangyan/微信图片_20200610094843.jpg  \n",
      "images/face/zhangyan/微信图片_20200610094846.jpg:  mismatching \"local\" filename (images/face/zhangyan/х╛оф┐бхЫ╛чЙЗ_20200610094846.jpg),\n",
      "         continuing with \"central\" filename version\n",
      "  inflating: images/face/zhangyan/微信图片_20200610094846.jpg  \n",
      "images/face/zhangyan/微信图片_20200610094848.jpg:  mismatching \"local\" filename (images/face/zhangyan/х╛оф┐бхЫ╛чЙЗ_20200610094848.jpg),\n",
      "         continuing with \"central\" filename version\n",
      "  inflating: images/face/zhangyan/微信图片_20200610094848.jpg  \n",
      "images/face/zhangyan/微信图片_20200610094852.jpg:  mismatching \"local\" filename (images/face/zhangyan/х╛оф┐бхЫ╛чЙЗ_20200610094852.jpg),\n",
      "         continuing with \"central\" filename version\n",
      "  inflating: images/face/zhangyan/微信图片_20200610094852.jpg  \n",
      "images/face/zhangyan/微信图片_20200610094854.jpg:  mismatching \"local\" filename (images/face/zhangyan/х╛оф┐бхЫ╛чЙЗ_20200610094854.jpg),\n",
      "         continuing with \"central\" filename version\n",
      "  inflating: images/face/zhangyan/微信图片_20200610094854.jpg  \n",
      "images/face/zhangyan/微信图片_20200610094857.jpg:  mismatching \"local\" filename (images/face/zhangyan/х╛оф┐бхЫ╛чЙЗ_20200610094857.jpg),\n",
      "         continuing with \"central\" filename version\n",
      "  inflating: images/face/zhangyan/微信图片_20200610094857.jpg  \n",
      "images/face/zhangyan/微信图片_20200610094900.jpg:  mismatching \"local\" filename (images/face/zhangyan/х╛оф┐бхЫ╛чЙЗ_20200610094900.jpg),\n",
      "         continuing with \"central\" filename version\n",
      "  inflating: images/face/zhangyan/微信图片_20200610094900.jpg  \n",
      "images/face/zhangyan/微信图片_20200610094902.jpg:  mismatching \"local\" filename (images/face/zhangyan/х╛оф┐бхЫ╛чЙЗ_20200610094902.jpg),\n",
      "         continuing with \"central\" filename version\n",
      "  inflating: images/face/zhangyan/微信图片_20200610094902.jpg  \n",
      "images/face/zhangyan/微信图片_20200610094905.jpg:  mismatching \"local\" filename (images/face/zhangyan/х╛оф┐бхЫ╛чЙЗ_20200610094905.jpg),\n",
      "         continuing with \"central\" filename version\n",
      "  inflating: images/face/zhangyan/微信图片_20200610094905.jpg  \n",
      "images/face/zhangyan/微信图片_20200610094907.jpg:  mismatching \"local\" filename (images/face/zhangyan/х╛оф┐бхЫ╛чЙЗ_20200610094907.jpg),\n",
      "         continuing with \"central\" filename version\n",
      "  inflating: images/face/zhangyan/微信图片_20200610094907.jpg  \n",
      "images/face/zhangyan/微信图片_20200610094910.jpg:  mismatching \"local\" filename (images/face/zhangyan/х╛оф┐бхЫ╛чЙЗ_20200610094910.jpg),\n",
      "         continuing with \"central\" filename version\n",
      "  inflating: images/face/zhangyan/微信图片_20200610094910.jpg  \n",
      "images/face/zhangyan/微信图片_20200610094913.jpg:  mismatching \"local\" filename (images/face/zhangyan/х╛оф┐бхЫ╛чЙЗ_20200610094913.jpg),\n",
      "         continuing with \"central\" filename version\n",
      "  inflating: images/face/zhangyan/微信图片_20200610094913.jpg  \n",
      "images/face/zhangyan/微信图片_20200610094917.jpg:  mismatching \"local\" filename (images/face/zhangyan/х╛оф┐бхЫ╛чЙЗ_20200610094917.jpg),\n",
      "         continuing with \"central\" filename version\n",
      "  inflating: images/face/zhangyan/微信图片_20200610094917.jpg  \n",
      "images/face/zhangyan/微信图片_20200610094920.jpg:  mismatching \"local\" filename (images/face/zhangyan/х╛оф┐бхЫ╛чЙЗ_20200610094920.jpg),\n",
      "         continuing with \"central\" filename version\n",
      "  inflating: images/face/zhangyan/微信图片_20200610094920.jpg  \n",
      "images/face/zhangyan/微信图片_20200610094922.jpg:  mismatching \"local\" filename (images/face/zhangyan/х╛оф┐бхЫ╛чЙЗ_20200610094922.jpg),\n",
      "         continuing with \"central\" filename version\n",
      "  inflating: images/face/zhangyan/微信图片_20200610094922.jpg  \n",
      "images/face/zhangyan/微信图片_20200610094925.jpg:  mismatching \"local\" filename (images/face/zhangyan/х╛оф┐бхЫ╛чЙЗ_20200610094925.jpg),\n",
      "         continuing with \"central\" filename version\n",
      "  inflating: images/face/zhangyan/微信图片_20200610094925.jpg  \n",
      "images/face/zhangyan/微信图片_20200610094927.jpg:  mismatching \"local\" filename (images/face/zhangyan/х╛оф┐бхЫ╛чЙЗ_20200610094927.jpg),\n",
      "         continuing with \"central\" filename version\n",
      "  inflating: images/face/zhangyan/微信图片_20200610094927.jpg  \n",
      "images/face/zhangyan/微信图片_20200610094931.jpg:  mismatching \"local\" filename (images/face/zhangyan/х╛оф┐бхЫ╛чЙЗ_20200610094931.jpg),\n",
      "         continuing with \"central\" filename version\n",
      "  inflating: images/face/zhangyan/微信图片_20200610094931.jpg  \n",
      "images/face/zhangyan/微信图片_20200610094933.jpg:  mismatching \"local\" filename (images/face/zhangyan/х╛оф┐бхЫ╛чЙЗ_20200610094933.jpg),\n",
      "         continuing with \"central\" filename version\n",
      "  inflating: images/face/zhangyan/微信图片_20200610094933.jpg  \n",
      "images/face/zhangyan/微信图片_20200610094936.jpg:  mismatching \"local\" filename (images/face/zhangyan/х╛оф┐бхЫ╛чЙЗ_20200610094936.jpg),\n",
      "         continuing with \"central\" filename version\n",
      "  inflating: images/face/zhangyan/微信图片_20200610094936.jpg  \n",
      "images/face/zhangyan/微信图片_20200610094940.jpg:  mismatching \"local\" filename (images/face/zhangyan/х╛оф┐бхЫ╛чЙЗ_20200610094940.jpg),\n",
      "         continuing with \"central\" filename version\n",
      "  inflating: images/face/zhangyan/微信图片_20200610094940.jpg  \n",
      "images/face/zhangyan/微信图片_20200610094942.jpg:  mismatching \"local\" filename (images/face/zhangyan/х╛оф┐бхЫ╛чЙЗ_20200610094942.jpg),\n",
      "         continuing with \"central\" filename version\n",
      "  inflating: images/face/zhangyan/微信图片_20200610094942.jpg  \n",
      "images/face/zhangyan/微信图片_20200610094945.jpg:  mismatching \"local\" filename (images/face/zhangyan/х╛оф┐бхЫ╛чЙЗ_20200610094945.jpg),\n",
      "         continuing with \"central\" filename version\n",
      "  inflating: images/face/zhangyan/微信图片_20200610094945.jpg  \n",
      "images/face/zhangyan/微信图片_20200610094947.jpg:  mismatching \"local\" filename (images/face/zhangyan/х╛оф┐бхЫ╛чЙЗ_20200610094947.jpg),\n",
      "         continuing with \"central\" filename version\n",
      "  inflating: images/face/zhangyan/微信图片_20200610094947.jpg  \n",
      "images/face/zhangyan/微信图片_20200610094949.jpg:  mismatching \"local\" filename (images/face/zhangyan/х╛оф┐бхЫ╛чЙЗ_20200610094949.jpg),\n",
      "         continuing with \"central\" filename version\n",
      "  inflating: images/face/zhangyan/微信图片_20200610094949.jpg  \n",
      "images/face/zhangyan/微信图片_20200610094952.jpg:  mismatching \"local\" filename (images/face/zhangyan/х╛оф┐бхЫ╛чЙЗ_20200610094952.jpg),\n",
      "         continuing with \"central\" filename version\n",
      "  inflating: images/face/zhangyan/微信图片_20200610094952.jpg  \n",
      "images/face/zhangyan/微信图片_20200610094954.jpg:  mismatching \"local\" filename (images/face/zhangyan/х╛оф┐бхЫ╛чЙЗ_20200610094954.jpg),\n",
      "         continuing with \"central\" filename version\n",
      "  inflating: images/face/zhangyan/微信图片_20200610094954.jpg  \n",
      "images/face/zhangyan/微信图片_20200610094957.jpg:  mismatching \"local\" filename (images/face/zhangyan/х╛оф┐бхЫ╛чЙЗ_20200610094957.jpg),\n",
      "         continuing with \"central\" filename version\n",
      "  inflating: images/face/zhangyan/微信图片_20200610094957.jpg  \n",
      "images/face/zhangyan/微信图片_20200610095000.jpg:  mismatching \"local\" filename (images/face/zhangyan/х╛оф┐бхЫ╛чЙЗ_20200610095000.jpg),\n",
      "         continuing with \"central\" filename version\n",
      "  inflating: images/face/zhangyan/微信图片_20200610095000.jpg  \n",
      "images/face/zhangyan/微信图片_20200610095002.jpg:  mismatching \"local\" filename (images/face/zhangyan/х╛оф┐бхЫ╛чЙЗ_20200610095002.jpg),\n",
      "         continuing with \"central\" filename version\n",
      "  inflating: images/face/zhangyan/微信图片_20200610095002.jpg  \n",
      "images/face/zhangyan/微信图片_20200610095004.jpg:  mismatching \"local\" filename (images/face/zhangyan/х╛оф┐бхЫ╛чЙЗ_20200610095004.jpg),\n",
      "         continuing with \"central\" filename version\n",
      "  inflating: images/face/zhangyan/微信图片_20200610095004.jpg  \n",
      "images/face/zhangyan/微信图片_20200610095007.jpg:  mismatching \"local\" filename (images/face/zhangyan/х╛оф┐бхЫ╛чЙЗ_20200610095007.jpg),\n",
      "         continuing with \"central\" filename version\n",
      "  inflating: images/face/zhangyan/微信图片_20200610095007.jpg  \n",
      "images/face/zhangyan/微信图片_20200610095010.jpg:  mismatching \"local\" filename (images/face/zhangyan/х╛оф┐бхЫ╛чЙЗ_20200610095010.jpg),\n",
      "         continuing with \"central\" filename version\n",
      "  inflating: images/face/zhangyan/微信图片_20200610095010.jpg  \n",
      "images/face/zhangyan/微信图片_20200610095013.jpg:  mismatching \"local\" filename (images/face/zhangyan/х╛оф┐бхЫ╛чЙЗ_20200610095013.jpg),\n",
      "         continuing with \"central\" filename version\n",
      "  inflating: images/face/zhangyan/微信图片_20200610095013.jpg  \n",
      "images/face/zhangyan/微信图片_20200610095016.jpg:  mismatching \"local\" filename (images/face/zhangyan/х╛оф┐бхЫ╛чЙЗ_20200610095016.jpg),\n",
      "         continuing with \"central\" filename version\n",
      "  inflating: images/face/zhangyan/微信图片_20200610095016.jpg  \n",
      "images/face/zhangyan/微信图片_20200610095018.jpg:  mismatching \"local\" filename (images/face/zhangyan/х╛оф┐бхЫ╛чЙЗ_20200610095018.jpg),\n",
      "         continuing with \"central\" filename version\n",
      "  inflating: images/face/zhangyan/微信图片_20200610095018.jpg  \n",
      "images/face/zhangyan/微信图片_20200610095020.jpg:  mismatching \"local\" filename (images/face/zhangyan/х╛оф┐бхЫ╛чЙЗ_20200610095020.jpg),\n",
      "         continuing with \"central\" filename version\n",
      "  inflating: images/face/zhangyan/微信图片_20200610095020.jpg  \n",
      "images/face/zhangyan/微信图片_20200610095023.jpg:  mismatching \"local\" filename (images/face/zhangyan/х╛оф┐бхЫ╛чЙЗ_20200610095023.jpg),\n",
      "         continuing with \"central\" filename version\n",
      "  inflating: images/face/zhangyan/微信图片_20200610095023.jpg  \n",
      "images/face/zhangyan/微信图片_20200610095025.jpg:  mismatching \"local\" filename (images/face/zhangyan/х╛оф┐бхЫ╛чЙЗ_20200610095025.jpg),\n",
      "         continuing with \"central\" filename version\n",
      "  inflating: images/face/zhangyan/微信图片_20200610095025.jpg  \n",
      "images/face/zhangyan/微信图片_20200610095028.jpg:  mismatching \"local\" filename (images/face/zhangyan/х╛оф┐бхЫ╛чЙЗ_20200610095028.jpg),\n",
      "         continuing with \"central\" filename version\n",
      "  inflating: images/face/zhangyan/微信图片_20200610095028.jpg  \n",
      "images/face/zhangyan/微信图片_20200610095030.jpg:  mismatching \"local\" filename (images/face/zhangyan/х╛оф┐бхЫ╛чЙЗ_20200610095030.jpg),\n",
      "         continuing with \"central\" filename version\n",
      "  inflating: images/face/zhangyan/微信图片_20200610095030.jpg  \n",
      "images/face/zhangyan/微信图片_20200610095033.jpg:  mismatching \"local\" filename (images/face/zhangyan/х╛оф┐бхЫ╛чЙЗ_20200610095033.jpg),\n",
      "         continuing with \"central\" filename version\n",
      "  inflating: images/face/zhangyan/微信图片_20200610095033.jpg  \n",
      "images/face/zhangyan/微信图片_20200610095036.jpg:  mismatching \"local\" filename (images/face/zhangyan/х╛оф┐бхЫ╛чЙЗ_20200610095036.jpg),\n",
      "         continuing with \"central\" filename version\n",
      "  inflating: images/face/zhangyan/微信图片_20200610095036.jpg  \n",
      "images/face/zhangyan/微信图片_20200610095039.jpg:  mismatching \"local\" filename (images/face/zhangyan/х╛оф┐бхЫ╛чЙЗ_20200610095039.jpg),\n",
      "         continuing with \"central\" filename version\n",
      "  inflating: images/face/zhangyan/微信图片_20200610095039.jpg  \n",
      "images/face/zhangyan/微信图片_20200610095041.jpg:  mismatching \"local\" filename (images/face/zhangyan/х╛оф┐бхЫ╛чЙЗ_20200610095041.jpg),\n",
      "         continuing with \"central\" filename version\n",
      "  inflating: images/face/zhangyan/微信图片_20200610095041.jpg  \n",
      "images/face/zhangyan/微信图片_20200610095044.jpg:  mismatching \"local\" filename (images/face/zhangyan/х╛оф┐бхЫ╛чЙЗ_20200610095044.jpg),\n",
      "         continuing with \"central\" filename version\n",
      "  inflating: images/face/zhangyan/微信图片_20200610095044.jpg  \n",
      "images/face/zhangyan/微信图片_20200610095046.jpg:  mismatching \"local\" filename (images/face/zhangyan/х╛оф┐бхЫ╛чЙЗ_20200610095046.jpg),\n",
      "         continuing with \"central\" filename version\n",
      "  inflating: images/face/zhangyan/微信图片_20200610095046.jpg  \n",
      "images/face/zhangyan/微信图片_20200610095049.jpg:  mismatching \"local\" filename (images/face/zhangyan/х╛оф┐бхЫ╛чЙЗ_20200610095049.jpg),\n",
      "         continuing with \"central\" filename version\n",
      "  inflating: images/face/zhangyan/微信图片_20200610095049.jpg  \n",
      "images/face/zhangyan/微信图片_20200610095052.jpg:  mismatching \"local\" filename (images/face/zhangyan/х╛оф┐бхЫ╛чЙЗ_20200610095052.jpg),\n",
      "         continuing with \"central\" filename version\n",
      "  inflating: images/face/zhangyan/微信图片_20200610095052.jpg  \n",
      "images/face/zhangyan/微信图片_20200610095054.jpg:  mismatching \"local\" filename (images/face/zhangyan/х╛оф┐бхЫ╛чЙЗ_20200610095054.jpg),\n",
      "         continuing with \"central\" filename version\n",
      "  inflating: images/face/zhangyan/微信图片_20200610095054.jpg  \n",
      "images/face/zhangyan/微信图片_20200610095057.jpg:  mismatching \"local\" filename (images/face/zhangyan/х╛оф┐бхЫ╛чЙЗ_20200610095057.jpg),\n",
      "         continuing with \"central\" filename version\n",
      "  inflating: images/face/zhangyan/微信图片_20200610095057.jpg  \n",
      "images/face/zhangyan/微信图片_20200610095059.jpg:  mismatching \"local\" filename (images/face/zhangyan/х╛оф┐бхЫ╛чЙЗ_20200610095059.jpg),\n",
      "         continuing with \"central\" filename version\n",
      "  inflating: images/face/zhangyan/微信图片_20200610095059.jpg  \n",
      "images/face/zhangyan/微信图片_20200610095102.jpg:  mismatching \"local\" filename (images/face/zhangyan/х╛оф┐бхЫ╛чЙЗ_20200610095102.jpg),\n",
      "         continuing with \"central\" filename version\n",
      "  inflating: images/face/zhangyan/微信图片_20200610095102.jpg  \n",
      "images/face/zhangyan/微信图片_20200610095104.jpg:  mismatching \"local\" filename (images/face/zhangyan/х╛оф┐бхЫ╛чЙЗ_20200610095104.jpg),\n",
      "         continuing with \"central\" filename version\n",
      "  inflating: images/face/zhangyan/微信图片_20200610095104.jpg  \n",
      "images/face/zhangyan/微信图片_20200610095107.jpg:  mismatching \"local\" filename (images/face/zhangyan/х╛оф┐бхЫ╛чЙЗ_20200610095107.jpg),\n",
      "         continuing with \"central\" filename version\n",
      "  inflating: images/face/zhangyan/微信图片_20200610095107.jpg  \n",
      "images/face/zhangyan/微信图片_20200610095110.jpg:  mismatching \"local\" filename (images/face/zhangyan/х╛оф┐бхЫ╛чЙЗ_20200610095110.jpg),\n",
      "         continuing with \"central\" filename version\n",
      "  inflating: images/face/zhangyan/微信图片_20200610095110.jpg  \n",
      "images/face/zhangyan/微信图片_20200610095113.jpg:  mismatching \"local\" filename (images/face/zhangyan/х╛оф┐бхЫ╛чЙЗ_20200610095113.jpg),\n",
      "         continuing with \"central\" filename version\n",
      "  inflating: images/face/zhangyan/微信图片_20200610095113.jpg  \n",
      "images/face/zhangyan/微信图片_20200610095116.jpg:  mismatching \"local\" filename (images/face/zhangyan/х╛оф┐бхЫ╛чЙЗ_20200610095116.jpg),\n",
      "         continuing with \"central\" filename version\n",
      "  inflating: images/face/zhangyan/微信图片_20200610095116.jpg  \n",
      "images/face/zhangyan/微信图片_20200610095118.jpg:  mismatching \"local\" filename (images/face/zhangyan/х╛оф┐бхЫ╛чЙЗ_20200610095118.jpg),\n",
      "         continuing with \"central\" filename version\n",
      "  inflating: images/face/zhangyan/微信图片_20200610095118.jpg  \n",
      "   creating: images/face/zhangziyi/\n",
      "  inflating: images/face/zhangziyi/20181206112348.png  \n",
      "  inflating: images/face/zhangziyi/20181206112504.png  \n",
      "  inflating: images/face/zhangziyi/20181206112529.png  \n",
      "  inflating: images/face/zhangziyi/20181206131856.png  \n",
      "  inflating: images/face/zhangziyi/20181206131927.png  \n",
      "  inflating: images/face/zhangziyi/20181206131958.png  \n",
      "  inflating: images/face/zhangziyi/20181206132022.png  \n",
      "  inflating: images/face/zhangziyi/20181206132043.png  \n",
      "  inflating: images/face/zhangziyi/20181206132102.png  \n",
      "  inflating: images/face/zhangziyi/20181206132122.png  \n",
      "  inflating: images/face/zhangziyi/20181206132141.png  \n",
      "  inflating: images/face/zhangziyi/20181206132200.png  \n",
      "  inflating: images/face/zhangziyi/20181206132220.png  \n",
      "  inflating: images/face/zhangziyi/20181206132239.png  \n",
      "  inflating: images/face/zhangziyi/20181206132255.png  \n",
      "  inflating: images/face/zhangziyi/20181206132327.png  \n",
      "  inflating: images/face/zhangziyi/20181206132346.png  \n",
      "  inflating: images/face/zhangziyi/20181206132406.png  \n",
      "  inflating: images/face/zhangziyi/20181206132425.png  \n",
      "  inflating: images/face/zhangziyi/20181206132442.png  \n",
      "  inflating: images/face/zhangziyi/20181206132514.png  \n",
      "  inflating: images/face/zhangziyi/20181206132533.png  \n",
      "  inflating: images/face/zhangziyi/20181206132554.png  \n",
      "  inflating: images/face/zhangziyi/20181206132616.png  \n",
      "  inflating: images/face/zhangziyi/20181206132629.png  \n",
      "  inflating: images/face/zhangziyi/20181206132648.png  \n",
      "  inflating: images/face/zhangziyi/20181206132700.png  \n",
      "  inflating: images/face/zhangziyi/20181206132718.png  \n",
      "  inflating: images/face/zhangziyi/20181206132738.png  \n",
      "  inflating: images/face/zhangziyi/20181206132755.png  \n",
      "  inflating: images/face/zhangziyi/20181206132812.png  \n",
      "  inflating: images/face/zhangziyi/20181206132904.png  \n",
      "  inflating: images/face/zhangziyi/20181206132919.png  \n",
      "  inflating: images/face/zhangziyi/20181206132933.png  \n",
      "  inflating: images/face/zhangziyi/20181206133002.png  \n",
      "  inflating: images/face/zhangziyi/20181206133020.png  \n",
      "  inflating: images/face/zhangziyi/20181206133344.png  \n",
      "  inflating: images/face/zhangziyi/20181206133415.png  \n",
      "  inflating: images/face/zhangziyi/20181206133521.png  \n",
      "  inflating: images/face/zhangziyi/20181206133539.png  \n",
      "  inflating: images/face/zhangziyi/20181206133619.png  \n",
      "  inflating: images/face/zhangziyi/20181206133700.png  \n",
      "  inflating: images/face/zhangziyi/20181206133720.png  \n",
      "  inflating: images/face/zhangziyi/20181206133815.png  \n",
      "  inflating: images/face/zhangziyi/20181206133833.png  \n",
      "  inflating: images/face/zhangziyi/20181206133913.png  \n",
      "  inflating: images/face/zhangziyi/20181206133927.png  \n",
      "  inflating: images/face/zhangziyi/20181206134004.png  \n",
      "  inflating: images/face/zhangziyi/20181206134023.png  \n",
      "  inflating: images/face/zhangziyi/20181206134043.png  \n",
      "  inflating: images/face/zhangziyi/20181206134103.png  \n",
      "  inflating: images/face/zhangziyi/20181206134123.png  \n",
      "  inflating: images/face/zhangziyi/20181206134152.png  \n",
      "  inflating: images/face/zhangziyi/20181206134213.png  \n",
      "  inflating: images/face/zhangziyi/20181206134229.png  \n",
      "  inflating: images/face/zhangziyi/20181206134251.png  \n",
      "  inflating: images/face/zhangziyi/20181206134403.png  \n",
      "  inflating: images/face/zhangziyi/20181206134456.png  \n",
      "  inflating: images/face/zhangziyi/20181206134529.png  \n",
      "  inflating: images/face/zhangziyi/20181206134542.png  \n",
      "  inflating: images/face/zhangziyi/20181206134557.png  \n",
      "  inflating: images/face/zhangziyi/20181206134622.png  \n",
      "  inflating: images/face/zhangziyi/20181206134640.png  \n",
      "  inflating: images/face/zhangziyi/20181206134919.png  \n",
      "  inflating: images/face/zhangziyi/20181206134938.png  \n",
      "  inflating: images/face/zhangziyi/20181206135034.png  \n",
      "  inflating: images/face/zhangziyi/20181206135108.png  \n",
      "  inflating: images/face/zhangziyi/20181206135126.png  \n",
      "  inflating: images/face/zhangziyi/20181206135221.png  \n",
      "  inflating: images/face/zhangziyi/20181206135321.png  \n",
      "  inflating: images/face/zhangziyi/20181206135607.png  \n",
      "  inflating: images/face/zhangziyi/20181206135812.png  \n",
      "  inflating: images/face/zhangziyi/20181206135830.png  \n",
      "  inflating: images/face/zhangziyi/20181206135919.png  \n",
      "  inflating: images/face/zhangziyi/20181206140000.png  \n",
      "  inflating: images/face/zhangziyi/20181206143714.png  \n",
      "  inflating: images/face/zhangziyi/20181206143730.png  \n",
      "  inflating: images/face/zhangziyi/20181206143748.png  \n",
      "  inflating: images/face/zhangziyi/20181206144418.png  \n",
      "  inflating: images/face/zhangziyi/20181206144436.png  \n",
      "  inflating: images/face/zhangziyi/20181206144453.png  \n",
      "  inflating: images/face/zhangziyi/20181206144613.png  \n",
      "  inflating: images/face/zhangziyi/20181206144652.png  \n",
      "  inflating: images/face/zhangziyi/20181206144721.png  \n",
      "  inflating: images/face/zhangziyi/20181206144813.png  \n",
      "  inflating: images/face/zhangziyi/20181206144850.png  \n",
      "  inflating: images/face/zhangziyi/20181206144938.png  \n",
      "  inflating: images/face/zhangziyi/20181206145015.png  \n",
      "  inflating: images/face/zhangziyi/20181206145059.png  \n",
      "  inflating: images/face/zhangziyi/20181206145110.png  \n",
      "  inflating: images/face/zhangziyi/20181206145122.png  \n",
      "  inflating: images/face/zhangziyi/20181206145155.png  \n",
      "  inflating: images/face/zhangziyi/20181206145232.png  \n",
      "  inflating: images/face/zhangziyi/20181206145247.png  \n",
      "  inflating: images/face/zhangziyi/20181206145308.png  \n",
      "  inflating: images/face/zhangziyi/20181206145333.png  \n",
      "  inflating: images/face/zhangziyi/20181206145348.png  \n",
      "  inflating: images/face/zhangziyi/20181206145406.png  \n",
      "  inflating: images/face/zhangziyi/20181206145427.png  \n",
      "  inflating: images/face/zhangziyi/20181206145456.png  \n",
      "   creating: images/face/zhaoliying/\n",
      "  inflating: images/face/zhaoliying/159116065710.jpg  \n",
      "  inflating: images/face/zhaoliying/159116065712.jpg  \n",
      "  inflating: images/face/zhaoliying/159116065716.jpg  \n",
      "  inflating: images/face/zhaoliying/159116065718.jpg  \n",
      "  inflating: images/face/zhaoliying/15911606572.jpg  \n",
      "  inflating: images/face/zhaoliying/159116065721.jpg  \n",
      "  inflating: images/face/zhaoliying/159116065722.jpg  \n",
      "  inflating: images/face/zhaoliying/159116065726.jpg  \n",
      "  inflating: images/face/zhaoliying/159116065729.jpg  \n",
      "  inflating: images/face/zhaoliying/159116065730.jpg  \n",
      "  inflating: images/face/zhaoliying/159116065733.jpg  \n",
      "  inflating: images/face/zhaoliying/159116065736.jpg  \n",
      "  inflating: images/face/zhaoliying/15911606574.jpg  \n",
      "  inflating: images/face/zhaoliying/159116065740.jpg  \n",
      "  inflating: images/face/zhaoliying/159116065741.jpg  \n",
      "  inflating: images/face/zhaoliying/159116065742.jpg  \n",
      "  inflating: images/face/zhaoliying/159116065743.jpg  \n",
      "  inflating: images/face/zhaoliying/159116065744.jpg  \n",
      "  inflating: images/face/zhaoliying/159116065745.jpg  \n",
      "  inflating: images/face/zhaoliying/159116065751.jpg  \n",
      "  inflating: images/face/zhaoliying/159116065753.jpg  \n",
      "  inflating: images/face/zhaoliying/159116065754.jpg  \n",
      "  inflating: images/face/zhaoliying/15911606577.jpg  \n",
      "  inflating: images/face/zhaoliying/15911606578.jpg  \n",
      "  inflating: images/face/zhaoliying/15911606579.jpg  \n",
      "  inflating: images/face/zhaoliying/1591160658100.jpg  \n",
      "  inflating: images/face/zhaoliying/1591160658101.jpg  \n",
      "  inflating: images/face/zhaoliying/1591160658102.jpg  \n",
      "  inflating: images/face/zhaoliying/1591160658103.jpg  \n",
      "  inflating: images/face/zhaoliying/1591160658104.jpg  \n",
      "  inflating: images/face/zhaoliying/1591160658105.jpg  \n",
      "  inflating: images/face/zhaoliying/1591160658106.jpg  \n",
      "  inflating: images/face/zhaoliying/1591160658108.jpg  \n",
      "  inflating: images/face/zhaoliying/1591160658109.jpg  \n",
      "  inflating: images/face/zhaoliying/1591160658112.jpg  \n",
      "  inflating: images/face/zhaoliying/1591160658113.jpg  \n",
      "  inflating: images/face/zhaoliying/1591160658114.jpg  \n",
      "  inflating: images/face/zhaoliying/159116065857.jpg  \n",
      "  inflating: images/face/zhaoliying/159116065859.jpg  \n",
      "  inflating: images/face/zhaoliying/159116065860.jpg  \n",
      "  inflating: images/face/zhaoliying/159116065861.jpg  \n",
      "  inflating: images/face/zhaoliying/159116065862.jpg  \n",
      "  inflating: images/face/zhaoliying/159116065866.jpg  \n",
      "  inflating: images/face/zhaoliying/159116065867.jpg  \n",
      "  inflating: images/face/zhaoliying/159116065870.jpg  \n",
      "  inflating: images/face/zhaoliying/159116065871.jpg  \n",
      "  inflating: images/face/zhaoliying/159116065873.jpg  \n",
      "  inflating: images/face/zhaoliying/159116065874.jpg  \n",
      "  inflating: images/face/zhaoliying/159116065875.jpg  \n",
      "  inflating: images/face/zhaoliying/159116065876.jpg  \n",
      "  inflating: images/face/zhaoliying/159116065877.jpg  \n",
      "  inflating: images/face/zhaoliying/159116065878.jpg  \n",
      "  inflating: images/face/zhaoliying/159116065879.jpg  \n",
      "  inflating: images/face/zhaoliying/159116065883.jpg  \n",
      "  inflating: images/face/zhaoliying/159116065886.jpg  \n",
      "  inflating: images/face/zhaoliying/159116065888.jpg  \n",
      "  inflating: images/face/zhaoliying/159116065890.jpg  \n",
      "  inflating: images/face/zhaoliying/159116065891.jpg  \n",
      "  inflating: images/face/zhaoliying/159116065892.jpg  \n",
      "  inflating: images/face/zhaoliying/159116065893.jpg  \n",
      "  inflating: images/face/zhaoliying/159116065894.jpg  \n",
      "  inflating: images/face/zhaoliying/159116065896.jpg  \n",
      "  inflating: images/face/zhaoliying/159116065898.jpg  \n",
      "  inflating: images/face/zhaoliying/159116065899.jpg  \n",
      "  inflating: images/face/zhaoliying/1591160659116.jpg  \n",
      "  inflating: images/face/zhaoliying/1591160659117.jpg  \n",
      "  inflating: images/face/zhaoliying/1591160659118.jpg  \n",
      "  inflating: images/face/zhaoliying/1591160659119.jpg  \n",
      "  inflating: images/face/zhaoliying/1591160659120.jpg  \n",
      "  inflating: images/face/zhaoliying/1591160659121.jpg  \n",
      "  inflating: images/face/zhaoliying/1591160659122.jpg  \n",
      "  inflating: images/face/zhaoliying/1591160659124.jpg  \n",
      "  inflating: images/face/zhaoliying/1591160659125.jpg  \n",
      "  inflating: images/face/zhaoliying/1591160659126.jpg  \n",
      "  inflating: images/face/zhaoliying/1591160659128.jpg  \n",
      "  inflating: images/face/zhaoliying/1591160659130.jpg  \n",
      "  inflating: images/face/zhaoliying/1591160659131.jpg  \n",
      "  inflating: images/face/zhaoliying/1591160659135.jpg  \n",
      "  inflating: images/face/zhaoliying/1591160659137.jpg  \n",
      "  inflating: images/face/zhaoliying/1591160659138.jpg  \n",
      "  inflating: images/face/zhaoliying/15911621701.jpg  \n",
      "  inflating: images/face/zhaoliying/159116217110.jpg  \n",
      "  inflating: images/face/zhaoliying/159116217111.jpg  \n",
      "  inflating: images/face/zhaoliying/159116217112.jpg  \n",
      "  inflating: images/face/zhaoliying/159116217113.jpg  \n",
      "  inflating: images/face/zhaoliying/15911621712.jpg  \n",
      "  inflating: images/face/zhaoliying/15911621713.jpg  \n",
      "  inflating: images/face/zhaoliying/15911621714.jpg  \n",
      "  inflating: images/face/zhaoliying/15911621716.jpg  \n",
      "  inflating: images/face/zhaoliying/15911621717.jpg  \n",
      "  inflating: images/face/zhaoliying/15911621718.jpg  \n",
      "  inflating: images/face/zhaoliying/15911621719.jpg  \n",
      "  inflating: images/face/zhaoliying/159116217214.jpg  \n",
      "  inflating: images/face/zhaoliying/159116217215.jpg  \n",
      "  inflating: images/face/zhaoliying/159116217216.jpg  \n",
      "  inflating: images/face/zhaoliying/159116217217.jpg  \n",
      "  inflating: images/face/zhaoliying/159116217218.jpg  \n",
      "  inflating: images/face/zhaoliying/159116217219.jpg  \n",
      "  inflating: images/face/zhaoliying/159116217220.jpg  \n",
      "  inflating: images/face/zhaoliying/159116217221.jpg  \n",
      "  inflating: images/face/zhaoliying/159116217223.jpg  \n",
      "  inflating: images/face/zhaoliying/159116217224.jpg  \n",
      "  inflating: images/face/zhaoliying/159116217225.jpg  \n",
      "  inflating: images/face/zhaoliying/159116217226.jpg  \n",
      "  inflating: images/face/zhaoliying/159116217227.jpg  \n",
      "  inflating: images/face/zhaoliying/159116217228.jpg  \n",
      "  inflating: images/face/zhaoliying/159116217229.jpg  \n",
      "  inflating: images/face/zhaoliying/159116217330.jpg  \n",
      "  inflating: images/face/zhaoliying/159116217331.jpg  \n",
      "  inflating: images/face/zhaoliying/159116217332.jpg  \n",
      "  inflating: images/face/zhaoliying/159116217333.jpg  \n",
      "  inflating: images/face/zhaoliying/159116217334.jpg  \n",
      "  inflating: images/face/zhaoliying/159116217335.jpg  \n",
      "  inflating: images/face/zhaoliying/159116217336.jpg  \n",
      "  inflating: images/face/zhaoliying/159116217337.jpg  \n",
      "  inflating: images/face/zhaoliying/159116217338.jpg  \n",
      "  inflating: images/face/zhaoliying/159116217339.jpg  \n",
      "  inflating: images/face/zhaoliying/159116217340.jpg  \n",
      "  inflating: images/face/zhaoliying/159116217341.jpg  \n",
      "  inflating: images/face/zhaoliying/159116217342.jpg  \n",
      "  inflating: images/face/zhaoliying/159116217343.jpg  \n",
      "  inflating: images/face/zhaoliying/159116217444.jpg  \n",
      "  inflating: images/face/zhaoliying/159116217445.jpg  \n",
      "  inflating: images/face/zhaoliying/159116217446.jpg  \n",
      "  inflating: images/face/zhaoliying/159116217447.jpg  \n",
      "  inflating: images/face/zhaoliying/159116217448.jpg  \n",
      "  inflating: images/face/zhaoliying/159116217449.jpg  \n",
      "  inflating: images/face/zhaoliying/159116217450.jpg  \n",
      "  inflating: images/face/zhaoliying/159116217452.jpg  \n",
      "  inflating: images/face/zhaoliying/159116217453.jpg  \n",
      "  inflating: images/face/zhaoliying/159116217454.jpg  \n",
      "  inflating: images/face/zhaoliying/159116217455.jpg  \n",
      "  inflating: images/face/zhaoliying/159116217456.jpg  \n",
      "  inflating: images/face/zhaoliying/159116217457.jpg  \n",
      "  inflating: images/face/zhaoliying/159116217558.jpg  \n",
      "  inflating: images/face/zhaoliying/159116217559.jpg  \n",
      "  inflating: images/face/zhaoliying/159116217560.jpg  \n",
      "  inflating: images/face/zhaoliying/159116217561.jpg  \n",
      "  inflating: images/face/zhaoliying/159116217562.jpg  \n",
      "  inflating: images/face/zhaoliying/159116217563.jpg  \n",
      "  inflating: images/face/zhaoliying/159116217564.jpg  \n",
      "  inflating: images/face/zhaoliying/159116217565.jpg  \n",
      "  inflating: images/face/zhaoliying/159116217566.jpg  \n",
      "  inflating: images/face/zhaoliying/159116217567.jpg  \n",
      "  inflating: images/face/zhaoliying/159116217568.jpg  \n",
      "  inflating: images/face/zhaoliying/159116217669.jpg  \n",
      "  inflating: images/face/zhaoliying/159116217670.jpg  \n",
      "  inflating: images/face/zhaoliying/159116217671.jpg  \n",
      "  inflating: images/face/zhaoliying/159116217672.jpg  \n",
      "  inflating: images/face/zhaoliying/159116217673.jpg  \n",
      "  inflating: images/face/zhaoliying/159116217674.jpg  \n",
      "  inflating: images/face/zhaoliying/159116217675.jpg  \n",
      "  inflating: images/face/zhaoliying/159116217676.jpg  \n",
      "  inflating: images/face/zhaoliying/159116217677.jpg  \n",
      "  inflating: images/face/zhaoliying/159116217678.jpg  \n",
      "  inflating: images/face/zhaoliying/159116217679.jpg  \n",
      "  inflating: images/face/zhaoliying/159116217680.jpg  \n"
     ]
    }
   ],
   "source": [
    "!unzip /home/aistudio/data/data39602/images.zip"
   ]
  },
  {
   "cell_type": "markdown",
   "metadata": {},
   "source": [
    "## 将图片的类别以及图片的路径存储到一个txt文档中"
   ]
  },
  {
   "cell_type": "code",
   "execution_count": 1,
   "metadata": {
    "execution": {
     "iopub.execute_input": "2022-05-03T14:27:39.211730Z",
     "iopub.status.busy": "2022-05-03T14:27:39.211323Z",
     "iopub.status.idle": "2022-05-03T14:27:39.218007Z",
     "shell.execute_reply": "2022-05-03T14:27:39.217556Z",
     "shell.execute_reply.started": "2022-05-03T14:27:39.211697Z"
    },
    "scrolled": true,
    "tags": []
   },
   "outputs": [],
   "source": [
    "import os\n",
    "import json\n",
    "\n",
    "\n",
    "def datagenerator(datasets_path):\n",
    "    total_save = {}\n",
    "    # all classes\n",
    "    classes_name = os.listdir(datasets_path)\n",
    "    # classes names\n",
    "    classes_name = sorted(classes_name)\n",
    "    print(\"classes name：\", classes_name)\n",
    "\n",
    "    list_file = open('cls_train.txt', 'w')\n",
    "    for cls_id, type_name in enumerate(classes_name):\n",
    "        total_save[cls_id] = type_name\n",
    "        photos_path = os.path.join(datasets_path, type_name)\n",
    "        if not os.path.isdir(photos_path):\n",
    "            continue\n",
    "        # all images\n",
    "        photos_name = os.listdir(photos_path)\n",
    "\n",
    "        for photo_name in photos_name:\n",
    "            # image id + image path\n",
    "            list_file.write(\n",
    "                str(cls_id) + \";\" + '%s' % (os.path.join(datasets_path, type_name, photo_name)))\n",
    "            list_file.write('\\n')\n",
    "    list_file.close()\n",
    "    # save json\n",
    "    dict_json = json.dumps(total_save)\n",
    "    with open('classes.json', 'w+') as file:\n",
    "        file.write(dict_json)\n"
   ]
  },
  {
   "cell_type": "code",
   "execution_count": 15,
   "metadata": {
    "execution": {
     "iopub.execute_input": "2022-05-03T09:54:11.245844Z",
     "iopub.status.busy": "2022-05-03T09:54:11.245237Z",
     "iopub.status.idle": "2022-05-03T09:54:11.255881Z",
     "shell.execute_reply": "2022-05-03T09:54:11.254843Z",
     "shell.execute_reply.started": "2022-05-03T09:54:11.245801Z"
    },
    "scrolled": true,
    "tags": []
   },
   "outputs": [
    {
     "name": "stdout",
     "output_type": "stream",
     "text": [
      "classes name： ['dilireba', 'jiangwen', 'pengyuyan', 'zhangyan', 'zhangziyi', 'zhaoliying']\n"
     ]
    }
   ],
   "source": [
    "datasets_path = \"./images/face/\"\n",
    "datagenerator(datasets_path=datasets_path)"
   ]
  },
  {
   "cell_type": "markdown",
   "metadata": {},
   "source": [
    "## 进行自定义数据集，构建一个三元组的数据集"
   ]
  },
  {
   "cell_type": "code",
   "execution_count": 21,
   "metadata": {
    "execution": {
     "iopub.execute_input": "2022-05-03T14:52:48.646072Z",
     "iopub.status.busy": "2022-05-03T14:52:48.645721Z",
     "iopub.status.idle": "2022-05-03T14:52:48.653365Z",
     "shell.execute_reply": "2022-05-03T14:52:48.652801Z",
     "shell.execute_reply.started": "2022-05-03T14:52:48.646043Z"
    },
    "scrolled": true,
    "tags": []
   },
   "outputs": [],
   "source": [
    "import numpy as np\n",
    "from PIL import Image\n",
    "\n",
    "\n",
    "def cvtColor(image):\n",
    "    if len(np.shape(image)) == 3 and np.shape(image)[2] == 3:\n",
    "        return image \n",
    "    else:\n",
    "        image = image.convert('RGB')\n",
    "        return image \n",
    "\n",
    "\n",
    "def resize_image(image, size, letterbox_image):\n",
    "    iw, ih = image.size\n",
    "    w, h = size\n",
    "    if letterbox_image:\n",
    "        scale = min(w/iw, h/ih)\n",
    "        nw = int(iw*scale)\n",
    "        nh = int(ih*scale)\n",
    "\n",
    "        image = image.resize((nw,nh), Image.BICUBIC)\n",
    "        new_image = Image.new('RGB', size, (128,128,128))\n",
    "        new_image.paste(image, ((w-nw)//2, (h-nh)//2))\n",
    "    else:\n",
    "        new_image = image.resize((w, h), Image.BICUBIC)\n",
    "    return new_image\n",
    "\n",
    "\n",
    "def preprocess_input(image):\n",
    "    # 255 ---> 1\n",
    "    image /= 255.0 \n",
    "    return image\n"
   ]
  },
  {
   "cell_type": "code",
   "execution_count": 3,
   "metadata": {
    "execution": {
     "iopub.execute_input": "2022-05-03T14:49:47.277181Z",
     "iopub.status.busy": "2022-05-03T14:49:47.276832Z",
     "iopub.status.idle": "2022-05-03T14:49:48.361388Z",
     "shell.execute_reply": "2022-05-03T14:49:48.360537Z",
     "shell.execute_reply.started": "2022-05-03T14:49:47.277153Z"
    },
    "scrolled": true,
    "tags": []
   },
   "outputs": [],
   "source": [
    "import random\n",
    "\n",
    "import numpy as np\n",
    "from PIL import Image\n",
    "from paddle.io import Dataset\n",
    "\n",
    "\n",
    "class SearchDataset(Dataset):\n",
    "    def __init__(self, input_shape, lines, num_classes, random):\n",
    "        self.input_shape = input_shape\n",
    "        self.lines = lines\n",
    "        self.length = len(lines)\n",
    "        self.num_classes = num_classes\n",
    "        self.random = random\n",
    "        # path and label\n",
    "        self.paths = []\n",
    "        self.labels = []\n",
    "        # load data\n",
    "        self.load_dataset()\n",
    "        \n",
    "    def __len__(self):\n",
    "        return self.length\n",
    "\n",
    "    def __getitem__(self, index):\n",
    "        images = np.zeros((3, 3, self.input_shape[0], self.input_shape[1]))\n",
    "        labels = np.zeros((3))\n",
    "\n",
    "        # 获取一个类别\n",
    "        c = random.randint(0, self.num_classes - 1)\n",
    "        selected_path = self.paths[self.labels[:] == c]\n",
    "        while len(selected_path) < 2:\n",
    "            c = random.randint(0, self.num_classes - 1)\n",
    "            selected_path = self.paths[self.labels[:] == c]\n",
    "\n",
    "        #   随机选择两张\n",
    "        image_indexes = np.random.choice(range(0, len(selected_path)), 2)\n",
    "        #   处理第一张图片\n",
    "        #   打开图片并放入矩阵\n",
    "        image = cvtColor(Image.open(selected_path[image_indexes[0]]))\n",
    "        #   翻转图像\n",
    "        if self.rand() < 0.5 and self.random:\n",
    "            image = image.transpose(Image.FLIP_LEFT_RIGHT)\n",
    "        image = resize_image(image, [self.input_shape[1], self.input_shape[0]], letterbox_image = True)\n",
    "        # 图像预处理\n",
    "        image = preprocess_input(np.array(image, dtype='float32'))\n",
    "        image = np.transpose(image, [2, 0, 1])\n",
    "        # 存储图像以及标签label\n",
    "        images[0, :, :, :] = image\n",
    "        labels[0] = c\n",
    "\n",
    "        # 处理第二张图片\n",
    "        image = cvtColor(Image.open(selected_path[image_indexes[1]]))\n",
    "        #   翻转图像\n",
    "        if self.rand()<.5 and self.random: \n",
    "            image = image.transpose(Image.FLIP_LEFT_RIGHT)\n",
    "        image = resize_image(image, [self.input_shape[1], self.input_shape[0]], letterbox_image = True)\n",
    "        image = preprocess_input(np.array(image, dtype='float32'))\n",
    "        image = np.transpose(image, [2, 0, 1])\n",
    "        images[1, :, :, :] = image\n",
    "        labels[1] = c\n",
    "\n",
    "        #   取出第三个人的人脸\n",
    "        different_c = list(range(self.num_classes))\n",
    "        different_c.pop(c)\n",
    "        different_c_index = np.random.choice(range(0, self.num_classes - 1), 1)\n",
    "        current_c = different_c[different_c_index[0]]\n",
    "        selected_path = self.paths[self.labels == current_c]\n",
    "        while len(selected_path)<1:\n",
    "            different_c_index   = np.random.choice(range(0, self.num_classes - 1), 1)\n",
    "            current_c           = different_c[different_c_index[0]]\n",
    "            selected_path       = self.paths[self.labels == current_c]\n",
    "\n",
    "        #   随机选择一张\n",
    "        image_indexes = np.random.choice(range(0, len(selected_path)), 1)\n",
    "        image = cvtColor(Image.open(selected_path[image_indexes[0]]))\n",
    "        #   翻转图像\n",
    "        if self.rand()<.5 and self.random: \n",
    "            image = image.transpose(Image.FLIP_LEFT_RIGHT)\n",
    "        image = resize_image(image, [self.input_shape[1], self.input_shape[0]], letterbox_image = True)\n",
    "        image = preprocess_input(np.array(image, dtype='float32'))\n",
    "        image = np.transpose(image, [2, 0, 1])\n",
    "        images[2, :, :, :] = image\n",
    "        labels[2] = current_c\n",
    "\n",
    "        # images:三个人脸的数据，labels：三个人脸对应的类别\n",
    "        return images, labels\n",
    "\n",
    "    def rand(self, a=0, b=1):\n",
    "        return np.random.rand()*(b-a) + a\n",
    "    \n",
    "    def load_dataset(self):\n",
    "        for path in self.lines:\n",
    "            path_split = path.split(\";\")\n",
    "            # paths\n",
    "            self.paths.append(path_split[1].split()[0])\n",
    "            # labels\n",
    "            self.labels.append(int(path_split[0]))\n",
    "        self.paths = np.array(self.paths,dtype=np.object)\n",
    "        self.labels = np.array(self.labels)\n",
    "\n",
    "\n",
    "    # DataLoader collate_fn\n",
    "    def dataset_collate(self, batch):\n",
    "        # batch:输入一个batch的数据\n",
    "        images = []\n",
    "        labels = []\n",
    "        for img, label in batch:\n",
    "            images.append(img)\n",
    "            labels.append(label)\n",
    "        # caocat image data\n",
    "        images1 = np.array(images)[:, 0, :, :, :]\n",
    "        images2 = np.array(images)[:, 1, :, :, :]\n",
    "        images3 = np.array(images)[:, 2, :, :, :]\n",
    "        images = np.concatenate([images1, images2, images3], 0)\n",
    "        # concat label data\n",
    "        labels1 = np.array(labels)[:, 0]\n",
    "        labels2 = np.array(labels)[:, 1]\n",
    "        labels3 = np.array(labels)[:, 2]\n",
    "        labels = np.concatenate([labels1, labels2, labels3], 0)\n",
    "        return images, labels\n",
    "\n"
   ]
  },
  {
   "cell_type": "markdown",
   "metadata": {},
   "source": [
    "## 构建数据集并创建dataloader"
   ]
  },
  {
   "cell_type": "code",
   "execution_count": 4,
   "metadata": {
    "execution": {
     "iopub.execute_input": "2022-05-03T14:49:52.054103Z",
     "iopub.status.busy": "2022-05-03T14:49:52.053786Z",
     "iopub.status.idle": "2022-05-03T14:49:52.057762Z",
     "shell.execute_reply": "2022-05-03T14:49:52.057313Z",
     "shell.execute_reply.started": "2022-05-03T14:49:52.054077Z"
    },
    "scrolled": true,
    "tags": []
   },
   "outputs": [],
   "source": [
    "import os\n",
    "import paddle\n",
    "import paddle.nn as nn\n",
    "from paddle.nn import functional as F\n",
    "from tqdm import tqdm\n",
    "import argparse\n",
    "import paddle.optimizer as optim\n",
    "from paddle.io import DataLoader"
   ]
  },
  {
   "cell_type": "code",
   "execution_count": 5,
   "metadata": {
    "execution": {
     "iopub.execute_input": "2022-05-03T14:49:54.630970Z",
     "iopub.status.busy": "2022-05-03T14:49:54.630644Z",
     "iopub.status.idle": "2022-05-03T14:49:54.636648Z",
     "shell.execute_reply": "2022-05-03T14:49:54.636195Z",
     "shell.execute_reply.started": "2022-05-03T14:49:54.630945Z"
    },
    "scrolled": true,
    "tags": []
   },
   "outputs": [],
   "source": [
    "input_shape = [224, 224, 3]\n",
    "num_classes = 6\n",
    "annotation_path = \"./cls_train.txt\"\n",
    "# batchsize需要为3的倍数\n",
    "batch_size = 15\n",
    "with open(annotation_path, \"r\") as f:\n",
    "    lines = f.readlines()\n",
    "num_train = len(lines)\n",
    "\n",
    "# build dataset\n",
    "train_dataset = SearchDataset(input_shape, lines, num_classes, random=True)\n",
    "# build dataloader\n",
    "train_loader = DataLoader(train_dataset,\n",
    "                    shuffle=True,\n",
    "                    batch_size=batch_size // 3,\n",
    "                    num_workers=4,\n",
    "                    drop_last=True,\n",
    "                    collate_fn=train_dataset.dataset_collate)"
   ]
  },
  {
   "cell_type": "code",
   "execution_count": 6,
   "metadata": {
    "execution": {
     "iopub.execute_input": "2022-05-03T14:49:58.054331Z",
     "iopub.status.busy": "2022-05-03T14:49:58.054008Z",
     "iopub.status.idle": "2022-05-03T14:49:58.057901Z",
     "shell.execute_reply": "2022-05-03T14:49:58.057472Z",
     "shell.execute_reply.started": "2022-05-03T14:49:58.054308Z"
    },
    "scrolled": true,
    "tags": []
   },
   "outputs": [
    {
     "name": "stdout",
     "output_type": "stream",
     "text": [
      "number of train: 708\n"
     ]
    }
   ],
   "source": [
    "print(\"number of train:\", len(train_dataset))"
   ]
  },
  {
   "cell_type": "markdown",
   "metadata": {},
   "source": [
    "# 构建网络结构，此处先采用动态图结构"
   ]
  },
  {
   "cell_type": "code",
   "execution_count": 7,
   "metadata": {
    "execution": {
     "iopub.execute_input": "2022-05-03T14:50:01.813195Z",
     "iopub.status.busy": "2022-05-03T14:50:01.812895Z",
     "iopub.status.idle": "2022-05-03T14:50:01.816358Z",
     "shell.execute_reply": "2022-05-03T14:50:01.815920Z",
     "shell.execute_reply.started": "2022-05-03T14:50:01.813172Z"
    },
    "scrolled": true,
    "tags": []
   },
   "outputs": [],
   "source": [
    "import paddle.nn as nn\n",
    "import paddle\n",
    "from paddle.nn import functional as F\n",
    "import paddle.vision.models as models"
   ]
  },
  {
   "cell_type": "code",
   "execution_count": 8,
   "metadata": {
    "execution": {
     "iopub.execute_input": "2022-05-03T14:28:05.502777Z",
     "iopub.status.busy": "2022-05-03T14:28:05.502520Z",
     "iopub.status.idle": "2022-05-03T14:28:05.513422Z",
     "shell.execute_reply": "2022-05-03T14:28:05.512980Z",
     "shell.execute_reply.started": "2022-05-03T14:28:05.502755Z"
    },
    "scrolled": true,
    "tags": []
   },
   "outputs": [],
   "source": [
    "class OwnResnet(nn.Layer):\n",
    "    def __init__(self, pretrained):\n",
    "        super(OwnResnet, self).__init__()\n",
    "        self.model = models.resnet50(pretrained=pretrained)\n",
    "        # 删除不需要的层结构\n",
    "        del self.model.fc\n",
    "        del self.model.avgpool\n",
    "\n",
    "    def forward(self, x):\n",
    "        x = self.model.conv1(x)\n",
    "        x = self.model.bn1(x)\n",
    "        x = self.model.relu(x)\n",
    "        x = self.model.maxpool(x)\n",
    "\n",
    "        x = self.model.layer1(x)\n",
    "        x = self.model.layer2(x)\n",
    "        x = self.model.layer3(x)\n",
    "        x = self.model.layer4(x)\n",
    "\n",
    "        return x\n",
    "\n",
    "\n",
    "class OwnFacenet(nn.Layer):\n",
    "    def __init__(self, dropout_keep_prob=0.5, embedding_size=128, num_classes=None, mode=\"train\", pretrained=False):\n",
    "        super(OwnFacenet, self).__init__()\n",
    "        self.backbone = OwnResnet(pretrained=pretrained)\n",
    "        flat_shape = 2048\n",
    "        self.set_parameter_requires_grad(self.backbone, True)\n",
    "        self.avg = nn.AdaptiveAvgPool2D((1, 1))\n",
    "        self.flatten = paddle.nn.Flatten()\n",
    "        self.Dropout = nn.Dropout(1 - dropout_keep_prob)\n",
    "        self.Bottleneck = nn.Linear(flat_shape, embedding_size)\n",
    "        self.last_bn = nn.BatchNorm1D(embedding_size)\n",
    "        if mode == \"train\":\n",
    "            self.classifier = nn.Linear(embedding_size, num_classes)\n",
    "\n",
    "    def set_parameter_requires_grad(self, model, feature_extracting):\n",
    "        if feature_extracting:\n",
    "            for param in model.parameters():\n",
    "                param.requires_grad = True\n",
    "\n",
    "    def forward(self, x):\n",
    "        if self.training:\n",
    "            x = self.backbone(x)\n",
    "            x = self.avg(x)\n",
    "            x = self.flatten(x)\n",
    "            x = self.Dropout(x)\n",
    "            x = self.Bottleneck(x)\n",
    "            x = self.last_bn(x)\n",
    "            # 分类的结果\n",
    "            x1 = self.classifier(x)\n",
    "            # L2标准化之后的结果\n",
    "            x2 = F.normalize(x, p=2, axis=1)\n",
    "            return x1, x2\n",
    "        else:\n",
    "            x = self.backbone(x)\n",
    "            x = self.avg(x)\n",
    "            x = self.flatten(x)\n",
    "            x = self.Dropout(x)\n",
    "            x = self.Bottleneck(x)\n",
    "            x = self.last_bn(x)\n",
    "            # l2标准化后的结果\n",
    "            x = F.normalize(x, p=2, axis=1)\n",
    "            return x"
   ]
  },
  {
   "cell_type": "code",
   "execution_count": 9,
   "metadata": {
    "execution": {
     "iopub.execute_input": "2022-05-03T14:28:13.664858Z",
     "iopub.status.busy": "2022-05-03T14:28:13.664484Z",
     "iopub.status.idle": "2022-05-03T14:28:22.769860Z",
     "shell.execute_reply": "2022-05-03T14:28:22.769105Z",
     "shell.execute_reply.started": "2022-05-03T14:28:13.664831Z"
    },
    "scrolled": true,
    "tags": []
   },
   "outputs": [
    {
     "name": "stderr",
     "output_type": "stream",
     "text": [
      "W0503 22:28:13.667455   210 device_context.cc:447] Please NOTE: device: 0, GPU Compute Capability: 8.0, Driver API Version: 11.2, Runtime API Version: 11.2\n",
      "W0503 22:28:13.670624   210 device_context.cc:465] device: 0, cuDNN Version: 8.2.\n",
      "100%|██████████| 151272/151272 [00:04<00:00, 35334.16it/s]\n"
     ]
    }
   ],
   "source": [
    "# build model\n",
    "pretrained = True\n",
    "model = OwnFacenet(num_classes=num_classes, pretrained=pretrained)"
   ]
  },
  {
   "cell_type": "markdown",
   "metadata": {},
   "source": [
    "# 构建损失函数，采用三元损失函数"
   ]
  },
  {
   "cell_type": "code",
   "execution_count": 8,
   "metadata": {
    "execution": {
     "iopub.execute_input": "2022-05-03T14:50:11.043164Z",
     "iopub.status.busy": "2022-05-03T14:50:11.042767Z",
     "iopub.status.idle": "2022-05-03T14:50:11.049079Z",
     "shell.execute_reply": "2022-05-03T14:50:11.048601Z",
     "shell.execute_reply.started": "2022-05-03T14:50:11.043133Z"
    },
    "scrolled": true,
    "tags": []
   },
   "outputs": [],
   "source": [
    "def triplet_loss(alpha = 0.2):\n",
    "    def _triplet_loss(y_pred, Batch_size):\n",
    "        # 获取到对应的三元特征\n",
    "        anchor, positive, negative = y_pred[:int(Batch_size)], y_pred[int(Batch_size):int(2*Batch_size)], y_pred[int(2*Batch_size):]\n",
    "\n",
    "        pos_dist = paddle.sqrt(paddle.sum(paddle.pow(anchor - positive,2), axis=-1))\n",
    "        neg_dist = paddle.sqrt(paddle.sum(paddle.pow(anchor - negative,2), axis=-1))\n",
    "\n",
    "        basic_loss = paddle.where(pos_dist - neg_dist + alpha > 0, pos_dist - neg_dist + alpha, paddle.to_tensor(0.0))\n",
    "\n",
    "        loss = paddle.mean(basic_loss)\n",
    "        # # 产生损失\n",
    "        # keep_all = (neg_dist - pos_dist < alpha).cpu().numpy().flatten()\n",
    "        # hard_triplets = np.where(keep_all == 1)\n",
    "\n",
    "        # print(hard_triplets)\n",
    "\n",
    "        # pos_dist = pos_dist[hard_triplets]\n",
    "        # neg_dist = neg_dist[hard_triplets]\n",
    "\n",
    "        # basic_loss = pos_dist - neg_dist + alpha\n",
    "        # # 取均值损失\n",
    "        # loss = paddle.sum(basic_loss) / paddle.max(paddle.assign([1, len(hard_triplets[0])]))\n",
    "        return loss\n",
    "    return _triplet_loss"
   ]
  },
  {
   "cell_type": "code",
   "execution_count": 9,
   "metadata": {
    "execution": {
     "iopub.execute_input": "2022-05-03T14:50:13.434788Z",
     "iopub.status.busy": "2022-05-03T14:50:13.434489Z",
     "iopub.status.idle": "2022-05-03T14:50:13.437530Z",
     "shell.execute_reply": "2022-05-03T14:50:13.437089Z",
     "shell.execute_reply.started": "2022-05-03T14:50:13.434758Z"
    },
    "scrolled": true,
    "tags": []
   },
   "outputs": [],
   "source": [
    "# build loss\n",
    "loss = triplet_loss()"
   ]
  },
  {
   "cell_type": "markdown",
   "metadata": {},
   "source": [
    "# 构建优化器"
   ]
  },
  {
   "cell_type": "code",
   "execution_count": 10,
   "metadata": {
    "execution": {
     "iopub.execute_input": "2022-05-03T14:50:15.523036Z",
     "iopub.status.busy": "2022-05-03T14:50:15.522782Z",
     "iopub.status.idle": "2022-05-03T14:50:15.531954Z",
     "shell.execute_reply": "2022-05-03T14:50:15.531425Z",
     "shell.execute_reply.started": "2022-05-03T14:50:15.523014Z"
    },
    "scrolled": true,
    "tags": []
   },
   "outputs": [
    {
     "ename": "NameError",
     "evalue": "name 'model' is not defined",
     "output_type": "error",
     "traceback": [
      "\u001b[0;31m---------------------------------------------------------------------------\u001b[0m",
      "\u001b[0;31mNameError\u001b[0m                                 Traceback (most recent call last)",
      "\u001b[0;32m/tmp/ipykernel_170/739400542.py\u001b[0m in \u001b[0;36m<module>\u001b[0;34m\u001b[0m\n\u001b[1;32m      2\u001b[0m \u001b[0moptimizer_type\u001b[0m \u001b[0;34m=\u001b[0m \u001b[0;34m'adam'\u001b[0m\u001b[0;34m\u001b[0m\u001b[0;34m\u001b[0m\u001b[0m\n\u001b[1;32m      3\u001b[0m optimizer = {\n\u001b[0;32m----> 4\u001b[0;31m     \u001b[0;34m'adam'\u001b[0m\u001b[0;34m:\u001b[0m \u001b[0moptim\u001b[0m\u001b[0;34m.\u001b[0m\u001b[0mAdam\u001b[0m\u001b[0;34m(\u001b[0m\u001b[0mparameters\u001b[0m \u001b[0;34m=\u001b[0m \u001b[0mmodel\u001b[0m\u001b[0;34m.\u001b[0m\u001b[0mparameters\u001b[0m\u001b[0;34m(\u001b[0m\u001b[0;34m)\u001b[0m\u001b[0;34m,\u001b[0m \u001b[0mlearning_rate\u001b[0m \u001b[0;34m=\u001b[0m \u001b[0;36m0.001\u001b[0m\u001b[0;34m)\u001b[0m\u001b[0;34m,\u001b[0m\u001b[0;34m\u001b[0m\u001b[0;34m\u001b[0m\u001b[0m\n\u001b[0m\u001b[1;32m      5\u001b[0m     \u001b[0;34m'sgd'\u001b[0m\u001b[0;34m:\u001b[0m \u001b[0moptim\u001b[0m\u001b[0;34m.\u001b[0m\u001b[0mSGD\u001b[0m\u001b[0;34m(\u001b[0m\u001b[0mparameters\u001b[0m \u001b[0;34m=\u001b[0m \u001b[0mmodel\u001b[0m\u001b[0;34m.\u001b[0m\u001b[0mparameters\u001b[0m\u001b[0;34m(\u001b[0m\u001b[0;34m)\u001b[0m\u001b[0;34m,\u001b[0m \u001b[0mlearning_rate\u001b[0m \u001b[0;34m=\u001b[0m \u001b[0;36m0.01\u001b[0m\u001b[0;34m)\u001b[0m\u001b[0;34m\u001b[0m\u001b[0;34m\u001b[0m\u001b[0m\n\u001b[1;32m      6\u001b[0m }[optimizer_type]\n",
      "\u001b[0;31mNameError\u001b[0m: name 'model' is not defined"
     ]
    }
   ],
   "source": [
    "# build optim\n",
    "optimizer_type = 'adam'\n",
    "optimizer = {\n",
    "    'adam': optim.Adam(parameters = model.parameters(), learning_rate = 0.001),\n",
    "    'sgd': optim.SGD(parameters = model.parameters(), learning_rate = 0.01)\n",
    "}[optimizer_type]"
   ]
  },
  {
   "cell_type": "markdown",
   "metadata": {},
   "source": [
    "# 开始训练"
   ]
  },
  {
   "cell_type": "code",
   "execution_count": 11,
   "metadata": {
    "execution": {
     "iopub.execute_input": "2022-05-03T14:51:10.663455Z",
     "iopub.status.busy": "2022-05-03T14:51:10.662847Z",
     "iopub.status.idle": "2022-05-03T14:51:10.672958Z",
     "shell.execute_reply": "2022-05-03T14:51:10.672425Z",
     "shell.execute_reply.started": "2022-05-03T14:51:10.663419Z"
    },
    "scrolled": true,
    "tags": []
   },
   "outputs": [],
   "source": [
    "def fit_one_epoch(model, loss, optimizer, epoch, epoch_step, gen, Epoch, Batch_size, save_period, save_dir):\n",
    "    # triple loss\n",
    "    total_triple_loss = 0\n",
    "    # cross entroy\n",
    "    total_CE_loss = 0\n",
    "    # total acc\n",
    "    total_accuracy = 0\n",
    "\n",
    "    model.train()\n",
    "    with tqdm(total=epoch_step, desc=f'Epoch {epoch + 1}/{Epoch}', postfix=dict, mininterval=0.3) as pbar:\n",
    "        for iteration, batch in enumerate(gen):\n",
    "            if iteration >= epoch_step:\n",
    "                break\n",
    "            images, labels = batch\n",
    "            with paddle.no_grad():\n",
    "                images = paddle.to_tensor(images.astype('float32'))\n",
    "                labels = paddle.to_tensor(labels.astype('int64'))\n",
    "\n",
    "            optimizer.clear_grad()\n",
    "            # 得到分类的数据以及L2标准化之前的数据\n",
    "            outputs2, outputs1 = model(images)\n",
    "            # 三元损失函数\n",
    "            _triplet_loss = loss(outputs1, Batch_size)\n",
    "            # 交叉熵损失函数\n",
    "            _CE_loss = nn.NLLLoss()(F.log_softmax(outputs2), labels)\n",
    "            # 损失相加\n",
    "            _loss = _triplet_loss + _CE_loss\n",
    "\n",
    "            _loss.backward()\n",
    "            optimizer.step()\n",
    "\n",
    "            with paddle.no_grad():\n",
    "                accuracy = paddle.mean(\n",
    "                    (paddle.argmax(F.softmax(outputs2), axis=-1) == labels))\n",
    "\n",
    "            total_triple_loss += _triplet_loss.item()\n",
    "            total_CE_loss += _CE_loss.item()\n",
    "            total_accuracy += accuracy.item()\n",
    "\n",
    "            pbar.set_postfix(**{'total_triple_loss': total_triple_loss / (iteration + 1),\n",
    "                                'total_CE_loss': total_CE_loss / (iteration + 1),\n",
    "                                'accuracy': total_accuracy / (iteration + 1)})\n",
    "            pbar.update(1)\n",
    "    print('Epoch:' + str(epoch + 1) + '/' + str(Epoch))\n",
    "    print('Total Loss: %.4f' % ((total_triple_loss + total_CE_loss) / epoch_step))\n",
    "    if (epoch + 1) % save_period == 0 or epoch + 1 == Epoch:\n",
    "        paddle.save(model.state_dict(), os.path.join(save_dir, 'ep%02d.pth' % (epoch + 1)))"
   ]
  },
  {
   "cell_type": "code",
   "execution_count": 14,
   "metadata": {
    "execution": {
     "iopub.execute_input": "2022-05-03T14:28:38.306112Z",
     "iopub.status.busy": "2022-05-03T14:28:38.305785Z",
     "iopub.status.idle": "2022-05-03T14:29:28.261628Z",
     "shell.execute_reply": "2022-05-03T14:29:28.260454Z",
     "shell.execute_reply.started": "2022-05-03T14:28:38.306086Z"
    },
    "scrolled": true,
    "tags": []
   },
   "outputs": [
    {
     "name": "stderr",
     "output_type": "stream",
     "text": [
      "Epoch 1/10:   0%|          | 0/47 [00:00<?, ?it/s<class 'dict'>]/opt/conda/envs/python35-paddle120-env/lib/python3.7/site-packages/paddle/nn/layer/norm.py:653: UserWarning: When training, we now always track global mean and variance.\n",
      "  \"When training, we now always track global mean and variance.\")\n",
      "Epoch 1/10: 100%|██████████| 47/47 [00:07<00:00,  6.16it/s, accuracy=1, total_CE_loss=1.03, total_triple_loss=0.0546]\n",
      "Epoch 2/10:   0%|          | 0/47 [00:00<?, ?it/s<class 'dict'>]"
     ]
    },
    {
     "name": "stdout",
     "output_type": "stream",
     "text": [
      "Epoch:1/10\n",
      "Total Loss: 1.0842\n"
     ]
    },
    {
     "name": "stderr",
     "output_type": "stream",
     "text": [
      "Epoch 2/10: 100%|██████████| 47/47 [00:04<00:00,  9.57it/s, accuracy=1, total_CE_loss=0.652, total_triple_loss=0.0527]\n",
      "Epoch 3/10:   0%|          | 0/47 [00:00<?, ?it/s<class 'dict'>]"
     ]
    },
    {
     "name": "stdout",
     "output_type": "stream",
     "text": [
      "Epoch:2/10\n",
      "Total Loss: 0.7044\n"
     ]
    },
    {
     "name": "stderr",
     "output_type": "stream",
     "text": [
      "Epoch 3/10: 100%|██████████| 47/47 [00:04<00:00,  9.74it/s, accuracy=1, total_CE_loss=0.506, total_triple_loss=0.0251]\n",
      "Epoch 4/10:   0%|          | 0/47 [00:00<?, ?it/s<class 'dict'>]"
     ]
    },
    {
     "name": "stdout",
     "output_type": "stream",
     "text": [
      "Epoch:3/10\n",
      "Total Loss: 0.5315\n"
     ]
    },
    {
     "name": "stderr",
     "output_type": "stream",
     "text": [
      "Epoch 4/10: 100%|██████████| 47/47 [00:04<00:00,  9.75it/s, accuracy=1, total_CE_loss=0.284, total_triple_loss=0.016]  \n",
      "Epoch 5/10:   0%|          | 0/47 [00:00<?, ?it/s<class 'dict'>]"
     ]
    },
    {
     "name": "stdout",
     "output_type": "stream",
     "text": [
      "Epoch:4/10\n",
      "Total Loss: 0.2998\n"
     ]
    },
    {
     "name": "stderr",
     "output_type": "stream",
     "text": [
      "Epoch 5/10: 100%|██████████| 47/47 [00:04<00:00,  9.83it/s, accuracy=1, total_CE_loss=0.363, total_triple_loss=0.0143] \n"
     ]
    },
    {
     "name": "stdout",
     "output_type": "stream",
     "text": [
      "Epoch:5/10\n",
      "Total Loss: 0.3772\n"
     ]
    },
    {
     "name": "stderr",
     "output_type": "stream",
     "text": [
      "Epoch 6/10: 100%|██████████| 47/47 [00:04<00:00, 10.46it/s, accuracy=1, total_CE_loss=0.372, total_triple_loss=0.0155]\n",
      "Epoch 7/10:   0%|          | 0/47 [00:00<?, ?it/s<class 'dict'>]"
     ]
    },
    {
     "name": "stdout",
     "output_type": "stream",
     "text": [
      "Epoch:6/10\n",
      "Total Loss: 0.3878\n"
     ]
    },
    {
     "name": "stderr",
     "output_type": "stream",
     "text": [
      "Epoch 7/10: 100%|██████████| 47/47 [00:04<00:00, 10.30it/s, accuracy=1, total_CE_loss=0.299, total_triple_loss=0.0083] \n",
      "Epoch 8/10:   0%|          | 0/47 [00:00<?, ?it/s<class 'dict'>]"
     ]
    },
    {
     "name": "stdout",
     "output_type": "stream",
     "text": [
      "Epoch:7/10\n",
      "Total Loss: 0.3072\n"
     ]
    },
    {
     "name": "stderr",
     "output_type": "stream",
     "text": [
      "Epoch 8/10: 100%|██████████| 47/47 [00:04<00:00, 10.52it/s, accuracy=1, total_CE_loss=0.261, total_triple_loss=0.0169] \n",
      "Epoch 9/10:   0%|          | 0/47 [00:00<?, ?it/s<class 'dict'>]"
     ]
    },
    {
     "name": "stdout",
     "output_type": "stream",
     "text": [
      "Epoch:8/10\n",
      "Total Loss: 0.2779\n"
     ]
    },
    {
     "name": "stderr",
     "output_type": "stream",
     "text": [
      "Epoch 9/10: 100%|██████████| 47/47 [00:04<00:00, 10.49it/s, accuracy=1, total_CE_loss=0.2, total_triple_loss=0.00426]  \n",
      "Epoch 10/10:   0%|          | 0/47 [00:00<?, ?it/s<class 'dict'>]"
     ]
    },
    {
     "name": "stdout",
     "output_type": "stream",
     "text": [
      "Epoch:9/10\n",
      "Total Loss: 0.2044\n"
     ]
    },
    {
     "name": "stderr",
     "output_type": "stream",
     "text": [
      "Epoch 10/10: 100%|██████████| 47/47 [00:04<00:00, 10.58it/s, accuracy=1, total_CE_loss=0.243, total_triple_loss=0.0139]\n"
     ]
    },
    {
     "name": "stdout",
     "output_type": "stream",
     "text": [
      "Epoch:10/10\n",
      "Total Loss: 0.2573\n"
     ]
    }
   ],
   "source": [
    "epoch_step = num_train // batch_size\n",
    "epochs = 10\n",
    "save_period = 5\n",
    "save_dir = \"./output/\"\n",
    "# train\n",
    "for epoch in range(epochs):\n",
    "    fit_one_epoch(model, loss, optimizer,\n",
    "                    epoch, epoch_step, train_loader,\n",
    "                    epochs, batch_size // 3, save_period, save_dir)"
   ]
  },
  {
   "cell_type": "markdown",
   "metadata": {},
   "source": [
    "# 预测过程，将图像库中的人脸转换为高维度特征中"
   ]
  },
  {
   "cell_type": "code",
   "execution_count": 17,
   "metadata": {
    "execution": {
     "iopub.execute_input": "2022-05-03T13:49:01.828720Z",
     "iopub.status.busy": "2022-05-03T13:49:01.828369Z",
     "iopub.status.idle": "2022-05-03T13:49:24.397577Z",
     "shell.execute_reply": "2022-05-03T13:49:24.397038Z",
     "shell.execute_reply.started": "2022-05-03T13:49:01.828693Z"
    },
    "scrolled": true,
    "tags": []
   },
   "outputs": [
    {
     "name": "stderr",
     "output_type": "stream",
     "text": [
      "100%|██████████| 708/708 [00:22<00:00, 31.47it/s]\n"
     ]
    }
   ],
   "source": [
    "import json\n",
    "model.eval()\n",
    "total_embedding = {}\n",
    "with open(\"./cls_train.txt\", \"r\") as f:\n",
    "    lines = f.readlines()\n",
    "\n",
    "for line in tqdm(lines):\n",
    "    path = line.split(\";\")[1].split()[0]\n",
    "    image_data = Image.open(path)\n",
    "    with paddle.no_grad():\n",
    "        image_data = resize_image(image_data, [input_shape[1], input_shape[0]], letterbox_image=True)\n",
    "\n",
    "        photo_data = paddle.to_tensor(\n",
    "            np.expand_dims(np.transpose(preprocess_input(np.array(image_data, np.float32)), (2, 0, 1)), 0))\n",
    "\n",
    "        output = model(photo_data).cpu().numpy().tolist()\n",
    "\n",
    "        total_embedding[path] = output\n",
    "\n",
    "# 转化为json格式文件\n",
    "dict_json = json.dumps(total_embedding)\n",
    "# save\n",
    "with open('image_feature.json', 'w+') as file:\n",
    "    file.write(dict_json)"
   ]
  },
  {
   "cell_type": "markdown",
   "metadata": {},
   "source": [
    "## 输入一张测试图片进行测试"
   ]
  },
  {
   "cell_type": "code",
   "execution_count": 23,
   "metadata": {
    "execution": {
     "iopub.execute_input": "2022-05-03T13:54:02.233029Z",
     "iopub.status.busy": "2022-05-03T13:54:02.232675Z",
     "iopub.status.idle": "2022-05-03T13:54:06.996105Z",
     "shell.execute_reply": "2022-05-03T13:54:06.995530Z",
     "shell.execute_reply.started": "2022-05-03T13:54:02.232999Z"
    },
    "scrolled": true,
    "tags": []
   },
   "outputs": [
    {
     "name": "stdin",
     "output_type": "stream",
     "text": [
      "Input image filename: ./test.png\n"
     ]
    },
    {
     "name": "stdout",
     "output_type": "stream",
     "text": [
      "{'./images/face/dilireba/1591160437114.jpg': array([1.52943838]), './images/face/dilireba/159116043766.jpg': array([1.81909941]), './images/face/dilireba/159116043761.jpg': array([1.72572565]), './images/face/dilireba/159116043652.jpg': array([1.62632892]), './images/face/dilireba/159116043631.jpg': array([1.49347721]), './images/face/dilireba/159116043787.jpg': array([1.54048517]), './images/face/dilireba/159116043638.jpg': array([1.72115597]), './images/face/dilireba/159116043618.jpg': array([1.67191251]), './images/face/dilireba/159116043791.jpg': array([1.57484631]), './images/face/dilireba/159116043629.jpg': array([1.56656123]), './images/face/dilireba/15911604352.jpg': array([1.59859238]), './images/face/dilireba/1591160438117.jpg': array([1.67207121]), './images/face/dilireba/159116043783.jpg': array([1.68600151]), './images/face/dilireba/159116043765.jpg': array([1.67974763]), './images/face/dilireba/1591160437103.jpg': array([1.6821898]), './images/face/dilireba/159116043634.jpg': array([1.70097263]), './images/face/dilireba/1591160437108.jpg': array([1.70638834]), './images/face/dilireba/1591160437109.jpg': array([1.78146652]), './images/face/dilireba/1591160438123.jpg': array([1.66361889]), './images/face/dilireba/159116043644.jpg': array([1.68887578]), './images/face/dilireba/159116043763.jpg': array([1.74190645]), './images/face/dilireba/1591160438121.jpg': array([1.70675565]), './images/face/dilireba/159116043627.jpg': array([1.56431934]), './images/face/dilireba/159116043788.jpg': array([1.44203147]), './images/face/dilireba/159116043779.jpg': array([1.69098115]), './images/face/dilireba/159116043796.jpg': array([1.73975495]), './images/face/dilireba/159116043786.jpg': array([1.66647533]), './images/face/dilireba/1591160438119.jpg': array([1.71579342]), './images/face/dilireba/159116043651.jpg': array([1.59390031]), './images/face/dilireba/159116043620.jpg': array([1.73887183]), './images/face/dilireba/159116043610.jpg': array([1.62272366]), './images/face/dilireba/1591160437111.jpg': array([1.56988452]), './images/face/dilireba/1591160438124.jpg': array([1.71312583]), './images/face/dilireba/1591160438122.jpg': array([1.60557072]), './images/face/dilireba/159116043624.jpg': array([1.48538616]), './images/face/dilireba/159116043640.jpg': array([1.59245396]), './images/face/dilireba/159116043641.jpg': array([1.59179558]), './images/face/dilireba/159116043637.jpg': array([1.67911132]), './images/face/dilireba/159116043656.jpg': array([1.59573242]), './images/face/dilireba/159116043642.jpg': array([1.80563757]), './images/face/dilireba/159116043794.jpg': array([1.60968038]), './images/face/dilireba/159116043649.jpg': array([1.71867427]), './images/face/dilireba/159116043776.jpg': array([1.7447762]), './images/face/dilireba/159116043767.jpg': array([1.63657115]), './images/face/dilireba/159116043643.jpg': array([1.59670168]), './images/face/dilireba/1591160437105.jpg': array([1.7392782]), './images/face/dilireba/159116043613.jpg': array([1.50833338]), './images/face/dilireba/1591160437104.jpg': array([1.61545643]), './images/face/dilireba/159116043657.jpg': array([1.55892586]), './images/face/dilireba/159116043770.jpg': array([1.71549738]), './images/face/dilireba/159116043764.jpg': array([1.60978589]), './images/face/dilireba/1591160438116.jpg': array([1.62507194]), './images/face/dilireba/159116043658.jpg': array([1.72788412]), './images/face/dilireba/159116043653.jpg': array([1.78939847]), './images/face/dilireba/159116043799.jpg': array([1.62991133]), './images/face/dilireba/159116043784.jpg': array([1.71323944]), './images/face/dilireba/159116043659.jpg': array([1.8155689]), './images/face/dilireba/1591160437110.jpg': array([1.71703573]), './images/face/dilireba/159116043616.jpg': array([1.6314609]), './images/face/dilireba/159116043628.jpg': array([1.84156401]), './images/face/dilireba/15911604354.jpg': array([1.75486224]), './images/face/dilireba/159116043655.jpg': array([1.64817878]), './images/face/dilireba/159116043793.jpg': array([1.67631544]), './images/face/dilireba/159116043797.jpg': array([1.80858585]), './images/face/dilireba/159116043781.jpg': array([1.68854601]), './images/face/dilireba/1591160437102.jpg': array([1.6969666]), './images/face/dilireba/159116043632.jpg': array([1.74814438]), './images/face/dilireba/159116043646.jpg': array([1.73473525]), './images/face/dilireba/159116043625.jpg': array([1.62579826]), './images/face/dilireba/15911604367.jpg': array([1.537668]), './images/face/dilireba/159116043771.jpg': array([1.54202493]), './images/face/dilireba/159116043772.jpg': array([1.61429913]), './images/face/dilireba/1591160438118.jpg': array([1.57284546]), './images/face/dilireba/15911604353.jpg': array([1.66065944]), './images/face/dilireba/15911604368.jpg': array([1.70666132]), './images/face/dilireba/159116043777.jpg': array([1.646693]), './images/face/dilireba/159116043612.jpg': array([1.66327532]), './images/face/dilireba/15911604366.jpg': array([1.4983944]), './images/face/dilireba/159116043611.jpg': array([1.65398957]), './images/face/dilireba/159116043639.jpg': array([1.75573135]), './images/face/dilireba/159116043633.jpg': array([1.68875467]), './images/face/dilireba/1591160437101.jpg': array([1.74704563]), './images/face/dilireba/159116043650.jpg': array([1.66247571]), './images/face/dilireba/159116043768.jpg': array([1.67769875]), './images/face/dilireba/159116043660.jpg': array([1.70547071]), './images/face/dilireba/1591160437100.jpg': array([1.75637874]), './images/face/dilireba/159116043623.jpg': array([1.74993659]), './images/face/dilireba/159116043773.jpg': array([1.67728618]), './images/face/dilireba/15911604355.jpg': array([1.75746382]), './images/face/dilireba/159116043626.jpg': array([1.7759604]), './images/face/dilireba/159116043775.jpg': array([1.48714481]), './images/face/dilireba/159116043785.jpg': array([1.7139492]), './images/face/dilireba/1591160438125.jpg': array([1.61817334]), './images/face/dilireba/159116043798.jpg': array([1.60751246]), './images/face/dilireba/159116043622.jpg': array([1.7662543]), './images/face/dilireba/159116043769.jpg': array([1.83472159]), './images/face/dilireba/1591160438115.jpg': array([1.71429537]), './images/face/dilireba/159116043654.jpg': array([1.79191572]), './images/face/dilireba/159116043635.jpg': array([1.74386829]), './images/face/dilireba/1591160437112.jpg': array([1.58541011]), './images/face/dilireba/1591160437107.jpg': array([1.56765911]), './images/face/dilireba/159116043789.jpg': array([1.65139744]), './images/face/dilireba/159116043648.jpg': array([1.53366293]), './images/face/dilireba/159116043614.jpg': array([1.790321]), './images/face/dilireba/159116043647.jpg': array([1.7981514]), './images/face/dilireba/159116043615.jpg': array([1.57558158]), './images/face/dilireba/159116043792.jpg': array([1.77592819]), './images/face/dilireba/15911604369.jpg': array([1.65681215]), './images/face/dilireba/159116043645.jpg': array([1.67782463]), './images/face/dilireba/159116043762.jpg': array([1.6038118]), './images/face/dilireba/1591160438120.jpg': array([1.68891728]), './images/face/dilireba/159116043636.jpg': array([1.71430617]), './images/face/jiangwen/13d309cf0-f929-11e8-855f-005056c00008.jpg': array([1.53408933]), './images/face/jiangwen/1e2c7540-f929-11e8-b467-005056c00008.jpg': array([1.46895388]), './images/face/jiangwen/8900b980-f929-11e8-b547-005056c00008.jpg': array([1.65570251]), './images/face/jiangwen/4f2308d2-f929-11e8-b45b-005056c00008.jpg': array([1.53157442]), './images/face/jiangwen/13bc1a3a2-f929-11e8-bdf1-005056c00008.jpeg': array([1.52548363]), './images/face/jiangwen/1c2128eb0-f929-11e8-8a05-005056c00008.jpg': array([1.5787679]), './images/face/jiangwen/18207c00-f929-11e8-bee9-005056c00008.jpg': array([1.54180684]), './images/face/jiangwen/b91699a2-f929-11e8-a82b-005056c00008.jpg': array([1.54215832]), './images/face/jiangwen/40040840-f929-11e8-b9ec-005056c00008.jpg': array([1.51078592]), './images/face/jiangwen/11fe84670-f929-11e8-8e1b-005056c00008.jpg': array([1.40068775]), './images/face/jiangwen/ea6c3292-f928-11e8-b3ee-005056c00008.jpg': array([1.58965581]), './images/face/jiangwen/1ba5952d2-f929-11e8-bcf4-005056c00008.jpg': array([1.55967683]), './images/face/jiangwen/6c874bc0-f929-11e8-bad9-005056c00008.jpg': array([1.55609984]), './images/face/jiangwen/b18ece00-f929-11e8-8e00-005056c00008.jpg': array([1.57136487]), './images/face/jiangwen/191270f12-f929-11e8-8bc6-005056c00008.jpeg': array([1.57976453]), './images/face/jiangwen/1413cfd70-f929-11e8-a030-005056c00008.jpg': array([1.51078592]), './images/face/jiangwen/aff912d2-f929-11e8-8807-005056c00008.jpg': array([1.43728046]), './images/face/jiangwen/741224a2-f929-11e8-9e25-005056c00008.jpg': array([1.67166416]), './images/face/jiangwen/118207c00-f929-11e8-bee9-005056c00008.jpg': array([1.54180684]), './images/face/jiangwen/11b9203e2-f929-11e8-970c-005056c00008.jpg': array([1.65648994]), './images/face/jiangwen/b9969f12-f929-11e8-8e46-005056c00008.jpg': array([1.58404831]), './images/face/jiangwen/f97205d2-f928-11e8-9d91-005056c00008.jpg': array([1.56811734]), './images/face/jiangwen/1eade4870-f929-11e8-befb-005056c00008.jpg': array([1.56605017]), './images/face/jiangwen/18e42b3d2-f929-11e8-ad0c-005056c00008.jpg': array([1.59749534]), './images/face/jiangwen/1fe84670-f929-11e8-8e1b-005056c00008.jpg': array([1.40068775]), './images/face/jiangwen/170bedaf0-f929-11e8-b1ba-005056c00008.jpeg': array([1.56263477]), './images/face/jiangwen/18f6fc222-f929-11e8-86ae-005056c00008.jpg': array([1.51786015]), './images/face/jiangwen/1fc638070-f928-11e8-9d12-005056c00008.jpg': array([1.45677522]), './images/face/jiangwen/13ac6eff0-f929-11e8-bd75-005056c00008.jpg': array([1.6416277]), './images/face/jiangwen/1cc97270-f929-11e8-8f86-005056c00008.jpeg': array([1.50425536]), './images/face/jiangwen/1bebb2652-f929-11e8-a1e8-005056c00008.jpg': array([1.61556215]), './images/face/jiangwen/70bedaf0-f929-11e8-b1ba-005056c00008.jpeg': array([1.56263477]), './images/face/jiangwen/14f2308d2-f929-11e8-b45b-005056c00008.jpeg': array([1.53157442]), './images/face/jiangwen/f9c8b152-f928-11e8-b6ca-005056c00008.jpg': array([1.61597777]), './images/face/jiangwen/192c57cd2-f929-11e8-855d-005056c00008.jpg': array([1.5996909]), './images/face/jiangwen/1ad8ed12-f929-11e8-ab1f-005056c00008.jpg': array([1.53823607]), './images/face/jiangwen/91270f12-f929-11e8-8bc6-005056c00008.jpeg': array([1.57976453]), './images/face/jiangwen/faba8b62-f928-11e8-a0bc-005056c00008.jpg': array([1.63895669]), './images/face/jiangwen/0acb8d12-f929-11e8-ac67-005056c00008.jpg': array([1.56120733]), './images/face/jiangwen/13b938ec0-f929-11e8-85af-005056c00008.jpg': array([1.62119738]), './images/face/jiangwen/11bc5be12-f929-11e8-860a-005056c00008.jpg': array([1.57334068]), './images/face/jiangwen/0b1937e2-f929-11e8-8a8a-005056c00008.jpg': array([1.60418853]), './images/face/jiangwen/185e2140-f929-11e8-9b08-005056c00008.jpeg': array([1.60071491]), './images/face/jiangwen/fb42ce30-f928-11e8-b69d-005056c00008.jpg': array([1.63584761]), './images/face/jiangwen/1b91699a2-f929-11e8-a82b-005056c00008.jpg': array([1.54215832]), './images/face/jiangwen/14047c800-f929-11e8-9bbd-005056c00008.jpg': array([1.59915011]), './images/face/jiangwen/94b19562-f929-11e8-88e0-005056c00008.jpg': array([1.61001398]), './images/face/jiangwen/11cc97270-f929-11e8-8f86-005056c00008.jpeg': array([1.50425536]), './images/face/jiangwen/1b9203e2-f929-11e8-970c-005056c00008.jpg': array([1.65648994]), './images/face/jiangwen/18900b980-f929-11e8-b547-005056c00008.jpg': array([1.65570251]), './images/face/jiangwen/1a2935b00-f929-11e8-8ef8-005056c00008.jpg': array([1.61162726]), './images/face/jiangwen/1bd622600-f929-11e8-8623-005056c00008.jpg': array([1.41541236]), './images/face/jiangwen/1d3134792-f929-11e8-8194-005056c00008.jpg': array([1.64392526]), './images/face/jiangwen/b055d8d2-f929-11e8-a6e5-005056c00008.jpg': array([1.53620118]), './images/face/jiangwen/4047c800-f929-11e8-9bbd-005056c00008.jpg': array([1.59915011]), './images/face/jiangwen/eade4870-f929-11e8-befb-005056c00008.jpg': array([1.56605017]), './images/face/jiangwen/3a0d63f0-f929-11e8-9dce-005056c00008.png': array([1.4150194]), './images/face/jiangwen/11e78d7f0-f929-11e8-b323-005056c00008.jpg': array([1.52242032]), './images/face/jiangwen/e9fde062-f928-11e8-acbd-005056c00008.jpg': array([1.59704973]), './images/face/jiangwen/3d309cf0-f929-11e8-855f-005056c00008.jpg': array([1.53408933]), './images/face/jiangwen/16c874bc0-f929-11e8-bad9-005056c00008.jpeg': array([1.55609984]), './images/face/jiangwen/1741224a2-f929-11e8-9e25-005056c00008.jpg': array([1.67166416]), './images/face/jiangwen/d3134792-f929-11e8-8194-005056c00008.jpg': array([1.64392526]), './images/face/jiangwen/3f521d62-f929-11e8-a72b-005056c00008.jpeg': array([1.52370707]), './images/face/jiangwen/1fb8be522-f928-11e8-8016-005056c00008.jpg': array([1.6073134]), './images/face/jiangwen/fc638070-f928-11e8-9d12-005056c00008.jpg': array([1.45677522]), './images/face/jiangwen/930285d2-f929-11e8-a039-005056c00008.jpg': array([1.68123373]), './images/face/jiangwen/1eb9ffa2-f929-11e8-a78c-005056c00008.jpg': array([1.52311424]), './images/face/jiangwen/1b20584a2-f929-11e8-8681-005056c00008.png': array([1.57751174]), './images/face/jiangwen/1f896b422-f929-11e8-b4fb-005056c00008.jpg': array([1.53582145]), './images/face/jiangwen/14eb97192-f929-11e8-a1ff-005056c00008.jpg': array([1.5941048]), './images/face/jiangwen/1f9c8b152-f928-11e8-b6ca-005056c00008.jpg': array([1.61597777]), './images/face/jiangwen/b20584a2-f929-11e8-8681-005056c00008.png': array([1.57751174]), './images/face/jiangwen/1185e2140-f929-11e8-9b08-005056c00008.jpeg': array([1.60071491]), './images/face/jiangwen/ea95b392-f928-11e8-a520-005056c00008.jpg': array([1.58534174]), './images/face/jiangwen/1905985e2-f929-11e8-a7e1-005056c00008.png': array([1.57676868]), './images/face/jiangwen/11ad8ed12-f929-11e8-ab1f-005056c00008.jpg': array([1.53823607]), './images/face/jiangwen/1eb0ae392-f928-11e8-81ce-005056c00008.jpg': array([1.49289666]), './images/face/jiangwen/1b055d8d2-f929-11e8-a6e5-005056c00008.jpg': array([1.53620118]), './images/face/jiangwen/11c749bb0-f929-11e8-bfb9-005056c00008.jpg': array([1.60151004]), './images/face/jiangwen/1fa115312-f928-11e8-91fb-005056c00008.jpg': array([1.5715635]), './images/face/jiangwen/1b9969f12-f929-11e8-8e46-005056c00008.jpg': array([1.58404831]), './images/face/jiangwen/3b4791a2-f929-11e8-8555-005056c00008.jpg': array([1.51122026]), './images/face/jiangwen/3bc1a3a2-f929-11e8-bdf1-005056c00008.jpeg': array([1.52548363]), './images/face/jiangwen/1e9fde062-f928-11e8-acbd-005056c00008.jpg': array([1.59704973]), './images/face/jiangwen/c2128eb0-f929-11e8-8a05-005056c00008.jpg': array([1.5787679]), './images/face/jiangwen/905985e2-f929-11e8-a7e1-005056c00008.png': array([1.57676868]), './images/face/jiangwen/fb8be522-f928-11e8-8016-005056c00008.jpg': array([1.6073134]), './images/face/jiangwen/bebb2652-f929-11e8-a1e8-005056c00008.jpg': array([1.61556215]), './images/face/jiangwen/1930285d2-f929-11e8-a039-005056c00008.jpg': array([1.68123373]), './images/face/jiangwen/1b56b44e2-f929-11e8-995c-005056c00008.jpg': array([1.53978328]), './images/face/jiangwen/3b938ec0-f929-11e8-85af-005056c00008.jpg': array([1.62119738]), './images/face/jiangwen/bd622600-f929-11e8-8623-005056c00008.jpg': array([1.41541236]), './images/face/jiangwen/b56b44e2-f929-11e8-995c-005056c00008.jpg': array([1.53978328]), './images/face/jiangwen/18b60540-f929-11e8-aefd-005056c00008.jpg': array([1.57537575]), './images/face/jiangwen/d3725780-f929-11e8-b066-005056c00008.jpg': array([1.62143664]), './images/face/jiangwen/18358d170-f929-11e8-b2a3-005056c00008.jpg': array([1.65570251]), './images/face/jiangwen/8e42b3d2-f929-11e8-ad0c-005056c00008.jpg': array([1.59749534]), './images/face/jiangwen/194b19562-f929-11e8-88e0-005056c00008.jpg': array([1.61001398]), './images/face/jiangwen/4eb97192-f929-11e8-a1ff-005056c00008.jpg': array([1.5941048]), './images/face/jiangwen/1d3725780-f929-11e8-b066-005056c00008.jpg': array([1.62143664]), './images/face/jiangwen/413cfd70-f929-11e8-a030-005056c00008.jpg': array([1.51078592]), './images/face/jiangwen/1c749bb0-f929-11e8-bfb9-005056c00008.jpg': array([1.60151004]), './images/face/jiangwen/1ea6c3292-f928-11e8-b3ee-005056c00008.jpg': array([1.58965581]), './images/face/jiangwen/11e2c7540-f929-11e8-b467-005056c00008.jpg': array([1.46895388]), './images/face/jiangwen/1b74c60f0-f929-11e8-8eea-005056c00008.jpg': array([1.5572305]), './images/face/jiangwen/1ea95b392-f928-11e8-a520-005056c00008.jpg': array([1.58534174]), './images/face/jiangwen/10b1937e2-f929-11e8-8a8a-005056c00008.jpg': array([1.60418853]), './images/face/jiangwen/118b60540-f929-11e8-aefd-005056c00008.jpg': array([1.57537575]), './images/face/jiangwen/1e78d7f0-f929-11e8-b323-005056c00008.jpg': array([1.52242032]), './images/face/jiangwen/13f521d62-f929-11e8-a72b-005056c00008.jpeg': array([1.52370707]), './images/face/jiangwen/41625fc0-f929-11e8-bcf4-005056c00008.jpg': array([1.59915011]), './images/face/jiangwen/140040840-f929-11e8-b9ec-005056c00008.jpg': array([1.51078592]), './images/face/jiangwen/1faba8b62-f928-11e8-a0bc-005056c00008.jpeg': array([1.63895669]), './images/face/jiangwen/b74c60f0-f929-11e8-8eea-005056c00008.jpg': array([1.5572305]), './images/face/jiangwen/1de1c040-f929-11e8-b9f1-005056c00008.jpeg': array([1.5882164]), './images/face/jiangwen/3ac6eff0-f929-11e8-bd75-005056c00008.jpg': array([1.6416277]), './images/face/jiangwen/11eb9ffa2-f929-11e8-a78c-005056c00008.jpg': array([1.52311424]), './images/face/jiangwen/f896b422-f929-11e8-b4fb-005056c00008.jpg': array([1.53582145]), './images/face/jiangwen/141625fc0-f929-11e8-bcf4-005056c00008.jpg': array([1.59915011]), './images/face/jiangwen/1b18ece00-f929-11e8-8e00-005056c00008.jpg': array([1.57136487]), './images/face/jiangwen/1bc5be12-f929-11e8-860a-005056c00008.jpg': array([1.57334068]), './images/face/jiangwen/11de1c040-f929-11e8-b9f1-005056c00008.jpeg': array([1.5882164]), './images/face/jiangwen/8358d170-f929-11e8-b2a3-005056c00008.jpg': array([1.65570251]), './images/face/jiangwen/13b4791a2-f929-11e8-8555-005056c00008.jpg': array([1.51122026]), './images/face/jiangwen/13a0d63f0-f929-11e8-9dce-005056c00008.png': array([1.4150194]), './images/face/jiangwen/fa115312-f928-11e8-91fb-005056c00008.jpg': array([1.5715635]), './images/face/jiangwen/10acb8d12-f929-11e8-ac67-005056c00008.jpg': array([1.56120733]), './images/face/jiangwen/8f6fc222-f929-11e8-86ae-005056c00008.jpg': array([1.51786015]), './images/face/jiangwen/a2935b00-f929-11e8-8ef8-005056c00008.jpg': array([1.61162726]), './images/face/jiangwen/eb0ae392-f928-11e8-81ce-005056c00008.jpg': array([1.49289666]), './images/face/jiangwen/1fb42ce30-f928-11e8-b69d-005056c00008.jpg': array([1.63584761]), './images/face/jiangwen/92c57cd2-f929-11e8-855d-005056c00008.jpg': array([1.5996909]), './images/face/pengyuyan/20181206162816.png': array([1.26991212]), './images/face/pengyuyan/20181206162749.png': array([1.22698742]), './images/face/pengyuyan/20181206161903.png': array([1.15296163]), './images/face/pengyuyan/20181206162836.png': array([1.32709804]), './images/face/pengyuyan/20181206161127.png': array([1.2018372]), './images/face/pengyuyan/20181206161502.png': array([1.25224711]), './images/face/pengyuyan/20181206164423.png': array([1.39950838]), './images/face/pengyuyan/20181206164450.png': array([1.26418181]), './images/face/pengyuyan/20181206165131.png': array([1.3496142]), './images/face/pengyuyan/20181206162850.png': array([1.32544673]), './images/face/pengyuyan/20181206162625.png': array([1.26772531]), './images/face/pengyuyan/20181206163439.png': array([1.24822719]), './images/face/pengyuyan/20181206162423.png': array([1.38640564]), './images/face/pengyuyan/20181206165108.png': array([1.26731603]), './images/face/pengyuyan/20181206165249.png': array([1.306695]), './images/face/pengyuyan/20181206161848.png': array([1.15010582]), './images/face/pengyuyan/20181206161312.png': array([1.4259354]), './images/face/pengyuyan/20181206161634.png': array([1.24339201]), './images/face/pengyuyan/20181206162654.png': array([1.36345067]), './images/face/pengyuyan/20181206162454.png': array([1.19541545]), './images/face/pengyuyan/20181206162157.png': array([1.26477038]), './images/face/pengyuyan/20181206164707.png': array([1.36513975]), './images/face/pengyuyan/20181206161828.png': array([1.29521617]), './images/face/pengyuyan/20181206162254.png': array([1.2783777]), './images/face/pengyuyan/20181206162641.png': array([1.29685858]), './images/face/pengyuyan/20181206163250.png': array([1.41669799]), './images/face/pengyuyan/20181206163359.png': array([1.28546783]), './images/face/pengyuyan/20181206162507.png': array([1.35187183]), './images/face/pengyuyan/20181206164840.png': array([1.34755347]), './images/face/pengyuyan/20181206161233.png': array([1.21267176]), './images/face/pengyuyan/20181206164513.png': array([1.19208464]), './images/face/pengyuyan/20181206161702.png': array([1.38108185]), './images/face/pengyuyan/20181206162932.png': array([1.35069361]), './images/face/pengyuyan/20181206162904.png': array([1.23554556]), './images/face/pengyuyan/20181206162112.png': array([1.34479659]), './images/face/pengyuyan/20181206162540.png': array([1.30361458]), './images/face/pengyuyan/20181206165238.png': array([1.27102907]), './images/face/pengyuyan/20181206161053.png': array([1.11449058]), './images/face/pengyuyan/20181206164718.png': array([1.37601363]), './images/face/pengyuyan/20181206161530.png': array([1.36035882]), './images/face/pengyuyan/20181206164804.png': array([1.34744799]), './images/face/pengyuyan/20181206162442.png': array([1.368956]), './images/face/pengyuyan/20181206161917.png': array([1.22383694]), './images/face/pengyuyan/20181206162941.png': array([1.23955441]), './images/face/pengyuyan/20181206161115.png': array([1.15380278]), './images/face/pengyuyan/20181206161954.png': array([1.47989941]), './images/face/pengyuyan/20181206162613.png': array([1.30917719]), './images/face/pengyuyan/20181206161041.png': array([1.2648942]), './images/face/pengyuyan/20181206162956.png': array([1.44249117]), './images/face/pengyuyan/20181206163344.png': array([1.48437485]), './images/face/pengyuyan/20181206164640.png': array([1.37174855]), './images/face/pengyuyan/20181206165057.png': array([1.26825132]), './images/face/pengyuyan/20181206162915.png': array([1.27567884]), './images/face/pengyuyan/20181206164539.png': array([1.27363206]), './images/face/pengyuyan/20181206161806.png': array([1.37481485]), './images/face/pengyuyan/20181206162351.png': array([1.24989007]), './images/face/pengyuyan/20181206162411.png': array([1.17732127]), './images/face/pengyuyan/20181206165143.png': array([1.19142067]), './images/face/pengyuyan/20181206164436.png': array([1.28505961]), './images/face/pengyuyan/20181206163331.png': array([1.31533359]), './images/face/pengyuyan/20181206162707.png': array([1.4083768]), './images/face/pengyuyan/20181206161734.png': array([1.31083678]), './images/face/pengyuyan/20181206162027.png': array([1.20208685]), './images/face/pengyuyan/20181206165014.png': array([1.60046897]), './images/face/pengyuyan/20181206164742.png': array([1.29124669]), './images/face/pengyuyan/20181206161943.png': array([1.45211956]), './images/face/pengyuyan/20181206164912.png': array([1.41580418]), './images/face/pengyuyan/20181206165157.png': array([1.291113]), './images/face/pengyuyan/20181206162732.png': array([1.35806649]), './images/face/pengyuyan/20181206165211.png': array([1.33622974]), './images/face/pengyuyan/20181206162340.png': array([1.22575567]), './images/face/pengyuyan/20181206164727.png': array([1.04373706]), './images/face/pengyuyan/20181206163011.png': array([1.26341517]), './images/face/pengyuyan/20181206164827.png': array([1.22541939]), './images/face/pengyuyan/20181206161153.png': array([1.39494155]), './images/face/pengyuyan/20181206162804.png': array([1.25037493]), './images/face/pengyuyan/20181206164655.png': array([1.34506992]), './images/face/pengyuyan/20181206162042.png': array([1.32444487]), './images/face/pengyuyan/20181206162057.png': array([1.16532863]), './images/face/pengyuyan/20181206162552.png': array([1.31126654]), './images/face/pengyuyan/20181206162717.png': array([1.1722449]), './images/face/pengyuyan/20181206163224.png': array([1.1185643]), './images/face/pengyuyan/20181206161331.png': array([1.25963304]), './images/face/pengyuyan/20181206162211.png': array([1.27617245]), './images/face/pengyuyan/20181206164550.png': array([1.29826014]), './images/face/pengyuyan/20181206160937.png': array([1.40927825]), './images/face/pengyuyan/20181206165118.png': array([1.3481805]), './images/face/pengyuyan/20181206161554.png': array([1.33268144]), './images/face/pengyuyan/20181206162010.png': array([1.37818208]), './images/face/pengyuyan/20181206161255.png': array([0.91146088]), './images/face/pengyuyan/20181206161755.png': array([1.2777044]), './images/face/pengyuyan/20181206164526.png': array([1.28971848]), './images/face/pengyuyan/20181206161541.png': array([1.38400307]), './images/face/pengyuyan/20181206161448.png': array([1.31689675]), './images/face/pengyuyan/20181206164853.png': array([1.29253535]), './images/face/pengyuyan/20181206164628.png': array([1.40452742]), './images/face/pengyuyan/20181206163412.png': array([1.38392538]), './images/face/pengyuyan/20181206163306.png': array([1.47526546]), './images/face/pengyuyan/20181206163452.png': array([1.28898951]), './images/face/pengyuyan/20181206162311.png': array([1.32877471]), './images/face/pengyuyan/20181206164816.png': array([1.27161833]), './images/face/pengyuyan/20181206161648.png': array([1.44395119]), './images/face/pengyuyan/20181206161516.png': array([1.24544545]), './images/face/pengyuyan/20181206162602.png': array([1.24971361]), './images/face/pengyuyan/20181206163238.png': array([1.38014875]), './images/face/pengyuyan/20181206163318.png': array([1.32134958]), './images/face/pengyuyan/20181206162234.png': array([1.2738346]), './images/face/pengyuyan/20181206165044.png': array([1.30355176]), './images/face/pengyuyan/20181206162223.png': array([1.39589218]), './images/face/pengyuyan/20181206162522.png': array([1.15465787]), './images/face/pengyuyan/20181206164753.png': array([1.21832952]), './images/face/pengyuyan/20181206161607.png': array([1.26553888]), './images/face/pengyuyan/20181206163213.png': array([1.34851548]), './images/face/pengyuyan/20181206164502.png': array([1.18552278]), './images/face/zhangyan/微信图片_20200610094752.jpg': array([1.40027353]), './images/face/zhangyan/微信图片_20200610094810.jpg': array([1.58403678]), './images/face/zhangyan/微信图片_20200610094832.jpg': array([1.65434208]), './images/face/zhangyan/微信图片_20200610094902.jpg': array([1.31581952]), './images/face/zhangyan/微信图片_20200610094925.jpg': array([1.30575897]), './images/face/zhangyan/微信图片_20200610095028.jpg': array([1.58880399]), './images/face/zhangyan/微信图片_20200610094952.jpg': array([1.49125238]), './images/face/zhangyan/微信图片_20200610094742.jpg': array([1.272124]), './images/face/zhangyan/微信图片_20200610095046.jpg': array([1.35806002]), './images/face/zhangyan/微信图片_20200610094954.jpg': array([1.52103177]), './images/face/zhangyan/微信图片_20200610095018.jpg': array([1.26943521]), './images/face/zhangyan/微信图片_20200610094931.jpg': array([1.31800173]), './images/face/zhangyan/微信图片_20200610094755.jpg': array([1.49868196]), './images/face/zhangyan/微信图片_20200610094907.jpg': array([1.23562851]), './images/face/zhangyan/微信图片_20200610095116.jpg': array([1.45205302]), './images/face/zhangyan/微信图片_20200610094816.jpg': array([1.41599596]), './images/face/zhangyan/微信图片_20200610094813.jpg': array([1.44563089]), './images/face/zhangyan/微信图片_20200610094733.jpg': array([1.43045284]), './images/face/zhangyan/微信图片_20200610094637.jpg': array([1.42664555]), './images/face/zhangyan/微信图片_20200610095057.jpg': array([1.4036199]), './images/face/zhangyan/微信图片_20200610095107.jpg': array([1.36908389]), './images/face/zhangyan/微信图片_20200610095110.jpg': array([1.44176337]), './images/face/zhangyan/微信图片_20200610094854.jpg': array([1.3750708]), './images/face/zhangyan/微信图片_20200610094843.jpg': array([1.10185349]), './images/face/zhangyan/微信图片_20200610094957.jpg': array([1.42322438]), './images/face/zhangyan/微信图片_20200610095102.jpg': array([1.4726391]), './images/face/zhangyan/微信图片_20200610094821.jpg': array([1.48223118]), './images/face/zhangyan/微信图片_20200610095023.jpg': array([1.37674752]), './images/face/zhangyan/微信图片_20200610094739.jpg': array([1.45321288]), './images/face/zhangyan/微信图片_20200610094910.jpg': array([1.29580394]), './images/face/zhangyan/微信图片_20200610094927.jpg': array([1.28625453]), './images/face/zhangyan/微信图片_20200610094745.jpg': array([1.25934079]), './images/face/zhangyan/微信图片_20200610094818.jpg': array([1.45372353]), './images/face/zhangyan/微信图片_20200610094838.jpg': array([1.61909876]), './images/face/zhangyan/微信图片_20200610095059.jpg': array([1.38998636]), './images/face/zhangyan/微信图片_20200610094723.jpg': array([1.38340825]), './images/face/zhangyan/微信图片_20200610094905.jpg': array([1.26632732]), './images/face/zhangyan/微信图片_20200610095052.jpg': array([1.37002863]), './images/face/zhangyan/微信图片_20200610095002.jpg': array([1.42453864]), './images/face/zhangyan/微信图片_20200610094947.jpg': array([1.34753013]), './images/face/zhangyan/微信图片_20200610095049.jpg': array([1.42709705]), './images/face/zhangyan/微信图片_20200610095013.jpg': array([1.2665734]), './images/face/zhangyan/微信图片_20200610094827.jpg': array([1.45358197]), './images/face/zhangyan/微信图片_20200610094940.jpg': array([1.34940905]), './images/face/zhangyan/微信图片_20200610095025.jpg': array([1.5754618]), './images/face/zhangyan/微信图片_20200610094936.jpg': array([1.23344318]), './images/face/zhangyan/微信图片_20200610094807.jpg': array([1.51964492]), './images/face/zhangyan/微信图片_20200610094829.jpg': array([1.66925551]), './images/face/zhangyan/微信图片_20200610094727.jpg': array([1.63673877]), './images/face/zhangyan/微信图片_20200610094945.jpg': array([1.46576578]), './images/face/zhangyan/微信图片_20200610094710.jpg': array([1.46857931]), './images/face/zhangyan/微信图片_20200610094841.jpg': array([1.17614694]), './images/face/zhangyan/微信图片_20200610095104.jpg': array([1.36848266]), './images/face/zhangyan/微信图片_20200610094707.jpg': array([1.48325496]), './images/face/zhangyan/微信图片_20200610094942.jpg': array([1.49676983]), './images/face/zhangyan/微信图片_20200610094848.jpg': array([1.2163845]), './images/face/zhangyan/微信图片_20200610095044.jpg': array([1.3638586]), './images/face/zhangyan/微信图片_20200610094949.jpg': array([1.33669862]), './images/face/zhangyan/微信图片_20200610095033.jpg': array([1.34660268]), './images/face/zhangyan/微信图片_20200610094922.jpg': array([1.30191265]), './images/face/zhangyan/微信图片_20200610094920.jpg': array([1.27146845]), './images/face/zhangyan/微信图片_20200610094714.jpg': array([1.40402483]), './images/face/zhangyan/微信图片_20200610095030.jpg': array([1.6164128]), './images/face/zhangyan/微信图片_20200610094720.jpg': array([1.33625933]), './images/face/zhangyan/微信图片_20200610095054.jpg': array([1.36998378]), './images/face/zhangyan/微信图片_20200610095020.jpg': array([1.44767905]), './images/face/zhangyan/微信图片_20200610095010.jpg': array([1.30471948]), './images/face/zhangyan/微信图片_20200610094852.jpg': array([1.27815612]), './images/face/zhangyan/微信图片_20200610095039.jpg': array([1.29049665]), './images/face/zhangyan/微信图片_20200610094730.jpg': array([1.41347737]), './images/face/zhangyan/微信图片_20200610095118.jpg': array([1.45073988]), './images/face/zhangyan/微信图片_20200610095036.jpg': array([1.4174847]), './images/face/zhangyan/微信图片_20200610094917.jpg': array([1.33239932]), './images/face/zhangyan/微信图片_20200610094749.jpg': array([1.45273752]), './images/face/zhangyan/微信图片_20200610095113.jpg': array([1.4225342]), './images/face/zhangyan/微信图片_20200610094736.jpg': array([1.41597866]), './images/face/zhangyan/微信图片_20200610094846.jpg': array([0.96936816]), './images/face/zhangyan/微信图片_20200610094804.jpg': array([1.3588735]), './images/face/zhangyan/微信图片_20200610094913.jpg': array([1.31100633]), './images/face/zhangyan/微信图片_20200610095016.jpg': array([1.40377529]), './images/face/zhangyan/微信图片_20200610095041.jpg': array([1.32200666]), './images/face/zhangyan/微信图片_20200610095004.jpg': array([1.47245747]), './images/face/zhangyan/微信图片_20200610095007.jpg': array([1.36417812]), './images/face/zhangyan/微信图片_20200610094759.jpg': array([1.47242467]), './images/face/zhangyan/微信图片_20200610094933.jpg': array([1.30643071]), './images/face/zhangyan/微信图片_20200610094824.jpg': array([1.46212279]), './images/face/zhangyan/微信图片_20200610094801.jpg': array([1.53770813]), './images/face/zhangyan/微信图片_20200610094835.jpg': array([1.64134314]), './images/face/zhangyan/微信图片_20200610094900.jpg': array([1.20902341]), './images/face/zhangyan/微信图片_20200610094717.jpg': array([1.33425928]), './images/face/zhangyan/微信图片_20200610095000.jpg': array([1.33434164]), './images/face/zhangyan/微信图片_20200610094857.jpg': array([1.26627066]), './images/face/zhangziyi/20181206134403.png': array([0.88353688]), './images/face/zhangziyi/20181206132442.png': array([0.48116018]), './images/face/zhangziyi/20181206134529.png': array([0.99082223]), './images/face/zhangziyi/20181206132200.png': array([0.30981416]), './images/face/zhangziyi/20181206133927.png': array([0.28675244]), './images/face/zhangziyi/20181206134456.png': array([1.02641146]), './images/face/zhangziyi/20181206144652.png': array([0.26957104]), './images/face/zhangziyi/20181206132255.png': array([0.3939704]), './images/face/zhangziyi/20181206143714.png': array([0.34643213]), './images/face/zhangziyi/20181206131856.png': array([0.12617998]), './images/face/zhangziyi/20181206144938.png': array([0.27521766]), './images/face/zhangziyi/20181206145333.png': array([0.36129121]), './images/face/zhangziyi/20181206145456.png': array([0.19581287]), './images/face/zhangziyi/20181206144418.png': array([0.31410392]), './images/face/zhangziyi/20181206132102.png': array([0.67569057]), './images/face/zhangziyi/20181206145232.png': array([0.82238368]), './images/face/zhangziyi/20181206144721.png': array([0.44187809]), './images/face/zhangziyi/20181206112504.png': array([0.40999551]), './images/face/zhangziyi/20181206132122.png': array([0.53674142]), './images/face/zhangziyi/20181206132648.png': array([0.54507757]), './images/face/zhangziyi/20181206134557.png': array([0.98732268]), './images/face/zhangziyi/20181206132700.png': array([0.33713975]), './images/face/zhangziyi/20181206134004.png': array([0.55389936]), './images/face/zhangziyi/20181206133619.png': array([0.21859729]), './images/face/zhangziyi/20181206133521.png': array([0.51047612]), './images/face/zhangziyi/20181206134043.png': array([0.1938993]), './images/face/zhangziyi/20181206134640.png': array([0.39580052]), './images/face/zhangziyi/20181206132514.png': array([0.24444075]), './images/face/zhangziyi/20181206132327.png': array([0.50561499]), './images/face/zhangziyi/20181206135607.png': array([0.34922424]), './images/face/zhangziyi/20181206132141.png': array([0.26472148]), './images/face/zhangziyi/20181206132616.png': array([0.23440749]), './images/face/zhangziyi/20181206134251.png': array([0.26223524]), './images/face/zhangziyi/20181206140000.png': array([0.35654955]), './images/face/zhangziyi/20181206133415.png': array([0.13295161]), './images/face/zhangziyi/20181206133833.png': array([0.35204641]), './images/face/zhangziyi/20181206112529.png': array([0.29755109]), './images/face/zhangziyi/20181206134622.png': array([0.26536308]), './images/face/zhangziyi/20181206144453.png': array([0.34620007]), './images/face/zhangziyi/20181206132933.png': array([0.31895432]), './images/face/zhangziyi/20181206143748.png': array([0.24935962]), './images/face/zhangziyi/20181206134229.png': array([0.68330467]), './images/face/zhangziyi/20181206135812.png': array([0.18084772]), './images/face/zhangziyi/20181206132738.png': array([0.17173088]), './images/face/zhangziyi/20181206132220.png': array([0.50930203]), './images/face/zhangziyi/20181206143730.png': array([0.24941719]), './images/face/zhangziyi/20181206132022.png': array([0.16599039]), './images/face/zhangziyi/20181206132239.png': array([0.10651628]), './images/face/zhangziyi/20181206135919.png': array([0.36832603]), './images/face/zhangziyi/20181206132755.png': array([0.19518674]), './images/face/zhangziyi/20181206134123.png': array([0.23307154]), './images/face/zhangziyi/20181206134213.png': array([0.37357194]), './images/face/zhangziyi/20181206133002.png': array([0.59603765]), './images/face/zhangziyi/20181206132533.png': array([0.462161]), './images/face/zhangziyi/20181206134542.png': array([0.56110268]), './images/face/zhangziyi/20181206145348.png': array([0.54998463]), './images/face/zhangziyi/20181206132425.png': array([0.17082641]), './images/face/zhangziyi/20181206132406.png': array([0.18143326]), './images/face/zhangziyi/20181206144613.png': array([0.17878332]), './images/face/zhangziyi/20181206132919.png': array([0.80354679]), './images/face/zhangziyi/20181206145015.png': array([0.28710437]), './images/face/zhangziyi/20181206135034.png': array([0.60284176]), './images/face/zhangziyi/20181206145427.png': array([0.23263349]), './images/face/zhangziyi/20181206134938.png': array([0.32406395]), './images/face/zhangziyi/20181206145247.png': array([0.34272185]), './images/face/zhangziyi/20181206145110.png': array([0.27744102]), './images/face/zhangziyi/20181206134919.png': array([0.48750972]), './images/face/zhangziyi/20181206144436.png': array([0.80489776]), './images/face/zhangziyi/20181206135830.png': array([0.23264912]), './images/face/zhangziyi/20181206112348.png': array([0.]), './images/face/zhangziyi/20181206135321.png': array([0.4125828]), './images/face/zhangziyi/20181206134103.png': array([0.52651775]), './images/face/zhangziyi/20181206145122.png': array([0.53984661]), './images/face/zhangziyi/20181206145406.png': array([0.14730191]), './images/face/zhangziyi/20181206132346.png': array([0.60278177]), './images/face/zhangziyi/20181206134152.png': array([0.75190147]), './images/face/zhangziyi/20181206133539.png': array([0.26393235]), './images/face/zhangziyi/20181206134023.png': array([0.28628948]), './images/face/zhangziyi/20181206132629.png': array([0.1992753]), './images/face/zhangziyi/20181206135221.png': array([0.32202104]), './images/face/zhangziyi/20181206135108.png': array([0.33252744]), './images/face/zhangziyi/20181206133700.png': array([0.9417706]), './images/face/zhangziyi/20181206132904.png': array([0.21572748]), './images/face/zhangziyi/20181206132718.png': array([0.4360616]), './images/face/zhangziyi/20181206144813.png': array([0.98963036]), './images/face/zhangziyi/20181206133913.png': array([0.53738866]), './images/face/zhangziyi/20181206145059.png': array([0.43137224]), './images/face/zhangziyi/20181206145308.png': array([0.1833224]), './images/face/zhangziyi/20181206133720.png': array([0.69095899]), './images/face/zhangziyi/20181206145155.png': array([0.96426342]), './images/face/zhangziyi/20181206133344.png': array([0.3303623]), './images/face/zhangziyi/20181206132812.png': array([0.35305147]), './images/face/zhangziyi/20181206131958.png': array([0.45496102]), './images/face/zhangziyi/20181206144850.png': array([1.03903532]), './images/face/zhangziyi/20181206135126.png': array([0.2094741]), './images/face/zhangziyi/20181206132043.png': array([0.32931265]), './images/face/zhangziyi/20181206133020.png': array([0.67039429]), './images/face/zhangziyi/20181206132554.png': array([0.33953602]), './images/face/zhangziyi/20181206133815.png': array([0.94777137]), './images/face/zhangziyi/20181206131927.png': array([0.18944839]), './images/face/zhaoliying/159116217559.jpg': array([1.51032588]), './images/face/zhaoliying/159116217562.jpg': array([1.57409008]), './images/face/zhaoliying/159116065886.jpg': array([1.52132373]), './images/face/zhaoliying/159116217337.jpg': array([1.34621146]), './images/face/zhaoliying/159116065729.jpg': array([1.67140987]), './images/face/zhaoliying/159116217111.jpg': array([1.20376896]), './images/face/zhaoliying/159116217563.jpg': array([1.6045596]), './images/face/zhaoliying/159116065744.jpg': array([1.53007807]), './images/face/zhaoliying/15911621712.jpg': array([1.32116419]), './images/face/zhaoliying/159116217113.jpg': array([1.59309382]), './images/face/zhaoliying/159116065876.jpg': array([1.15263871]), './images/face/zhaoliying/159116217449.jpg': array([1.66641968]), './images/face/zhaoliying/159116217333.jpg': array([1.61282228]), './images/face/zhaoliying/1591160659131.jpg': array([1.49011479]), './images/face/zhaoliying/159116065859.jpg': array([1.45963945]), './images/face/zhaoliying/159116217224.jpg': array([1.37889482]), './images/face/zhaoliying/159116065888.jpg': array([1.24148988]), './images/face/zhaoliying/159116217450.jpg': array([1.78684558]), './images/face/zhaoliying/159116217446.jpg': array([1.42994789]), './images/face/zhaoliying/159116217457.jpg': array([1.28625844]), './images/face/zhaoliying/159116065857.jpg': array([1.44118384]), './images/face/zhaoliying/159116217456.jpg': array([1.41714971]), './images/face/zhaoliying/15911621701.jpg': array([1.3293017]), './images/face/zhaoliying/159116065893.jpg': array([1.59209381]), './images/face/zhaoliying/159116065860.jpg': array([1.35538393]), './images/face/zhaoliying/159116217332.jpg': array([1.55363855]), './images/face/zhaoliying/159116217447.jpg': array([1.55834994]), './images/face/zhaoliying/1591160659125.jpg': array([1.29717671]), './images/face/zhaoliying/159116217214.jpg': array([1.49815306]), './images/face/zhaoliying/159116217219.jpg': array([1.37445788]), './images/face/zhaoliying/159116217676.jpg': array([1.42876776]), './images/face/zhaoliying/159116065736.jpg': array([1.76417703]), './images/face/zhaoliying/159116217672.jpg': array([1.32805748]), './images/face/zhaoliying/15911606578.jpg': array([1.32477088]), './images/face/zhaoliying/159116065742.jpg': array([1.26204985]), './images/face/zhaoliying/1591160658108.jpg': array([1.66337937]), './images/face/zhaoliying/15911621714.jpg': array([1.21178382]), './images/face/zhaoliying/15911621716.jpg': array([1.42017997]), './images/face/zhaoliying/15911621717.jpg': array([1.50684582]), './images/face/zhaoliying/159116217339.jpg': array([1.45362436]), './images/face/zhaoliying/1591160659124.jpg': array([1.67008903]), './images/face/zhaoliying/159116065867.jpg': array([1.27894006]), './images/face/zhaoliying/159116065741.jpg': array([1.41954609]), './images/face/zhaoliying/159116065712.jpg': array([1.13437303]), './images/face/zhaoliying/1591160659121.jpg': array([1.230206]), './images/face/zhaoliying/1591160659118.jpg': array([1.1902327]), './images/face/zhaoliying/159116065745.jpg': array([1.33896254]), './images/face/zhaoliying/159116065862.jpg': array([1.46772534]), './images/face/zhaoliying/15911606572.jpg': array([1.34194905]), './images/face/zhaoliying/159116065870.jpg': array([1.71904612]), './images/face/zhaoliying/159116217669.jpg': array([1.63016196]), './images/face/zhaoliying/1591160659126.jpg': array([1.63986365]), './images/face/zhaoliying/159116065899.jpg': array([1.60089009]), './images/face/zhaoliying/159116065861.jpg': array([1.28740701]), './images/face/zhaoliying/1591160659138.jpg': array([1.37530156]), './images/face/zhaoliying/159116217565.jpg': array([1.27443067]), './images/face/zhaoliying/159116065879.jpg': array([1.43015383]), './images/face/zhaoliying/159116217341.jpg': array([1.43121653]), './images/face/zhaoliying/159116065740.jpg': array([1.40934162]), './images/face/zhaoliying/15911621718.jpg': array([1.27835556]), './images/face/zhaoliying/159116217455.jpg': array([1.61926035]), './images/face/zhaoliying/159116065730.jpg': array([1.63267324]), './images/face/zhaoliying/159116217335.jpg': array([1.28582327]), './images/face/zhaoliying/1591160658109.jpg': array([1.75511553]), './images/face/zhaoliying/159116217221.jpg': array([1.50280885]), './images/face/zhaoliying/159116217560.jpg': array([1.56552606]), './images/face/zhaoliying/159116217677.jpg': array([1.7485893]), './images/face/zhaoliying/159116217331.jpg': array([1.53786172]), './images/face/zhaoliying/1591160659119.jpg': array([1.69479436]), './images/face/zhaoliying/1591160659122.jpg': array([1.59929588]), './images/face/zhaoliying/1591160658112.jpg': array([1.29815591]), './images/face/zhaoliying/159116065875.jpg': array([1.46539253]), './images/face/zhaoliying/159116065866.jpg': array([1.74589133]), './images/face/zhaoliying/159116065877.jpg': array([1.42855831]), './images/face/zhaoliying/1591160658101.jpg': array([1.56977396]), './images/face/zhaoliying/159116217228.jpg': array([1.38106009]), './images/face/zhaoliying/159116065878.jpg': array([1.34379831]), './images/face/zhaoliying/159116065710.jpg': array([1.76290442]), './images/face/zhaoliying/159116065743.jpg': array([1.54934715]), './images/face/zhaoliying/159116217223.jpg': array([1.21678337]), './images/face/zhaoliying/159116065716.jpg': array([1.57497229]), './images/face/zhaoliying/15911621719.jpg': array([1.4788245]), './images/face/zhaoliying/159116217680.jpg': array([1.21674219]), './images/face/zhaoliying/1591160658114.jpg': array([1.51667047]), './images/face/zhaoliying/159116217217.jpg': array([1.33673288]), './images/face/zhaoliying/1591160658104.jpg': array([1.51705552]), './images/face/zhaoliying/159116217445.jpg': array([1.45157413]), './images/face/zhaoliying/159116217218.jpg': array([1.48400377]), './images/face/zhaoliying/1591160659130.jpg': array([1.42493385]), './images/face/zhaoliying/159116217229.jpg': array([1.39802823]), './images/face/zhaoliying/159116217568.jpg': array([1.37545971]), './images/face/zhaoliying/15911606579.jpg': array([1.49436256]), './images/face/zhaoliying/159116217226.jpg': array([1.63498776]), './images/face/zhaoliying/159116065883.jpg': array([1.53083003]), './images/face/zhaoliying/159116217452.jpg': array([1.6720442]), './images/face/zhaoliying/159116217216.jpg': array([1.27804824]), './images/face/zhaoliying/159116217215.jpg': array([1.36444103]), './images/face/zhaoliying/1591160659116.jpg': array([1.37484662]), './images/face/zhaoliying/159116065754.jpg': array([1.65349632]), './images/face/zhaoliying/159116065874.jpg': array([1.47650631]), './images/face/zhaoliying/159116065873.jpg': array([1.52960284]), './images/face/zhaoliying/159116217334.jpg': array([1.52184688]), './images/face/zhaoliying/159116217678.jpg': array([1.66856643]), './images/face/zhaoliying/15911621713.jpg': array([1.48458757]), './images/face/zhaoliying/159116217336.jpg': array([1.30323252]), './images/face/zhaoliying/159116217567.jpg': array([1.28236027]), './images/face/zhaoliying/159116217112.jpg': array([1.27972987]), './images/face/zhaoliying/159116217448.jpg': array([1.42138489]), './images/face/zhaoliying/159116065751.jpg': array([1.49239388]), './images/face/zhaoliying/159116065871.jpg': array([1.48546285]), './images/face/zhaoliying/1591160659135.jpg': array([1.78301455]), './images/face/zhaoliying/159116217453.jpg': array([1.36210108]), './images/face/zhaoliying/159116217674.jpg': array([1.48425985]), './images/face/zhaoliying/1591160658103.jpg': array([1.39185723]), './images/face/zhaoliying/159116065898.jpg': array([1.63837884]), './images/face/zhaoliying/159116217338.jpg': array([1.5125434]), './images/face/zhaoliying/1591160659137.jpg': array([1.56223026]), './images/face/zhaoliying/159116217673.jpg': array([1.56268764]), './images/face/zhaoliying/1591160658102.jpg': array([1.65509142]), './images/face/zhaoliying/159116065726.jpg': array([1.46286181]), './images/face/zhaoliying/159116065718.jpg': array([1.58915727]), './images/face/zhaoliying/1591160658106.jpg': array([1.24936241]), './images/face/zhaoliying/1591160659120.jpg': array([1.42216457]), './images/face/zhaoliying/159116065896.jpg': array([1.33050469]), './images/face/zhaoliying/159116065721.jpg': array([1.55970006]), './images/face/zhaoliying/1591160658105.jpg': array([1.15990559]), './images/face/zhaoliying/159116065753.jpg': array([1.61850907]), './images/face/zhaoliying/159116217340.jpg': array([1.12549528]), './images/face/zhaoliying/159116217679.jpg': array([1.40564991]), './images/face/zhaoliying/159116065892.jpg': array([1.59906314]), './images/face/zhaoliying/159116217670.jpg': array([1.66880214]), './images/face/zhaoliying/159116217342.jpg': array([1.6334337]), './images/face/zhaoliying/159116065733.jpg': array([1.50316427]), './images/face/zhaoliying/159116217566.jpg': array([1.66268042]), './images/face/zhaoliying/1591160658113.jpg': array([1.3455708]), './images/face/zhaoliying/159116217343.jpg': array([1.33418995]), './images/face/zhaoliying/159116217675.jpg': array([1.52138626]), './images/face/zhaoliying/15911606577.jpg': array([1.60599294]), './images/face/zhaoliying/159116217561.jpg': array([1.6042454]), './images/face/zhaoliying/159116217110.jpg': array([1.75560387]), './images/face/zhaoliying/15911606574.jpg': array([1.22118916]), './images/face/zhaoliying/159116217225.jpg': array([1.55550983]), './images/face/zhaoliying/159116217227.jpg': array([1.58113151]), './images/face/zhaoliying/159116217444.jpg': array([1.49004941]), './images/face/zhaoliying/1591160658100.jpg': array([1.5078325]), './images/face/zhaoliying/159116065890.jpg': array([1.70108838]), './images/face/zhaoliying/1591160659117.jpg': array([1.28917726]), './images/face/zhaoliying/159116217558.jpg': array([1.33290413]), './images/face/zhaoliying/159116217671.jpg': array([1.14405126]), './images/face/zhaoliying/1591160659128.jpg': array([1.20121083]), './images/face/zhaoliying/159116217454.jpg': array([1.45329425]), './images/face/zhaoliying/159116217330.jpg': array([1.62202366]), './images/face/zhaoliying/159116217564.jpg': array([1.19868704]), './images/face/zhaoliying/159116217220.jpg': array([1.77561535]), './images/face/zhaoliying/159116065722.jpg': array([1.60813004]), './images/face/zhaoliying/159116065891.jpg': array([1.49938677]), './images/face/zhaoliying/159116065894.jpg': array([1.3454066])}\n"
     ]
    }
   ],
   "source": [
    "image_test_path = input('Input image filename:')\n",
    "image_test = Image.open(image_test_path)\n",
    "with paddle.no_grad():\n",
    "    image_test = resize_image(image_test, [input_shape[1], input_shape[0]], letterbox_image=True)\n",
    "\n",
    "    photo_test = paddle.to_tensor(\n",
    "        np.expand_dims(np.transpose(preprocess_input(np.array(image_test, np.float32)), (2, 0, 1)), 0))\n",
    "\n",
    "    photo_test = photo_test.cuda()\n",
    "    output_test = model(photo_test).cpu().numpy()\n",
    "\n",
    "total_diff = {}\n",
    "for key,value in total_embedding.items():\n",
    "    value = np.array(value)\n",
    "    total_diff[key] = np.linalg.norm(output_test - value, axis=1)\n",
    "\n",
    "print(total_diff)\n"
   ]
  },
  {
   "cell_type": "markdown",
   "metadata": {},
   "source": [
    "## 将与之最像的三张图展示出来"
   ]
  },
  {
   "cell_type": "code",
   "execution_count": 26,
   "metadata": {
    "execution": {
     "iopub.execute_input": "2022-05-03T13:54:56.437929Z",
     "iopub.status.busy": "2022-05-03T13:54:56.437647Z",
     "iopub.status.idle": "2022-05-03T13:54:56.925512Z",
     "shell.execute_reply": "2022-05-03T13:54:56.925059Z",
     "shell.execute_reply.started": "2022-05-03T13:54:56.437905Z"
    },
    "scrolled": true,
    "tags": []
   },
   "outputs": [
    {
     "data": {
      "image/png": "[encoded data removed]",
      "text/plain": [
       "<Figure size 1440x576 with 4 Axes>"
      ]
     },
     "metadata": {
      "needs_background": "light"
     },
     "output_type": "display_data"
    }
   ],
   "source": [
    "import matplotlib.pyplot as plt\n",
    "\n",
    "sorted_total_diff = sorted(total_diff.items(),key=lambda x:x[1])\n",
    "use_data = sorted_total_diff[:3]\n",
    "\n",
    "fig = plt.figure(figsize=(20, 8))\n",
    "# src image\n",
    "src_data_path = image_test_path\n",
    "img = Image.open(src_data_path)\n",
    "ax = fig.add_subplot(2, 3, 1)\n",
    "ax.imshow(img)\n",
    "for i in range(len(use_data)):\n",
    "    sub_data = use_data[i]\n",
    "    sub_data_path = sub_data[0]\n",
    "    img = Image.open(sub_data_path)\n",
    "    ax = fig.add_subplot(2, 3, i + 4)\n",
    "    ax.imshow(img)\n",
    "\n",
    "plt.show()"
   ]
  },
  {
   "cell_type": "code",
   "execution_count": 27,
   "metadata": {
    "execution": {
     "iopub.execute_input": "2022-05-03T13:56:25.910771Z",
     "iopub.status.busy": "2022-05-03T13:56:25.910445Z",
     "iopub.status.idle": "2022-05-03T13:56:25.915943Z",
     "shell.execute_reply": "2022-05-03T13:56:25.915513Z",
     "shell.execute_reply.started": "2022-05-03T13:56:25.910743Z"
    },
    "scrolled": true,
    "tags": []
   },
   "outputs": [
    {
     "data": {
      "text/plain": [
       "[('./images/face/zhangziyi/20181206112348.png', array([0.])),\n",
       " ('./images/face/zhangziyi/20181206132239.png', array([0.10651628])),\n",
       " ('./images/face/zhangziyi/20181206131856.png', array([0.12617998]))]"
      ]
     },
     "execution_count": 27,
     "metadata": {},
     "output_type": "execute_result"
    }
   ],
   "source": [
    "use_data"
   ]
  },
  {
   "cell_type": "markdown",
   "metadata": {},
   "source": [
    "## 输出类别名称"
   ]
  },
  {
   "cell_type": "code",
   "execution_count": 28,
   "metadata": {
    "execution": {
     "iopub.execute_input": "2022-05-03T13:57:58.464809Z",
     "iopub.status.busy": "2022-05-03T13:57:58.464485Z",
     "iopub.status.idle": "2022-05-03T13:57:58.469942Z",
     "shell.execute_reply": "2022-05-03T13:57:58.469500Z",
     "shell.execute_reply.started": "2022-05-03T13:57:58.464785Z"
    },
    "scrolled": true,
    "tags": []
   },
   "outputs": [
    {
     "name": "stdout",
     "output_type": "stream",
     "text": [
      "{'zhangziyi': 5}\n",
      "this is zhangziyi\n"
     ]
    }
   ],
   "source": [
    "import os\n",
    "classes_dict = {}\n",
    "for i in range(5):\n",
    "    sub_key = os.path.split(os.path.split(sorted_total_diff[i][0])[0])[1]\n",
    "    count = classes_dict.get(sub_key, 0)\n",
    "    count += 1\n",
    "    classes_dict[sub_key] = count\n",
    "\n",
    "print(classes_dict)\n",
    "sorted_classes_dict = sorted(classes_dict.items(),key=lambda x:x[1])\n",
    "print(\"this is\", sorted_classes_dict[-1][0])"
   ]
  },
  {
   "cell_type": "markdown",
   "metadata": {},
   "source": [
    "# 使用 paddle.jit.to_static 实现动转静"
   ]
  },
  {
   "cell_type": "markdown",
   "metadata": {},
   "source": [
    "## 改写网络"
   ]
  },
  {
   "cell_type": "code",
   "execution_count": 16,
   "metadata": {
    "execution": {
     "iopub.execute_input": "2022-05-03T14:52:01.931554Z",
     "iopub.status.busy": "2022-05-03T14:52:01.931163Z",
     "iopub.status.idle": "2022-05-03T14:52:02.019329Z",
     "shell.execute_reply": "2022-05-03T14:52:02.018821Z",
     "shell.execute_reply.started": "2022-05-03T14:52:01.931512Z"
    },
    "scrolled": true,
    "tags": []
   },
   "outputs": [],
   "source": [
    "class OwnResnet2(nn.Layer):\n",
    "    def __init__(self, pretrained):\n",
    "        super(OwnResnet2, self).__init__()\n",
    "        self.model = models.resnet50(pretrained=pretrained)\n",
    "        # 删除不需要的层结构\n",
    "        del self.model.fc\n",
    "        del self.model.avgpool\n",
    "\n",
    "    def forward(self, x):\n",
    "        x = self.model.conv1(x)\n",
    "        x = self.model.bn1(x)\n",
    "        x = self.model.relu(x)\n",
    "        x = self.model.maxpool(x)\n",
    "\n",
    "        x = self.model.layer1(x)\n",
    "        x = self.model.layer2(x)\n",
    "        x = self.model.layer3(x)\n",
    "        x = self.model.layer4(x)\n",
    "\n",
    "        return x\n",
    "\n",
    "\n",
    "class OwnFacenet2(nn.Layer):\n",
    "    def __init__(self, dropout_keep_prob=0.5, embedding_size=128, num_classes=None, pretrained=False):\n",
    "        super(OwnFacenet2, self).__init__()\n",
    "        self.backbone = OwnResnet2(pretrained=pretrained)\n",
    "        flat_shape = 2048\n",
    "        self.set_parameter_requires_grad(self.backbone, True)\n",
    "        self.avg = nn.AdaptiveAvgPool2D((1, 1))\n",
    "        self.flatten = paddle.nn.Flatten()\n",
    "        self.Dropout = nn.Dropout(1 - dropout_keep_prob)\n",
    "        self.Bottleneck = nn.Linear(flat_shape, embedding_size)\n",
    "        self.last_bn = nn.BatchNorm1D(embedding_size)\n",
    "        # if mode == \"train\":\n",
    "        self.classifier = nn.Linear(embedding_size, num_classes)\n",
    "\n",
    "    def set_parameter_requires_grad(self, model, feature_extracting):\n",
    "        if feature_extracting:\n",
    "            for param in model.parameters():\n",
    "                param.requires_grad = True\n",
    "\n",
    "    @paddle.jit.to_static()\n",
    "    def forward(self, x):\n",
    "        if self.training:\n",
    "            x = self.backbone(x)\n",
    "            x = self.avg(x)\n",
    "            x = self.flatten(x)\n",
    "            x = self.Dropout(x)\n",
    "            x = self.Bottleneck(x)\n",
    "            x = self.last_bn(x)\n",
    "            # 分类的结果\n",
    "            x1 = self.classifier(x)\n",
    "            # L2标准化之后的结果\n",
    "            x2 = F.normalize(x, p=2, axis=1)\n",
    "            return x1, x2\n",
    "        else:\n",
    "            x = self.backbone(x)\n",
    "            x = self.avg(x)\n",
    "            x = self.flatten(x)\n",
    "            x = self.Dropout(x)\n",
    "            x = self.Bottleneck(x)\n",
    "            x = self.last_bn(x)\n",
    "            # l2标准化后的结果\n",
    "            x = F.normalize(x, p=2, axis=1)\n",
    "            return x"
   ]
  },
  {
   "cell_type": "code",
   "execution_count": 17,
   "metadata": {
    "execution": {
     "iopub.execute_input": "2022-05-03T14:52:05.168183Z",
     "iopub.status.busy": "2022-05-03T14:52:05.167779Z",
     "iopub.status.idle": "2022-05-03T14:52:15.305984Z",
     "shell.execute_reply": "2022-05-03T14:52:15.305423Z",
     "shell.execute_reply.started": "2022-05-03T14:52:05.168151Z"
    },
    "scrolled": true,
    "tags": []
   },
   "outputs": [
    {
     "name": "stderr",
     "output_type": "stream",
     "text": [
      "W0503 22:52:05.170619   170 device_context.cc:447] Please NOTE: device: 0, GPU Compute Capability: 8.0, Driver API Version: 11.2, Runtime API Version: 11.2\n",
      "W0503 22:52:05.173643   170 device_context.cc:465] device: 0, cuDNN Version: 8.2.\n",
      "100%|██████████| 151272/151272 [00:05<00:00, 28325.70it/s]\n"
     ]
    }
   ],
   "source": [
    "# build model\n",
    "pretrained = True\n",
    "model_2 = OwnFacenet2(num_classes=num_classes, pretrained=pretrained)"
   ]
  },
  {
   "cell_type": "code",
   "execution_count": 18,
   "metadata": {
    "execution": {
     "iopub.execute_input": "2022-05-03T14:52:16.985615Z",
     "iopub.status.busy": "2022-05-03T14:52:16.985337Z",
     "iopub.status.idle": "2022-05-03T14:52:16.989813Z",
     "shell.execute_reply": "2022-05-03T14:52:16.989420Z",
     "shell.execute_reply.started": "2022-05-03T14:52:16.985595Z"
    },
    "scrolled": true,
    "tags": []
   },
   "outputs": [],
   "source": [
    "# build optim\n",
    "optimizer_type = 'adam'\n",
    "optimizer = {\n",
    "    'adam': optim.Adam(parameters = model_2.parameters(), learning_rate = 0.001),\n",
    "    'sgd': optim.SGD(parameters = model_2.parameters(), learning_rate = 0.01)\n",
    "}[optimizer_type]"
   ]
  },
  {
   "cell_type": "code",
   "execution_count": 19,
   "metadata": {
    "execution": {
     "iopub.execute_input": "2022-05-03T14:52:20.604446Z",
     "iopub.status.busy": "2022-05-03T14:52:20.604195Z",
     "iopub.status.idle": "2022-05-03T14:52:22.026671Z",
     "shell.execute_reply": "2022-05-03T14:52:22.026138Z",
     "shell.execute_reply.started": "2022-05-03T14:52:20.604423Z"
    },
    "scrolled": true,
    "tags": []
   },
   "outputs": [
    {
     "name": "stderr",
     "output_type": "stream",
     "text": [
      "/opt/conda/envs/python35-paddle120-env/lib/python3.7/site-packages/paddle/fluid/layers/utils.py:77: DeprecationWarning: Using or importing the ABCs from 'collections' instead of from 'collections.abc' is deprecated, and in 3.8 it will stop working\n",
      "  return (isinstance(seq, collections.Sequence) and\n"
     ]
    },
    {
     "name": "stdout",
     "output_type": "stream",
     "text": [
      "-------------------------------------------------------------------------------\n",
      "   Layer (type)         Input Shape          Output Shape         Param #    \n",
      "===============================================================================\n",
      "     Conv2D-1       [[10, 3, 224, 224]]   [10, 64, 112, 112]       9,408     \n",
      "   BatchNorm2D-1    [[10, 64, 112, 112]]  [10, 64, 112, 112]        256      \n",
      "      ReLU-1        [[10, 64, 112, 112]]  [10, 64, 112, 112]         0       \n",
      "    MaxPool2D-1     [[10, 64, 112, 112]]   [10, 64, 56, 56]          0       \n",
      "     Conv2D-3        [[10, 64, 56, 56]]    [10, 64, 56, 56]        4,096     \n",
      "   BatchNorm2D-3     [[10, 64, 56, 56]]    [10, 64, 56, 56]         256      \n",
      "      ReLU-2        [[10, 256, 56, 56]]   [10, 256, 56, 56]          0       \n",
      "     Conv2D-4        [[10, 64, 56, 56]]    [10, 64, 56, 56]       36,864     \n",
      "   BatchNorm2D-4     [[10, 64, 56, 56]]    [10, 64, 56, 56]         256      \n",
      "     Conv2D-5        [[10, 64, 56, 56]]   [10, 256, 56, 56]       16,384     \n",
      "   BatchNorm2D-5    [[10, 256, 56, 56]]   [10, 256, 56, 56]        1,024     \n",
      "     Conv2D-2        [[10, 64, 56, 56]]   [10, 256, 56, 56]       16,384     \n",
      "   BatchNorm2D-2    [[10, 256, 56, 56]]   [10, 256, 56, 56]        1,024     \n",
      " BottleneckBlock-1   [[10, 64, 56, 56]]   [10, 256, 56, 56]       76,288     \n",
      "     Conv2D-6       [[10, 256, 56, 56]]    [10, 64, 56, 56]       16,384     \n",
      "   BatchNorm2D-6     [[10, 64, 56, 56]]    [10, 64, 56, 56]         256      \n",
      "      ReLU-3        [[10, 256, 56, 56]]   [10, 256, 56, 56]          0       \n",
      "     Conv2D-7        [[10, 64, 56, 56]]    [10, 64, 56, 56]       36,864     \n",
      "   BatchNorm2D-7     [[10, 64, 56, 56]]    [10, 64, 56, 56]         256      \n",
      "     Conv2D-8        [[10, 64, 56, 56]]   [10, 256, 56, 56]       16,384     \n",
      "   BatchNorm2D-8    [[10, 256, 56, 56]]   [10, 256, 56, 56]        1,024     \n",
      " BottleneckBlock-2  [[10, 256, 56, 56]]   [10, 256, 56, 56]       71,168     \n",
      "     Conv2D-9       [[10, 256, 56, 56]]    [10, 64, 56, 56]       16,384     \n",
      "   BatchNorm2D-9     [[10, 64, 56, 56]]    [10, 64, 56, 56]         256      \n",
      "      ReLU-4        [[10, 256, 56, 56]]   [10, 256, 56, 56]          0       \n",
      "     Conv2D-10       [[10, 64, 56, 56]]    [10, 64, 56, 56]       36,864     \n",
      "  BatchNorm2D-10     [[10, 64, 56, 56]]    [10, 64, 56, 56]         256      \n",
      "     Conv2D-11       [[10, 64, 56, 56]]   [10, 256, 56, 56]       16,384     \n",
      "  BatchNorm2D-11    [[10, 256, 56, 56]]   [10, 256, 56, 56]        1,024     \n",
      " BottleneckBlock-3  [[10, 256, 56, 56]]   [10, 256, 56, 56]       71,168     \n",
      "     Conv2D-13      [[10, 256, 56, 56]]   [10, 128, 56, 56]       32,768     \n",
      "  BatchNorm2D-13    [[10, 128, 56, 56]]   [10, 128, 56, 56]         512      \n",
      "      ReLU-5        [[10, 512, 28, 28]]   [10, 512, 28, 28]          0       \n",
      "     Conv2D-14      [[10, 128, 56, 56]]   [10, 128, 28, 28]       147,456    \n",
      "  BatchNorm2D-14    [[10, 128, 28, 28]]   [10, 128, 28, 28]         512      \n",
      "     Conv2D-15      [[10, 128, 28, 28]]   [10, 512, 28, 28]       65,536     \n",
      "  BatchNorm2D-15    [[10, 512, 28, 28]]   [10, 512, 28, 28]        2,048     \n",
      "     Conv2D-12      [[10, 256, 56, 56]]   [10, 512, 28, 28]       131,072    \n",
      "  BatchNorm2D-12    [[10, 512, 28, 28]]   [10, 512, 28, 28]        2,048     \n",
      " BottleneckBlock-4  [[10, 256, 56, 56]]   [10, 512, 28, 28]       381,952    \n",
      "     Conv2D-16      [[10, 512, 28, 28]]   [10, 128, 28, 28]       65,536     \n",
      "  BatchNorm2D-16    [[10, 128, 28, 28]]   [10, 128, 28, 28]         512      \n",
      "      ReLU-6        [[10, 512, 28, 28]]   [10, 512, 28, 28]          0       \n",
      "     Conv2D-17      [[10, 128, 28, 28]]   [10, 128, 28, 28]       147,456    \n",
      "  BatchNorm2D-17    [[10, 128, 28, 28]]   [10, 128, 28, 28]         512      \n",
      "     Conv2D-18      [[10, 128, 28, 28]]   [10, 512, 28, 28]       65,536     \n",
      "  BatchNorm2D-18    [[10, 512, 28, 28]]   [10, 512, 28, 28]        2,048     \n",
      " BottleneckBlock-5  [[10, 512, 28, 28]]   [10, 512, 28, 28]       281,600    \n",
      "     Conv2D-19      [[10, 512, 28, 28]]   [10, 128, 28, 28]       65,536     \n",
      "  BatchNorm2D-19    [[10, 128, 28, 28]]   [10, 128, 28, 28]         512      \n",
      "      ReLU-7        [[10, 512, 28, 28]]   [10, 512, 28, 28]          0       \n",
      "     Conv2D-20      [[10, 128, 28, 28]]   [10, 128, 28, 28]       147,456    \n",
      "  BatchNorm2D-20    [[10, 128, 28, 28]]   [10, 128, 28, 28]         512      \n",
      "     Conv2D-21      [[10, 128, 28, 28]]   [10, 512, 28, 28]       65,536     \n",
      "  BatchNorm2D-21    [[10, 512, 28, 28]]   [10, 512, 28, 28]        2,048     \n",
      " BottleneckBlock-6  [[10, 512, 28, 28]]   [10, 512, 28, 28]       281,600    \n",
      "     Conv2D-22      [[10, 512, 28, 28]]   [10, 128, 28, 28]       65,536     \n",
      "  BatchNorm2D-22    [[10, 128, 28, 28]]   [10, 128, 28, 28]         512      \n",
      "      ReLU-8        [[10, 512, 28, 28]]   [10, 512, 28, 28]          0       \n",
      "     Conv2D-23      [[10, 128, 28, 28]]   [10, 128, 28, 28]       147,456    \n",
      "  BatchNorm2D-23    [[10, 128, 28, 28]]   [10, 128, 28, 28]         512      \n",
      "     Conv2D-24      [[10, 128, 28, 28]]   [10, 512, 28, 28]       65,536     \n",
      "  BatchNorm2D-24    [[10, 512, 28, 28]]   [10, 512, 28, 28]        2,048     \n",
      " BottleneckBlock-7  [[10, 512, 28, 28]]   [10, 512, 28, 28]       281,600    \n",
      "     Conv2D-26      [[10, 512, 28, 28]]   [10, 256, 28, 28]       131,072    \n",
      "  BatchNorm2D-26    [[10, 256, 28, 28]]   [10, 256, 28, 28]        1,024     \n",
      "      ReLU-9        [[10, 1024, 14, 14]]  [10, 1024, 14, 14]         0       \n",
      "     Conv2D-27      [[10, 256, 28, 28]]   [10, 256, 14, 14]       589,824    \n",
      "  BatchNorm2D-27    [[10, 256, 14, 14]]   [10, 256, 14, 14]        1,024     \n",
      "     Conv2D-28      [[10, 256, 14, 14]]   [10, 1024, 14, 14]      262,144    \n",
      "  BatchNorm2D-28    [[10, 1024, 14, 14]]  [10, 1024, 14, 14]       4,096     \n",
      "     Conv2D-25      [[10, 512, 28, 28]]   [10, 1024, 14, 14]      524,288    \n",
      "  BatchNorm2D-25    [[10, 1024, 14, 14]]  [10, 1024, 14, 14]       4,096     \n",
      " BottleneckBlock-8  [[10, 512, 28, 28]]   [10, 1024, 14, 14]     1,517,568   \n",
      "     Conv2D-29      [[10, 1024, 14, 14]]  [10, 256, 14, 14]       262,144    \n",
      "  BatchNorm2D-29    [[10, 256, 14, 14]]   [10, 256, 14, 14]        1,024     \n",
      "      ReLU-10       [[10, 1024, 14, 14]]  [10, 1024, 14, 14]         0       \n",
      "     Conv2D-30      [[10, 256, 14, 14]]   [10, 256, 14, 14]       589,824    \n",
      "  BatchNorm2D-30    [[10, 256, 14, 14]]   [10, 256, 14, 14]        1,024     \n",
      "     Conv2D-31      [[10, 256, 14, 14]]   [10, 1024, 14, 14]      262,144    \n",
      "  BatchNorm2D-31    [[10, 1024, 14, 14]]  [10, 1024, 14, 14]       4,096     \n",
      " BottleneckBlock-9  [[10, 1024, 14, 14]]  [10, 1024, 14, 14]     1,120,256   \n",
      "     Conv2D-32      [[10, 1024, 14, 14]]  [10, 256, 14, 14]       262,144    \n",
      "  BatchNorm2D-32    [[10, 256, 14, 14]]   [10, 256, 14, 14]        1,024     \n",
      "      ReLU-11       [[10, 1024, 14, 14]]  [10, 1024, 14, 14]         0       \n",
      "     Conv2D-33      [[10, 256, 14, 14]]   [10, 256, 14, 14]       589,824    \n",
      "  BatchNorm2D-33    [[10, 256, 14, 14]]   [10, 256, 14, 14]        1,024     \n",
      "     Conv2D-34      [[10, 256, 14, 14]]   [10, 1024, 14, 14]      262,144    \n",
      "  BatchNorm2D-34    [[10, 1024, 14, 14]]  [10, 1024, 14, 14]       4,096     \n",
      "BottleneckBlock-10  [[10, 1024, 14, 14]]  [10, 1024, 14, 14]     1,120,256   \n",
      "     Conv2D-35      [[10, 1024, 14, 14]]  [10, 256, 14, 14]       262,144    \n",
      "  BatchNorm2D-35    [[10, 256, 14, 14]]   [10, 256, 14, 14]        1,024     \n",
      "      ReLU-12       [[10, 1024, 14, 14]]  [10, 1024, 14, 14]         0       \n",
      "     Conv2D-36      [[10, 256, 14, 14]]   [10, 256, 14, 14]       589,824    \n",
      "  BatchNorm2D-36    [[10, 256, 14, 14]]   [10, 256, 14, 14]        1,024     \n",
      "     Conv2D-37      [[10, 256, 14, 14]]   [10, 1024, 14, 14]      262,144    \n",
      "  BatchNorm2D-37    [[10, 1024, 14, 14]]  [10, 1024, 14, 14]       4,096     \n",
      "BottleneckBlock-11  [[10, 1024, 14, 14]]  [10, 1024, 14, 14]     1,120,256   \n",
      "     Conv2D-38      [[10, 1024, 14, 14]]  [10, 256, 14, 14]       262,144    \n",
      "  BatchNorm2D-38    [[10, 256, 14, 14]]   [10, 256, 14, 14]        1,024     \n",
      "      ReLU-13       [[10, 1024, 14, 14]]  [10, 1024, 14, 14]         0       \n",
      "     Conv2D-39      [[10, 256, 14, 14]]   [10, 256, 14, 14]       589,824    \n",
      "  BatchNorm2D-39    [[10, 256, 14, 14]]   [10, 256, 14, 14]        1,024     \n",
      "     Conv2D-40      [[10, 256, 14, 14]]   [10, 1024, 14, 14]      262,144    \n",
      "  BatchNorm2D-40    [[10, 1024, 14, 14]]  [10, 1024, 14, 14]       4,096     \n",
      "BottleneckBlock-12  [[10, 1024, 14, 14]]  [10, 1024, 14, 14]     1,120,256   \n",
      "     Conv2D-41      [[10, 1024, 14, 14]]  [10, 256, 14, 14]       262,144    \n",
      "  BatchNorm2D-41    [[10, 256, 14, 14]]   [10, 256, 14, 14]        1,024     \n",
      "      ReLU-14       [[10, 1024, 14, 14]]  [10, 1024, 14, 14]         0       \n",
      "     Conv2D-42      [[10, 256, 14, 14]]   [10, 256, 14, 14]       589,824    \n",
      "  BatchNorm2D-42    [[10, 256, 14, 14]]   [10, 256, 14, 14]        1,024     \n",
      "     Conv2D-43      [[10, 256, 14, 14]]   [10, 1024, 14, 14]      262,144    \n",
      "  BatchNorm2D-43    [[10, 1024, 14, 14]]  [10, 1024, 14, 14]       4,096     \n",
      "BottleneckBlock-13  [[10, 1024, 14, 14]]  [10, 1024, 14, 14]     1,120,256   \n",
      "     Conv2D-45      [[10, 1024, 14, 14]]  [10, 512, 14, 14]       524,288    \n",
      "  BatchNorm2D-45    [[10, 512, 14, 14]]   [10, 512, 14, 14]        2,048     \n",
      "      ReLU-15        [[10, 2048, 7, 7]]    [10, 2048, 7, 7]          0       \n",
      "     Conv2D-46      [[10, 512, 14, 14]]    [10, 512, 7, 7]       2,359,296   \n",
      "  BatchNorm2D-46     [[10, 512, 7, 7]]     [10, 512, 7, 7]         2,048     \n",
      "     Conv2D-47       [[10, 512, 7, 7]]     [10, 2048, 7, 7]      1,048,576   \n",
      "  BatchNorm2D-47     [[10, 2048, 7, 7]]    [10, 2048, 7, 7]        8,192     \n",
      "     Conv2D-44      [[10, 1024, 14, 14]]   [10, 2048, 7, 7]      2,097,152   \n",
      "  BatchNorm2D-44     [[10, 2048, 7, 7]]    [10, 2048, 7, 7]        8,192     \n",
      "BottleneckBlock-14  [[10, 1024, 14, 14]]   [10, 2048, 7, 7]      6,049,792   \n",
      "     Conv2D-48       [[10, 2048, 7, 7]]    [10, 512, 7, 7]       1,048,576   \n",
      "  BatchNorm2D-48     [[10, 512, 7, 7]]     [10, 512, 7, 7]         2,048     \n",
      "      ReLU-16        [[10, 2048, 7, 7]]    [10, 2048, 7, 7]          0       \n",
      "     Conv2D-49       [[10, 512, 7, 7]]     [10, 512, 7, 7]       2,359,296   \n",
      "  BatchNorm2D-49     [[10, 512, 7, 7]]     [10, 512, 7, 7]         2,048     \n",
      "     Conv2D-50       [[10, 512, 7, 7]]     [10, 2048, 7, 7]      1,048,576   \n",
      "  BatchNorm2D-50     [[10, 2048, 7, 7]]    [10, 2048, 7, 7]        8,192     \n",
      "BottleneckBlock-15   [[10, 2048, 7, 7]]    [10, 2048, 7, 7]      4,468,736   \n",
      "     Conv2D-51       [[10, 2048, 7, 7]]    [10, 512, 7, 7]       1,048,576   \n",
      "  BatchNorm2D-51     [[10, 512, 7, 7]]     [10, 512, 7, 7]         2,048     \n",
      "      ReLU-17        [[10, 2048, 7, 7]]    [10, 2048, 7, 7]          0       \n",
      "     Conv2D-52       [[10, 512, 7, 7]]     [10, 512, 7, 7]       2,359,296   \n",
      "  BatchNorm2D-52     [[10, 512, 7, 7]]     [10, 512, 7, 7]         2,048     \n",
      "     Conv2D-53       [[10, 512, 7, 7]]     [10, 2048, 7, 7]      1,048,576   \n",
      "  BatchNorm2D-53     [[10, 2048, 7, 7]]    [10, 2048, 7, 7]        8,192     \n",
      "BottleneckBlock-16   [[10, 2048, 7, 7]]    [10, 2048, 7, 7]      4,468,736   \n",
      "   OwnResnet2-1     [[10, 3, 224, 224]]    [10, 2048, 7, 7]     23,561,152   \n",
      "AdaptiveAvgPool2D-2  [[10, 2048, 7, 7]]    [10, 2048, 1, 1]          0       \n",
      "     Flatten-1       [[10, 2048, 1, 1]]       [10, 2048]             0       \n",
      "     Dropout-1          [[10, 2048]]          [10, 2048]             0       \n",
      "     Linear-2           [[10, 2048]]          [10, 128]           262,272    \n",
      "   BatchNorm1D-1        [[10, 128]]           [10, 128]             512      \n",
      "===============================================================================\n",
      "Total params: 70,936,576\n",
      "Trainable params: 70,936,576\n",
      "Non-trainable params: 0\n",
      "-------------------------------------------------------------------------------\n",
      "Input size (MB): 5.74\n",
      "Forward/backward pass size (MB): 2622.75\n",
      "Params size (MB): 270.60\n",
      "Estimated Total Size (MB): 2899.10\n",
      "-------------------------------------------------------------------------------\n",
      "\n",
      "{'total_params': 70936576, 'trainable_params': 70936576}\n"
     ]
    }
   ],
   "source": [
    "model_info = paddle.summary(model_2, (10, 3, 224, 224))\n",
    "print(model_info)"
   ]
  },
  {
   "cell_type": "markdown",
   "metadata": {},
   "source": [
    "## 模型训练"
   ]
  },
  {
   "cell_type": "code",
   "execution_count": 23,
   "metadata": {
    "execution": {
     "iopub.execute_input": "2022-05-03T14:53:40.159127Z",
     "iopub.status.busy": "2022-05-03T14:53:40.158762Z",
     "iopub.status.idle": "2022-05-03T14:54:22.421742Z",
     "shell.execute_reply": "2022-05-03T14:54:22.420529Z",
     "shell.execute_reply.started": "2022-05-03T14:53:40.159095Z"
    },
    "scrolled": true,
    "tags": []
   },
   "outputs": [
    {
     "name": "stderr",
     "output_type": "stream",
     "text": [
      "Epoch 1/10: 100%|██████████| 47/47 [00:03<00:00, 11.83it/s, accuracy=1, total_CE_loss=0.977, total_triple_loss=0.0426]\n",
      "Epoch 2/10:   0%|          | 0/47 [00:00<?, ?it/s<class 'dict'>]"
     ]
    },
    {
     "name": "stdout",
     "output_type": "stream",
     "text": [
      "Epoch:1/10\n",
      "Total Loss: 1.0193\n"
     ]
    },
    {
     "name": "stderr",
     "output_type": "stream",
     "text": [
      "Epoch 2/10: 100%|██████████| 47/47 [00:03<00:00, 11.89it/s, accuracy=1, total_CE_loss=0.492, total_triple_loss=0.02]  \n",
      "Epoch 3/10:   0%|          | 0/47 [00:00<?, ?it/s<class 'dict'>]"
     ]
    },
    {
     "name": "stdout",
     "output_type": "stream",
     "text": [
      "Epoch:2/10\n",
      "Total Loss: 0.5124\n"
     ]
    },
    {
     "name": "stderr",
     "output_type": "stream",
     "text": [
      "Epoch 3/10: 100%|██████████| 47/47 [00:04<00:00, 11.73it/s, accuracy=1, total_CE_loss=0.393, total_triple_loss=0.0158]\n",
      "Epoch 4/10:   0%|          | 0/47 [00:00<?, ?it/s<class 'dict'>]"
     ]
    },
    {
     "name": "stdout",
     "output_type": "stream",
     "text": [
      "Epoch:3/10\n",
      "Total Loss: 0.4087\n"
     ]
    },
    {
     "name": "stderr",
     "output_type": "stream",
     "text": [
      "Epoch 4/10: 100%|██████████| 47/47 [00:03<00:00, 11.79it/s, accuracy=1, total_CE_loss=0.542, total_triple_loss=0.0312]\n",
      "Epoch 5/10:   0%|          | 0/47 [00:00<?, ?it/s<class 'dict'>]"
     ]
    },
    {
     "name": "stdout",
     "output_type": "stream",
     "text": [
      "Epoch:4/10\n",
      "Total Loss: 0.5735\n"
     ]
    },
    {
     "name": "stderr",
     "output_type": "stream",
     "text": [
      "Epoch 5/10: 100%|██████████| 47/47 [00:04<00:00, 11.74it/s, accuracy=1, total_CE_loss=0.289, total_triple_loss=0.0133] \n"
     ]
    },
    {
     "name": "stdout",
     "output_type": "stream",
     "text": [
      "Epoch:5/10\n",
      "Total Loss: 0.3026\n"
     ]
    },
    {
     "name": "stderr",
     "output_type": "stream",
     "text": [
      "Epoch 6/10: 100%|██████████| 47/47 [00:04<00:00, 11.04it/s, accuracy=1, total_CE_loss=0.323, total_triple_loss=0.00919]\n",
      "Epoch 7/10:   0%|          | 0/47 [00:00<?, ?it/s<class 'dict'>]"
     ]
    },
    {
     "name": "stdout",
     "output_type": "stream",
     "text": [
      "Epoch:6/10\n",
      "Total Loss: 0.3324\n"
     ]
    },
    {
     "name": "stderr",
     "output_type": "stream",
     "text": [
      "Epoch 7/10: 100%|██████████| 47/47 [00:04<00:00, 10.16it/s, accuracy=1, total_CE_loss=0.286, total_triple_loss=0.0301]\n",
      "Epoch 8/10:   0%|          | 0/47 [00:00<?, ?it/s<class 'dict'>]"
     ]
    },
    {
     "name": "stdout",
     "output_type": "stream",
     "text": [
      "Epoch:7/10\n",
      "Total Loss: 0.3166\n"
     ]
    },
    {
     "name": "stderr",
     "output_type": "stream",
     "text": [
      "Epoch 8/10: 100%|██████████| 47/47 [00:04<00:00, 10.94it/s, accuracy=1, total_CE_loss=0.343, total_triple_loss=0.0116]\n",
      "Epoch 9/10:   0%|          | 0/47 [00:00<?, ?it/s<class 'dict'>]"
     ]
    },
    {
     "name": "stdout",
     "output_type": "stream",
     "text": [
      "Epoch:8/10\n",
      "Total Loss: 0.3548\n"
     ]
    },
    {
     "name": "stderr",
     "output_type": "stream",
     "text": [
      "Epoch 9/10: 100%|██████████| 47/47 [00:04<00:00, 10.90it/s, accuracy=1, total_CE_loss=0.385, total_triple_loss=0.0291]\n",
      "Epoch 10/10:   0%|          | 0/47 [00:00<?, ?it/s<class 'dict'>]"
     ]
    },
    {
     "name": "stdout",
     "output_type": "stream",
     "text": [
      "Epoch:9/10\n",
      "Total Loss: 0.4138\n"
     ]
    },
    {
     "name": "stderr",
     "output_type": "stream",
     "text": [
      "Epoch 10/10: 100%|██████████| 47/47 [00:04<00:00, 10.92it/s, accuracy=1, total_CE_loss=0.251, total_triple_loss=0.0129]\n"
     ]
    },
    {
     "name": "stdout",
     "output_type": "stream",
     "text": [
      "Epoch:10/10\n",
      "Total Loss: 0.2637\n"
     ]
    }
   ],
   "source": [
    "epoch_step = num_train // batch_size\n",
    "epochs = 10\n",
    "save_period = 5\n",
    "save_dir = \"./output2/\"\n",
    "# train\n",
    "for epoch in range(epochs):\n",
    "    fit_one_epoch(model_2, loss, optimizer,\n",
    "                    epoch, epoch_step, train_loader,\n",
    "                    epochs, batch_size // 3, save_period, save_dir)"
   ]
  },
  {
   "cell_type": "markdown",
   "metadata": {},
   "source": [
    "## 使用 paddle.jit.save 保存动转静模型"
   ]
  },
  {
   "cell_type": "code",
   "execution_count": 24,
   "metadata": {
    "execution": {
     "iopub.execute_input": "2022-05-03T14:55:33.972791Z",
     "iopub.status.busy": "2022-05-03T14:55:33.972398Z",
     "iopub.status.idle": "2022-05-03T14:55:34.782325Z",
     "shell.execute_reply": "2022-05-03T14:55:34.781592Z",
     "shell.execute_reply.started": "2022-05-03T14:55:33.972764Z"
    },
    "scrolled": true,
    "tags": []
   },
   "outputs": [
    {
     "name": "stderr",
     "output_type": "stream",
     "text": [
      "Tue May 03 22:55:33 Dynamic-to-Static WARNING: Current function: forward(x), input_spec: None has more than one cached programs: 2, the last traced progam will be return by default.\n"
     ]
    }
   ],
   "source": [
    "paddle.jit.save(model_2, 'model')"
   ]
  },
  {
   "cell_type": "code",
   "execution_count": null,
   "metadata": {
    "scrolled": true
   },
   "outputs": [],
   "source": []
  },
  {
   "cell_type": "markdown",
   "metadata": {},
   "source": [
    "请点击[此处](https://ai.baidu.com/docs#/AIStudio_Project_Notebook/a38e5576)查看本环境基本用法.  <br>\n",
    "Please click [here ](https://ai.baidu.com/docs#/AIStudio_Project_Notebook/a38e5576) for more detailed instructions. "
   ]
  }
 ],
 "metadata": {
  "kernelspec": {
   "display_name": "Python 3",
   "language": "python",
   "name": "py35-paddle1.2.0"
  },
  "language_info": {
   "codemirror_mode": {
    "name": "ipython",
    "version": 3
   },
   "file_extension": ".py",
   "mimetype": "text/x-python",
   "name": "python",
   "nbconvert_exporter": "python",
   "pygments_lexer": "ipython3",
   "version": "3.7.4"
  }
 },
 "nbformat": 4,
 "nbformat_minor": 4
}
