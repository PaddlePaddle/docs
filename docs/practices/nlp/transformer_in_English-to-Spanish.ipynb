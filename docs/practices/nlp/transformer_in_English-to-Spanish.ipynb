{
 "cells": [
  {
   "attachments": {},
   "cell_type": "markdown",
   "metadata": {},
   "source": [
    "#  <center>基于Transformer实现英语到西班牙语的翻译任务</center>\n",
    "\n",
    "\n",
    "* 作者信息:\n",
    "    * Github：[2017040264](https://github.com/2017040264)\n",
    "    * AiStudio：[月光下的独孤亮](https://aistudio.baidu.com/aistudio/personalcenter/thirdview/689988)\n",
    "    * 摘要：基于Transformer实现英语到西班牙语的机器翻译任务。\n",
    "* 更新日期：2023.02.07"
   ]
  },
  {
   "attachments": {},
   "cell_type": "markdown",
   "metadata": {},
   "source": [
    "## 1. 项目背景\n",
    "在本项目中，我们将构建一个Sequence-to-sequence的 Transformer 模型，并在英语到西班牙语的机器翻译任务中对其进行训练。\n",
    "##### Sequence-to-sequence:\n",
    "机器翻译是序列转换模型的一个核心问题，其输入和输出都是长度可变的序列。为了处理这种类型的输入和输出，研究人员设计出一个包含两个主要组件的架构：\n",
    "- 第一个组件是一个编码器（encoder）：它接受一个长度可变的序列作为输入，并将其转换为具有固定形状的编码状态。\n",
    "- 第二个组件是解码器（decoder）：它将固定形状的编码状态映射到长度可变的序列。\n",
    "\n",
    "这种架构被称为编码器-解码器（encoder-decoder）架构，如下图所示：\n",
    "\n",
    "![](https://ai-studio-static-online.cdn.bcebos.com/a7cadcd296924fec8f50146faa7d0c1db5c39f0712474be6a3dfe1b44d3270c9)\n",
    "\n",
    "##### Transformer:\n",
    "Transformer是Sequence-to-sequence架构的一种实例，其诞生于2017年的[《Attention is all you need》]( https://arxiv.org/abs/1706.03762)，诞生之初该模型就展示出了强大的魅力，刷新了NLP领域的大部分SOTA。现如今在Transformer在CV领域应用也得到了十分广泛的应用。Transformer的框架图如下：\n",
    "\n",
    "![](https://ai-studio-static-online.cdn.bcebos.com/ca0931928b4a41af97a318f66957767c9ffda9b248634f4182cfda80e6a3923a)\n",
    "\n",
    "\n",
    "\n",
    "##### 机器翻译：\n",
    "机器翻译（machine translation）指的是将序列从一种语言自动翻译成另一种语言。事实上，这个研究领域可以追溯到数字计算机发明后不久的20世纪40年代，特别是在第二次世界大战中使用计算机破解语言编码。几十年来，在使用神经网络进行端到端学习的兴起之前，统计学方法在这一领域一直占据主导地位。因为统计机器翻译（statistical machine translation）涉及了翻译模型和语言模型等组成部分的统计分析，因此基于神经网络的方法通常被称为 `神经网络机器翻译（neural network machine translation）`，用于将两种翻译模型区分开来。"
   ]
  },
  {
   "attachments": {},
   "cell_type": "markdown",
   "metadata": {},
   "source": [
    "## 2. 环境设置\n",
    "\n",
    "我们需要的依赖主要有：\n",
    "* paddle系列：组装数据集、搭建模型框架。\n",
    "* padldenlp系列：百度提供的数据处理框架。\n",
    "* numpy:  NumPy (Numerical Python) 是 Python 语言的一个扩展程序库，支持大量的维度数组与矩阵运算，此外也针对数组运算提供大量的数学函数库。\n",
    "* collections: 主要使用Counter，快速构建语料库字典。\n",
    "* string: 字符串库，我们要使用标点符号集合。\n",
    "* functools：主要使用partial，用于数据集的构建工作。\n",
    "* random: 随机函数库。\n",
    "* matplotlib.pyplot：画图使用。"
   ]
  },
  {
   "cell_type": "code",
   "execution_count": 1,
   "metadata": {
    "collapsed": false,
    "execution": {
     "iopub.execute_input": "2023-02-03T06:48:24.953078Z",
     "iopub.status.busy": "2023-02-03T06:48:24.952717Z",
     "iopub.status.idle": "2023-02-03T06:48:28.247240Z",
     "shell.execute_reply": "2023-02-03T06:48:28.246399Z",
     "shell.execute_reply.started": "2023-02-03T06:48:24.953057Z"
    },
    "jupyter": {
     "outputs_hidden": false
    },
    "scrolled": true,
    "tags": []
   },
   "outputs": [
    {
     "name": "stdout",
     "output_type": "stream",
     "text": [
      "2.3.2\n"
     ]
    }
   ],
   "source": [
    "import paddle\n",
    "import paddlenlp\n",
    "from paddle.io import Dataset\n",
    "from paddlenlp.data import Vocab\n",
    "from paddlenlp.metrics import BLEU\n",
    "import numpy as np\n",
    "import string\n",
    "import random\n",
    "import matplotlib.pyplot as plt\n",
    "from functools import partial\n",
    "from collections import Counter\n",
    "\n",
    "print(paddle.__version__)"
   ]
  },
  {
   "attachments": {},
   "cell_type": "markdown",
   "metadata": {},
   "source": [
    "## 3. 数据集\n",
    "使用Anki提供的`English-to-Spanish`翻译数据集，下载地址为：[English-to-Spanish数据集](http://storage.googleapis.com/download.tensorflow.org/data/spa-eng.zip)。该数据集总共包含118964条（English,Spanish）语句对。示例如下：\n",
    "\n",
    "\n",
    "| English | Spanish | \n",
    "| -------- | -------- |\n",
    "| Go on home.    |Vete a casa.  | \n",
    "| I can jump.   |Puedo saltar.|\n",
    "\n",
    "\n"
   ]
  },
  {
   "attachments": {},
   "cell_type": "markdown",
   "metadata": {},
   "source": [
    "### 3.1 加载数据集\n",
    "数据集的加载有两种方式：\n",
    "\n",
    "\n"
   ]
  },
  {
   "attachments": {},
   "cell_type": "markdown",
   "metadata": {},
   "source": [
    "1. 通过链接自行下载。"
   ]
  },
  {
   "cell_type": "code",
   "execution_count": 2,
   "metadata": {
    "execution": {
     "iopub.execute_input": "2023-02-03T06:48:28.249060Z",
     "iopub.status.busy": "2023-02-03T06:48:28.248299Z",
     "iopub.status.idle": "2023-02-03T06:48:28.252081Z",
     "shell.execute_reply": "2023-02-03T06:48:28.251434Z",
     "shell.execute_reply.started": "2023-02-03T06:48:28.249033Z"
    },
    "scrolled": true
   },
   "outputs": [],
   "source": [
    "# 自行下载数据集\n",
    "\n",
    "from paddle.utils.download import get_path_from_url\n",
    "\n",
    "URL = \"http://storage.googleapis.com/download.tensorflow.org/data/spa-eng.zip\"\n",
    "get_path_from_url(URL, \"./data\")\n",
    "text_file = \"data/spa-eng/spa.txt\"  # 数据集路径"
   ]
  },
  {
   "attachments": {},
   "cell_type": "markdown",
   "metadata": {},
   "source": [
    "2. 使用我们已经下载好并上传至AI Studio平台的数据集。我们的数据集地址：[【NLP】English-Spanish](https://aistudio.baidu.com/aistudio/datasetdetail/173968/0)。"
   ]
  },
  {
   "cell_type": "code",
   "execution_count": 3,
   "metadata": {
    "execution": {
     "iopub.execute_input": "2023-02-03T06:48:28.253384Z",
     "iopub.status.busy": "2023-02-03T06:48:28.252953Z",
     "iopub.status.idle": "2023-02-03T06:48:28.255891Z",
     "shell.execute_reply": "2023-02-03T06:48:28.255303Z",
     "shell.execute_reply.started": "2023-02-03T06:48:28.253363Z"
    },
    "scrolled": true,
    "tags": []
   },
   "outputs": [],
   "source": [
    "# #使用我们提供的数据集\n",
    "\n",
    "# text_file='data/data173968/spa.txt' # 数据集路径"
   ]
  },
  {
   "attachments": {},
   "cell_type": "markdown",
   "metadata": {},
   "source": [
    "### 3.2 添加[start] token与 [end] token\n"
   ]
  },
  {
   "attachments": {},
   "cell_type": "markdown",
   "metadata": {},
   "source": [
    "为西班牙语添加`[start]`与 `[end]`：\n",
    "* `[start]`表示西班牙语的开始\n",
    "* `[end]`表示西班牙语的结束"
   ]
  },
  {
   "cell_type": "code",
   "execution_count": 4,
   "metadata": {
    "execution": {
     "iopub.execute_input": "2023-02-03T06:48:28.257172Z",
     "iopub.status.busy": "2023-02-03T06:48:28.256702Z",
     "iopub.status.idle": "2023-02-03T06:48:28.799400Z",
     "shell.execute_reply": "2023-02-03T06:48:28.798698Z",
     "shell.execute_reply.started": "2023-02-03T06:48:28.257152Z"
    },
    "scrolled": true,
    "tags": []
   },
   "outputs": [],
   "source": [
    "with open(text_file) as f:\n",
    "    lines = f.read().split(\"\\n\")[:-1]\n",
    "text_pairs = []\n",
    "for line in lines:\n",
    "    eng, spa = line.split(\"\\t\")\n",
    "    spa = \"[start] \" + spa + \" [end]\"\n",
    "    text_pairs.append((eng, spa))"
   ]
  },
  {
   "cell_type": "markdown",
   "metadata": {},
   "source": [
    "英语和添加`[start]`及`[end]`后的西班牙语展示："
   ]
  },
  {
   "cell_type": "code",
   "execution_count": 5,
   "metadata": {
    "execution": {
     "iopub.execute_input": "2023-02-03T06:48:28.800625Z",
     "iopub.status.busy": "2023-02-03T06:48:28.800328Z",
     "iopub.status.idle": "2023-02-03T06:48:28.808389Z",
     "shell.execute_reply": "2023-02-03T06:48:28.807871Z",
     "shell.execute_reply.started": "2023-02-03T06:48:28.800601Z"
    },
    "scrolled": true,
    "tags": []
   },
   "outputs": [
    {
     "name": "stdout",
     "output_type": "stream",
     "text": [
      "('We got married.', '[start] Nos hemos casado. [end]')\r\n",
      "('Are you in Boston now?', '[start] ¿Estás ahora en Boston? [end]')\r\n",
      "('He should arrive at the airport by 9 a.m.', '[start] Él debiera estar llegando aeropuesto cerca de las nueve de la mañana. [end]')\r\n",
      "('What a country!', '[start] ¡Qué país! [end]')\r\n",
      "(\"I can't believe you're trying to bribe me.\", '[start] No me puedo creer que estés tratando de sobornarme. [end]')\r\n"
     ]
    }
   ],
   "source": [
    "for _ in range(5):\n",
    "    print(random.choice(text_pairs))"
   ]
  },
  {
   "attachments": {},
   "cell_type": "markdown",
   "metadata": {},
   "source": [
    "### 3.3 划分数据集\n",
    "1. 随机打乱数据集。\n",
    "2. 划分数据集，训练集：验证集：测试集 = 8 : 1 : 1。"
   ]
  },
  {
   "cell_type": "code",
   "execution_count": 6,
   "metadata": {
    "execution": {
     "iopub.execute_input": "2023-02-03T06:48:28.809399Z",
     "iopub.status.busy": "2023-02-03T06:48:28.809146Z",
     "iopub.status.idle": "2023-02-03T06:48:28.897523Z",
     "shell.execute_reply": "2023-02-03T06:48:28.896929Z",
     "shell.execute_reply.started": "2023-02-03T06:48:28.809378Z"
    },
    "scrolled": true,
    "tags": []
   },
   "outputs": [
    {
     "name": "stdout",
     "output_type": "stream",
     "text": [
      "118964 total pairs\r\n",
      "95172 training pairs\r\n",
      "11896 validation pairs\r\n",
      "11896 test pairs\r\n"
     ]
    }
   ],
   "source": [
    "random.shuffle(text_pairs)\n",
    "num_val_samples = int(0.1 * len(text_pairs))\n",
    "num_train_samples = len(text_pairs) - 2 * num_val_samples\n",
    "train_pairs = text_pairs[:num_train_samples]\n",
    "val_pairs = text_pairs[num_train_samples : num_train_samples + num_val_samples]\n",
    "test_pairs = text_pairs[num_train_samples + num_val_samples :]\n",
    "\n",
    "print(f\"{len(text_pairs)} total pairs\")\n",
    "print(f\"{len(train_pairs)} training pairs\")\n",
    "print(f\"{len(val_pairs)} validation pairs\")\n",
    "print(f\"{len(test_pairs)} test pairs\")"
   ]
  },
  {
   "cell_type": "code",
   "execution_count": 7,
   "metadata": {
    "execution": {
     "iopub.execute_input": "2023-02-03T06:48:28.898670Z",
     "iopub.status.busy": "2023-02-03T06:48:28.898394Z",
     "iopub.status.idle": "2023-02-03T06:48:28.942104Z",
     "shell.execute_reply": "2023-02-03T06:48:28.941510Z",
     "shell.execute_reply.started": "2023-02-03T06:48:28.898647Z"
    },
    "scrolled": true,
    "tags": []
   },
   "outputs": [],
   "source": [
    "train_eng_texts = [pair[0] for pair in train_pairs]\n",
    "train_spa_texts = [pair[1] for pair in train_pairs]\n",
    "\n",
    "val_eng_texts = [pair[0] for pair in val_pairs]\n",
    "val_spa_texts = [pair[1] for pair in val_pairs]\n",
    "\n",
    "test_eng_texts = [pair[0] for pair in test_pairs]\n",
    "test_spa_texts = [pair[1] for pair in test_pairs]"
   ]
  },
  {
   "attachments": {},
   "cell_type": "markdown",
   "metadata": {},
   "source": [
    "### 3.4 数据集预处理\n"
   ]
  },
  {
   "attachments": {},
   "cell_type": "markdown",
   "metadata": {},
   "source": [
    "定义英语和西班牙语的预处理函数。\n",
    "* save_punctuation=True:  保留标点符号，在标点之前（之后）加空格。\n",
    "* save_punctuation=False: 删除所有的标点。"
   ]
  },
  {
   "cell_type": "code",
   "execution_count": 8,
   "metadata": {
    "execution": {
     "iopub.execute_input": "2023-02-03T06:48:28.943263Z",
     "iopub.status.busy": "2023-02-03T06:48:28.942981Z",
     "iopub.status.idle": "2023-02-03T06:48:28.965852Z",
     "shell.execute_reply": "2023-02-03T06:48:28.965281Z",
     "shell.execute_reply.started": "2023-02-03T06:48:28.943240Z"
    },
    "scrolled": true,
    "tags": []
   },
   "outputs": [],
   "source": [
    "def pre_process(datas, save_punctuation=False):\n",
    "    dataset = []\n",
    "    # 定义标点符号集合\n",
    "\n",
    "    strip_chars = string.punctuation + \"¿¡\"\n",
    "    strip_chars = strip_chars.replace(\"[\", \"\")\n",
    "    strip_chars = strip_chars.replace(\"]\", \"\")\n",
    "\n",
    "    for i in range(len(datas)):\n",
    "        lowercase = datas[i].lower()  # 全部转为小写\n",
    "\n",
    "        out = \"\"\n",
    "        if save_punctuation:\n",
    "            # 在标点符号之前加空格，需注意有特殊情况\n",
    "            for low in lowercase:\n",
    "                if low in strip_chars:\n",
    "                    if (\n",
    "                        low == \"¿\" or low == \"¡\"\n",
    "                    ):  # 分别表示西班牙语的反问号、反叹号\n",
    "                        out += low + \" \"\n",
    "                    else:\n",
    "                        out += \" \" + low\n",
    "                else:\n",
    "                    out += low\n",
    "        else:\n",
    "            # 也可以选择删除除所有的标点\n",
    "            for low in lowercase:\n",
    "                if low not in strip_chars:\n",
    "                    out += low\n",
    "\n",
    "        dataset.append(out)\n",
    "    return dataset"
   ]
  },
  {
   "attachments": {},
   "cell_type": "markdown",
   "metadata": {},
   "source": [
    "分别处理训练集、测试集、验证集上的英语和西班牙语数据。"
   ]
  },
  {
   "cell_type": "code",
   "execution_count": 9,
   "metadata": {
    "execution": {
     "iopub.execute_input": "2023-02-03T06:48:28.966955Z",
     "iopub.status.busy": "2023-02-03T06:48:28.966692Z",
     "iopub.status.idle": "2023-02-03T06:48:29.740654Z",
     "shell.execute_reply": "2023-02-03T06:48:29.740009Z",
     "shell.execute_reply.started": "2023-02-03T06:48:28.966932Z"
    },
    "scrolled": true,
    "tags": []
   },
   "outputs": [
    {
     "name": "stdout",
     "output_type": "stream",
     "text": [
      "预处理结果展示：\r\n",
      "英语：标准化处理之前： I can't let you.\r\n",
      "英语：标准化处理之后： i cant let you\r\n",
      "西班牙语：标准化处理之前： [start] No te lo puedo permitir. [end]\r\n",
      "西班牙语：标准化处理之后： [start] no te lo puedo permitir [end]\r\n"
     ]
    }
   ],
   "source": [
    "train_eng_texts_pre = pre_process(train_eng_texts)\n",
    "train_spa_texts_pre = pre_process(train_spa_texts)\n",
    "\n",
    "val_eng_texts_pre = pre_process(val_eng_texts)\n",
    "val_spa_texts_pre = pre_process(val_spa_texts)\n",
    "\n",
    "test_eng_texts_pre = pre_process(test_eng_texts)\n",
    "test_spa_texts_pre = pre_process(test_spa_texts)\n",
    "\n",
    "print(\"预处理结果展示：\")\n",
    "print(\"英语：标准化处理之前：\", train_eng_texts[0])\n",
    "print(\"英语：标准化处理之后：\", train_eng_texts_pre[0])\n",
    "\n",
    "print(\"西班牙语：标准化处理之前：\", train_spa_texts[0])\n",
    "print(\"西班牙语：标准化处理之后：\", train_spa_texts_pre[0])"
   ]
  },
  {
   "attachments": {},
   "cell_type": "markdown",
   "metadata": {},
   "source": [
    "### 3.5 统计句子长度\n",
    "通过统计句子长度进而更加合理的设置网络的输入向量的长度。"
   ]
  },
  {
   "cell_type": "markdown",
   "metadata": {},
   "source": [
    "#### 3.5.1 英语句子长度"
   ]
  },
  {
   "cell_type": "code",
   "execution_count": 10,
   "metadata": {
    "execution": {
     "iopub.execute_input": "2023-02-03T06:48:29.744231Z",
     "iopub.status.busy": "2023-02-03T06:48:29.743942Z",
     "iopub.status.idle": "2023-02-03T06:48:30.134670Z",
     "shell.execute_reply": "2023-02-03T06:48:30.134068Z",
     "shell.execute_reply.started": "2023-02-03T06:48:29.744207Z"
    },
    "scrolled": true
   },
   "outputs": [
    {
     "data": {
      "image/png": "[encoded data removed]",
      "text/plain": [
       "<Figure size 640x480 with 1 Axes>"
      ]
     },
     "metadata": {},
     "output_type": "display_data"
    }
   ],
   "source": [
    "dicta = dict()\n",
    "for text in train_eng_texts_pre:\n",
    "    lent = len(text.split())\n",
    "    if lent in dicta.keys():\n",
    "        dicta[lent] += 1\n",
    "    else:\n",
    "        dicta[lent] = 1\n",
    "lita = sorted(dicta.items(), key=lambda x: x[0], reverse=True)\n",
    "\n",
    "x = [l[0] for l in lita]\n",
    "y = [l[1] for l in lita]\n",
    "plt.bar(x, y)\n",
    "plt.xlabel(\"English sentences length\")\n",
    "plt.ylabel(\"nums\")\n",
    "plt.title(\"Information on the length of English sentences\")\n",
    "plt.show()"
   ]
  },
  {
   "cell_type": "markdown",
   "metadata": {},
   "source": [
    "#### 3.5.2 西班牙语句子长度"
   ]
  },
  {
   "cell_type": "code",
   "execution_count": 11,
   "metadata": {
    "execution": {
     "iopub.execute_input": "2023-02-03T06:48:30.135840Z",
     "iopub.status.busy": "2023-02-03T06:48:30.135551Z",
     "iopub.status.idle": "2023-02-03T06:48:30.405607Z",
     "shell.execute_reply": "2023-02-03T06:48:30.405001Z",
     "shell.execute_reply.started": "2023-02-03T06:48:30.135815Z"
    },
    "scrolled": true
   },
   "outputs": [
    {
     "data": {
      "image/png": "[encoded data removed]",
      "text/plain": [
       "<Figure size 640x480 with 1 Axes>"
      ]
     },
     "metadata": {},
     "output_type": "display_data"
    }
   ],
   "source": [
    "dicta = dict()\n",
    "for text in train_spa_texts_pre:\n",
    "    lent = len(text.split())\n",
    "    if lent in dicta.keys():\n",
    "        dicta[lent] += 1\n",
    "    else:\n",
    "        dicta[lent] = 1\n",
    "lita = sorted(dicta.items(), key=lambda x: x[0], reverse=True)\n",
    "\n",
    "x = [l[0] for l in lita]\n",
    "y = [l[1] for l in lita]\n",
    "plt.bar(x, y)\n",
    "plt.xlabel(\"Spanish sentences length\")\n",
    "plt.ylabel(\"nums\")\n",
    "plt.title(\"Information on the length of Spanish sentences\")\n",
    "plt.show()"
   ]
  },
  {
   "attachments": {},
   "cell_type": "markdown",
   "metadata": {},
   "source": [
    "从统计信息可以看出，绝大部分英语和西班牙语的句子长度都在20以下，因此我们可以把输入向量的长度统一设置为20。"
   ]
  },
  {
   "attachments": {},
   "cell_type": "markdown",
   "metadata": {},
   "source": [
    "### 3.6 用训练集分别构造英语和西班牙语的语料库"
   ]
  },
  {
   "attachments": {},
   "cell_type": "markdown",
   "metadata": {},
   "source": [
    "  定义语料库创建函数："
   ]
  },
  {
   "cell_type": "code",
   "execution_count": 12,
   "metadata": {
    "collapsed": false,
    "execution": {
     "iopub.execute_input": "2023-02-03T06:48:30.406800Z",
     "iopub.status.busy": "2023-02-03T06:48:30.406516Z",
     "iopub.status.idle": "2023-02-03T06:48:30.410437Z",
     "shell.execute_reply": "2023-02-03T06:48:30.409901Z",
     "shell.execute_reply.started": "2023-02-03T06:48:30.406776Z"
    },
    "jupyter": {
     "outputs_hidden": false
    },
    "scrolled": true,
    "tags": []
   },
   "outputs": [],
   "source": [
    "def build_cropus(data):\n",
    "    crpous = []\n",
    "    for i in range(len(data)):\n",
    "        cr = data[i].strip().lower()\n",
    "        cr = cr.split()\n",
    "        crpous.extend(cr)\n",
    "    return crpous"
   ]
  },
  {
   "attachments": {},
   "cell_type": "markdown",
   "metadata": {},
   "source": [
    "用训练集分别创建**英语**和**西班牙语**语料库："
   ]
  },
  {
   "cell_type": "code",
   "execution_count": 13,
   "metadata": {
    "execution": {
     "iopub.execute_input": "2023-02-03T06:48:30.411411Z",
     "iopub.status.busy": "2023-02-03T06:48:30.411166Z",
     "iopub.status.idle": "2023-02-03T06:48:30.594931Z",
     "shell.execute_reply": "2023-02-03T06:48:30.594107Z",
     "shell.execute_reply.started": "2023-02-03T06:48:30.411391Z"
    },
    "scrolled": true
   },
   "outputs": [
    {
     "name": "stdout",
     "output_type": "stream",
     "text": [
      "['i', 'cant', 'let']\r\n",
      "['[start]', 'no', 'te']\r\n"
     ]
    }
   ],
   "source": [
    "eng_crpous = build_cropus(train_eng_texts_pre)\n",
    "spa_crpous = build_cropus(train_spa_texts_pre)\n",
    "\n",
    "print(eng_crpous[:3])\n",
    "print(spa_crpous[:3])"
   ]
  },
  {
   "attachments": {},
   "cell_type": "markdown",
   "metadata": {},
   "source": [
    "定义根据给定的词汇量并按照词汇出现的频率构造词典的函数："
   ]
  },
  {
   "cell_type": "code",
   "execution_count": 14,
   "metadata": {
    "execution": {
     "iopub.execute_input": "2023-02-03T06:48:30.596298Z",
     "iopub.status.busy": "2023-02-03T06:48:30.596004Z",
     "iopub.status.idle": "2023-02-03T06:48:30.602163Z",
     "shell.execute_reply": "2023-02-03T06:48:30.601435Z",
     "shell.execute_reply.started": "2023-02-03T06:48:30.596273Z"
    },
    "scrolled": true
   },
   "outputs": [],
   "source": [
    "def build_dict(corpus, vocab_size):\n",
    "    # 1.首先统计每个不同词的频率（出现的次数），使用一个词典记录\n",
    "    word_freq_dict = dict()\n",
    "    for word in corpus:\n",
    "        if word not in word_freq_dict:\n",
    "            word_freq_dict[word] = 0\n",
    "        word_freq_dict[word] += 1\n",
    "\n",
    "    # 2.将词典中的词，按照出现次数排序，出现次数越高，排序越靠前\n",
    "    word_freq_dict = sorted(\n",
    "        word_freq_dict.items(), key=lambda x: x[1], reverse=True\n",
    "    )\n",
    "\n",
    "    # 3.构造2个不同的词典\n",
    "    # 每个词到id的映射关系：word2id_dict\n",
    "    # 每个id到词的映射关系：id2word_dict\n",
    "    word2id_dict = {\"<pad>\": 0, \"<unk>\": 1}\n",
    "    id2word_dict = {0: \"<pad>\", 1: \"<unk>\"}\n",
    "\n",
    "    # 4.按照频率，从高到低，开始遍历每个单词，并为这个单词构造一个独一无二的id\n",
    "    i = 2\n",
    "    for word, freq in word_freq_dict:\n",
    "        if i < vocab_size:\n",
    "            word2id_dict[word] = i\n",
    "            id2word_dict[i] = word\n",
    "            i += 1\n",
    "        else:  # 超过指定的词汇量，指向<unk>\n",
    "            word2id_dict[word] = 1\n",
    "    return word2id_dict, id2word_dict"
   ]
  },
  {
   "attachments": {},
   "cell_type": "markdown",
   "metadata": {},
   "source": [
    "定义词汇量，建议定义的大一些，减少oov(out of vocabulary)词汇，oov词汇一般使用`<unk>`表示。英语词汇量和西班牙语词汇量上限可以分开定义，也可以共享上限。我们可以统计出我们使用的[English-to-Spanish数据集](https://aistudio.baidu.com/aistudio/datasetdetail/173968/0)中英语词汇有12089个，西班牙语词汇有22533个，如果共享词汇量上限，那么\n",
    "- 如果设置的词汇量小于12089，则英语和西班牙语中都会出现`<unk>`。\n",
    "- 如果设置的词汇量大于12089而小于22533，则英语中不会有`<unk>`,而西班牙语中会出现`<unk>`。\n",
    "- 如果设置的词汇量大于22533，则英语和西班牙语中都不会出现`<unk>`。\n",
    "\n"
   ]
  },
  {
   "cell_type": "code",
   "execution_count": 15,
   "metadata": {
    "execution": {
     "iopub.execute_input": "2023-02-03T06:48:30.603159Z",
     "iopub.status.busy": "2023-02-03T06:48:30.602951Z",
     "iopub.status.idle": "2023-02-03T06:48:30.937362Z",
     "shell.execute_reply": "2023-02-03T06:48:30.936622Z",
     "shell.execute_reply.started": "2023-02-03T06:48:30.603129Z"
    },
    "scrolled": true,
    "tags": []
   },
   "outputs": [
    {
     "name": "stdout",
     "output_type": "stream",
     "text": [
      "我们设置的英语总词汇上限为： 25000 \t总的英语词汇量为： 12605 \t我们实际使用的英语词汇量为 12605\r\n",
      "我们设置的西班牙语总词汇上限为： 25000 \t总的西班牙语词汇量为： 23724 \t我们实际使用的西班牙语词汇量为 23724\r\n"
     ]
    }
   ],
   "source": [
    "vocab_size = 25000  # 共享词汇量上限\n",
    "eng2id_dict, id2eng_dict = build_dict(eng_crpous, vocab_size)\n",
    "spa2id_dict, id2spa_dict = build_dict(spa_crpous, vocab_size)\n",
    "\n",
    "print(\n",
    "    \"我们设置的英语总词汇上限为：\",\n",
    "    vocab_size,\n",
    "    \"\\t总的英语词汇量为：\",\n",
    "    len(eng2id_dict),\n",
    "    \"\\t我们实际使用的英语词汇量为\",\n",
    "    len(id2eng_dict),\n",
    ")\n",
    "print(\n",
    "    \"我们设置的西班牙语总词汇上限为：\",\n",
    "    vocab_size,\n",
    "    \"\\t总的西班牙语词汇量为：\",\n",
    "    len(spa2id_dict),\n",
    "    \"\\t我们实际使用的西班牙语词汇量为\",\n",
    "    len(id2spa_dict),\n",
    ")"
   ]
  },
  {
   "attachments": {},
   "cell_type": "markdown",
   "metadata": {},
   "source": [
    "### 3.7 输入向量化\n",
    "`build_tensor`函数的作用是将字符串转化为可被网络接收的向量。\n",
    "* maxlen是我们设置的向量长度，超过该长度的向量被截断（弃尾）；不足该长度的进行padding（padding值为0）。\n"
   ]
  },
  {
   "cell_type": "code",
   "execution_count": 16,
   "metadata": {
    "execution": {
     "iopub.execute_input": "2023-02-03T06:48:30.938844Z",
     "iopub.status.busy": "2023-02-03T06:48:30.938512Z",
     "iopub.status.idle": "2023-02-03T06:48:30.944102Z",
     "shell.execute_reply": "2023-02-03T06:48:30.943541Z",
     "shell.execute_reply.started": "2023-02-03T06:48:30.938821Z"
    },
    "scrolled": true,
    "tags": []
   },
   "outputs": [],
   "source": [
    "def build_tensor(data, dicta, maxlen):\n",
    "    tensor = []\n",
    "    for i in range(len(data)):\n",
    "        subtensor = []\n",
    "        lista = data[i].split()\n",
    "        for j in range(len(lista)):\n",
    "            index = dicta.get(lista[j])\n",
    "            # 对于训练解和测试集，可能会出现未在词表中的词汇，此时index会返回None,此时我们指定index=1,即指向<unk>\n",
    "            if index == None:\n",
    "                index = 1\n",
    "            subtensor.append(index)\n",
    "\n",
    "        if len(subtensor) < maxlen:\n",
    "            # 0是我们进行padding的向量值\n",
    "            subtensor += [0] * (maxlen - len(subtensor))\n",
    "        else:\n",
    "            subtensor = subtensor[:maxlen]\n",
    "\n",
    "        tensor.append(subtensor)\n",
    "    return np.array(tensor)"
   ]
  },
  {
   "cell_type": "code",
   "execution_count": 17,
   "metadata": {
    "collapsed": false,
    "execution": {
     "iopub.execute_input": "2023-02-03T06:48:30.945313Z",
     "iopub.status.busy": "2023-02-03T06:48:30.944897Z",
     "iopub.status.idle": "2023-02-03T06:48:32.636709Z",
     "shell.execute_reply": "2023-02-03T06:48:32.635784Z",
     "shell.execute_reply.started": "2023-02-03T06:48:30.945292Z"
    },
    "jupyter": {
     "outputs_hidden": false
    },
    "scrolled": true,
    "tags": []
   },
   "outputs": [],
   "source": [
    "sequence_length = (\n",
    "    20  # 语句长度我们统一设置为20，可以依据3.5小结的统计信息分开设置\n",
    ")\n",
    "\n",
    "train_eng_tensor = build_tensor(\n",
    "    train_eng_texts_pre, eng2id_dict, sequence_length\n",
    ")\n",
    "val_eng_tensor = build_tensor(val_eng_texts_pre, eng2id_dict, sequence_length)\n",
    "test_eng_tensor = build_tensor(test_eng_texts_pre, eng2id_dict, sequence_length)\n",
    "\n",
    "train_spa_tensor = build_tensor(\n",
    "    train_spa_texts_pre, spa2id_dict, sequence_length\n",
    ")\n",
    "val_spa_tensor = build_tensor(val_spa_texts_pre, spa2id_dict, sequence_length)\n",
    "test_spa_tensor = build_tensor(test_spa_texts_pre, spa2id_dict, sequence_length)"
   ]
  },
  {
   "attachments": {},
   "cell_type": "markdown",
   "metadata": {},
   "source": [
    "展示`build_tensor`函数的作用，将字符串转化为向量："
   ]
  },
  {
   "cell_type": "code",
   "execution_count": 18,
   "metadata": {
    "execution": {
     "iopub.execute_input": "2023-02-03T06:48:32.638042Z",
     "iopub.status.busy": "2023-02-03T06:48:32.637719Z",
     "iopub.status.idle": "2023-02-03T06:48:32.643795Z",
     "shell.execute_reply": "2023-02-03T06:48:32.643242Z",
     "shell.execute_reply.started": "2023-02-03T06:48:32.638016Z"
    },
    "scrolled": true
   },
   "outputs": [
    {
     "name": "stdout",
     "output_type": "stream",
     "text": [
      "there were three women standing at the bar\r\n",
      "[  47   53  149  632  931   36    2 1936    0    0    0    0    0    0\r\n",
      "    0    0    0    0    0    0]\r\n"
     ]
    }
   ],
   "source": [
    "print(val_eng_texts_pre[0])\n",
    "print(val_eng_tensor[0])"
   ]
  },
  {
   "attachments": {},
   "cell_type": "markdown",
   "metadata": {},
   "source": [
    "### 3.8 封装数据集\n",
    "\n",
    "使用paddle.io.Dataset 封装数据集。"
   ]
  },
  {
   "cell_type": "code",
   "execution_count": 19,
   "metadata": {
    "collapsed": false,
    "execution": {
     "iopub.execute_input": "2023-02-03T06:48:32.644942Z",
     "iopub.status.busy": "2023-02-03T06:48:32.644561Z",
     "iopub.status.idle": "2023-02-03T06:48:32.649384Z",
     "shell.execute_reply": "2023-02-03T06:48:32.648872Z",
     "shell.execute_reply.started": "2023-02-03T06:48:32.644921Z"
    },
    "jupyter": {
     "outputs_hidden": false
    },
    "scrolled": true,
    "tags": []
   },
   "outputs": [],
   "source": [
    "class MyDataset(Dataset):\n",
    "    \"\"\"\n",
    "    步骤一：继承paddle.io.Dataset类\n",
    "    \"\"\"\n",
    "\n",
    "    def __init__(self, eng, spa):\n",
    "        \"\"\"\n",
    "        步骤二：实现构造函数，定义数据集大小\n",
    "        \"\"\"\n",
    "        super(MyDataset, self).__init__()\n",
    "        self.eng = eng\n",
    "        self.spa = spa\n",
    "\n",
    "    def __getitem__(self, index):\n",
    "        \"\"\"\n",
    "        步骤三：实现__getitem__方法，定义指定index时如何获取数据，并返回单条数据（训练数据，对应的标签）\n",
    "        \"\"\"\n",
    "        return self.eng[index], self.spa[index]\n",
    "\n",
    "    def __len__(self):\n",
    "        \"\"\"\n",
    "        步骤四：实现__len__方法，返回数据集总数目\n",
    "        \"\"\"\n",
    "        return self.eng.shape[0]"
   ]
  },
  {
   "attachments": {},
   "cell_type": "markdown",
   "metadata": {},
   "source": [
    "  定义对每个minibatch的数据集进行处理的函数。\n",
    "* 输入参数padid的默认值为0，0是`<pad>`字段的对应的值，与3.6中我们的字典设计对应。\n",
    "* 该函数返回值的含义：\n",
    "    - 第一个返回值：英语输入向量，shape=[batchsize,sequence_length]。\n",
    "    - 第二个返回值：西班牙语输入向量，shape=[batchsize,sequence_length-1],第二个维度是`sequence_length-1`,因为我们使用`teacher force`技巧进行训练。实际上我是取的**前**`sequence_length-1`个向量。\n",
    "    - 第三个返回值：西班牙语目标向量，shape=[batchsize,sequence_length-1,1]，第二个维度也是`sequence_length-1`，因为我们使用`teacher force`技巧进行训练（指在每一轮预测时，不使用上一轮预测的输出，而强制使用真实的标签序列，通过这样的方法可以有效的避免因中间预测错误而对后续序列的预测，从而加快训练速度）。实际上我是取的**后**`sequence_length-1`个向量。此外，我们额外增加了一个维度，用于loss的计算。\n",
    "    - 第四个返回值：用于消除padding位置对loss的影响，主要在我们的自定义loss中进行使用。"
   ]
  },
  {
   "cell_type": "code",
   "execution_count": 20,
   "metadata": {
    "execution": {
     "iopub.execute_input": "2023-02-03T06:48:32.650380Z",
     "iopub.status.busy": "2023-02-03T06:48:32.650085Z",
     "iopub.status.idle": "2023-02-03T06:48:32.654090Z",
     "shell.execute_reply": "2023-02-03T06:48:32.653584Z",
     "shell.execute_reply.started": "2023-02-03T06:48:32.650361Z"
    },
    "scrolled": true,
    "tags": []
   },
   "outputs": [],
   "source": [
    "def prepare_input(inputs, padid=0):\n",
    "    src = np.array([inputsub[0] for inputsub in inputs])\n",
    "    trg = np.array([inputsub[1] for inputsub in inputs])\n",
    "    trg_mask = (trg[:, :-1] != padid).astype(paddle.get_default_dtype())\n",
    "    return src, trg[:, :-1], trg[:, 1:, np.newaxis], trg_mask"
   ]
  },
  {
   "attachments": {},
   "cell_type": "markdown",
   "metadata": {},
   "source": [
    "设置batchsize，并使用paddle.io.DataLoader 封装用于训练的minibatch数据："
   ]
  },
  {
   "cell_type": "code",
   "execution_count": 21,
   "metadata": {
    "collapsed": false,
    "execution": {
     "iopub.execute_input": "2023-02-03T06:48:32.655059Z",
     "iopub.status.busy": "2023-02-03T06:48:32.654767Z",
     "iopub.status.idle": "2023-02-03T06:48:32.660277Z",
     "shell.execute_reply": "2023-02-03T06:48:32.659777Z",
     "shell.execute_reply.started": "2023-02-03T06:48:32.655040Z"
    },
    "jupyter": {
     "outputs_hidden": false
    },
    "scrolled": true
   },
   "outputs": [],
   "source": [
    "BATCH_SIZE = 64\n",
    "\n",
    "train_dataset = MyDataset(train_eng_tensor, train_spa_tensor)\n",
    "train_loader = paddle.io.DataLoader(\n",
    "    train_dataset,\n",
    "    batch_size=BATCH_SIZE,\n",
    "    shuffle=True,\n",
    "    drop_last=True,\n",
    "    collate_fn=partial(prepare_input),\n",
    ")\n",
    "\n",
    "val_dataset = MyDataset(val_eng_tensor, val_spa_tensor)\n",
    "val_loader = paddle.io.DataLoader(\n",
    "    val_dataset,\n",
    "    batch_size=BATCH_SIZE,\n",
    "    shuffle=True,\n",
    "    drop_last=True,\n",
    "    collate_fn=partial(prepare_input),\n",
    ")\n",
    "\n",
    "test_dataset = MyDataset(test_eng_tensor, test_spa_tensor)\n",
    "test_loader = paddle.io.DataLoader(\n",
    "    test_dataset,\n",
    "    batch_size=BATCH_SIZE,\n",
    "    shuffle=True,\n",
    "    drop_last=True,\n",
    "    collate_fn=partial(prepare_input),\n",
    ")"
   ]
  },
  {
   "attachments": {},
   "cell_type": "markdown",
   "metadata": {},
   "source": [
    "## 4. 模型组网\n",
    "\n"
   ]
  },
  {
   "cell_type": "code",
   "execution_count": 22,
   "metadata": {
    "execution": {
     "iopub.execute_input": "2023-02-03T06:48:32.661251Z",
     "iopub.status.busy": "2023-02-03T06:48:32.660958Z",
     "iopub.status.idle": "2023-02-03T06:48:32.663785Z",
     "shell.execute_reply": "2023-02-03T06:48:32.663292Z",
     "shell.execute_reply.started": "2023-02-03T06:48:32.661233Z"
    },
    "scrolled": true
   },
   "outputs": [],
   "source": [
    "# 为方便调试网络，我们提前定义一些参数\n",
    "embed_dim = 256  # 词嵌入embedding的维度\n",
    "latent_dim = 2048  # feed forward 前馈神经网络的相关参数\n",
    "num_heads = 8  # 多头注意力机制的‘头’数"
   ]
  },
  {
   "attachments": {},
   "cell_type": "markdown",
   "metadata": {},
   "source": [
    "### 4.1 输入处理\n",
    "Transformer的输入部分使用的是词嵌入（word embedding）和位置编码（positional encoding）的结合。Transformer模型并不包括任何的循环或卷积网络，所以模型添加了位置编码，为模型提供一些关于单词在句子中绝对位置的信息。这个位置编码的具体计算方法有很多种，论文中的计算方法如下：\n",
    "$$\n",
    "PE\\left( pos,2i \\right) =\\sin \\left( pos/10000^{2i/embed\\_dim} \\  \\right) \n",
    "$$\n",
    "\n",
    "$$\n",
    "PE\\left( pos,2i+1 \\right) =\\cos \\left( pos/10000^{2i/embed\\_dim}\\  \\right) \n",
    "$$\n",
    "\n",
    "\n",
    "其中pos是指当前token在句子中的位置，i是指向量中每个值的index，可以看出，在偶数位置，使用正弦编码，在奇数位置，使用余弦编码。"
   ]
  },
  {
   "cell_type": "code",
   "execution_count": 23,
   "metadata": {
    "execution": {
     "iopub.execute_input": "2023-02-03T06:48:32.664760Z",
     "iopub.status.busy": "2023-02-03T06:48:32.664470Z",
     "iopub.status.idle": "2023-02-03T06:48:32.671799Z",
     "shell.execute_reply": "2023-02-03T06:48:32.671294Z",
     "shell.execute_reply.started": "2023-02-03T06:48:32.664741Z"
    },
    "scrolled": true
   },
   "outputs": [],
   "source": [
    "class TransformerEmbedding(paddle.nn.Layer):\n",
    "    def __init__(self, sequence_length, vocab_size, embed_dim):\n",
    "        super(TransformerEmbedding, self).__init__()\n",
    "        self.token_embeddings = paddle.nn.Embedding(\n",
    "            num_embeddings=vocab_size, embedding_dim=embed_dim\n",
    "        )\n",
    "        self.position_embeddings = self.get_position_embedding(\n",
    "            sequence_length, embed_dim\n",
    "        )\n",
    "\n",
    "    def forward(self, inputs):\n",
    "        seq_len = inputs.shape[1]\n",
    "        embedded_tokens = self.token_embeddings(inputs)\n",
    "        embedded_positions = self.position_embeddings\n",
    "        return embedded_tokens + embedded_positions[:, :seq_len, :]\n",
    "\n",
    "    def compute_mask(self, inputs, mask=None):\n",
    "        return paddle.not_equal(inputs, 0)\n",
    "\n",
    "    def get_angles(self, pos, i, d_model):\n",
    "        angle_rate = 1 / np.power(10000, (2 * (i // 2)) / np.float32(d_model))\n",
    "        return pos * angle_rate\n",
    "\n",
    "    def get_position_embedding(self, sentence_length, d_model):\n",
    "        angle_rads = self.get_angles(\n",
    "            np.arange(sentence_length)[:, np.newaxis],\n",
    "            np.arange(d_model)[np.newaxis, :],\n",
    "            d_model,\n",
    "        )\n",
    "        sines = np.sin(angle_rads[:, 0::2])\n",
    "        cosines = np.cos(angle_rads[:, 1::2])\n",
    "\n",
    "        position_embedding = np.concatenate([sines, cosines], axis=-1)\n",
    "        position_embedding = paddle.to_tensor(\n",
    "            position_embedding[np.newaxis, ...]\n",
    "        )\n",
    "\n",
    "        return paddle.cast(position_embedding, dtype=\"float32\")"
   ]
  },
  {
   "attachments": {},
   "cell_type": "markdown",
   "metadata": {},
   "source": [
    "### 4.2 Encoder\n",
    "Encoder部分主要包含了多头注意力机制、归一化层以及前馈神经网络。输入会依次经过多头注意力模块、归一化层构成的残差模块、前馈神经网络模块、归一化层构成的残差模块。\n",
    "* 多头注意力机制（MultiHeadAttention）：使用[paddle.nn.MultiHeadAttention](https://www.paddlepaddle.org.cn/documentation/docs/zh/api/paddle/nn/MultiHeadAttention_cn.html#multiheadattention)实现多头注意力机制，需要注意其掩码attn_mask需要的shape是[batch_szie,num_heads,sequence_legth,sequence_legth]。\n",
    "* 前馈神经网络（Feed Forward）：输入经过MultiHeadAttention层后，经过一层feed forward层。模型中的feed forward，采用的是一种position-wise feed-forward的方法，即先对输入加一个全连接网络，之后使用Relu激活，之后再加一个全连接网络。\n",
    "* 残差网络：由归一化（LayerNorm）后的结果与之前时刻的输入相加组成。LayerNorm会在每一个样本上计算均值和方差。\n"
   ]
  },
  {
   "cell_type": "code",
   "execution_count": 24,
   "metadata": {
    "execution": {
     "iopub.execute_input": "2023-02-03T06:48:32.672758Z",
     "iopub.status.busy": "2023-02-03T06:48:32.672469Z",
     "iopub.status.idle": "2023-02-03T06:48:32.677936Z",
     "shell.execute_reply": "2023-02-03T06:48:32.677436Z",
     "shell.execute_reply.started": "2023-02-03T06:48:32.672740Z"
    },
    "scrolled": true
   },
   "outputs": [],
   "source": [
    "class TransformerEncoder(paddle.nn.Layer):\n",
    "    def __init__(self, embed_dim, dense_dim, num_heads):\n",
    "        super(TransformerEncoder, self).__init__()\n",
    "        self.embed_dim = embed_dim\n",
    "        self.dense_dim = dense_dim\n",
    "        self.num_heads = num_heads\n",
    "        self.attention = paddle.nn.MultiHeadAttention(\n",
    "            num_heads=num_heads, embed_dim=embed_dim, dropout=0.1\n",
    "        )\n",
    "\n",
    "        self.dense_proj = paddle.nn.Sequential(\n",
    "            paddle.nn.Linear(embed_dim, dense_dim),\n",
    "            paddle.nn.ReLU(),\n",
    "            paddle.nn.Linear(dense_dim, embed_dim),\n",
    "        )\n",
    "\n",
    "        self.layernorm_1 = paddle.nn.LayerNorm(embed_dim)\n",
    "        self.layernorm_2 = paddle.nn.LayerNorm(embed_dim)\n",
    "\n",
    "    def forward(self, inputs):\n",
    "        attention_output = self.attention(\n",
    "            query=inputs, value=inputs, key=inputs\n",
    "        )\n",
    "        proj_input = self.layernorm_1(inputs + attention_output)\n",
    "        proj_output = self.dense_proj(proj_input)\n",
    "        return self.layernorm_2(proj_input + proj_output)"
   ]
  },
  {
   "attachments": {},
   "cell_type": "markdown",
   "metadata": {},
   "source": [
    "### 4.3 Decoder\n",
    "解码器含有两个多头注意力模块，第一个是带序列掩码的多头注意力模块，用于处理西班牙语的输入；第二个多头注意力模块是用于处理编码器的输出和前一个多头注意力机制的输出。输入在解码器其中会依次经过带序列掩码的多头注意力模块、归一化层构成的残差模块、多头注意力模块、归一化层构成的残差模块、前馈神经网络模块、归一化层构成的残差模块。\n",
    "* 序列掩码：为了使得 decoder 不能看见未来的信息。也就是对于一个序列，在 time_step 为 t 的时刻，我们的解码输出应该只能依赖于 t 时刻之前的输出，而不能依赖 t 之后的输出。因此我们需要想一个办法，把 t 之后的信息给隐藏起来。做法是产生一个上三角矩阵，上三角的值全为0。把这个矩阵作用在每一个序列上，就可以达到我们的目的。\n"
   ]
  },
  {
   "cell_type": "code",
   "execution_count": 25,
   "metadata": {
    "execution": {
     "iopub.execute_input": "2023-02-03T06:48:32.678913Z",
     "iopub.status.busy": "2023-02-03T06:48:32.678687Z",
     "iopub.status.idle": "2023-02-03T06:48:32.687410Z",
     "shell.execute_reply": "2023-02-03T06:48:32.686894Z",
     "shell.execute_reply.started": "2023-02-03T06:48:32.678895Z"
    },
    "scrolled": true
   },
   "outputs": [],
   "source": [
    "class TransformerDecoder(paddle.nn.Layer):\n",
    "    def __init__(self, embed_dim, latent_dim, num_heads):\n",
    "        super(TransformerDecoder, self).__init__()\n",
    "        self.embed_dim = embed_dim\n",
    "        self.latent_dim = latent_dim\n",
    "        self.num_heads = num_heads\n",
    "        self.attention_1 = paddle.nn.MultiHeadAttention(\n",
    "            num_heads=num_heads, embed_dim=embed_dim\n",
    "        )\n",
    "\n",
    "        self.attention_2 = paddle.nn.MultiHeadAttention(\n",
    "            num_heads=num_heads, embed_dim=embed_dim\n",
    "        )\n",
    "\n",
    "        self.dense_proj = paddle.nn.Sequential(\n",
    "            paddle.nn.Linear(embed_dim, latent_dim),\n",
    "            paddle.nn.ReLU(),\n",
    "            paddle.nn.Linear(latent_dim, embed_dim),\n",
    "        )\n",
    "\n",
    "        self.layernorm_1 = paddle.nn.LayerNorm(embed_dim)\n",
    "        self.layernorm_2 = paddle.nn.LayerNorm(embed_dim)\n",
    "        self.layernorm_3 = paddle.nn.LayerNorm(embed_dim)\n",
    "\n",
    "    def forward(self, inputs, encoder_outputs):\n",
    "        # [batch_size, equence_length, sequence_length]\n",
    "        causal_mask = self.get_causal_attention_mask(inputs)\n",
    "\n",
    "        # attn_mask: [batch_size, n_head, sequence_length, sequence_length]\n",
    "        attention_output_1 = self.attention_1(\n",
    "            query=inputs, value=inputs, key=inputs, attn_mask=causal_mask\n",
    "        )\n",
    "        out_1 = self.layernorm_1(inputs + attention_output_1)\n",
    "\n",
    "        attention_output_2 = self.attention_2(\n",
    "            query=out_1, value=encoder_outputs, key=encoder_outputs\n",
    "        )\n",
    "        out_2 = self.layernorm_2(out_1 + attention_output_2)\n",
    "\n",
    "        proj_output = self.dense_proj(out_2)\n",
    "        return self.layernorm_3(out_2 + proj_output)\n",
    "\n",
    "    def get_causal_attention_mask(self, inputs):\n",
    "        input_shape = inputs.shape\n",
    "        batch_size, sequence_length = input_shape[0], input_shape[1]\n",
    "        i = paddle.arange(sequence_length)[:, np.newaxis]\n",
    "        j = paddle.arange(sequence_length)\n",
    "        # [sequence_length, sequence_length]\n",
    "        mask = paddle.cast(i >= j, dtype=\"int32\")\n",
    "        # [1, equence_length, sequence_length]\n",
    "        mask = paddle.reshape(mask, (1, 1, input_shape[1], input_shape[1]))\n",
    "        mult = paddle.concat(\n",
    "            [\n",
    "                paddle.to_tensor(64, dtype=\"int32\"),\n",
    "                paddle.to_tensor([1, 1, 1], dtype=\"int32\"),\n",
    "            ],\n",
    "            axis=0,\n",
    "        )  # [batch_size,1,1]\n",
    "        # [batch_size, equence_length, sequence_length]\n",
    "        return paddle.tile(mask, mult)"
   ]
  },
  {
   "attachments": {},
   "cell_type": "markdown",
   "metadata": {},
   "source": [
    "### 4.4 搭建Transformer模型\n",
    "![](https://ai-studio-static-online.cdn.bcebos.com/ca0931928b4a41af97a318f66957767c9ffda9b248634f4182cfda80e6a3923a)\n",
    "\n",
    "我们搭建Transformer模型主要包含以下模块：\n",
    "* 编码器输入的词嵌入与位置编码处理模块\n",
    "* 编码器模块（N=1）\n",
    "* 解码器输入的词嵌入与位置编码处理模块\n",
    "* 解码器模块（N=1）\n",
    "* 线性输出层\n",
    "\n",
    "按照图示，Transformer还应该有一层softmax将模型的预测结果归一化，我们在loss函数中实现该操作。"
   ]
  },
  {
   "cell_type": "code",
   "execution_count": 33,
   "metadata": {
    "execution": {
     "iopub.execute_input": "2023-02-03T07:29:14.998922Z",
     "iopub.status.busy": "2023-02-03T07:29:14.998509Z",
     "iopub.status.idle": "2023-02-03T07:29:15.024953Z",
     "shell.execute_reply": "2023-02-03T07:29:15.024439Z",
     "shell.execute_reply.started": "2023-02-03T07:29:14.998896Z"
    },
    "scrolled": true
   },
   "outputs": [
    {
     "name": "stdout",
     "output_type": "stream",
     "text": [
      "--------------------------------------------------------------------------------------------\r\n",
      "     Layer (type)               Input Shape               Output Shape         Param #    \r\n",
      "============================================================================================\r\n",
      "     Embedding-5                 [[64, 20]]              [64, 20, 256]        6,400,000   \r\n",
      "TransformerEmbedding-5           [[64, 20]]              [64, 20, 256]            0       \r\n",
      "      Linear-35               [[64, 20, 256]]            [64, 20, 256]         65,792     \r\n",
      "      Linear-36               [[64, 20, 256]]            [64, 20, 256]         65,792     \r\n",
      "      Linear-37               [[64, 20, 256]]            [64, 20, 256]         65,792     \r\n",
      "      Linear-38               [[64, 20, 256]]            [64, 20, 256]         65,792     \r\n",
      " MultiHeadAttention-7                []                  [64, 20, 256]            0       \r\n",
      "     LayerNorm-11             [[64, 20, 256]]            [64, 20, 256]           512      \r\n",
      "      Linear-39               [[64, 20, 256]]            [64, 20, 2048]        526,336    \r\n",
      "        ReLU-5                [[64, 20, 2048]]           [64, 20, 2048]           0       \r\n",
      "      Linear-40               [[64, 20, 2048]]           [64, 20, 256]         524,544    \r\n",
      "     LayerNorm-12             [[64, 20, 256]]            [64, 20, 256]           512      \r\n",
      " TransformerEncoder-3         [[64, 20, 256]]            [64, 20, 256]            0       \r\n",
      "     Embedding-6                 [[64, 20]]              [64, 20, 256]        6,400,000   \r\n",
      "TransformerEmbedding-6           [[64, 20]]              [64, 20, 256]            0       \r\n",
      "      Linear-41               [[64, 20, 256]]            [64, 20, 256]         65,792     \r\n",
      "      Linear-42               [[64, 20, 256]]            [64, 20, 256]         65,792     \r\n",
      "      Linear-43               [[64, 20, 256]]            [64, 20, 256]         65,792     \r\n",
      "      Linear-44               [[64, 20, 256]]            [64, 20, 256]         65,792     \r\n",
      " MultiHeadAttention-8                []                  [64, 20, 256]            0       \r\n",
      "     LayerNorm-13             [[64, 20, 256]]            [64, 20, 256]           512      \r\n",
      "      Linear-45               [[64, 20, 256]]            [64, 20, 256]         65,792     \r\n",
      "      Linear-46               [[64, 20, 256]]            [64, 20, 256]         65,792     \r\n",
      "      Linear-47               [[64, 20, 256]]            [64, 20, 256]         65,792     \r\n",
      "      Linear-48               [[64, 20, 256]]            [64, 20, 256]         65,792     \r\n",
      " MultiHeadAttention-9                []                  [64, 20, 256]            0       \r\n",
      "     LayerNorm-14             [[64, 20, 256]]            [64, 20, 256]           512      \r\n",
      "      Linear-49               [[64, 20, 256]]            [64, 20, 2048]        526,336    \r\n",
      "        ReLU-6                [[64, 20, 2048]]           [64, 20, 2048]           0       \r\n",
      "      Linear-50               [[64, 20, 2048]]           [64, 20, 256]         524,544    \r\n",
      "     LayerNorm-15             [[64, 20, 256]]            [64, 20, 256]           512      \r\n",
      " TransformerDecoder-3  [[64, 20, 256], [64, 20, 256]]    [64, 20, 256]            0       \r\n",
      "      Dropout-3               [[64, 20, 256]]            [64, 20, 256]            0       \r\n",
      "      Linear-51               [[64, 20, 256]]           [64, 20, 25000]       6,425,000   \r\n",
      "============================================================================================\r\n",
      "Total params: 22,118,824\r\n",
      "Trainable params: 22,118,824\r\n",
      "Non-trainable params: 0\r\n",
      "--------------------------------------------------------------------------------------------\r\n",
      "Input size (MB): 0.01\r\n",
      "Forward/backward pass size (MB): 396.64\r\n",
      "Params size (MB): 84.38\r\n",
      "Estimated Total Size (MB): 481.03\r\n",
      "--------------------------------------------------------------------------------------------\r\n",
      "\r\n"
     ]
    },
    {
     "data": {
      "text/plain": [
       "{'total_params': 22118824, 'trainable_params': 22118824}"
      ]
     },
     "execution_count": 33,
     "metadata": {},
     "output_type": "execute_result"
    }
   ],
   "source": [
    "class Transformer(paddle.nn.Layer):\n",
    "    def __init__(\n",
    "        self, embed_dim, latent_dim, num_heads, sequence_length, vocab_size\n",
    "    ):\n",
    "        super(Transformer, self).__init__()\n",
    "\n",
    "        self.ps1 = TransformerEmbedding(sequence_length, vocab_size, embed_dim)\n",
    "        self.encoder = TransformerEncoder(embed_dim, latent_dim, num_heads)\n",
    "\n",
    "        self.ps2 = TransformerEmbedding(sequence_length, vocab_size, embed_dim)\n",
    "        self.decoder = TransformerDecoder(embed_dim, latent_dim, num_heads)\n",
    "\n",
    "        self.drop = paddle.nn.Dropout(p=0.5)\n",
    "        self.lastLinear = paddle.nn.Linear(embed_dim, vocab_size)\n",
    "\n",
    "    def forward(self, encoder_inputs, decoder_inputs):\n",
    "        # 编码器\n",
    "        encoder_emb = self.ps1(encoder_inputs)\n",
    "        encoder_outputs = self.encoder(encoder_emb)\n",
    "\n",
    "        # 解码器\n",
    "        deocder_emb = self.ps2(decoder_inputs)\n",
    "        decoder_outputs = self.decoder(deocder_emb, encoder_outputs)\n",
    "\n",
    "        # dropout\n",
    "        out = self.drop(decoder_outputs)\n",
    "\n",
    "        # 最后输出\n",
    "        out = self.lastLinear(out)\n",
    "\n",
    "        return out\n",
    "\n",
    "\n",
    "trans = Transformer(\n",
    "    embed_dim, latent_dim, num_heads, sequence_length, vocab_size\n",
    ")\n",
    "paddle.summary(trans, input_size=[(64, 20), (64, 20)], dtypes=\"int32\")"
   ]
  },
  {
   "attachments": {},
   "cell_type": "markdown",
   "metadata": {},
   "source": [
    "## 5. 模型训练与评估"
   ]
  },
  {
   "attachments": {},
   "cell_type": "markdown",
   "metadata": {},
   "source": [
    "### 5.1 自定义loss函数\n",
    "* 自定义loss函数的目的是消除填充位置对loss的影响。\n",
    "* [softmax_with_cross_entropy](https://www.paddlepaddle.org.cn/documentation/docs/zh/api/paddle/nn/functional/softmax_with_cross_entropy_cn.html#softmax-with-cross-entropy)是softmax交叉熵损失函数。该函数会将 softmax 操作、交叉熵损失函数的计算过程进行合并，从而提供了数值上更稳定的梯度值。"
   ]
  },
  {
   "cell_type": "code",
   "execution_count": 27,
   "metadata": {
    "execution": {
     "iopub.execute_input": "2023-02-03T06:48:36.327384Z",
     "iopub.status.busy": "2023-02-03T06:48:36.327032Z",
     "iopub.status.idle": "2023-02-03T06:48:36.332931Z",
     "shell.execute_reply": "2023-02-03T06:48:36.332412Z",
     "shell.execute_reply.started": "2023-02-03T06:48:36.327357Z"
    },
    "scrolled": true
   },
   "outputs": [],
   "source": [
    "class CrossEntropy(paddle.nn.Layer):\n",
    "    def __init__(self):\n",
    "        super(CrossEntropy, self).__init__()\n",
    "\n",
    "    def forward(self, pre, real, trg_mask):\n",
    "        # 返回的数据类型与pre一致，除了axis维度(未指定则为-1)，其他维度也与pre一致\n",
    "        # logits=pre,[batch_size,sequence_len,word_size],猜测会进行argmax操作，[batch_size,sequence_len,1]\n",
    "        # 默认的soft_label为False，lable=real,[bacth_size,sequence_len,1]\n",
    "        cost = paddle.nn.functional.softmax_with_cross_entropy(\n",
    "            logits=pre, label=real, soft_label=False\n",
    "        )\n",
    "\n",
    "        # 删除axis=2 shape上为1的维度\n",
    "        # 返回结果的形状应为 [batch_size,sequence_len]\n",
    "        cost = paddle.squeeze(cost, axis=[2])\n",
    "\n",
    "        # trg_mask 的形状[batch_size,suqence_len]\n",
    "        # * 这个星号应该是对应位置相乘，返回结果的形状 [bathc_szie,sequence_len]\n",
    "        masked_cost = cost * trg_mask\n",
    "\n",
    "        return paddle.mean(masked_cost)"
   ]
  },
  {
   "attachments": {},
   "cell_type": "markdown",
   "metadata": {},
   "source": [
    "### 5.2 训练与验证\n",
    "* 定义训练的轮数epochs\n",
    "* 实例化模型类并使用paddle.Model进行封装\n",
    "* 实例化[NoamDecay](https://www.paddlepaddle.org.cn/documentation/docs/zh/api/paddle/optimizer/lr/NoamDecay_cn.html#noamdecay)类，实现动态学习率\n",
    "* Adam优化器\n",
    "* 使用自定义的loss函数\n",
    "* 验证结果的Accuracy"
   ]
  },
  {
   "cell_type": "code",
   "execution_count": null,
   "metadata": {
    "scrolled": true
   },
   "outputs": [],
   "source": [
    "epochs = 100\n",
    "trans = Transformer(\n",
    "    embed_dim, latent_dim, num_heads, sequence_length, vocab_size\n",
    ")\n",
    "model = paddle.Model(trans)\n",
    "\n",
    "scheduler = paddle.optimizer.lr.NoamDecay(\n",
    "    d_model=latent_dim, warmup_steps=100, verbose=False\n",
    ")  # 动态调整学习率\n",
    "model.prepare(\n",
    "    optimizer=paddle.optimizer.Adam(\n",
    "        learning_rate=scheduler, parameters=model.parameters()\n",
    "    ),\n",
    "    loss=CrossEntropy(),\n",
    "    metrics=paddle.metric.Accuracy(),\n",
    ")\n",
    "\n",
    "model.fit(\n",
    "    train_data=train_loader,\n",
    "    epochs=epochs,\n",
    "    eval_data=val_loader,\n",
    "    verbose=2,\n",
    "    save_dir=\"./savemodel\",\n",
    "    save_freq=10,\n",
    "    log_freq=100,\n",
    "    callbacks=[paddle.callbacks.VisualDL(\"./log\")],\n",
    ")"
   ]
  },
  {
   "cell_type": "markdown",
   "metadata": {
    "tags": []
   },
   "source": [
    "100个epoch下的loss与Accuracy曲线图：\n",
    "\n",
    "\n",
    "![](https://ai-studio-static-online.cdn.bcebos.com/5d3d36cec8b0412092cf086eddf8f03d3de23a19a0774a0eb19582beac8ab4e8)\n",
    "\n"
   ]
  },
  {
   "attachments": {},
   "cell_type": "markdown",
   "metadata": {},
   "source": [
    "## 6. 结果预测\n",
    "使用测试集进行结果的预测，并计算BLEU得分。\n",
    "\n",
    "[BLEU](https://en.wikipedia.org/wiki/BLEU\n",
    ")是一种对生成语句进行评估的指标。完美匹配的得分为1.0，而完全不匹配则得分为0.0。"
   ]
  },
  {
   "cell_type": "code",
   "execution_count": 32,
   "metadata": {
    "execution": {
     "iopub.execute_input": "2023-02-03T07:28:36.859619Z",
     "iopub.status.busy": "2023-02-03T07:28:36.858978Z",
     "iopub.status.idle": "2023-02-03T07:28:37.015339Z",
     "shell.execute_reply": "2023-02-03T07:28:37.014702Z",
     "shell.execute_reply.started": "2023-02-03T07:28:36.859593Z"
    },
    "scrolled": true,
    "tags": []
   },
   "outputs": [
    {
     "name": "stdout",
     "output_type": "stream",
     "text": [
      "英语：i didnt know you kept it \r\n",
      "真实的西班牙语: no sabía que lo <unk> \r\n",
      "预测的西班牙语 no sabía que lo has \r\n",
      "BLEU:0.668740304976422\r\n",
      "**************\r\n",
      "\r\n",
      "英语：id like to know if thats true \r\n",
      "真实的西班牙语: me gustaría saber si es verdad \r\n",
      "预测的西班牙语 me gustaría saber si es verdad \r\n",
      "BLEU:1.0\r\n",
      "**************\r\n",
      "\r\n"
     ]
    }
   ],
   "source": [
    "bleu = BLEU()\n",
    "for data in test_loader():\n",
    "    inputs = data[:2]\n",
    "    result = model.predict_batch(inputs)[0]  # [64,19,23517]\n",
    "    result = np.argmax(np.array(result), axis=-1)  # [64,19]\n",
    "\n",
    "    for i in range(2):  # 仅展示2条预测结果\n",
    "        # for i in range(len(result)):#展示一个batch的结果\n",
    "        eng = [id2eng_dict[id] + \" \" for id in data[0][i].tolist() if id != 0]\n",
    "        spa_real = [\n",
    "            id2spa_dict[id] + \" \"\n",
    "            for id in data[1][i][1:].tolist()\n",
    "            if id != 0 and id != 3\n",
    "        ]\n",
    "        spa_pre = [\n",
    "            id2spa_dict[id] + \" \" for id in result[i] if id != 0 and id != 3\n",
    "        ]\n",
    "        bleu_score = bleu.add_inst(spa_real, [spa_pre])\n",
    "        sequence = (\n",
    "            \"英语：\"\n",
    "            + \"\".join(eng)\n",
    "            + \"\\n真实的西班牙语: \"\n",
    "            + \"\".join(spa_real)\n",
    "            + \"\\n预测的西班牙语 \"\n",
    "            + \"\".join(spa_pre)\n",
    "            + \"\\nBLEU:\"\n",
    "            + str(bleu.score())\n",
    "            + \"\\n**************\\n\"\n",
    "        )\n",
    "        bleu.reset()\n",
    "        print(sequence)\n",
    "    break"
   ]
  }
 ],
 "metadata": {
  "kernelspec": {
   "display_name": "Python 3",
   "language": "python",
   "name": "python3"
  },
  "language_info": {
   "codemirror_mode": {
    "name": "ipython",
    "version": 3
   },
   "file_extension": ".py",
   "mimetype": "text/x-python",
   "name": "python",
   "nbconvert_exporter": "python",
   "pygments_lexer": "ipython3",
   "version": "3.9.2rc1"
  },
  "vscode": {
   "interpreter": {
    "hash": "2469a70536e4d2335a2ea8907942d0699c37342a371ac185bdb5b0aa6f073890"
   }
  }
 },
 "nbformat": 4,
 "nbformat_minor": 4
}
