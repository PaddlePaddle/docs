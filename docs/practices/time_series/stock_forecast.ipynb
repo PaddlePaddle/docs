{
 "cells": [
  {
   "cell_type": "markdown",
   "metadata": {
    "execution": {
     "iopub.execute_input": "2022-11-09T15:52:16.809527Z",
     "iopub.status.busy": "2022-11-09T15:52:16.808789Z",
     "iopub.status.idle": "2022-11-09T15:52:16.812345Z",
     "shell.execute_reply": "2022-11-09T15:52:16.811536Z",
     "shell.execute_reply.started": "2022-11-09T15:52:16.809499Z"
    },
    "tags": []
   },
   "source": [
    "# 证券数据集下使用LSTM模型预测A股走势\n",
    "\n",
    "作者信息：[edencfc](https://github.com/edencfc)\n",
    "\n",
    "更新日期：2022 年 12 月 8 日\n",
    "\n",
    "摘要: 本示例将会演示如何使用飞桨完成多变量输入的时序数据预测任务。**这个任务以一只A股的价格走势作为示例，将会构建一个LSTM网络预测其未来的涨跌情况。**\n",
    "\n",
    "--"
   ]
  },
  {
   "cell_type": "markdown",
   "metadata": {},
   "source": [
    "## 1. 简要介绍\n",
    "\n",
    "本示例将实现在[Tushare](https://tushare.pro/)上基于股票的历史走势信息，对未来一个交易日的涨跌的趋势进行预测。\n",
    "\n",
    "## 2. 环境设置\n",
    "\n",
    "本示例基于PaddlePaddle 2.4.0 编写，如果你的环境不是本版本，请先参考官网安装 PaddlePaddle 2.4.0。"
   ]
  },
  {
   "cell_type": "code",
   "execution_count": null,
   "metadata": {
    "scrolled": true
   },
   "outputs": [],
   "source": [
    "# 安装mplfinance绘制K线图\n",
    "!pip install mplfinance==0.12.9b7 -i https://pypi.tuna.tsinghua.edu.cn/simple/ --trusted-host pypi.tuna.tsinghua.edu.cn"
   ]
  },
  {
   "cell_type": "code",
   "execution_count": 18,
   "metadata": {
    "execution": {
     "iopub.execute_input": "2022-12-16T06:14:47.834535Z",
     "iopub.status.busy": "2022-12-16T06:14:47.833879Z",
     "iopub.status.idle": "2022-12-16T06:14:47.844355Z",
     "shell.execute_reply": "2022-12-16T06:14:47.843284Z",
     "shell.execute_reply.started": "2022-12-16T06:14:47.834493Z"
    },
    "scrolled": true,
    "tags": []
   },
   "outputs": [
    {
     "name": "stdout",
     "output_type": "stream",
     "text": [
      "2.4.0\r\n"
     ]
    }
   ],
   "source": [
    "%matplotlib inline\n",
    "import numpy as np\n",
    "import pandas as pd\n",
    "import re\n",
    "from matplotlib import pyplot as plt\n",
    "from matplotlib.ticker import MultipleLocator\n",
    "import mplfinance as mpl\n",
    "import matplotlib.dates as mpdates\n",
    "from sklearn.preprocessing import MinMaxScaler\n",
    "\n",
    "# 导入 paddle\n",
    "import paddle\n",
    "import paddle.nn.functional as F\n",
    "print(paddle.__version__)\n",
    "\n",
    "import warnings\n",
    "warnings.filterwarnings(\"ignore\")"
   ]
  },
  {
   "cell_type": "markdown",
   "metadata": {},
   "source": [
    "## 3. 数据集\n",
    "\n",
    "### 3.1 数据下载与查看\n",
    "Tushare是一个免费、开源的python财经数据接口包。主要实现对股票等金融数据从数据采集、清洗加工到数据存储的过程。Tushare返回的绝大部分的数据格式都是pandas DataFrame类型，非常易于使用。其优点请访问[官网](https://tushare.pro/)。"
   ]
  },
  {
   "cell_type": "code",
   "execution_count": 5,
   "metadata": {
    "execution": {
     "iopub.execute_input": "2022-12-16T05:58:55.316463Z",
     "iopub.status.busy": "2022-12-16T05:58:55.315773Z",
     "iopub.status.idle": "2022-12-16T05:58:55.320628Z",
     "shell.execute_reply": "2022-12-16T05:58:55.319728Z",
     "shell.execute_reply.started": "2022-12-16T05:58:55.316374Z"
    },
    "scrolled": true,
    "tags": []
   },
   "outputs": [],
   "source": [
    "# 安装tushare\n",
    "!pip install tushare -i https://pypi.tuna.tsinghua.edu.cn/simple/ --trusted-host pypi.tuna.tsinghua.edu.cn"
   ]
  },
  {
   "cell_type": "markdown",
   "metadata": {},
   "source": [
    "下载一只股票的k线数据，这里取sz.002648 2020年以后的数据。"
   ]
  },
  {
   "cell_type": "code",
   "execution_count": 12,
   "metadata": {
    "execution": {
     "iopub.execute_input": "2022-12-16T06:12:00.139823Z",
     "iopub.status.busy": "2022-12-16T06:12:00.139017Z",
     "iopub.status.idle": "2022-12-16T06:12:00.372014Z",
     "shell.execute_reply": "2022-12-16T06:12:00.370731Z",
     "shell.execute_reply.started": "2022-12-16T06:12:00.139775Z"
    },
    "scrolled": true,
    "tags": []
   },
   "outputs": [
    {
     "name": "stdout",
     "output_type": "stream",
     "text": [
      "本接口即将停止更新，请尽快使用Pro版接口：https://tushare.pro/document/2\r\n"
     ]
    }
   ],
   "source": [
    "import tushare as ts\n",
    "df = ts.get_hist_data('002648')"
   ]
  },
  {
   "cell_type": "markdown",
   "metadata": {},
   "source": [
    "在我们获取的历史A股K线数据中，各参数名称含义如下：\n",
    "\n",
    "- date：日期\n",
    "- open：开盘价\n",
    "- high：最高价\n",
    "- close：收盘价\n",
    "- low：最低价\n",
    "- volume：成交量\n",
    "- price_change：价格变动\n",
    "- p_change：涨跌幅\n",
    "- ma5：5日均价\n",
    "- ma10：10日均价\n",
    "- ma20:20日均价\n",
    "- v_ma5:5日均量\n",
    "- v_ma10:10日均量\n",
    "- v_ma20:20日均量"
   ]
  },
  {
   "cell_type": "code",
   "execution_count": 13,
   "metadata": {
    "execution": {
     "iopub.execute_input": "2022-12-16T06:13:17.109168Z",
     "iopub.status.busy": "2022-12-16T06:13:17.108487Z",
     "iopub.status.idle": "2022-12-16T06:13:17.115737Z",
     "shell.execute_reply": "2022-12-16T06:13:17.114822Z",
     "shell.execute_reply.started": "2022-12-16T06:13:17.109125Z"
    },
    "scrolled": true
   },
   "outputs": [],
   "source": [
    "df = df.reset_index()"
   ]
  },
  {
   "cell_type": "code",
   "execution_count": 20,
   "metadata": {
    "execution": {
     "iopub.execute_input": "2022-12-16T06:04:23.271432Z",
     "iopub.status.busy": "2022-12-16T06:04:23.270788Z",
     "iopub.status.idle": "2022-12-16T06:04:23.280865Z",
     "shell.execute_reply": "2022-12-16T06:04:23.280056Z",
     "shell.execute_reply.started": "2022-12-16T06:04:23.271388Z"
    },
    "id": "qNihlAB2xMXV",
    "scrolled": true,
    "tags": []
   },
   "outputs": [],
   "source": [
    "float_type = ['open', 'high', 'close', 'low', 'volume', 'price_change', 'p_change',\n",
    "       'ma5', 'ma10', 'ma20', 'v_ma5', 'v_ma10', 'v_ma20', 'turnover']\n",
    "\n",
    "for item in float_type:\n",
    "    df[item] = df[item].astype('float')\n",
    "\n",
    "df['buy_flag'] = 10"
   ]
  },
  {
   "cell_type": "markdown",
   "metadata": {},
   "source": [
    "### 3.2 时间序列数据的展示\n",
    "绘制股票K线图"
   ]
  },
  {
   "cell_type": "code",
   "execution_count": 25,
   "metadata": {
    "execution": {
     "iopub.execute_input": "2022-12-16T06:16:20.265043Z",
     "iopub.status.busy": "2022-12-16T06:16:20.264348Z",
     "iopub.status.idle": "2022-12-16T06:16:20.274428Z",
     "shell.execute_reply": "2022-12-16T06:16:20.273677Z",
     "shell.execute_reply.started": "2022-12-16T06:16:20.264997Z"
    },
    "scrolled": true,
    "tags": []
   },
   "outputs": [],
   "source": [
    "# 删除 tushare 提供的不需要的数据，保留 Date, Open, High, Low, Close, Volume\n",
    "df_plots = df[['date', 'open', 'high', 'low', 'close','volume']]\n",
    "# 对数据进行改名，mplfinance名字必须是Date, Open, High, Low, Close, Volume\n",
    "df_plots.rename(columns={'date':'Date', 'open':'Open', 'high':'High', 'low':'Low', 'close':'Close', 'volume':'Volume'}, inplace=True)\n",
    "# 时间倒序改为正序\n",
    "df_plots = df_plots[::-1]\n",
    "# 把Date列数据设置成索引\n",
    "df_plots.set_index([\"Date\"], inplace=True)\n",
    "# 把Date列数据装换成datetime格式\n",
    "df_plots.index = pd.to_datetime(df_plots.index)"
   ]
  },
  {
   "cell_type": "code",
   "execution_count": 26,
   "metadata": {
    "execution": {
     "iopub.execute_input": "2022-12-16T06:16:23.704235Z",
     "iopub.status.busy": "2022-12-16T06:16:23.703593Z",
     "iopub.status.idle": "2022-12-16T06:16:25.022711Z",
     "shell.execute_reply": "2022-12-16T06:16:25.021673Z",
     "shell.execute_reply.started": "2022-12-16T06:16:23.704192Z"
    },
    "scrolled": true
   },
   "outputs": [
    {
     "data": {
      "image/png": "[encoded data removed]",
      "text/plain": [
       "<Figure size 800x575 with 4 Axes>"
      ]
     },
     "metadata": {},
     "output_type": "display_data"
    }
   ],
   "source": [
    "mpl.plot(df_plots, type='candle',mav=(3,6,9), volume=True)"
   ]
  },
  {
   "cell_type": "markdown",
   "metadata": {
    "id": "FTEo6v-d9p88"
   },
   "source": [
    "### 3.3 数据集的处理\n",
    "用 LSTM 预测价格显示是不合理的，因为价格的波动非常不可控，所以我们退而求其次，预测股票的走势，即涨还是跌。\n",
    "\n",
    "但是怎么量化股票的涨跌是个问题，这里我们用未来数天的平均股价表示股票的起伏。"
   ]
  },
  {
   "cell_type": "code",
   "execution_count": 27,
   "metadata": {
    "execution": {
     "iopub.execute_input": "2022-12-16T06:16:43.479978Z",
     "iopub.status.busy": "2022-12-16T06:16:43.478611Z",
     "iopub.status.idle": "2022-12-16T06:16:43.484188Z",
     "shell.execute_reply": "2022-12-16T06:16:43.483323Z",
     "shell.execute_reply.started": "2022-12-16T06:16:43.479935Z"
    },
    "id": "Qz6oiFKex1Il",
    "scrolled": true,
    "tags": []
   },
   "outputs": [],
   "source": [
    "#未来n天移动平均，包含今天\n",
    "def MA_next(df, date_idx, price_type, n): \n",
    "    return df[price_type][date_idx:date_idx+n].mean()"
   ]
  },
  {
   "cell_type": "markdown",
   "metadata": {
    "id": "IvUZSpxj9p88"
   },
   "source": [
    "假设短期2天，中期6天，长期15天。如果未来15天平均价格大于未来6天平均价格大于未来2天平均价格，我们就可认为未来15天的股市走势很好。\n",
    "这里还要求有3%的涨幅，能一定程度上减少标签频繁波动。\n",
    "\n",
    "`2` 含义为买入，`0` 含义为卖出，`1` 为默认值"
   ]
  },
  {
   "cell_type": "code",
   "execution_count": 28,
   "metadata": {
    "execution": {
     "iopub.execute_input": "2022-12-16T06:16:45.945541Z",
     "iopub.status.busy": "2022-12-16T06:16:45.944911Z",
     "iopub.status.idle": "2022-12-16T06:16:46.460834Z",
     "shell.execute_reply": "2022-12-16T06:16:46.459758Z",
     "shell.execute_reply.started": "2022-12-16T06:16:45.945500Z"
    },
    "id": "dQqNB6149p89",
    "outputId": "a875f0cb-93bd-43de-86d7-db8da7da35a8",
    "scrolled": true,
    "tags": []
   },
   "outputs": [],
   "source": [
    "s_time = 2\n",
    "m_time = 6\n",
    "l_time = 15\n",
    "\n",
    "for i in range(len(df)-l_time):\n",
    "    if MA_next(df,i,'close',l_time)>MA_next(df,i,'close',m_time)*1.03>MA_next(df,i,'close',s_time)*1.03:\n",
    "        df.loc[i, 'buy_flag'] = 2\n",
    "    elif MA_next(df,i,'close',s_time)>MA_next(df,i,'close',m_time):\n",
    "        df.loc[i, 'buy_flag'] = 0\n",
    "    else:\n",
    "        df.loc[i, 'buy_flag'] = 1"
   ]
  },
  {
   "cell_type": "code",
   "execution_count": 39,
   "metadata": {
    "execution": {
     "iopub.execute_input": "2022-12-16T05:54:37.766468Z",
     "iopub.status.busy": "2022-12-16T05:54:37.765152Z",
     "iopub.status.idle": "2022-12-16T05:54:37.772060Z",
     "shell.execute_reply": "2022-12-16T05:54:37.771063Z",
     "shell.execute_reply.started": "2022-12-16T05:54:37.766424Z"
    },
    "scrolled": true,
    "tags": []
   },
   "outputs": [],
   "source": [
    "df = df.reset_index()"
   ]
  },
  {
   "cell_type": "markdown",
   "metadata": {},
   "source": [
    "通过使用函数`add_datepart`，能计算当前日期的年、月、日、一周第几天、周数、月初月末、一年当中的第几天等信息。本项目用该函数扩展日期特征。"
   ]
  },
  {
   "cell_type": "code",
   "execution_count": 29,
   "metadata": {
    "execution": {
     "iopub.execute_input": "2022-12-16T06:16:53.475260Z",
     "iopub.status.busy": "2022-12-16T06:16:53.474560Z",
     "iopub.status.idle": "2022-12-16T06:16:53.480945Z",
     "shell.execute_reply": "2022-12-16T06:16:53.480019Z",
     "shell.execute_reply.started": "2022-12-16T06:16:53.475214Z"
    },
    "scrolled": true
   },
   "outputs": [],
   "source": [
    "def ifnone(if_, else_, transform=None):\n",
    "    '''Returns the condition ``if_`` iff it is not ``None``, or if a transformation is\n",
    "    specified, ``transform(if_)``. Returns ``else_`` if the condition is ``None``.\n",
    "    ``transform`` can be any callable, which will be passed ``if_`` in case ``if_`` is not ``None``.'''\n",
    "    if if_ is None:\n",
    "        return else_\n",
    "    else:\n",
    "        if transform is not None: return transform(if_)\n",
    "        else: return if_"
   ]
  },
  {
   "cell_type": "code",
   "execution_count": 30,
   "metadata": {
    "execution": {
     "iopub.execute_input": "2022-12-16T06:16:59.760040Z",
     "iopub.status.busy": "2022-12-16T06:16:59.759343Z",
     "iopub.status.idle": "2022-12-16T06:16:59.765324Z",
     "shell.execute_reply": "2022-12-16T06:16:59.764568Z",
     "shell.execute_reply.started": "2022-12-16T06:16:59.759996Z"
    },
    "scrolled": true,
    "tags": []
   },
   "outputs": [],
   "source": [
    "def make_date(df, date_field):\n",
    "    \"Make sure `df[date_field]` is of the right date type.\"\n",
    "    field_dtype = df[date_field].dtype\n",
    "    if isinstance(field_dtype, pd.core.dtypes.dtypes.DatetimeTZDtype):\n",
    "        field_dtype = np.datetime64\n",
    "    if not np.issubdtype(field_dtype, np.datetime64):\n",
    "        df[date_field] = pd.to_datetime(df[date_field], infer_datetime_format=True)"
   ]
  },
  {
   "cell_type": "code",
   "execution_count": 31,
   "metadata": {
    "execution": {
     "iopub.execute_input": "2022-12-16T06:17:01.876168Z",
     "iopub.status.busy": "2022-12-16T06:17:01.875529Z",
     "iopub.status.idle": "2022-12-16T06:17:01.884312Z",
     "shell.execute_reply": "2022-12-16T06:17:01.883575Z",
     "shell.execute_reply.started": "2022-12-16T06:17:01.876126Z"
    },
    "scrolled": true,
    "tags": []
   },
   "outputs": [],
   "source": [
    "def add_datepart(df, field_name, prefix=None, drop=True, time=False):\n",
    "    \"Helper function that adds columns relevant to a date in the column `field_name` of `df`.\"\n",
    "    make_date(df, field_name)\n",
    "    field = df[field_name]\n",
    "    prefix = ifnone(prefix, re.sub('[Dd]ate$', '', field_name))\n",
    "    attr = ['Year', 'Month', 'Week', 'Day', 'Dayofweek', 'Dayofyear', 'Is_month_end', 'Is_month_start',\n",
    "            'Is_quarter_end', 'Is_quarter_start', 'Is_year_end', 'Is_year_start']\n",
    "    if time: attr = attr + ['Hour', 'Minute', 'Second']\n",
    "    # Pandas removed `dt.week` in v1.1.10\n",
    "    week = field.dt.isocalendar().week.astype(field.dt.day.dtype) if hasattr(field.dt, 'isocalendar') else field.dt.week\n",
    "    for n in attr: df[prefix + n] = getattr(field.dt, n.lower()) if n != 'Week' else week\n",
    "    mask = ~field.isna()\n",
    "    df[prefix + 'Elapsed'] = np.where(mask,field.values.astype(np.int64) // 10 ** 9,np.nan)\n",
    "    if drop: df.drop(field_name, axis=1, inplace=True)\n",
    "    return df"
   ]
  },
  {
   "cell_type": "markdown",
   "metadata": {
    "id": "hOqeRSJO9p8_"
   },
   "source": [
    "接下来我们为数据生成序列，用前`seq_length`天的信息作为输入序列，后1天的股市起伏`buy_flag`作为标签"
   ]
  },
  {
   "cell_type": "code",
   "execution_count": 32,
   "metadata": {
    "execution": {
     "iopub.execute_input": "2022-12-16T06:17:04.714659Z",
     "iopub.status.busy": "2022-12-16T06:17:04.714034Z",
     "iopub.status.idle": "2022-12-16T06:17:04.757049Z",
     "shell.execute_reply": "2022-12-16T06:17:04.756334Z",
     "shell.execute_reply.started": "2022-12-16T06:17:04.714618Z"
    },
    "id": "LICGWrzj9p8-",
    "outputId": "26d0f2cb-d9ab-47ea-e227-c3312eae7dff",
    "scrolled": true,
    "tags": []
   },
   "outputs": [
    {
     "data": {
      "text/html": [
       "<div>\n",
       "<style scoped>\n",
       "    .dataframe tbody tr th:only-of-type {\n",
       "        vertical-align: middle;\n",
       "    }\n",
       "\n",
       "    .dataframe tbody tr th {\n",
       "        vertical-align: top;\n",
       "    }\n",
       "\n",
       "    .dataframe thead th {\n",
       "        text-align: right;\n",
       "    }\n",
       "</style>\n",
       "<table border=\"1\" class=\"dataframe\">\n",
       "  <thead>\n",
       "    <tr style=\"text-align: right;\">\n",
       "      <th></th>\n",
       "      <th>open</th>\n",
       "      <th>high</th>\n",
       "      <th>close</th>\n",
       "      <th>low</th>\n",
       "      <th>volume</th>\n",
       "      <th>price_change</th>\n",
       "      <th>p_change</th>\n",
       "      <th>ma5</th>\n",
       "      <th>ma10</th>\n",
       "      <th>ma20</th>\n",
       "      <th>...</th>\n",
       "      <th>v_ma10</th>\n",
       "      <th>v_ma20</th>\n",
       "      <th>turnover</th>\n",
       "      <th>buy_flag</th>\n",
       "      <th>Year</th>\n",
       "      <th>Month</th>\n",
       "      <th>Week</th>\n",
       "      <th>Day</th>\n",
       "      <th>Dayofweek</th>\n",
       "      <th>Elapsed</th>\n",
       "    </tr>\n",
       "  </thead>\n",
       "  <tbody>\n",
       "    <tr>\n",
       "      <th>30</th>\n",
       "      <td>12.93</td>\n",
       "      <td>13.55</td>\n",
       "      <td>13.47</td>\n",
       "      <td>12.90</td>\n",
       "      <td>241943.56</td>\n",
       "      <td>0.35</td>\n",
       "      <td>2.67</td>\n",
       "      <td>12.966</td>\n",
       "      <td>13.007</td>\n",
       "      <td>14.769</td>\n",
       "      <td>...</td>\n",
       "      <td>242648.57</td>\n",
       "      <td>272838.11</td>\n",
       "      <td>0.72</td>\n",
       "      <td>0.0</td>\n",
       "      <td>2022</td>\n",
       "      <td>11</td>\n",
       "      <td>44</td>\n",
       "      <td>3</td>\n",
       "      <td>3</td>\n",
       "      <td>1.667434e+09</td>\n",
       "    </tr>\n",
       "    <tr>\n",
       "      <th>31</th>\n",
       "      <td>13.06</td>\n",
       "      <td>13.36</td>\n",
       "      <td>13.12</td>\n",
       "      <td>12.75</td>\n",
       "      <td>227246.02</td>\n",
       "      <td>0.01</td>\n",
       "      <td>0.08</td>\n",
       "      <td>12.922</td>\n",
       "      <td>13.011</td>\n",
       "      <td>15.157</td>\n",
       "      <td>...</td>\n",
       "      <td>243501.67</td>\n",
       "      <td>268506.72</td>\n",
       "      <td>0.68</td>\n",
       "      <td>0.0</td>\n",
       "      <td>2022</td>\n",
       "      <td>11</td>\n",
       "      <td>44</td>\n",
       "      <td>2</td>\n",
       "      <td>2</td>\n",
       "      <td>1.667347e+09</td>\n",
       "    </tr>\n",
       "    <tr>\n",
       "      <th>32</th>\n",
       "      <td>12.57</td>\n",
       "      <td>13.13</td>\n",
       "      <td>13.11</td>\n",
       "      <td>12.44</td>\n",
       "      <td>192092.44</td>\n",
       "      <td>0.71</td>\n",
       "      <td>5.73</td>\n",
       "      <td>12.966</td>\n",
       "      <td>13.091</td>\n",
       "      <td>15.569</td>\n",
       "      <td>...</td>\n",
       "      <td>255853.39</td>\n",
       "      <td>267215.59</td>\n",
       "      <td>0.57</td>\n",
       "      <td>2.0</td>\n",
       "      <td>2022</td>\n",
       "      <td>11</td>\n",
       "      <td>44</td>\n",
       "      <td>1</td>\n",
       "      <td>1</td>\n",
       "      <td>1.667261e+09</td>\n",
       "    </tr>\n",
       "    <tr>\n",
       "      <th>33</th>\n",
       "      <td>12.60</td>\n",
       "      <td>12.78</td>\n",
       "      <td>12.40</td>\n",
       "      <td>12.35</td>\n",
       "      <td>161863.20</td>\n",
       "      <td>-0.33</td>\n",
       "      <td>-2.59</td>\n",
       "      <td>12.858</td>\n",
       "      <td>13.226</td>\n",
       "      <td>16.011</td>\n",
       "      <td>...</td>\n",
       "      <td>284628.12</td>\n",
       "      <td>273649.04</td>\n",
       "      <td>0.48</td>\n",
       "      <td>2.0</td>\n",
       "      <td>2022</td>\n",
       "      <td>10</td>\n",
       "      <td>44</td>\n",
       "      <td>31</td>\n",
       "      <td>0</td>\n",
       "      <td>1.667174e+09</td>\n",
       "    </tr>\n",
       "    <tr>\n",
       "      <th>34</th>\n",
       "      <td>13.25</td>\n",
       "      <td>13.31</td>\n",
       "      <td>12.73</td>\n",
       "      <td>12.70</td>\n",
       "      <td>179966.20</td>\n",
       "      <td>-0.52</td>\n",
       "      <td>-3.92</td>\n",
       "      <td>12.946</td>\n",
       "      <td>13.371</td>\n",
       "      <td>16.465</td>\n",
       "      <td>...</td>\n",
       "      <td>314846.22</td>\n",
       "      <td>276921.36</td>\n",
       "      <td>0.54</td>\n",
       "      <td>2.0</td>\n",
       "      <td>2022</td>\n",
       "      <td>10</td>\n",
       "      <td>43</td>\n",
       "      <td>28</td>\n",
       "      <td>4</td>\n",
       "      <td>1.666915e+09</td>\n",
       "    </tr>\n",
       "    <tr>\n",
       "      <th>...</th>\n",
       "      <td>...</td>\n",
       "      <td>...</td>\n",
       "      <td>...</td>\n",
       "      <td>...</td>\n",
       "      <td>...</td>\n",
       "      <td>...</td>\n",
       "      <td>...</td>\n",
       "      <td>...</td>\n",
       "      <td>...</td>\n",
       "      <td>...</td>\n",
       "      <td>...</td>\n",
       "      <td>...</td>\n",
       "      <td>...</td>\n",
       "      <td>...</td>\n",
       "      <td>...</td>\n",
       "      <td>...</td>\n",
       "      <td>...</td>\n",
       "      <td>...</td>\n",
       "      <td>...</td>\n",
       "      <td>...</td>\n",
       "      <td>...</td>\n",
       "    </tr>\n",
       "    <tr>\n",
       "      <th>574</th>\n",
       "      <td>18.96</td>\n",
       "      <td>19.70</td>\n",
       "      <td>19.35</td>\n",
       "      <td>18.61</td>\n",
       "      <td>169411.69</td>\n",
       "      <td>0.18</td>\n",
       "      <td>0.94</td>\n",
       "      <td>18.748</td>\n",
       "      <td>18.209</td>\n",
       "      <td>18.046</td>\n",
       "      <td>...</td>\n",
       "      <td>179920.59</td>\n",
       "      <td>192464.21</td>\n",
       "      <td>1.63</td>\n",
       "      <td>0.0</td>\n",
       "      <td>2020</td>\n",
       "      <td>8</td>\n",
       "      <td>32</td>\n",
       "      <td>5</td>\n",
       "      <td>2</td>\n",
       "      <td>1.596586e+09</td>\n",
       "    </tr>\n",
       "    <tr>\n",
       "      <th>575</th>\n",
       "      <td>18.74</td>\n",
       "      <td>19.42</td>\n",
       "      <td>19.17</td>\n",
       "      <td>18.50</td>\n",
       "      <td>242817.44</td>\n",
       "      <td>0.60</td>\n",
       "      <td>3.23</td>\n",
       "      <td>18.430</td>\n",
       "      <td>18.178</td>\n",
       "      <td>17.933</td>\n",
       "      <td>...</td>\n",
       "      <td>178646.61</td>\n",
       "      <td>191634.64</td>\n",
       "      <td>2.34</td>\n",
       "      <td>0.0</td>\n",
       "      <td>2020</td>\n",
       "      <td>8</td>\n",
       "      <td>32</td>\n",
       "      <td>4</td>\n",
       "      <td>1</td>\n",
       "      <td>1.596499e+09</td>\n",
       "    </tr>\n",
       "    <tr>\n",
       "      <th>576</th>\n",
       "      <td>18.51</td>\n",
       "      <td>18.87</td>\n",
       "      <td>18.57</td>\n",
       "      <td>18.35</td>\n",
       "      <td>176309.28</td>\n",
       "      <td>0.27</td>\n",
       "      <td>1.48</td>\n",
       "      <td>18.016</td>\n",
       "      <td>18.161</td>\n",
       "      <td>17.819</td>\n",
       "      <td>...</td>\n",
       "      <td>179127.83</td>\n",
       "      <td>188992.10</td>\n",
       "      <td>1.70</td>\n",
       "      <td>0.0</td>\n",
       "      <td>2020</td>\n",
       "      <td>8</td>\n",
       "      <td>32</td>\n",
       "      <td>3</td>\n",
       "      <td>0</td>\n",
       "      <td>1.596413e+09</td>\n",
       "    </tr>\n",
       "    <tr>\n",
       "      <th>577</th>\n",
       "      <td>18.39</td>\n",
       "      <td>18.58</td>\n",
       "      <td>18.30</td>\n",
       "      <td>17.83</td>\n",
       "      <td>193190.16</td>\n",
       "      <td>-0.05</td>\n",
       "      <td>-0.27</td>\n",
       "      <td>17.756</td>\n",
       "      <td>18.227</td>\n",
       "      <td>17.749</td>\n",
       "      <td>...</td>\n",
       "      <td>203306.86</td>\n",
       "      <td>190843.41</td>\n",
       "      <td>1.86</td>\n",
       "      <td>0.0</td>\n",
       "      <td>2020</td>\n",
       "      <td>7</td>\n",
       "      <td>31</td>\n",
       "      <td>31</td>\n",
       "      <td>4</td>\n",
       "      <td>1.596154e+09</td>\n",
       "    </tr>\n",
       "    <tr>\n",
       "      <th>578</th>\n",
       "      <td>18.16</td>\n",
       "      <td>18.64</td>\n",
       "      <td>18.35</td>\n",
       "      <td>17.79</td>\n",
       "      <td>215596.52</td>\n",
       "      <td>0.59</td>\n",
       "      <td>3.32</td>\n",
       "      <td>17.624</td>\n",
       "      <td>18.190</td>\n",
       "      <td>17.660</td>\n",
       "      <td>...</td>\n",
       "      <td>209209.51</td>\n",
       "      <td>187087.72</td>\n",
       "      <td>2.08</td>\n",
       "      <td>0.0</td>\n",
       "      <td>2020</td>\n",
       "      <td>7</td>\n",
       "      <td>31</td>\n",
       "      <td>30</td>\n",
       "      <td>3</td>\n",
       "      <td>1.596067e+09</td>\n",
       "    </tr>\n",
       "  </tbody>\n",
       "</table>\n",
       "<p>549 rows × 21 columns</p>\n",
       "</div>"
      ],
      "text/plain": [
       "      open   high  close    low     volume  price_change  p_change     ma5  \\\n",
       "30   12.93  13.55  13.47  12.90  241943.56          0.35      2.67  12.966   \n",
       "31   13.06  13.36  13.12  12.75  227246.02          0.01      0.08  12.922   \n",
       "32   12.57  13.13  13.11  12.44  192092.44          0.71      5.73  12.966   \n",
       "33   12.60  12.78  12.40  12.35  161863.20         -0.33     -2.59  12.858   \n",
       "34   13.25  13.31  12.73  12.70  179966.20         -0.52     -3.92  12.946   \n",
       "..     ...    ...    ...    ...        ...           ...       ...     ...   \n",
       "574  18.96  19.70  19.35  18.61  169411.69          0.18      0.94  18.748   \n",
       "575  18.74  19.42  19.17  18.50  242817.44          0.60      3.23  18.430   \n",
       "576  18.51  18.87  18.57  18.35  176309.28          0.27      1.48  18.016   \n",
       "577  18.39  18.58  18.30  17.83  193190.16         -0.05     -0.27  17.756   \n",
       "578  18.16  18.64  18.35  17.79  215596.52          0.59      3.32  17.624   \n",
       "\n",
       "       ma10    ma20  ...     v_ma10     v_ma20  turnover  buy_flag  Year  \\\n",
       "30   13.007  14.769  ...  242648.57  272838.11      0.72       0.0  2022   \n",
       "31   13.011  15.157  ...  243501.67  268506.72      0.68       0.0  2022   \n",
       "32   13.091  15.569  ...  255853.39  267215.59      0.57       2.0  2022   \n",
       "33   13.226  16.011  ...  284628.12  273649.04      0.48       2.0  2022   \n",
       "34   13.371  16.465  ...  314846.22  276921.36      0.54       2.0  2022   \n",
       "..      ...     ...  ...        ...        ...       ...       ...   ...   \n",
       "574  18.209  18.046  ...  179920.59  192464.21      1.63       0.0  2020   \n",
       "575  18.178  17.933  ...  178646.61  191634.64      2.34       0.0  2020   \n",
       "576  18.161  17.819  ...  179127.83  188992.10      1.70       0.0  2020   \n",
       "577  18.227  17.749  ...  203306.86  190843.41      1.86       0.0  2020   \n",
       "578  18.190  17.660  ...  209209.51  187087.72      2.08       0.0  2020   \n",
       "\n",
       "     Month  Week  Day  Dayofweek       Elapsed  \n",
       "30      11    44    3          3  1.667434e+09  \n",
       "31      11    44    2          2  1.667347e+09  \n",
       "32      11    44    1          1  1.667261e+09  \n",
       "33      10    44   31          0  1.667174e+09  \n",
       "34      10    43   28          4  1.666915e+09  \n",
       "..     ...   ...  ...        ...           ...  \n",
       "574      8    32    5          2  1.596586e+09  \n",
       "575      8    32    4          1  1.596499e+09  \n",
       "576      8    32    3          0  1.596413e+09  \n",
       "577      7    31   31          4  1.596154e+09  \n",
       "578      7    31   30          3  1.596067e+09  \n",
       "\n",
       "[549 rows x 21 columns]"
      ]
     },
     "execution_count": 32,
     "metadata": {},
     "output_type": "execute_result"
    }
   ],
   "source": [
    "# 增加日期特征\n",
    "add_datepart(df, \"date\", drop=False)\n",
    "seq_length = 30\n",
    "train_df = df[seq_length:-seq_length]\n",
    "# 丢掉不重要的特征\n",
    "train_df = train_df.drop(['date','Is_month_end', 'Is_month_start', 'Is_quarter_end',\n",
    "                          'Is_quarter_start', 'Is_year_end', 'Is_year_start','Dayofyear'],axis=1)\n",
    "train_df"
   ]
  },
  {
   "cell_type": "code",
   "execution_count": 33,
   "metadata": {
    "execution": {
     "iopub.execute_input": "2022-12-16T06:17:08.794166Z",
     "iopub.status.busy": "2022-12-16T06:17:08.793542Z",
     "iopub.status.idle": "2022-12-16T06:17:08.799001Z",
     "shell.execute_reply": "2022-12-16T06:17:08.798239Z",
     "shell.execute_reply.started": "2022-12-16T06:17:08.794128Z"
    },
    "scrolled": true,
    "tags": []
   },
   "outputs": [],
   "source": [
    "# 数据清洗，填充nan值\n",
    "train_df= train_df.fillna(0)"
   ]
  },
  {
   "cell_type": "markdown",
   "metadata": {},
   "source": [
    "### 3.4 构造训练集与验证集"
   ]
  },
  {
   "cell_type": "code",
   "execution_count": 34,
   "metadata": {
    "execution": {
     "iopub.execute_input": "2022-12-16T06:17:10.834098Z",
     "iopub.status.busy": "2022-12-16T06:17:10.833473Z",
     "iopub.status.idle": "2022-12-16T06:17:10.839711Z",
     "shell.execute_reply": "2022-12-16T06:17:10.838967Z",
     "shell.execute_reply.started": "2022-12-16T06:17:10.834060Z"
    },
    "id": "1lFEUpUb9p8_",
    "scrolled": true,
    "tags": []
   },
   "outputs": [],
   "source": [
    "def sliding_windows(data, label, seq_length):\n",
    "    x = []\n",
    "    y = []\n",
    "\n",
    "    for i in range(len(data)-seq_length-1):\n",
    "        _x = data[i:(i+seq_length)]\n",
    "        _y = label[i+seq_length]\n",
    "        x.append(_x)\n",
    "        y.append(_y)\n",
    "\n",
    "    return np.array(x),np.array(y)"
   ]
  },
  {
   "cell_type": "code",
   "execution_count": 35,
   "metadata": {
    "execution": {
     "iopub.execute_input": "2022-12-16T06:17:12.394870Z",
     "iopub.status.busy": "2022-12-16T06:17:12.394261Z",
     "iopub.status.idle": "2022-12-16T06:17:12.408216Z",
     "shell.execute_reply": "2022-12-16T06:17:12.407487Z",
     "shell.execute_reply.started": "2022-12-16T06:17:12.394830Z"
    },
    "id": "rTfQj849ciMh",
    "outputId": "8f48234d-d469-4b6c-a983-3d3f1cf4f0cf",
    "scrolled": true,
    "tags": []
   },
   "outputs": [],
   "source": [
    "# 数据归一化\n",
    "y_scaler = MinMaxScaler()\n",
    "x_scaler = MinMaxScaler()\n",
    "\n",
    "X = train_df.drop(['buy_flag'],axis=1).values\n",
    "X = x_scaler.fit_transform(X)\n",
    "Y = train_df['buy_flag']\n",
    "Y = np.array(Y).reshape(-1,1)\n",
    "\n",
    "x, y = sliding_windows(X, Y, seq_length)\n",
    "\n",
    "y_train,y_test = y[:int(y.shape[0]*0.8)],y[int(y.shape[0]*0.8):]\n",
    "x_train,x_test = x[:int(x.shape[0]*0.8)],x[int(x.shape[0]*0.8):]"
   ]
  },
  {
   "cell_type": "code",
   "execution_count": 36,
   "metadata": {
    "execution": {
     "iopub.execute_input": "2022-12-16T06:17:13.274280Z",
     "iopub.status.busy": "2022-12-16T06:17:13.273406Z",
     "iopub.status.idle": "2022-12-16T06:17:14.843017Z",
     "shell.execute_reply": "2022-12-16T06:17:14.842080Z",
     "shell.execute_reply.started": "2022-12-16T06:17:13.274249Z"
    },
    "scrolled": true,
    "tags": []
   },
   "outputs": [],
   "source": [
    "class MyDataset(paddle.io.Dataset):\n",
    "    \"\"\"\n",
    "    步骤一：继承paddle.io.Dataset类\n",
    "    \"\"\"\n",
    "    def __init__(self, x, y):\n",
    "        \"\"\"\n",
    "        步骤二：实现 __init__ 函数，初始化数据集，将样本和标签映射到列表中\n",
    "        \"\"\"\n",
    "        super(MyDataset, self).__init__()\n",
    "        self.data = paddle.to_tensor(x.transpose(1,0,2), dtype='float32')\n",
    "        self.label = paddle.to_tensor(y, dtype='float32')\n",
    "\n",
    "    def __getitem__(self, index):\n",
    "        \"\"\"\n",
    "        步骤三：实现__getitem__函数，定义指定index时如何获取数据，并返回单条数据（样本数据、对应的标签）\n",
    "        \"\"\"\n",
    "        data = self.data[index]\n",
    "        label = self.label[index]\n",
    "        return data, label\n",
    "\n",
    "    def __len__(self):\n",
    "        \"\"\"\n",
    "        步骤四：实现__len__方法，返回数据集总数目\n",
    "        \"\"\"\n",
    "        return len(self.data)\n",
    "\n",
    "# 实例化数据集\n",
    "train_dataset = MyDataset(x_train, y_train)\n",
    "eval_dataset = MyDataset(x_test, y_test)"
   ]
  },
  {
   "cell_type": "code",
   "execution_count": 37,
   "metadata": {
    "execution": {
     "iopub.execute_input": "2022-12-16T06:17:14.862350Z",
     "iopub.status.busy": "2022-12-16T06:17:14.862052Z",
     "iopub.status.idle": "2022-12-16T06:17:14.867151Z",
     "shell.execute_reply": "2022-12-16T06:17:14.866542Z",
     "shell.execute_reply.started": "2022-12-16T06:17:14.862327Z"
    },
    "scrolled": true,
    "tags": []
   },
   "outputs": [
    {
     "data": {
      "text/plain": [
       "array([0.02669633, 0.02337734, 0.01220189, 0.02822229, 0.21558632,\n",
       "       0.49770115, 0.3485    , 0.02159498, 0.05927717, 0.10762601,\n",
       "       0.35886254, 0.51202575, 0.66379212, 0.13411765, 1.        ,\n",
       "       0.81818182, 0.80769231, 0.76666667, 0.        , 0.98789346])"
      ]
     },
     "execution_count": 37,
     "metadata": {},
     "output_type": "execute_result"
    }
   ],
   "source": [
    "# 查看数据样本\n",
    "x_train[0][8]"
   ]
  },
  {
   "cell_type": "code",
   "execution_count": 38,
   "metadata": {
    "execution": {
     "iopub.execute_input": "2022-12-16T06:17:16.633579Z",
     "iopub.status.busy": "2022-12-16T06:17:16.632951Z",
     "iopub.status.idle": "2022-12-16T06:17:16.638888Z",
     "shell.execute_reply": "2022-12-16T06:17:16.638194Z",
     "shell.execute_reply.started": "2022-12-16T06:17:16.633538Z"
    },
    "scrolled": true,
    "tags": []
   },
   "outputs": [
    {
     "data": {
      "text/plain": [
       "(414, 30, 20)"
      ]
     },
     "execution_count": 38,
     "metadata": {},
     "output_type": "execute_result"
    }
   ],
   "source": [
    "x_train.shape"
   ]
  },
  {
   "cell_type": "code",
   "execution_count": 39,
   "metadata": {
    "execution": {
     "iopub.execute_input": "2022-12-16T06:17:17.433626Z",
     "iopub.status.busy": "2022-12-16T06:17:17.432984Z",
     "iopub.status.idle": "2022-12-16T06:17:17.438935Z",
     "shell.execute_reply": "2022-12-16T06:17:17.438165Z",
     "shell.execute_reply.started": "2022-12-16T06:17:17.433584Z"
    },
    "scrolled": true,
    "tags": []
   },
   "outputs": [
    {
     "data": {
      "text/plain": [
       "(414, 1)"
      ]
     },
     "execution_count": 39,
     "metadata": {},
     "output_type": "execute_result"
    }
   ],
   "source": [
    "y_train.shape"
   ]
  },
  {
   "cell_type": "markdown",
   "metadata": {
    "id": "AdxqhZhsveTO"
   },
   "source": [
    "## 4. 模型组网\n",
    "\n",
    "本项目构造了简单的LSTM层，具体步骤如下：\n",
    "\n",
    "1. 连接LSTM层，从时间步的维度进行时序建模。\n",
    "2. 通过全连接层输出预测值。\n",
    "3. 模型的损失函数选择为均方误差，优化方法采用adam优化器。"
   ]
  },
  {
   "cell_type": "code",
   "execution_count": 40,
   "metadata": {
    "execution": {
     "iopub.execute_input": "2022-12-16T06:17:18.970900Z",
     "iopub.status.busy": "2022-12-16T06:17:18.970275Z",
     "iopub.status.idle": "2022-12-16T06:17:18.977486Z",
     "shell.execute_reply": "2022-12-16T06:17:18.976738Z",
     "shell.execute_reply.started": "2022-12-16T06:17:18.970863Z"
    },
    "id": "G7YiZPhrcX2k",
    "scrolled": true,
    "tags": []
   },
   "outputs": [],
   "source": [
    "class LSTM(paddle.nn.Layer):\n",
    "\n",
    "    def __init__(self, num_classes, input_size, hidden_size, num_layers):\n",
    "        super(LSTM, self).__init__()\n",
    "        \n",
    "        self.num_classes = num_classes\n",
    "        self.num_layers = num_layers\n",
    "        self.input_size = input_size\n",
    "        self.hidden_size = hidden_size\n",
    "        self.seq_length = seq_length       \n",
    "        self.lstm = paddle.nn.LSTM(input_size=input_size, hidden_size=hidden_size,\n",
    "                            num_layers=num_layers)\n",
    "        # self.relu = paddle.nn.ReLU()\n",
    "        self.fc = paddle.nn.Linear(hidden_size, num_classes)\n",
    "        # self.relu = paddle.nn.ReLU()\n",
    "        # self.head = paddle.nn.Linear(int(hidden_size/2), out_features=num_classes)\n",
    "        \n",
    "\n",
    "    def forward(self, x):\n",
    "        x, (h, c)=self.lstm(x)\n",
    "        # print(h)\n",
    "        # x = x[:,-1,:]\n",
    "        h = h[-1]\n",
    "        x = self.fc(h) \n",
    "        # x = self.head(x)\n",
    "        # print(out)\n",
    "        return x"
   ]
  },
  {
   "cell_type": "code",
   "execution_count": 41,
   "metadata": {
    "execution": {
     "iopub.execute_input": "2022-12-16T06:17:20.353907Z",
     "iopub.status.busy": "2022-12-16T06:17:20.353268Z",
     "iopub.status.idle": "2022-12-16T06:17:21.640082Z",
     "shell.execute_reply": "2022-12-16T06:17:21.639260Z",
     "shell.execute_reply.started": "2022-12-16T06:17:20.353865Z"
    },
    "scrolled": true,
    "tags": []
   },
   "outputs": [
    {
     "name": "stderr",
     "output_type": "stream",
     "text": [
      "W1216 14:17:20.358139  4248 gpu_resources.cc:61] Please NOTE: device: 0, GPU Compute Capability: 7.0, Driver API Version: 11.2, Runtime API Version: 11.2\r\n",
      "W1216 14:17:20.361869  4248 gpu_resources.cc:91] device: 0, cuDNN Version: 8.2.\r\n"
     ]
    },
    {
     "name": "stdout",
     "output_type": "stream",
     "text": [
      "-----------------------------------------------------------------------------------------------------\r\n",
      " Layer (type)       Input Shape                       Output Shape                      Param #    \r\n",
      "=====================================================================================================\r\n",
      "    LSTM-2        [[30, 796, 18]]    [[30, 796, 300], [[1, 30, 300], [1, 30, 300]]]     384,000    \r\n",
      "   Linear-1         [[30, 300]]                        [30, 128]                        38,528     \r\n",
      "=====================================================================================================\r\n",
      "Total params: 422,528\r\n",
      "Trainable params: 422,528\r\n",
      "Non-trainable params: 0\r\n",
      "-----------------------------------------------------------------------------------------------------\r\n",
      "Input size (MB): 1.64\r\n",
      "Forward/backward pass size (MB): 54.82\r\n",
      "Params size (MB): 1.61\r\n",
      "Estimated Total Size (MB): 58.08\r\n",
      "-----------------------------------------------------------------------------------------------------\r\n",
      "\r\n"
     ]
    },
    {
     "data": {
      "text/plain": [
       "{'total_params': 422528, 'trainable_params': 422528}"
      ]
     },
     "execution_count": 41,
     "metadata": {},
     "output_type": "execute_result"
    }
   ],
   "source": [
    "# 打印网络结构\n",
    "model = LSTM(128,18,300,1)\n",
    "paddle.summary(model, (30,796,18))"
   ]
  },
  {
   "cell_type": "markdown",
   "metadata": {
    "id": "qtAlB3X3vwED"
   },
   "source": [
    "## 5. 模型训练\n",
    "\n",
    "使用模型网络结构和数据集进行模型训练。\n",
    "\n",
    "在高层API中，可以用 paddle.Model 完成模型封装后，然后通过 Model.prepare 进行训练前的配置准备工作，包括设置优化算法、Loss 计算方法、评价指标计算方法；接着通过Model.fit接口来启动训练。\n",
    "\n",
    "在训练过程中，需要根据模型训练过程中loss，打印loss下降曲线来调参。为了保存训练时每个batch的loss信息，需要自己定义Callback函数，完成模型训练时loss信息的记录。"
   ]
  },
  {
   "cell_type": "code",
   "execution_count": 42,
   "metadata": {
    "execution": {
     "iopub.execute_input": "2022-12-16T06:17:26.394097Z",
     "iopub.status.busy": "2022-12-16T06:17:26.393502Z",
     "iopub.status.idle": "2022-12-16T06:17:26.401124Z",
     "shell.execute_reply": "2022-12-16T06:17:26.399716Z",
     "shell.execute_reply.started": "2022-12-16T06:17:26.394060Z"
    },
    "scrolled": true,
    "tags": []
   },
   "outputs": [],
   "source": [
    "# 自定义Callback 需要继承基类 Callback\n",
    "class LossCallback(paddle.callbacks.Callback):\n",
    "\n",
    "    def __init__(self):\n",
    "        self.losses = []\n",
    "        \n",
    "    def on_train_begin(self, logs={}):\n",
    "        # 在fit前 初始化losses，用于保存每个batch的loss结果\n",
    "        self.losses = []\n",
    "    \n",
    "    def on_train_batch_end(self, step, logs={}):\n",
    "        # 每个batch训练完成后调用，把当前loss添加到losses中\n",
    "        self.losses.append(logs.get('loss'))\n",
    "loss_log = LossCallback()"
   ]
  },
  {
   "cell_type": "code",
   "execution_count": 53,
   "metadata": {
    "execution": {
     "iopub.execute_input": "2022-12-16T06:18:50.396897Z",
     "iopub.status.busy": "2022-12-16T06:18:50.395549Z",
     "iopub.status.idle": "2022-12-16T06:18:51.791238Z",
     "shell.execute_reply": "2022-12-16T06:18:51.790187Z",
     "shell.execute_reply.started": "2022-12-16T06:18:50.396855Z"
    },
    "scrolled": true,
    "tags": []
   },
   "outputs": [
    {
     "name": "stdout",
     "output_type": "stream",
     "text": [
      "The loss value printed in the log is the current step, and the metric is the average value of previous steps.\r\n",
      "Epoch 1/15\r\n",
      "step 4/4 [==============================] - loss: 1.0933 - acc: 0.3000 - 22ms/step\r\n",
      "save checkpoint at /home/aistudio/lstm_checkpoint/0\r\n",
      "Eval begin...\r\n",
      "step 4/4 [==============================] - loss: 0.4172 - acc: 0.4667 - 4ms/step\r\n",
      "Eval samples: 30\r\n",
      "Epoch 2/15\r\n",
      "step 4/4 [==============================] - loss: 0.9002 - acc: 0.3000 - 21ms/step\r\n",
      "Epoch 3/15\r\n",
      "step 4/4 [==============================] - loss: 1.0754 - acc: 0.3000 - 21ms/step\r\n",
      "Epoch 4/15\r\n",
      "step 4/4 [==============================] - loss: 1.1614 - acc: 0.3000 - 19ms/step\r\n",
      "Epoch 5/15\r\n",
      "step 4/4 [==============================] - loss: 0.9959 - acc: 0.3000 - 19ms/step\r\n",
      "Epoch 6/15\r\n",
      "step 4/4 [==============================] - loss: 0.9359 - acc: 0.3000 - 19ms/step\r\n",
      "Epoch 7/15\r\n",
      "step 4/4 [==============================] - loss: 0.9251 - acc: 0.3000 - 19ms/step\r\n",
      "Epoch 8/15\r\n",
      "step 4/4 [==============================] - loss: 0.9358 - acc: 0.3000 - 19ms/step\r\n",
      "Epoch 9/15\r\n",
      "step 4/4 [==============================] - loss: 0.9616 - acc: 0.3000 - 19ms/step\r\n",
      "Epoch 10/15\r\n",
      "step 4/4 [==============================] - loss: 0.9845 - acc: 0.3000 - 19ms/step\r\n",
      "Epoch 11/15\r\n",
      "step 4/4 [==============================] - loss: 0.9746 - acc: 0.3000 - 19ms/step\r\n",
      "save checkpoint at /home/aistudio/lstm_checkpoint/10\r\n",
      "Eval begin...\r\n",
      "step 4/4 [==============================] - loss: 0.2339 - acc: 0.4667 - 4ms/step\r\n",
      "Eval samples: 30\r\n",
      "Epoch 12/15\r\n",
      "step 4/4 [==============================] - loss: 0.9414 - acc: 0.3000 - 20ms/step\r\n",
      "Epoch 13/15\r\n",
      "step 4/4 [==============================] - loss: 0.9167 - acc: 0.3000 - 20ms/step\r\n",
      "Epoch 14/15\r\n",
      "step 4/4 [==============================] - loss: 0.9058 - acc: 0.3000 - 19ms/step\r\n",
      "Epoch 15/15\r\n",
      "step 4/4 [==============================] - loss: 0.8950 - acc: 0.3000 - 19ms/step\r\n",
      "save checkpoint at /home/aistudio/lstm_checkpoint/final\r\n"
     ]
    }
   ],
   "source": [
    "from paddle.static import InputSpec\n",
    "# 参数设置\n",
    "num_epochs = 15\n",
    "learning_rate = 5e-4\n",
    "\n",
    "input_size = train_df.shape[1]-1 # 输入的变量指标数量\n",
    "hidden_size = 300 # 隐藏状态 h 大小\n",
    "num_layers = 1 # 循环网络的层数\n",
    "\n",
    "num_classes = 1 # 输出的特征数\n",
    "batch_size = 8\n",
    "\n",
    "model = paddle.Model(LSTM(num_classes, input_size, hidden_size, num_layers))\n",
    "\n",
    "lr_schedual = paddle.optimizer.lr.CosineAnnealingDecay(learning_rate=learning_rate, T_max=num_epochs, verbose=False)\n",
    "# 设置优化器，学习率，并且把模型参数给优化器\n",
    "opt = paddle.optimizer.Adam(learning_rate=learning_rate,parameters=model.parameters(), beta1=0.9, beta2=0.999)\n",
    "\n",
    "model.prepare(\n",
    "    opt,\n",
    "    paddle.nn.MSELoss(),\n",
    "    paddle.metric.Accuracy()\n",
    "    )\n",
    "    \n",
    "model.fit(train_dataset,\n",
    "        eval_dataset,\n",
    "        epochs=num_epochs,\n",
    "        batch_size=batch_size,\n",
    "        eval_freq=10, \n",
    "        save_freq=10,\n",
    "        save_dir='lstm_checkpoint',\n",
    "        verbose=1,\n",
    "        drop_last=False,\n",
    "        shuffle=False,\n",
    "        callbacks=[loss_log]\n",
    "        )"
   ]
  },
  {
   "cell_type": "code",
   "execution_count": 54,
   "metadata": {
    "execution": {
     "iopub.execute_input": "2022-12-16T06:18:54.108179Z",
     "iopub.status.busy": "2022-12-16T06:18:54.106762Z",
     "iopub.status.idle": "2022-12-16T06:18:54.269611Z",
     "shell.execute_reply": "2022-12-16T06:18:54.268682Z",
     "shell.execute_reply.started": "2022-12-16T06:18:54.108134Z"
    },
    "scrolled": true,
    "tags": []
   },
   "outputs": [
    {
     "data": {
      "text/plain": [
       "[<matplotlib.lines.Line2D at 0x7fa0908fee10>]"
      ]
     },
     "execution_count": 54,
     "metadata": {},
     "output_type": "execute_result"
    },
    {
     "data": {
      "image/png": "[encoded data removed]",
      "text/plain": [
       "<Figure size 640x480 with 1 Axes>"
      ]
     },
     "metadata": {},
     "output_type": "display_data"
    }
   ],
   "source": [
    "# 可视化 loss\n",
    "log_loss = [loss_log.losses[i] for i in range(0, len(loss_log.losses), 10)]\n",
    "plt.figure()\n",
    "plt.plot(log_loss)"
   ]
  },
  {
   "cell_type": "markdown",
   "metadata": {},
   "source": [
    "## 6. 模型评估\n",
    "\n",
    "评估指标(Metric)用来衡量一个模型的效果, 一般是通过计算模型的预测结果和真实结果之间的某种差距。\n",
    "\n",
    "使用Paddle高层API的Model.evaluate接口可以一键完成模型评估操作，结束后根据在Model.prepare中定义的loss和metric计算并返回相关评估结果。"
   ]
  },
  {
   "cell_type": "code",
   "execution_count": 55,
   "metadata": {
    "execution": {
     "iopub.execute_input": "2022-12-16T06:18:57.034665Z",
     "iopub.status.busy": "2022-12-16T06:18:57.033254Z",
     "iopub.status.idle": "2022-12-16T06:18:57.103185Z",
     "shell.execute_reply": "2022-12-16T06:18:57.102174Z",
     "shell.execute_reply.started": "2022-12-16T06:18:57.034620Z"
    },
    "scrolled": true,
    "tags": []
   },
   "outputs": [
    {
     "name": "stdout",
     "output_type": "stream",
     "text": [
      "Eval begin...\r\n",
      "step 4/4 [==============================] - loss: 0.2282 - acc: 0.4667 - 4ms/step\r\n",
      "Eval samples: 30\r\n",
      "{'loss': [0.22817002], 'acc': 0.4666666666666667}\r\n"
     ]
    }
   ],
   "source": [
    "model.load('lstm_checkpoint/final')\n",
    "# 用 evaluate 在测试集上对模型进行验证\n",
    "eval_result = model.evaluate(eval_dataset,batch_size=batch_size, verbose=1)\n",
    "print(eval_result)"
   ]
  },
  {
   "cell_type": "markdown",
   "metadata": {},
   "source": [
    "## 7. 模型预测\n",
    "\n",
    "对模型进行预测，展示效果。高层API中提供了Model.predict接口，可对训练好的模型进行推理验证。只需传入待执行推理验证的样本数据，即可计算并返回推理结果。"
   ]
  },
  {
   "cell_type": "code",
   "execution_count": 56,
   "metadata": {
    "execution": {
     "iopub.execute_input": "2022-12-16T06:18:59.516681Z",
     "iopub.status.busy": "2022-12-16T06:18:59.515138Z",
     "iopub.status.idle": "2022-12-16T06:18:59.656246Z",
     "shell.execute_reply": "2022-12-16T06:18:59.655492Z",
     "shell.execute_reply.started": "2022-12-16T06:18:59.516616Z"
    },
    "scrolled": true,
    "tags": []
   },
   "outputs": [
    {
     "name": "stdout",
     "output_type": "stream",
     "text": [
      "Predict begin...\r\n",
      "step 30/30 [==============================] - 2ms/step          \r\n",
      "Predict samples: 30\r\n",
      "1\r\n",
      "[[0.54194236]]\r\n",
      "预测值:[0.54194236], 实际值:Tensor(shape=[1], dtype=float32, place=Place(gpu:0), stop_gradient=True,\r\n",
      "       [1.])\r\n"
     ]
    }
   ],
   "source": [
    "model.load('lstm_checkpoint/final')\n",
    "test_result = model.predict(eval_dataset)\n",
    "# 由于模型是单一输出，test_result的形状为[1, N]，N是测试数据集的数据量。这里打印第一个数据的预测结果。\n",
    "print(len(test_result))\n",
    "print(test_result[0][0])\n",
    "print('预测值:{0}, 实际值:{1}'.format(test_result[0][0][0],eval_dataset[0][1][0]))"
   ]
  }
 ],
 "metadata": {
  "colab": {
   "provenance": []
  },
  "kernelspec": {
   "display_name": "paddle",
   "language": "python",
   "name": "python3"
  },
  "language_info": {
   "codemirror_mode": {
    "name": "ipython",
    "version": 3
   },
   "file_extension": ".py",
   "mimetype": "text/x-python",
   "name": "python",
   "nbconvert_exporter": "python",
   "pygments_lexer": "ipython3",
   "version": "3.7.7 (default, Mar 23 2020, 23:19:08) [MSC v.1916 64 bit (AMD64)]"
  },
  "vscode": {
   "interpreter": {
    "hash": "24f52e8914671cccecfb91baee86f3f5b5135d38cab409eee6d1016945fda542"
   }
  }
 },
 "nbformat": 4,
 "nbformat_minor": 4
}
