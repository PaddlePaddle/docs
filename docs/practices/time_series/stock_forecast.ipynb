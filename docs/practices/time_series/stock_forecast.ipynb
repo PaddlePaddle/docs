{
 "cells": [
  {
   "cell_type": "markdown",
   "metadata": {
    "execution": {
     "iopub.execute_input": "2022-11-09T15:52:16.809527Z",
     "iopub.status.busy": "2022-11-09T15:52:16.808789Z",
     "iopub.status.idle": "2022-11-09T15:52:16.812345Z",
     "shell.execute_reply": "2022-11-09T15:52:16.811536Z",
     "shell.execute_reply.started": "2022-11-09T15:52:16.809499Z"
    },
    "tags": []
   },
   "source": [
    "# baostock证券数据集下使用LSTM模型预测A股走势\n",
    "\n",
    "作者信息：[edencfc](https://github.com/edencfc)\n",
    "\n",
    "更新日期：2022 年 11 月 10 日\n",
    "\n",
    "摘要: 本示例将会演示如何使用飞桨完成多变量输入的时序数据预测任务。**这个任务以一只A股的价格走势作为示例，将会构建一个LSTM网络预测其未来的涨跌情况。**\n",
    "\n",
    "--"
   ]
  },
  {
   "cell_type": "markdown",
   "metadata": {},
   "source": [
    "## 1. 简要介绍\n",
    "\n",
    "本示例将实现在[证券宝](www.baostock.com)上基于股票的历史走势信息，对未来一个交易日的涨跌的趋势进行预测。\n",
    "\n",
    "## 2. 环境设置\n",
    "\n",
    "本示例基于PaddlePaddle 2.4.0 编写，如果你的环境不是本版本，请先参考官网安装 PaddlePaddle 2.4.0。"
   ]
  },
  {
   "cell_type": "code",
   "execution_count": 2,
   "metadata": {
    "execution": {
     "iopub.execute_input": "2022-11-10T05:28:22.978479Z",
     "iopub.status.busy": "2022-11-10T05:28:22.977829Z",
     "iopub.status.idle": "2022-11-10T05:28:22.981363Z",
     "shell.execute_reply": "2022-11-10T05:28:22.980688Z",
     "shell.execute_reply.started": "2022-11-10T05:28:22.978427Z"
    },
    "scrolled": true,
    "tags": []
   },
   "outputs": [],
   "source": [
    "!pip install dnutils\n",
    "!pip install mpl_finance"
   ]
  },
  {
   "cell_type": "code",
   "execution_count": 4,
   "metadata": {
    "execution": {
     "iopub.execute_input": "2022-11-10T05:28:34.282988Z",
     "iopub.status.busy": "2022-11-10T05:28:34.282325Z",
     "iopub.status.idle": "2022-11-10T05:28:34.286261Z",
     "shell.execute_reply": "2022-11-10T05:28:34.285635Z",
     "shell.execute_reply.started": "2022-11-10T05:28:34.282954Z"
    },
    "scrolled": true,
    "tags": []
   },
   "outputs": [],
   "source": [
    "%matplotlib inline\n",
    "import numpy as np\n",
    "import pandas as pd\n",
    "import re\n",
    "from matplotlib import pyplot as plt\n",
    "from matplotlib.ticker import MultipleLocator\n",
    "from mpl_finance import candlestick2_ochl\n",
    "from dnutils import ifnone\n",
    "from sklearn.preprocessing import MinMaxScaler\n",
    "\n",
    "# 导入 paddle\n",
    "import paddle\n",
    "import paddle.nn.functional as F\n",
    "print(paddle.__version__)\n",
    "\n",
    "import warnings\n",
    "warnings.filterwarnings(\"ignore\")"
   ]
  },
  {
   "cell_type": "markdown",
   "metadata": {},
   "source": [
    "## 3. 数据集\n",
    "\n",
    "### 3.1 数据下载与查看\n",
    "证券宝 www.baostock.com 是一个免费、开源的证券数据平台（无需注册）。其优点请访问[官网](http://baostock.com/baostock/index.php/首页)。"
   ]
  },
  {
   "cell_type": "code",
   "execution_count": null,
   "metadata": {
    "scrolled": true
   },
   "outputs": [],
   "source": [
    "# 安装baostock库\n",
    "!pip install baostock -i https://pypi.tuna.tsinghua.edu.cn/simple/ --trusted-host pypi.tuna.tsinghua.edu.cn"
   ]
  },
  {
   "cell_type": "markdown",
   "metadata": {},
   "source": [
    "下载一只股票的k线数据，这里取sz.002648 15年以后的数据。"
   ]
  },
  {
   "cell_type": "code",
   "execution_count": null,
   "metadata": {
    "scrolled": true
   },
   "outputs": [],
   "source": [
    "import baostock as bs\n",
    "\n",
    "#### 登陆系统 ####\n",
    "lg = bs.login()\n",
    "\n",
    "#### 获取沪深A股历史K线数据 ####\n",
    "# 详细指标参数，参见“历史行情指标参数”章节；“分钟线”参数与“日线”参数不同。\n",
    "# 分钟线指标：date,time,code,open,high,low,close,volume,amount,adjustflag\n",
    "rs = bs.query_history_k_data_plus(\"sz.002648\",\n",
    "    \"date,code,open,high,low,close,preclose,volume,amount,adjustflag,turn,tradestatus,pctChg,isST\",\n",
    "    start_date='2015-01-01', end_date='2020-4-14',\n",
    "    frequency=\"d\", adjustflag=\"3\")\n",
    "\n",
    "#### 打印结果集 ####\n",
    "data_list = []\n",
    "while (rs.error_code == '0') & rs.next():\n",
    "    # 获取一条记录，将记录合并在一起\n",
    "    data_list.append(rs.get_row_data())\n",
    "df = pd.DataFrame(data_list, columns=rs.fields)\n",
    "\n",
    "print(df)\n",
    "\n",
    "#### 登出系统 ####\n",
    "bs.logout()"
   ]
  },
  {
   "cell_type": "code",
   "execution_count": null,
   "metadata": {
    "scrolled": true
   },
   "outputs": [],
   "source": [
    "df.to_csv(\"history_A_stock_k_data.csv\", index=False)"
   ]
  },
  {
   "cell_type": "markdown",
   "metadata": {},
   "source": [
    "在我们获取的历史A股K线数据中，各参数名称含义如下：\n",
    "\n",
    "- open 开盘价 \n",
    "- high 最高价 \n",
    "- low 最低价 \n",
    "- close 收盘价\n",
    "- preclose\t昨日收盘价\n",
    "- amount\t成交金额\n",
    "- pctChg\t涨跌幅（百分比）"
   ]
  },
  {
   "cell_type": "code",
   "execution_count": 5,
   "metadata": {
    "execution": {
     "iopub.execute_input": "2022-11-10T05:28:54.039133Z",
     "iopub.status.busy": "2022-11-10T05:28:54.038672Z",
     "iopub.status.idle": "2022-11-10T05:28:54.054370Z",
     "shell.execute_reply": "2022-11-10T05:28:54.053510Z",
     "shell.execute_reply.started": "2022-11-10T05:28:54.039100Z"
    },
    "id": "qNihlAB2xMXV",
    "scrolled": true,
    "tags": []
   },
   "outputs": [],
   "source": [
    "df = pd.read_csv(\"history_A_stock_k_data.csv\")\n",
    "float_type = ['open','high','low','close','preclose','amount','pctChg']\n",
    "\n",
    "for item in float_type:\n",
    "    df[item] = df[item].astype('float')\n",
    "\n",
    "df['amount'] = df['amount'].astype('int')\n",
    "df['volume'] = df['volume'].astype('int')\n",
    "df['turn'] = [0 if x == \"\" else float(x) for x in df[\"turn\"]]\n",
    "df['buy_flag'] = 10"
   ]
  },
  {
   "cell_type": "code",
   "execution_count": 3,
   "metadata": {
    "execution": {
     "iopub.execute_input": "2022-11-09T15:08:18.266335Z",
     "iopub.status.busy": "2022-11-09T15:08:18.265393Z",
     "iopub.status.idle": "2022-11-09T15:08:18.284066Z",
     "shell.execute_reply": "2022-11-09T15:08:18.283293Z",
     "shell.execute_reply.started": "2022-11-09T15:08:18.266303Z"
    },
    "scrolled": true,
    "tags": []
   },
   "outputs": [
    {
     "data": {
      "text/html": [
       "<div>\n",
       "<style scoped>\n",
       "    .dataframe tbody tr th:only-of-type {\n",
       "        vertical-align: middle;\n",
       "    }\n",
       "\n",
       "    .dataframe tbody tr th {\n",
       "        vertical-align: top;\n",
       "    }\n",
       "\n",
       "    .dataframe thead th {\n",
       "        text-align: right;\n",
       "    }\n",
       "</style>\n",
       "<table border=\"1\" class=\"dataframe\">\n",
       "  <thead>\n",
       "    <tr style=\"text-align: right;\">\n",
       "      <th></th>\n",
       "      <th>date</th>\n",
       "      <th>code</th>\n",
       "      <th>open</th>\n",
       "      <th>high</th>\n",
       "      <th>low</th>\n",
       "      <th>close</th>\n",
       "      <th>preclose</th>\n",
       "      <th>volume</th>\n",
       "      <th>amount</th>\n",
       "      <th>adjustflag</th>\n",
       "      <th>turn</th>\n",
       "      <th>tradestatus</th>\n",
       "      <th>pctChg</th>\n",
       "      <th>isST</th>\n",
       "      <th>buy_flag</th>\n",
       "    </tr>\n",
       "  </thead>\n",
       "  <tbody>\n",
       "    <tr>\n",
       "      <th>1281</th>\n",
       "      <td>2020-04-08</td>\n",
       "      <td>sz.002648</td>\n",
       "      <td>13.74</td>\n",
       "      <td>14.12</td>\n",
       "      <td>13.65</td>\n",
       "      <td>13.97</td>\n",
       "      <td>13.84</td>\n",
       "      <td>15477705</td>\n",
       "      <td>214734917</td>\n",
       "      <td>3</td>\n",
       "      <td>1.4908</td>\n",
       "      <td>1</td>\n",
       "      <td>0.9393</td>\n",
       "      <td>0</td>\n",
       "      <td>10</td>\n",
       "    </tr>\n",
       "    <tr>\n",
       "      <th>1282</th>\n",
       "      <td>2020-04-09</td>\n",
       "      <td>sz.002648</td>\n",
       "      <td>14.08</td>\n",
       "      <td>14.29</td>\n",
       "      <td>14.03</td>\n",
       "      <td>14.18</td>\n",
       "      <td>13.97</td>\n",
       "      <td>16011717</td>\n",
       "      <td>226975113</td>\n",
       "      <td>3</td>\n",
       "      <td>1.5423</td>\n",
       "      <td>1</td>\n",
       "      <td>1.5032</td>\n",
       "      <td>0</td>\n",
       "      <td>10</td>\n",
       "    </tr>\n",
       "    <tr>\n",
       "      <th>1283</th>\n",
       "      <td>2020-04-10</td>\n",
       "      <td>sz.002648</td>\n",
       "      <td>14.05</td>\n",
       "      <td>14.05</td>\n",
       "      <td>13.54</td>\n",
       "      <td>13.76</td>\n",
       "      <td>14.18</td>\n",
       "      <td>17320147</td>\n",
       "      <td>238855999</td>\n",
       "      <td>3</td>\n",
       "      <td>1.6694</td>\n",
       "      <td>1</td>\n",
       "      <td>-2.9619</td>\n",
       "      <td>0</td>\n",
       "      <td>10</td>\n",
       "    </tr>\n",
       "    <tr>\n",
       "      <th>1284</th>\n",
       "      <td>2020-04-13</td>\n",
       "      <td>sz.002648</td>\n",
       "      <td>14.19</td>\n",
       "      <td>15.14</td>\n",
       "      <td>14.00</td>\n",
       "      <td>14.96</td>\n",
       "      <td>13.76</td>\n",
       "      <td>56552045</td>\n",
       "      <td>834440561</td>\n",
       "      <td>3</td>\n",
       "      <td>5.4507</td>\n",
       "      <td>1</td>\n",
       "      <td>8.7209</td>\n",
       "      <td>0</td>\n",
       "      <td>10</td>\n",
       "    </tr>\n",
       "    <tr>\n",
       "      <th>1285</th>\n",
       "      <td>2020-04-14</td>\n",
       "      <td>sz.002648</td>\n",
       "      <td>15.06</td>\n",
       "      <td>15.20</td>\n",
       "      <td>14.80</td>\n",
       "      <td>14.89</td>\n",
       "      <td>14.96</td>\n",
       "      <td>42736530</td>\n",
       "      <td>638906444</td>\n",
       "      <td>3</td>\n",
       "      <td>4.1191</td>\n",
       "      <td>1</td>\n",
       "      <td>-0.4679</td>\n",
       "      <td>0</td>\n",
       "      <td>10</td>\n",
       "    </tr>\n",
       "  </tbody>\n",
       "</table>\n",
       "</div>"
      ],
      "text/plain": [
       "            date       code   open   high    low  close  preclose    volume  \\\n",
       "1281  2020-04-08  sz.002648  13.74  14.12  13.65  13.97     13.84  15477705   \n",
       "1282  2020-04-09  sz.002648  14.08  14.29  14.03  14.18     13.97  16011717   \n",
       "1283  2020-04-10  sz.002648  14.05  14.05  13.54  13.76     14.18  17320147   \n",
       "1284  2020-04-13  sz.002648  14.19  15.14  14.00  14.96     13.76  56552045   \n",
       "1285  2020-04-14  sz.002648  15.06  15.20  14.80  14.89     14.96  42736530   \n",
       "\n",
       "         amount  adjustflag    turn  tradestatus  pctChg  isST  buy_flag  \n",
       "1281  214734917           3  1.4908            1  0.9393     0        10  \n",
       "1282  226975113           3  1.5423            1  1.5032     0        10  \n",
       "1283  238855999           3  1.6694            1 -2.9619     0        10  \n",
       "1284  834440561           3  5.4507            1  8.7209     0        10  \n",
       "1285  638906444           3  4.1191            1 -0.4679     0        10  "
      ]
     },
     "execution_count": 3,
     "metadata": {},
     "output_type": "execute_result"
    }
   ],
   "source": [
    "df.tail()"
   ]
  },
  {
   "cell_type": "markdown",
   "metadata": {},
   "source": [
    "### 3.2 时间序列数据的展示\n",
    "绘制股票K线图"
   ]
  },
  {
   "cell_type": "code",
   "execution_count": 15,
   "metadata": {
    "execution": {
     "iopub.execute_input": "2022-11-10T05:32:40.079203Z",
     "iopub.status.busy": "2022-11-10T05:32:40.078405Z",
     "iopub.status.idle": "2022-11-10T05:32:41.538730Z",
     "shell.execute_reply": "2022-11-10T05:32:41.537874Z",
     "shell.execute_reply.started": "2022-11-10T05:32:40.079174Z"
    },
    "scrolled": true,
    "tags": []
   },
   "outputs": [
    {
     "data": {
      "image/png": "[encoded data removed]",
      "text/plain": [
       "<Figure size 2400x800 with 1 Axes>"
      ]
     },
     "metadata": {},
     "output_type": "display_data"
    }
   ],
   "source": [
    "fig, ax = plt.subplots(figsize=(24, 8))\n",
    "xmajorLocator = MultipleLocator(10)     # 将x轴主刻度设置为5的倍数\n",
    "ax.xaxis.set_major_locator(xmajorLocator)\n",
    "# 调用方法绘制K线图\n",
    "candlestick2_ochl(ax = ax, opens=df[\"open\"].values,closes=df[\"close\"].values, highs=df[\"high\"].values, lows=df[\"low\"].values,width=0.75, colorup='red', colordown='green')\n",
    "# 如下是绘制3种均线\n",
    "df['close'].rolling(window=3).mean().plot(color=\"red\",label='3-days')\n",
    "df['close'].rolling(window=5).mean().plot(color=\"blue\",label='5-days')\n",
    "df['close'].rolling(window=10).mean().plot(color=\"green\",label='10-days')\n",
    "plt.legend(loc='best')     # 绘制图例\n",
    "ax.grid(True)     # 带网格线\n",
    "plt.title(\"sz.002648-Candlestick chart\")\n",
    "plt.setp(plt.gca().get_xticklabels(), rotation=60)\n",
    "plt.show()"
   ]
  },
  {
   "cell_type": "markdown",
   "metadata": {
    "id": "FTEo6v-d9p88"
   },
   "source": [
    "### 3.3 数据集的处理\n",
    "用 LSTM 预测价格显示是不合理的，因为价格的波动非常不可控，所以我们退而求其次，预测股票的走势，即涨还是跌。\n",
    "\n",
    "但是怎么量化股票的涨跌是个问题，这里我们用未来数天的平均股价表示股票的起伏。"
   ]
  },
  {
   "cell_type": "code",
   "execution_count": 4,
   "metadata": {
    "execution": {
     "iopub.execute_input": "2022-11-09T15:08:20.707215Z",
     "iopub.status.busy": "2022-11-09T15:08:20.705971Z",
     "iopub.status.idle": "2022-11-09T15:08:20.712521Z",
     "shell.execute_reply": "2022-11-09T15:08:20.711434Z",
     "shell.execute_reply.started": "2022-11-09T15:08:20.707145Z"
    },
    "id": "Qz6oiFKex1Il",
    "scrolled": true,
    "tags": []
   },
   "outputs": [],
   "source": [
    "#未来n天移动平均，包含今天\n",
    "def MA_next(df, date_idx, price_type, n): \n",
    "    return df[price_type][date_idx:date_idx+n].mean()"
   ]
  },
  {
   "cell_type": "markdown",
   "metadata": {
    "id": "IvUZSpxj9p88"
   },
   "source": [
    "假设短期2天，中期6天，长期15天。如果未来15天平均价格大于未来6天平均价格大于未来2天平均价格，我们就可认为未来15天的股市走势很好。\n",
    "这里还要求有3%的涨幅，能一定程度上减少标签频繁波动。\n",
    "\n",
    "`2` 含义为买入，`0` 含义为卖出，`1` 为默认值"
   ]
  },
  {
   "cell_type": "code",
   "execution_count": 5,
   "metadata": {
    "execution": {
     "iopub.execute_input": "2022-11-09T15:08:22.777480Z",
     "iopub.status.busy": "2022-11-09T15:08:22.776803Z",
     "iopub.status.idle": "2022-11-09T15:08:23.734353Z",
     "shell.execute_reply": "2022-11-09T15:08:23.733304Z",
     "shell.execute_reply.started": "2022-11-09T15:08:22.777444Z"
    },
    "id": "dQqNB6149p89",
    "outputId": "a875f0cb-93bd-43de-86d7-db8da7da35a8",
    "scrolled": true,
    "tags": []
   },
   "outputs": [],
   "source": [
    "s_time = 2\n",
    "m_time = 6\n",
    "l_time = 15\n",
    "\n",
    "for i in range(len(df)-l_time):\n",
    "    if MA_next(df,i,'close',l_time)>MA_next(df,i,'close',m_time)*1.03>MA_next(df,i,'close',s_time)*1.03:\n",
    "        df.loc[i, 'buy_flag'] = 2\n",
    "    elif MA_next(df,i,'close',s_time)>MA_next(df,i,'close',m_time):\n",
    "        df.loc[i, 'buy_flag'] = 0\n",
    "    else:\n",
    "        df.loc[i, 'buy_flag'] = 1\n",
    "# df.loc[i, 'buy_flag'] = 1 + (MA_next(df,i,'close',m_time)-MA_next(df,i,'close',s_time))/MA_next(df,i,'close',s_time)\n",
    "#     df.loc[i, 'buy_flag'] = 10*(MA_next(df,i,'close',m_time)+MA_next(df,i,'close',l_time)-2*MA_next(df,i,'close',s_time))/MA_next(df,i,'close',s_time)"
   ]
  },
  {
   "cell_type": "code",
   "execution_count": 6,
   "metadata": {
    "execution": {
     "iopub.execute_input": "2022-11-09T15:08:25.025470Z",
     "iopub.status.busy": "2022-11-09T15:08:25.024887Z",
     "iopub.status.idle": "2022-11-09T15:08:25.040107Z",
     "shell.execute_reply": "2022-11-09T15:08:25.039359Z",
     "shell.execute_reply.started": "2022-11-09T15:08:25.025439Z"
    },
    "scrolled": true,
    "tags": []
   },
   "outputs": [
    {
     "data": {
      "text/html": [
       "<div>\n",
       "<style scoped>\n",
       "    .dataframe tbody tr th:only-of-type {\n",
       "        vertical-align: middle;\n",
       "    }\n",
       "\n",
       "    .dataframe tbody tr th {\n",
       "        vertical-align: top;\n",
       "    }\n",
       "\n",
       "    .dataframe thead th {\n",
       "        text-align: right;\n",
       "    }\n",
       "</style>\n",
       "<table border=\"1\" class=\"dataframe\">\n",
       "  <thead>\n",
       "    <tr style=\"text-align: right;\">\n",
       "      <th></th>\n",
       "      <th>date</th>\n",
       "      <th>code</th>\n",
       "      <th>open</th>\n",
       "      <th>high</th>\n",
       "      <th>low</th>\n",
       "      <th>close</th>\n",
       "      <th>preclose</th>\n",
       "      <th>volume</th>\n",
       "      <th>amount</th>\n",
       "      <th>adjustflag</th>\n",
       "      <th>turn</th>\n",
       "      <th>tradestatus</th>\n",
       "      <th>pctChg</th>\n",
       "      <th>isST</th>\n",
       "      <th>buy_flag</th>\n",
       "    </tr>\n",
       "  </thead>\n",
       "  <tbody>\n",
       "    <tr>\n",
       "      <th>0</th>\n",
       "      <td>2015-01-05</td>\n",
       "      <td>sz.002648</td>\n",
       "      <td>12.04</td>\n",
       "      <td>12.47</td>\n",
       "      <td>11.80</td>\n",
       "      <td>12.22</td>\n",
       "      <td>12.10</td>\n",
       "      <td>16718083</td>\n",
       "      <td>201474357</td>\n",
       "      <td>3</td>\n",
       "      <td>2.089760</td>\n",
       "      <td>1</td>\n",
       "      <td>0.9917</td>\n",
       "      <td>0</td>\n",
       "      <td>1</td>\n",
       "    </tr>\n",
       "    <tr>\n",
       "      <th>1</th>\n",
       "      <td>2015-01-06</td>\n",
       "      <td>sz.002648</td>\n",
       "      <td>12.20</td>\n",
       "      <td>12.36</td>\n",
       "      <td>12.00</td>\n",
       "      <td>12.29</td>\n",
       "      <td>12.22</td>\n",
       "      <td>7965196</td>\n",
       "      <td>97122442</td>\n",
       "      <td>3</td>\n",
       "      <td>0.995649</td>\n",
       "      <td>1</td>\n",
       "      <td>0.5728</td>\n",
       "      <td>0</td>\n",
       "      <td>0</td>\n",
       "    </tr>\n",
       "    <tr>\n",
       "      <th>2</th>\n",
       "      <td>2015-01-07</td>\n",
       "      <td>sz.002648</td>\n",
       "      <td>12.29</td>\n",
       "      <td>12.56</td>\n",
       "      <td>12.25</td>\n",
       "      <td>12.40</td>\n",
       "      <td>12.29</td>\n",
       "      <td>7684398</td>\n",
       "      <td>95370790</td>\n",
       "      <td>3</td>\n",
       "      <td>0.960550</td>\n",
       "      <td>1</td>\n",
       "      <td>0.8950</td>\n",
       "      <td>0</td>\n",
       "      <td>0</td>\n",
       "    </tr>\n",
       "    <tr>\n",
       "      <th>3</th>\n",
       "      <td>2015-01-08</td>\n",
       "      <td>sz.002648</td>\n",
       "      <td>12.43</td>\n",
       "      <td>12.63</td>\n",
       "      <td>12.30</td>\n",
       "      <td>12.47</td>\n",
       "      <td>12.40</td>\n",
       "      <td>8056201</td>\n",
       "      <td>100447582</td>\n",
       "      <td>3</td>\n",
       "      <td>1.007025</td>\n",
       "      <td>1</td>\n",
       "      <td>0.5645</td>\n",
       "      <td>0</td>\n",
       "      <td>0</td>\n",
       "    </tr>\n",
       "    <tr>\n",
       "      <th>4</th>\n",
       "      <td>2015-01-09</td>\n",
       "      <td>sz.002648</td>\n",
       "      <td>12.46</td>\n",
       "      <td>12.74</td>\n",
       "      <td>12.39</td>\n",
       "      <td>12.41</td>\n",
       "      <td>12.47</td>\n",
       "      <td>7648582</td>\n",
       "      <td>96383568</td>\n",
       "      <td>3</td>\n",
       "      <td>0.956073</td>\n",
       "      <td>1</td>\n",
       "      <td>-0.4812</td>\n",
       "      <td>0</td>\n",
       "      <td>2</td>\n",
       "    </tr>\n",
       "  </tbody>\n",
       "</table>\n",
       "</div>"
      ],
      "text/plain": [
       "         date       code   open   high    low  close  preclose    volume  \\\n",
       "0  2015-01-05  sz.002648  12.04  12.47  11.80  12.22     12.10  16718083   \n",
       "1  2015-01-06  sz.002648  12.20  12.36  12.00  12.29     12.22   7965196   \n",
       "2  2015-01-07  sz.002648  12.29  12.56  12.25  12.40     12.29   7684398   \n",
       "3  2015-01-08  sz.002648  12.43  12.63  12.30  12.47     12.40   8056201   \n",
       "4  2015-01-09  sz.002648  12.46  12.74  12.39  12.41     12.47   7648582   \n",
       "\n",
       "      amount  adjustflag      turn  tradestatus  pctChg  isST  buy_flag  \n",
       "0  201474357           3  2.089760            1  0.9917     0         1  \n",
       "1   97122442           3  0.995649            1  0.5728     0         0  \n",
       "2   95370790           3  0.960550            1  0.8950     0         0  \n",
       "3  100447582           3  1.007025            1  0.5645     0         0  \n",
       "4   96383568           3  0.956073            1 -0.4812     0         2  "
      ]
     },
     "execution_count": 6,
     "metadata": {},
     "output_type": "execute_result"
    }
   ],
   "source": [
    "df.head()"
   ]
  },
  {
   "cell_type": "markdown",
   "metadata": {},
   "source": [
    "通过使用函数`add_datepart`，能计算当前日期的年、月、日、一周第几天、周数、月初月末、一年当中的第几天等信息。本项目用该函数扩展日期特征。"
   ]
  },
  {
   "cell_type": "code",
   "execution_count": 7,
   "metadata": {
    "execution": {
     "iopub.execute_input": "2022-11-09T15:08:27.656135Z",
     "iopub.status.busy": "2022-11-09T15:08:27.655561Z",
     "iopub.status.idle": "2022-11-09T15:08:27.660958Z",
     "shell.execute_reply": "2022-11-09T15:08:27.660162Z",
     "shell.execute_reply.started": "2022-11-09T15:08:27.656105Z"
    },
    "scrolled": true,
    "tags": []
   },
   "outputs": [],
   "source": [
    "def make_date(df, date_field):\n",
    "    \"Make sure `df[date_field]` is of the right date type.\"\n",
    "    field_dtype = df[date_field].dtype\n",
    "    if isinstance(field_dtype, pd.core.dtypes.dtypes.DatetimeTZDtype):\n",
    "        field_dtype = np.datetime64\n",
    "    if not np.issubdtype(field_dtype, np.datetime64):\n",
    "        df[date_field] = pd.to_datetime(df[date_field], infer_datetime_format=True)"
   ]
  },
  {
   "cell_type": "code",
   "execution_count": 8,
   "metadata": {
    "execution": {
     "iopub.execute_input": "2022-11-09T15:08:28.996430Z",
     "iopub.status.busy": "2022-11-09T15:08:28.995811Z",
     "iopub.status.idle": "2022-11-09T15:08:29.003770Z",
     "shell.execute_reply": "2022-11-09T15:08:29.003021Z",
     "shell.execute_reply.started": "2022-11-09T15:08:28.996399Z"
    },
    "scrolled": true,
    "tags": []
   },
   "outputs": [],
   "source": [
    "def add_datepart(df, field_name, prefix=None, drop=True, time=False):\n",
    "    \"Helper function that adds columns relevant to a date in the column `field_name` of `df`.\"\n",
    "    make_date(df, field_name)\n",
    "    field = df[field_name]\n",
    "    prefix = ifnone(prefix, re.sub('[Dd]ate$', '', field_name))\n",
    "    attr = ['Year', 'Month', 'Week', 'Day', 'Dayofweek', 'Dayofyear', 'Is_month_end', 'Is_month_start',\n",
    "            'Is_quarter_end', 'Is_quarter_start', 'Is_year_end', 'Is_year_start']\n",
    "    if time: attr = attr + ['Hour', 'Minute', 'Second']\n",
    "    # Pandas removed `dt.week` in v1.1.10\n",
    "    week = field.dt.isocalendar().week.astype(field.dt.day.dtype) if hasattr(field.dt, 'isocalendar') else field.dt.week\n",
    "    for n in attr: df[prefix + n] = getattr(field.dt, n.lower()) if n != 'Week' else week\n",
    "    mask = ~field.isna()\n",
    "    df[prefix + 'Elapsed'] = np.where(mask,field.values.astype(np.int64) // 10 ** 9,np.nan)\n",
    "    if drop: df.drop(field_name, axis=1, inplace=True)\n",
    "    return df"
   ]
  },
  {
   "cell_type": "markdown",
   "metadata": {
    "id": "hOqeRSJO9p8_"
   },
   "source": [
    "接下来我们为数据生成序列，用前`seq_length`天的信息作为输入序列，后1天的股市起伏`buy_flag`作为标签"
   ]
  },
  {
   "cell_type": "code",
   "execution_count": 9,
   "metadata": {
    "execution": {
     "iopub.execute_input": "2022-11-09T15:08:34.089797Z",
     "iopub.status.busy": "2022-11-09T15:08:34.089070Z",
     "iopub.status.idle": "2022-11-09T15:08:34.126917Z",
     "shell.execute_reply": "2022-11-09T15:08:34.126313Z",
     "shell.execute_reply.started": "2022-11-09T15:08:34.089767Z"
    },
    "id": "LICGWrzj9p8-",
    "outputId": "26d0f2cb-d9ab-47ea-e227-c3312eae7dff",
    "scrolled": true,
    "tags": []
   },
   "outputs": [
    {
     "data": {
      "text/html": [
       "<div>\n",
       "<style scoped>\n",
       "    .dataframe tbody tr th:only-of-type {\n",
       "        vertical-align: middle;\n",
       "    }\n",
       "\n",
       "    .dataframe tbody tr th {\n",
       "        vertical-align: top;\n",
       "    }\n",
       "\n",
       "    .dataframe thead th {\n",
       "        text-align: right;\n",
       "    }\n",
       "</style>\n",
       "<table border=\"1\" class=\"dataframe\">\n",
       "  <thead>\n",
       "    <tr style=\"text-align: right;\">\n",
       "      <th></th>\n",
       "      <th>open</th>\n",
       "      <th>high</th>\n",
       "      <th>low</th>\n",
       "      <th>close</th>\n",
       "      <th>preclose</th>\n",
       "      <th>volume</th>\n",
       "      <th>amount</th>\n",
       "      <th>adjustflag</th>\n",
       "      <th>turn</th>\n",
       "      <th>tradestatus</th>\n",
       "      <th>pctChg</th>\n",
       "      <th>isST</th>\n",
       "      <th>buy_flag</th>\n",
       "      <th>Year</th>\n",
       "      <th>Month</th>\n",
       "      <th>Week</th>\n",
       "      <th>Day</th>\n",
       "      <th>Dayofweek</th>\n",
       "      <th>Elapsed</th>\n",
       "    </tr>\n",
       "  </thead>\n",
       "  <tbody>\n",
       "    <tr>\n",
       "      <th>30</th>\n",
       "      <td>12.71</td>\n",
       "      <td>12.98</td>\n",
       "      <td>12.71</td>\n",
       "      <td>12.96</td>\n",
       "      <td>12.71</td>\n",
       "      <td>5770104</td>\n",
       "      <td>74291846</td>\n",
       "      <td>3</td>\n",
       "      <td>0.721263</td>\n",
       "      <td>1</td>\n",
       "      <td>1.9670</td>\n",
       "      <td>0</td>\n",
       "      <td>1</td>\n",
       "      <td>2015</td>\n",
       "      <td>2</td>\n",
       "      <td>8</td>\n",
       "      <td>16</td>\n",
       "      <td>0</td>\n",
       "      <td>1.424045e+09</td>\n",
       "    </tr>\n",
       "    <tr>\n",
       "      <th>31</th>\n",
       "      <td>12.91</td>\n",
       "      <td>13.03</td>\n",
       "      <td>12.81</td>\n",
       "      <td>12.85</td>\n",
       "      <td>12.96</td>\n",
       "      <td>6220856</td>\n",
       "      <td>80278113</td>\n",
       "      <td>3</td>\n",
       "      <td>0.777607</td>\n",
       "      <td>1</td>\n",
       "      <td>-0.8488</td>\n",
       "      <td>0</td>\n",
       "      <td>2</td>\n",
       "      <td>2015</td>\n",
       "      <td>2</td>\n",
       "      <td>8</td>\n",
       "      <td>17</td>\n",
       "      <td>1</td>\n",
       "      <td>1.424131e+09</td>\n",
       "    </tr>\n",
       "    <tr>\n",
       "      <th>32</th>\n",
       "      <td>12.96</td>\n",
       "      <td>13.05</td>\n",
       "      <td>12.81</td>\n",
       "      <td>12.98</td>\n",
       "      <td>12.85</td>\n",
       "      <td>5312105</td>\n",
       "      <td>68837078</td>\n",
       "      <td>3</td>\n",
       "      <td>0.664013</td>\n",
       "      <td>1</td>\n",
       "      <td>1.0117</td>\n",
       "      <td>0</td>\n",
       "      <td>2</td>\n",
       "      <td>2015</td>\n",
       "      <td>2</td>\n",
       "      <td>9</td>\n",
       "      <td>25</td>\n",
       "      <td>2</td>\n",
       "      <td>1.424822e+09</td>\n",
       "    </tr>\n",
       "    <tr>\n",
       "      <th>33</th>\n",
       "      <td>13.06</td>\n",
       "      <td>13.12</td>\n",
       "      <td>12.93</td>\n",
       "      <td>13.10</td>\n",
       "      <td>12.98</td>\n",
       "      <td>5018504</td>\n",
       "      <td>65452934</td>\n",
       "      <td>3</td>\n",
       "      <td>0.627313</td>\n",
       "      <td>1</td>\n",
       "      <td>0.9245</td>\n",
       "      <td>0</td>\n",
       "      <td>2</td>\n",
       "      <td>2015</td>\n",
       "      <td>2</td>\n",
       "      <td>9</td>\n",
       "      <td>26</td>\n",
       "      <td>3</td>\n",
       "      <td>1.424909e+09</td>\n",
       "    </tr>\n",
       "    <tr>\n",
       "      <th>34</th>\n",
       "      <td>13.10</td>\n",
       "      <td>13.21</td>\n",
       "      <td>12.98</td>\n",
       "      <td>13.14</td>\n",
       "      <td>13.10</td>\n",
       "      <td>6979773</td>\n",
       "      <td>91398700</td>\n",
       "      <td>3</td>\n",
       "      <td>0.872472</td>\n",
       "      <td>1</td>\n",
       "      <td>0.3053</td>\n",
       "      <td>0</td>\n",
       "      <td>2</td>\n",
       "      <td>2015</td>\n",
       "      <td>2</td>\n",
       "      <td>9</td>\n",
       "      <td>27</td>\n",
       "      <td>4</td>\n",
       "      <td>1.424995e+09</td>\n",
       "    </tr>\n",
       "    <tr>\n",
       "      <th>...</th>\n",
       "      <td>...</td>\n",
       "      <td>...</td>\n",
       "      <td>...</td>\n",
       "      <td>...</td>\n",
       "      <td>...</td>\n",
       "      <td>...</td>\n",
       "      <td>...</td>\n",
       "      <td>...</td>\n",
       "      <td>...</td>\n",
       "      <td>...</td>\n",
       "      <td>...</td>\n",
       "      <td>...</td>\n",
       "      <td>...</td>\n",
       "      <td>...</td>\n",
       "      <td>...</td>\n",
       "      <td>...</td>\n",
       "      <td>...</td>\n",
       "      <td>...</td>\n",
       "      <td>...</td>\n",
       "    </tr>\n",
       "    <tr>\n",
       "      <th>1251</th>\n",
       "      <td>17.83</td>\n",
       "      <td>18.34</td>\n",
       "      <td>17.30</td>\n",
       "      <td>17.93</td>\n",
       "      <td>18.07</td>\n",
       "      <td>29110138</td>\n",
       "      <td>520609289</td>\n",
       "      <td>3</td>\n",
       "      <td>2.803900</td>\n",
       "      <td>1</td>\n",
       "      <td>-0.7748</td>\n",
       "      <td>0</td>\n",
       "      <td>0</td>\n",
       "      <td>2020</td>\n",
       "      <td>2</td>\n",
       "      <td>9</td>\n",
       "      <td>25</td>\n",
       "      <td>1</td>\n",
       "      <td>1.582589e+09</td>\n",
       "    </tr>\n",
       "    <tr>\n",
       "      <th>1252</th>\n",
       "      <td>17.70</td>\n",
       "      <td>18.16</td>\n",
       "      <td>17.29</td>\n",
       "      <td>17.31</td>\n",
       "      <td>17.93</td>\n",
       "      <td>21852389</td>\n",
       "      <td>385795589</td>\n",
       "      <td>3</td>\n",
       "      <td>2.104800</td>\n",
       "      <td>1</td>\n",
       "      <td>-3.4579</td>\n",
       "      <td>0</td>\n",
       "      <td>0</td>\n",
       "      <td>2020</td>\n",
       "      <td>2</td>\n",
       "      <td>9</td>\n",
       "      <td>26</td>\n",
       "      <td>2</td>\n",
       "      <td>1.582675e+09</td>\n",
       "    </tr>\n",
       "    <tr>\n",
       "      <th>1253</th>\n",
       "      <td>17.55</td>\n",
       "      <td>17.84</td>\n",
       "      <td>17.22</td>\n",
       "      <td>17.51</td>\n",
       "      <td>17.31</td>\n",
       "      <td>15933944</td>\n",
       "      <td>279989314</td>\n",
       "      <td>3</td>\n",
       "      <td>1.534800</td>\n",
       "      <td>1</td>\n",
       "      <td>1.1554</td>\n",
       "      <td>0</td>\n",
       "      <td>1</td>\n",
       "      <td>2020</td>\n",
       "      <td>2</td>\n",
       "      <td>9</td>\n",
       "      <td>27</td>\n",
       "      <td>3</td>\n",
       "      <td>1.582762e+09</td>\n",
       "    </tr>\n",
       "    <tr>\n",
       "      <th>1254</th>\n",
       "      <td>17.10</td>\n",
       "      <td>17.10</td>\n",
       "      <td>16.14</td>\n",
       "      <td>16.19</td>\n",
       "      <td>17.51</td>\n",
       "      <td>26964958</td>\n",
       "      <td>446872846</td>\n",
       "      <td>3</td>\n",
       "      <td>2.597300</td>\n",
       "      <td>1</td>\n",
       "      <td>-7.5385</td>\n",
       "      <td>0</td>\n",
       "      <td>1</td>\n",
       "      <td>2020</td>\n",
       "      <td>2</td>\n",
       "      <td>9</td>\n",
       "      <td>28</td>\n",
       "      <td>4</td>\n",
       "      <td>1.582848e+09</td>\n",
       "    </tr>\n",
       "    <tr>\n",
       "      <th>1255</th>\n",
       "      <td>17.02</td>\n",
       "      <td>17.64</td>\n",
       "      <td>16.70</td>\n",
       "      <td>17.52</td>\n",
       "      <td>16.19</td>\n",
       "      <td>30266966</td>\n",
       "      <td>523189982</td>\n",
       "      <td>3</td>\n",
       "      <td>2.915400</td>\n",
       "      <td>1</td>\n",
       "      <td>8.2149</td>\n",
       "      <td>0</td>\n",
       "      <td>1</td>\n",
       "      <td>2020</td>\n",
       "      <td>3</td>\n",
       "      <td>10</td>\n",
       "      <td>2</td>\n",
       "      <td>0</td>\n",
       "      <td>1.583107e+09</td>\n",
       "    </tr>\n",
       "  </tbody>\n",
       "</table>\n",
       "<p>1226 rows × 19 columns</p>\n",
       "</div>"
      ],
      "text/plain": [
       "       open   high    low  close  preclose    volume     amount  adjustflag  \\\n",
       "30    12.71  12.98  12.71  12.96     12.71   5770104   74291846           3   \n",
       "31    12.91  13.03  12.81  12.85     12.96   6220856   80278113           3   \n",
       "32    12.96  13.05  12.81  12.98     12.85   5312105   68837078           3   \n",
       "33    13.06  13.12  12.93  13.10     12.98   5018504   65452934           3   \n",
       "34    13.10  13.21  12.98  13.14     13.10   6979773   91398700           3   \n",
       "...     ...    ...    ...    ...       ...       ...        ...         ...   \n",
       "1251  17.83  18.34  17.30  17.93     18.07  29110138  520609289           3   \n",
       "1252  17.70  18.16  17.29  17.31     17.93  21852389  385795589           3   \n",
       "1253  17.55  17.84  17.22  17.51     17.31  15933944  279989314           3   \n",
       "1254  17.10  17.10  16.14  16.19     17.51  26964958  446872846           3   \n",
       "1255  17.02  17.64  16.70  17.52     16.19  30266966  523189982           3   \n",
       "\n",
       "          turn  tradestatus  pctChg  isST  buy_flag  Year  Month  Week  Day  \\\n",
       "30    0.721263            1  1.9670     0         1  2015      2     8   16   \n",
       "31    0.777607            1 -0.8488     0         2  2015      2     8   17   \n",
       "32    0.664013            1  1.0117     0         2  2015      2     9   25   \n",
       "33    0.627313            1  0.9245     0         2  2015      2     9   26   \n",
       "34    0.872472            1  0.3053     0         2  2015      2     9   27   \n",
       "...        ...          ...     ...   ...       ...   ...    ...   ...  ...   \n",
       "1251  2.803900            1 -0.7748     0         0  2020      2     9   25   \n",
       "1252  2.104800            1 -3.4579     0         0  2020      2     9   26   \n",
       "1253  1.534800            1  1.1554     0         1  2020      2     9   27   \n",
       "1254  2.597300            1 -7.5385     0         1  2020      2     9   28   \n",
       "1255  2.915400            1  8.2149     0         1  2020      3    10    2   \n",
       "\n",
       "      Dayofweek       Elapsed  \n",
       "30            0  1.424045e+09  \n",
       "31            1  1.424131e+09  \n",
       "32            2  1.424822e+09  \n",
       "33            3  1.424909e+09  \n",
       "34            4  1.424995e+09  \n",
       "...         ...           ...  \n",
       "1251          1  1.582589e+09  \n",
       "1252          2  1.582675e+09  \n",
       "1253          3  1.582762e+09  \n",
       "1254          4  1.582848e+09  \n",
       "1255          0  1.583107e+09  \n",
       "\n",
       "[1226 rows x 19 columns]"
      ]
     },
     "execution_count": 9,
     "metadata": {},
     "output_type": "execute_result"
    }
   ],
   "source": [
    "# 增加日期特征\n",
    "add_datepart(df, \"date\", drop=False)\n",
    "seq_length = 30\n",
    "train_df = df[seq_length:-seq_length]\n",
    "# 丢掉不重要的特征\n",
    "train_df = train_df.drop(['date','code','Is_month_end', 'Is_month_start', 'Is_quarter_end',\n",
    "                          'Is_quarter_start', 'Is_year_end', 'Is_year_start','Dayofyear'],axis=1)\n",
    "train_df"
   ]
  },
  {
   "cell_type": "code",
   "execution_count": 10,
   "metadata": {
    "execution": {
     "iopub.execute_input": "2022-11-09T15:08:52.330998Z",
     "iopub.status.busy": "2022-11-09T15:08:52.330253Z",
     "iopub.status.idle": "2022-11-09T15:08:52.334503Z",
     "shell.execute_reply": "2022-11-09T15:08:52.333864Z",
     "shell.execute_reply.started": "2022-11-09T15:08:52.330967Z"
    },
    "scrolled": true
   },
   "outputs": [],
   "source": [
    "# 数据清洗，填充nan值\n",
    "train_df= train_df.fillna(0)"
   ]
  },
  {
   "cell_type": "markdown",
   "metadata": {},
   "source": [
    "### 3.4 构造训练集与验证集"
   ]
  },
  {
   "cell_type": "code",
   "execution_count": 11,
   "metadata": {
    "execution": {
     "iopub.execute_input": "2022-11-09T15:08:55.103802Z",
     "iopub.status.busy": "2022-11-09T15:08:55.103203Z",
     "iopub.status.idle": "2022-11-09T15:08:55.108193Z",
     "shell.execute_reply": "2022-11-09T15:08:55.107583Z",
     "shell.execute_reply.started": "2022-11-09T15:08:55.103769Z"
    },
    "id": "1lFEUpUb9p8_",
    "scrolled": true,
    "tags": []
   },
   "outputs": [],
   "source": [
    "def sliding_windows(data, label, seq_length):\n",
    "    x = []\n",
    "    y = []\n",
    "\n",
    "    for i in range(len(data)-seq_length-1):\n",
    "        _x = data[i:(i+seq_length)]\n",
    "        _y = label[i+seq_length]\n",
    "        x.append(_x)\n",
    "        y.append(_y)\n",
    "\n",
    "    return np.array(x),np.array(y)"
   ]
  },
  {
   "cell_type": "code",
   "execution_count": 12,
   "metadata": {
    "execution": {
     "iopub.execute_input": "2022-11-09T15:08:57.417766Z",
     "iopub.status.busy": "2022-11-09T15:08:57.416997Z",
     "iopub.status.idle": "2022-11-09T15:08:57.430658Z",
     "shell.execute_reply": "2022-11-09T15:08:57.429857Z",
     "shell.execute_reply.started": "2022-11-09T15:08:57.417731Z"
    },
    "id": "rTfQj849ciMh",
    "outputId": "8f48234d-d469-4b6c-a983-3d3f1cf4f0cf",
    "scrolled": true,
    "tags": []
   },
   "outputs": [],
   "source": [
    "# 数据归一化\n",
    "y_scaler = MinMaxScaler()\n",
    "x_scaler = MinMaxScaler()\n",
    "\n",
    "X = train_df.drop(['buy_flag'],axis=1).values\n",
    "X = x_scaler.fit_transform(X)\n",
    "Y = train_df['buy_flag']\n",
    "Y = np.array(Y).reshape(-1,1)\n",
    "\n",
    "x, y = sliding_windows(X, Y, seq_length)\n",
    "\n",
    "y_train,y_test = y[:int(y.shape[0]*0.8)],y[int(y.shape[0]*0.8):]\n",
    "x_train,x_test = x[:int(x.shape[0]*0.8)],x[int(x.shape[0]*0.8):]"
   ]
  },
  {
   "cell_type": "code",
   "execution_count": 14,
   "metadata": {
    "execution": {
     "iopub.execute_input": "2022-11-09T15:09:16.258786Z",
     "iopub.status.busy": "2022-11-09T15:09:16.258038Z",
     "iopub.status.idle": "2022-11-09T15:09:17.667658Z",
     "shell.execute_reply": "2022-11-09T15:09:17.666664Z",
     "shell.execute_reply.started": "2022-11-09T15:09:16.258756Z"
    },
    "scrolled": true,
    "tags": []
   },
   "outputs": [],
   "source": [
    "class MyDataset(paddle.io.Dataset):\n",
    "    \"\"\"\n",
    "    步骤一：继承paddle.io.Dataset类\n",
    "    \"\"\"\n",
    "    def __init__(self, x, y):\n",
    "        \"\"\"\n",
    "        步骤二：实现 __init__ 函数，初始化数据集，将样本和标签映射到列表中\n",
    "        \"\"\"\n",
    "        super(MyDataset, self).__init__()\n",
    "        self.data = paddle.to_tensor(x.transpose(1,0,2), dtype='float32')\n",
    "        self.label = paddle.to_tensor(y, dtype='float32')\n",
    "\n",
    "    def __getitem__(self, index):\n",
    "        \"\"\"\n",
    "        步骤三：实现__getitem__函数，定义指定index时如何获取数据，并返回单条数据（样本数据、对应的标签）\n",
    "        \"\"\"\n",
    "        data = self.data[index]\n",
    "        label = self.label[index]\n",
    "        return data, label\n",
    "\n",
    "    def __len__(self):\n",
    "        \"\"\"\n",
    "        步骤四：实现__len__方法，返回数据集总数目\n",
    "        \"\"\"\n",
    "        return len(self.data)\n",
    "\n",
    "# 实例化数据集\n",
    "train_dataset = MyDataset(x_train, y_train)\n",
    "eval_dataset = MyDataset(x_test, y_test)"
   ]
  },
  {
   "cell_type": "code",
   "execution_count": 15,
   "metadata": {
    "execution": {
     "iopub.execute_input": "2022-11-09T15:09:18.740221Z",
     "iopub.status.busy": "2022-11-09T15:09:18.739477Z",
     "iopub.status.idle": "2022-11-09T15:09:18.744673Z",
     "shell.execute_reply": "2022-11-09T15:09:18.744071Z",
     "shell.execute_reply.started": "2022-11-09T15:09:18.740191Z"
    },
    "scrolled": true
   },
   "outputs": [
    {
     "data": {
      "text/plain": [
       "array([0.4398017 , 0.40102828, 0.48767334, 0.46743021, 0.45096636,\n",
       "       0.15679451, 0.10256025, 0.        , 0.20306253, 1.        ,\n",
       "       0.58623833, 0.        , 0.        , 0.18181818, 0.17307692,\n",
       "       0.13333333, 0.75      , 0.00923411])"
      ]
     },
     "execution_count": 15,
     "metadata": {},
     "output_type": "execute_result"
    }
   ],
   "source": [
    "# 查看数据样本\n",
    "x_train[0][8]"
   ]
  },
  {
   "cell_type": "code",
   "execution_count": 16,
   "metadata": {
    "execution": {
     "iopub.execute_input": "2022-11-09T15:09:25.397626Z",
     "iopub.status.busy": "2022-11-09T15:09:25.396896Z",
     "iopub.status.idle": "2022-11-09T15:09:25.401393Z",
     "shell.execute_reply": "2022-11-09T15:09:25.400814Z",
     "shell.execute_reply.started": "2022-11-09T15:09:25.397599Z"
    },
    "scrolled": true,
    "tags": []
   },
   "outputs": [
    {
     "data": {
      "text/plain": [
       "(956, 30, 18)"
      ]
     },
     "execution_count": 16,
     "metadata": {},
     "output_type": "execute_result"
    }
   ],
   "source": [
    "x_train.shape"
   ]
  },
  {
   "cell_type": "code",
   "execution_count": 17,
   "metadata": {
    "execution": {
     "iopub.execute_input": "2022-11-09T15:09:28.261759Z",
     "iopub.status.busy": "2022-11-09T15:09:28.261041Z",
     "iopub.status.idle": "2022-11-09T15:09:28.265504Z",
     "shell.execute_reply": "2022-11-09T15:09:28.264923Z",
     "shell.execute_reply.started": "2022-11-09T15:09:28.261730Z"
    },
    "scrolled": true,
    "tags": []
   },
   "outputs": [
    {
     "data": {
      "text/plain": [
       "(956, 1)"
      ]
     },
     "execution_count": 17,
     "metadata": {},
     "output_type": "execute_result"
    }
   ],
   "source": [
    "y_train.shape"
   ]
  },
  {
   "cell_type": "markdown",
   "metadata": {
    "id": "AdxqhZhsveTO"
   },
   "source": [
    "## 4. 模型组网\n",
    "\n",
    "本项目构造了简单的LSTM层，具体步骤如下：\n",
    "\n",
    "1. 连接LSTM层，从时间步的维度进行时序建模。\n",
    "2. 通过全连接层输出预测值。\n",
    "3. 模型的损失函数选择为均方误差，优化方法采用adam优化器。"
   ]
  },
  {
   "cell_type": "code",
   "execution_count": 42,
   "metadata": {
    "execution": {
     "iopub.execute_input": "2022-11-09T15:34:08.696579Z",
     "iopub.status.busy": "2022-11-09T15:34:08.695597Z",
     "iopub.status.idle": "2022-11-09T15:34:08.705297Z",
     "shell.execute_reply": "2022-11-09T15:34:08.704482Z",
     "shell.execute_reply.started": "2022-11-09T15:34:08.696533Z"
    },
    "id": "G7YiZPhrcX2k",
    "scrolled": true,
    "tags": []
   },
   "outputs": [],
   "source": [
    "class LSTM(paddle.nn.Layer):\n",
    "\n",
    "    def __init__(self, num_classes, input_size, hidden_size, num_layers):\n",
    "        super(LSTM, self).__init__()\n",
    "        \n",
    "        self.num_classes = num_classes\n",
    "        self.num_layers = num_layers\n",
    "        self.input_size = input_size\n",
    "        self.hidden_size = hidden_size\n",
    "        self.seq_length = seq_length       \n",
    "        self.lstm = paddle.nn.LSTM(input_size=input_size, hidden_size=hidden_size,\n",
    "                            num_layers=num_layers)\n",
    "        # self.relu = paddle.nn.ReLU()\n",
    "        self.fc = paddle.nn.Linear(hidden_size, num_classes)\n",
    "        # self.relu = paddle.nn.ReLU()\n",
    "        # self.head = paddle.nn.Linear(int(hidden_size/2), out_features=num_classes)\n",
    "        \n",
    "\n",
    "    def forward(self, x):\n",
    "        x, (h, c)=self.lstm(x)\n",
    "        # print(h)\n",
    "        # x = x[:,-1,:]\n",
    "        h = h[-1]\n",
    "        x = self.fc(h) \n",
    "        # x = self.head(x)\n",
    "        # print(out)\n",
    "        return x"
   ]
  },
  {
   "cell_type": "code",
   "execution_count": 21,
   "metadata": {
    "execution": {
     "iopub.execute_input": "2022-11-09T15:11:23.633779Z",
     "iopub.status.busy": "2022-11-09T15:11:23.633157Z",
     "iopub.status.idle": "2022-11-09T15:11:24.743608Z",
     "shell.execute_reply": "2022-11-09T15:11:24.742913Z",
     "shell.execute_reply.started": "2022-11-09T15:11:23.633751Z"
    },
    "scrolled": true,
    "tags": []
   },
   "outputs": [
    {
     "name": "stdout",
     "output_type": "stream",
     "text": [
      "-----------------------------------------------------------------------------------------------------\n",
      " Layer (type)       Input Shape                       Output Shape                      Param #    \n",
      "=====================================================================================================\n",
      "    LSTM-2        [[30, 796, 18]]    [[30, 796, 300], [[1, 30, 300], [1, 30, 300]]]     384,000    \n",
      "   Linear-1       [[30, 796, 300]]                   [30, 796, 128]                     38,528     \n",
      "=====================================================================================================\n",
      "Total params: 422,528\n",
      "Trainable params: 422,528\n",
      "Non-trainable params: 0\n",
      "-----------------------------------------------------------------------------------------------------\n",
      "Input size (MB): 1.64\n",
      "Forward/backward pass size (MB): 78.11\n",
      "Params size (MB): 1.61\n",
      "Estimated Total Size (MB): 81.37\n",
      "-----------------------------------------------------------------------------------------------------\n",
      "\n"
     ]
    },
    {
     "data": {
      "text/plain": [
       "{'total_params': 422528, 'trainable_params': 422528}"
      ]
     },
     "execution_count": 21,
     "metadata": {},
     "output_type": "execute_result"
    }
   ],
   "source": [
    "# 打印网络结构\n",
    "model = LSTM(128,18,300,1)\n",
    "paddle.summary(model, (30,796,18))"
   ]
  },
  {
   "cell_type": "markdown",
   "metadata": {
    "id": "qtAlB3X3vwED"
   },
   "source": [
    "## 5. 模型训练\n",
    "\n",
    "使用模型网络结构和数据集进行模型训练。\n",
    "\n",
    "在高层API中，可以用 paddle.Model 完成模型封装后，然后通过 Model.prepare 进行训练前的配置准备工作，包括设置优化算法、Loss 计算方法、评价指标计算方法；接着通过Model.fit接口来启动训练。\n",
    "\n",
    "在训练过程中，需要根据模型训练过程中loss，打印loss下降曲线来调参。为了保存训练时每个batch的loss信息，需要自己定义Callback函数，完成模型训练时loss信息的记录。"
   ]
  },
  {
   "cell_type": "code",
   "execution_count": 22,
   "metadata": {
    "execution": {
     "iopub.execute_input": "2022-11-09T15:11:31.041259Z",
     "iopub.status.busy": "2022-11-09T15:11:31.040682Z",
     "iopub.status.idle": "2022-11-09T15:11:31.046260Z",
     "shell.execute_reply": "2022-11-09T15:11:31.045370Z",
     "shell.execute_reply.started": "2022-11-09T15:11:31.041230Z"
    },
    "scrolled": true,
    "tags": []
   },
   "outputs": [],
   "source": [
    "# 自定义Callback 需要继承基类 Callback\n",
    "class LossCallback(paddle.callbacks.Callback):\n",
    "\n",
    "    def __init__(self):\n",
    "        self.losses = []\n",
    "        \n",
    "    def on_train_begin(self, logs={}):\n",
    "        # 在fit前 初始化losses，用于保存每个batch的loss结果\n",
    "        self.losses = []\n",
    "    \n",
    "    def on_train_batch_end(self, step, logs={}):\n",
    "        # 每个batch训练完成后调用，把当前loss添加到losses中\n",
    "        self.losses.append(logs.get('loss'))\n",
    "loss_log = LossCallback()"
   ]
  },
  {
   "cell_type": "code",
   "execution_count": 43,
   "metadata": {
    "execution": {
     "iopub.execute_input": "2022-11-09T15:34:13.097171Z",
     "iopub.status.busy": "2022-11-09T15:34:13.096268Z",
     "iopub.status.idle": "2022-11-09T15:34:16.903731Z",
     "shell.execute_reply": "2022-11-09T15:34:16.902785Z",
     "shell.execute_reply.started": "2022-11-09T15:34:13.097136Z"
    },
    "scrolled": true,
    "tags": []
   },
   "outputs": [
    {
     "name": "stdout",
     "output_type": "stream",
     "text": [
      "The loss value printed in the log is the current step, and the metric is the average value of previous steps.\n",
      "Epoch 1/15\n",
      "step 4/4 [==============================] - loss: 1.4543 - acc: 0.4667 - 45ms/step\n",
      "save checkpoint at /home/aistudio/lstm_checkpoint/0\n",
      "Eval begin...\n",
      "step 4/4 [==============================] - loss: 0.5837 - acc: 0.2667 - 5ms/step\n",
      "Eval samples: 30\n",
      "Epoch 2/15\n",
      "step 4/4 [==============================] - loss: 0.7472 - acc: 0.4667 - 42ms/step\n",
      "Epoch 3/15\n",
      "step 4/4 [==============================] - loss: 0.9142 - acc: 0.4667 - 41ms/step\n",
      "Epoch 4/15\n",
      "step 4/4 [==============================] - loss: 1.0340 - acc: 0.4667 - 41ms/step\n",
      "Epoch 5/15\n",
      "step 4/4 [==============================] - loss: 1.0149 - acc: 0.4667 - 40ms/step\n",
      "Epoch 6/15\n",
      "step 4/4 [==============================] - loss: 0.9198 - acc: 0.4667 - 41ms/step\n",
      "Epoch 7/15\n",
      "step 4/4 [==============================] - loss: 0.8290 - acc: 0.4667 - 39ms/step\n",
      "Epoch 8/15\n",
      "step 4/4 [==============================] - loss: 0.7915 - acc: 0.4667 - 40ms/step\n",
      "Epoch 9/15\n",
      "step 4/4 [==============================] - loss: 0.8043 - acc: 0.4667 - 41ms/step\n",
      "Epoch 10/15\n",
      "step 4/4 [==============================] - loss: 0.8252 - acc: 0.4667 - 40ms/step\n",
      "Epoch 11/15\n",
      "step 4/4 [==============================] - loss: 0.8077 - acc: 0.4667 - 40ms/step\n",
      "save checkpoint at /home/aistudio/lstm_checkpoint/10\n",
      "Eval begin...\n",
      "step 4/4 [==============================] - loss: 1.5619 - acc: 0.2667 - 5ms/step\n",
      "Eval samples: 30\n",
      "Epoch 12/15\n",
      "step 4/4 [==============================] - loss: 0.7421 - acc: 0.4667 - 40ms/step\n",
      "Epoch 13/15\n",
      "step 4/4 [==============================] - loss: 0.6701 - acc: 0.4667 - 40ms/step\n",
      "Epoch 14/15\n",
      "step 4/4 [==============================] - loss: 0.6321 - acc: 0.4667 - 41ms/step\n",
      "Epoch 15/15\n",
      "step 4/4 [==============================] - loss: 1.1258 - acc: 0.4667 - 41ms/step\n",
      "save checkpoint at /home/aistudio/lstm_checkpoint/final\n"
     ]
    }
   ],
   "source": [
    "from paddle.static import InputSpec\n",
    "# 参数设置\n",
    "num_epochs = 15\n",
    "learning_rate = 1e-3\n",
    "\n",
    "input_size = train_df.shape[1]-1 # 输入的变量指标数量\n",
    "hidden_size = 300 # 隐藏状态 h 大小\n",
    "num_layers = 1 # 循环网络的层数\n",
    "\n",
    "num_classes = 1 # 输出的特征数\n",
    "batch_size = 8\n",
    "\n",
    "model = paddle.Model(LSTM(num_classes, input_size, hidden_size, num_layers))\n",
    "\n",
    "lr_schedual = paddle.optimizer.lr.CosineAnnealingDecay(learning_rate=learning_rate, T_max=num_epochs, verbose=False)\n",
    "# 设置优化器，学习率，并且把模型参数给优化器\n",
    "opt = paddle.optimizer.Adam(learning_rate=learning_rate,parameters=model.parameters(), beta1=0.9, beta2=0.999)\n",
    "\n",
    "model.prepare(\n",
    "    opt,\n",
    "    paddle.nn.MSELoss(),\n",
    "    paddle.metric.Accuracy()\n",
    "    )\n",
    "    \n",
    "model.fit(train_dataset,\n",
    "        eval_dataset,\n",
    "        epochs=num_epochs,\n",
    "        batch_size=batch_size,\n",
    "        eval_freq=10, \n",
    "        save_freq=10,\n",
    "        save_dir='lstm_checkpoint',\n",
    "        verbose=1,\n",
    "        drop_last=False,\n",
    "        shuffle=False,\n",
    "        callbacks=[loss_log]\n",
    "        )"
   ]
  },
  {
   "cell_type": "code",
   "execution_count": 44,
   "metadata": {
    "execution": {
     "iopub.execute_input": "2022-11-09T15:35:19.197849Z",
     "iopub.status.busy": "2022-11-09T15:35:19.197193Z",
     "iopub.status.idle": "2022-11-09T15:35:19.351002Z",
     "shell.execute_reply": "2022-11-09T15:35:19.350321Z",
     "shell.execute_reply.started": "2022-11-09T15:35:19.197817Z"
    },
    "scrolled": true,
    "tags": []
   },
   "outputs": [
    {
     "data": {
      "text/plain": [
       "[<matplotlib.lines.Line2D at 0x7fd111e58410>]"
      ]
     },
     "execution_count": 44,
     "metadata": {},
     "output_type": "execute_result"
    },
    {
     "data": {
      "image/png": "[encoded data removed]",
      "text/plain": [
       "<Figure size 640x480 with 1 Axes>"
      ]
     },
     "metadata": {},
     "output_type": "display_data"
    }
   ],
   "source": [
    "# 可视化 loss\n",
    "log_loss = [loss_log.losses[i] for i in range(0, len(loss_log.losses), 10)]\n",
    "plt.figure()\n",
    "plt.plot(log_loss)"
   ]
  },
  {
   "cell_type": "markdown",
   "metadata": {},
   "source": [
    "## 6. 模型评估\n",
    "\n",
    "评估指标(Metric)用来衡量一个模型的效果, 一般是通过计算模型的预测结果和真实结果之间的某种差距。\n",
    "\n",
    "使用Paddle高层API的Model.evaluate接口可以一键完成模型评估操作，结束后根据在Model.prepare中定义的loss和metric计算并返回相关评估结果。"
   ]
  },
  {
   "cell_type": "code",
   "execution_count": 45,
   "metadata": {
    "execution": {
     "iopub.execute_input": "2022-11-09T15:35:29.183139Z",
     "iopub.status.busy": "2022-11-09T15:35:29.182223Z",
     "iopub.status.idle": "2022-11-09T15:35:29.254677Z",
     "shell.execute_reply": "2022-11-09T15:35:29.253987Z",
     "shell.execute_reply.started": "2022-11-09T15:35:29.183108Z"
    },
    "scrolled": true,
    "tags": []
   },
   "outputs": [
    {
     "name": "stdout",
     "output_type": "stream",
     "text": [
      "Eval begin...\n",
      "step 4/4 [==============================] - loss: 0.9008 - acc: 0.2667 - 5ms/step\n",
      "Eval samples: 30\n",
      "{'loss': [0.9008147], 'acc': 0.26666666666666666}\n"
     ]
    }
   ],
   "source": [
    "model.load('lstm_checkpoint/final')\n",
    "# 用 evaluate 在测试集上对模型进行验证\n",
    "eval_result = model.evaluate(eval_dataset,batch_size=batch_size, verbose=1)\n",
    "print(eval_result)"
   ]
  },
  {
   "cell_type": "markdown",
   "metadata": {},
   "source": [
    "## 7. 模型预测\n",
    "\n",
    "对模型进行预测，展示效果。高层API中提供了Model.predict接口，可对训练好的模型进行推理验证。只需传入待执行推理验证的样本数据，即可计算并返回推理结果。"
   ]
  },
  {
   "cell_type": "code",
   "execution_count": 46,
   "metadata": {
    "execution": {
     "iopub.execute_input": "2022-11-09T15:35:34.960844Z",
     "iopub.status.busy": "2022-11-09T15:35:34.960084Z",
     "iopub.status.idle": "2022-11-09T15:35:35.119514Z",
     "shell.execute_reply": "2022-11-09T15:35:35.118606Z",
     "shell.execute_reply.started": "2022-11-09T15:35:34.960814Z"
    },
    "scrolled": true,
    "tags": []
   },
   "outputs": [
    {
     "name": "stdout",
     "output_type": "stream",
     "text": [
      "Predict begin...\n",
      "step 30/30 [==============================] - 3ms/step          \n",
      "Predict samples: 30\n",
      "1\n",
      "[[1.2915319]]\n",
      "预测值:[1.2915319], 实际值:Tensor(shape=[1], dtype=float32, place=Place(gpu:0), stop_gradient=True,\n",
      "       [1.])\n"
     ]
    }
   ],
   "source": [
    "model.load('lstm_checkpoint/final')\n",
    "test_result = model.predict(eval_dataset)\n",
    "# 由于模型是单一输出，test_result的形状为[1, N]，N是测试数据集的数据量。这里打印第一个数据的预测结果。\n",
    "print(len(test_result))\n",
    "print(test_result[0][0])\n",
    "print('预测值:{0}, 实际值:{1}'.format(test_result[0][0][0],eval_dataset[0][1][0]))"
   ]
  }
 ],
 "metadata": {
  "colab": {
   "provenance": []
  },
  "kernelspec": {
   "display_name": "Python 3",
   "language": "python",
   "name": "py35-paddle1.2.0"
  },
  "language_info": {
   "codemirror_mode": {
    "name": "ipython",
    "version": 3
   },
   "file_extension": ".py",
   "mimetype": "text/x-python",
   "name": "python",
   "nbconvert_exporter": "python",
   "pygments_lexer": "ipython3",
   "version": "3.7.4"
  }
 },
 "nbformat": 4,
 "nbformat_minor": 4
}
